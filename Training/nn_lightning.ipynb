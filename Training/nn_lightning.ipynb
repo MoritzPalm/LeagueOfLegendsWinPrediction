{
 "cells": [
  {
   "cell_type": "code",
   "execution_count": 88,
   "id": "initial_id",
   "metadata": {
    "collapsed": true,
    "ExecuteTime": {
     "end_time": "2023-11-27T10:13:45.733934200Z",
     "start_time": "2023-11-27T10:13:45.601423100Z"
    }
   },
   "outputs": [
    {
     "name": "stdout",
     "output_type": "stream",
     "text": [
      "PyTorch version: 2.1.0+cu121\n",
      "**********\n",
      "_CUDA version: \n",
      "nvcc: NVIDIA (R) Cuda compiler driver\n",
      "Copyright (c) 2005-2023 NVIDIA Corporation\n",
      "Built on Tue_Aug_15_22:09:35_Pacific_Daylight_Time_2023\n",
      "Cuda compilation tools, release 12.2, V12.2.140\n",
      "Build cuda_12.2.r12.2/compiler.33191640_0\n",
      "**********\n",
      "CUDNN version: 8801\n",
      "Available GPU devices: 1\n",
      "Device Name: NVIDIA GeForce RTX 2080\n",
      "Using gpu device\n"
     ]
    }
   ],
   "source": [
    "import numpy as np\n",
    "import torch\n",
    "import wandb\n",
    "from torch.utils.data import Dataset, DataLoader\n",
    "from sklearn.metrics import f1_score, classification_report\n",
    "from torch import optim, nn\n",
    "import torchmetrics\n",
    "from tqdm import tqdm\n",
    "import lightning as L\n",
    "from lightning.pytorch.callbacks.early_stopping import EarlyStopping\n",
    "from lightning.pytorch.loggers import TensorBoardLogger, WandbLogger, CSVLogger\n",
    "\n",
    "if torch.cuda.is_available():\n",
    "    print(f'PyTorch version: {torch.__version__}')\n",
    "    print('*' * 10)\n",
    "    print(f'_CUDA version: ')\n",
    "    !nvcc --version\n",
    "    print('*' * 10)\n",
    "    print(f'CUDNN version: {torch.backends.cudnn.version()}')\n",
    "    print(f'Available GPU devices: {torch.cuda.device_count()}')\n",
    "    print(f'Device Name: {torch.cuda.get_device_name()}')\n",
    "    device = \"gpu\"\n",
    "else:\n",
    "    device = \"cpu\"\n",
    "print(f\"Using {device} device\")\n",
    "wandb.login()\n",
    "logger1 = WandbLogger(project='leaguify', log_model='all')\n",
    "logger2 = TensorBoardLogger('lightning_logs')\n",
    "csv_logger = CSVLogger('logs', name='leaguify')"
   ]
  },
  {
   "cell_type": "code",
   "execution_count": 89,
   "outputs": [],
   "source": [
    "class NeuralNetwork(nn.Module):\n",
    "    def __init__(self, input_size, hidden_size, num_layers, dropout_prob, output_size=1, activation=nn.ReLU(),\n",
    "                 decrease_size=False):\n",
    "        super(NeuralNetwork, self).__init__()\n",
    "        self.dropout = nn.Dropout(dropout_prob)\n",
    "        self.num_layers = num_layers\n",
    "        self.hidden_size = hidden_size\n",
    "        self.input_size = input_size\n",
    "        self.output_size = output_size\n",
    "        self.flatten = nn.Flatten()\n",
    "        self.linear_relu_stack = nn.Sequential()\n",
    "        self.linear_relu_stack.append(nn.Linear(input_size, hidden_size))\n",
    "        for i in range(num_layers - 1):\n",
    "            if decrease_size:\n",
    "                next_hidden_size = int(self.hidden_size // 2)\n",
    "            else:\n",
    "                next_hidden_size = self.hidden_size\n",
    "            self.linear_relu_stack.append(self.dropout)\n",
    "            self.linear_relu_stack.append(nn.BatchNorm1d(self.hidden_size))\n",
    "            self.linear_relu_stack.append(nn.Linear(self.hidden_size, next_hidden_size))\n",
    "            self.linear_relu_stack.append(activation)\n",
    "            self.hidden_size = next_hidden_size\n",
    "        self.linear_relu_stack.append(nn.Linear(self.hidden_size, self.output_size))\n",
    "        self.linear_relu_stack.append(nn.Sigmoid())\n",
    "\n",
    "    def forward(self, x):\n",
    "        \"\"\"\n",
    "        \n",
    "        :param x: \n",
    "        :return: \n",
    "        \"\"\"\n",
    "        x = self.flatten(x)\n",
    "        logits = self.linear_relu_stack(x)\n",
    "        return logits"
   ],
   "metadata": {
    "collapsed": false,
    "ExecuteTime": {
     "end_time": "2023-11-27T10:13:45.733934200Z",
     "start_time": "2023-11-27T10:13:45.671112600Z"
    }
   },
   "id": "66e3436e7092a87"
  },
  {
   "cell_type": "code",
   "execution_count": 90,
   "outputs": [],
   "source": [
    "class LNN(L.LightningModule):\n",
    "    def __init__(self, input_size, hidden_size, num_layers, dropout_prob, output_size=1, activation=nn.ReLU(),\n",
    "                 decrease_size=False):\n",
    "        super().__init__()\n",
    "        self.model = NeuralNetwork(input_size, hidden_size, num_layers, dropout_prob, output_size, activation,\n",
    "                                   decrease_size)\n",
    "        self.criterion = nn.BCELoss()\n",
    "        self.save_hyperparameters()\n",
    "        self.accuracy = torchmetrics.classification.BinaryAccuracy()\n",
    "        self.f1 = torchmetrics.classification.BinaryF1Score()\n",
    "        self.confusion_matrix = torchmetrics.classification.BinaryConfusionMatrix()\n",
    "\n",
    "    def training_step(self, batch, batch_idx):\n",
    "        x, y = batch\n",
    "        x = x.type(torch.float32)\n",
    "        y = y.type(torch.float32)\n",
    "        y_hat = self.model(x).squeeze(-1)\n",
    "        loss = self.criterion(y_hat, y)\n",
    "        self.log('train_loss', loss, prog_bar=True)\n",
    "        self.log('train_acc', self.accuracy(y_hat, y), prog_bar=True)\n",
    "        return loss\n",
    "\n",
    "    def validation_step(self, batch, batch_idx):\n",
    "        x, y = batch\n",
    "        x = x.type(torch.float32)\n",
    "        y = y.type(torch.float32)\n",
    "        y_hat = self.model(x).squeeze(-1)\n",
    "        loss = self.criterion(y_hat, y)\n",
    "        self.log('val_loss', loss, prog_bar=True)\n",
    "        self.log('val_acc', self.accuracy(y_hat, y), prog_bar=True)\n",
    "        return loss\n",
    "\n",
    "    def test_step(self, batch, batch_idx):\n",
    "        x, y = batch\n",
    "        x = x.type(torch.float32)\n",
    "        y = y.type(torch.float32)\n",
    "        y_hat = self.model(x).squeeze(-1)\n",
    "        loss = self.criterion(y_hat, y)\n",
    "        self.log('test_loss', loss, prog_bar=True)\n",
    "        self.log('test_acc', self.accuracy(y_hat, y), prog_bar=True)\n",
    "        self.log('test_f1', self.f1(y_hat, y), prog_bar=True)\n",
    "        self.log('test_confusion_matrix', self.confusion_matrix(y_hat, y), prog_bar=True)\n",
    "        return loss\n",
    "\n",
    "    def configure_optimizers(self):\n",
    "        optimizer = optim.Adam(self.parameters(), lr=1e-3)\n",
    "        return optimizer"
   ],
   "metadata": {
    "collapsed": false,
    "ExecuteTime": {
     "end_time": "2023-11-27T10:13:45.734934400Z",
     "start_time": "2023-11-27T10:13:45.677406800Z"
    }
   },
   "id": "f115337601c59c50"
  },
  {
   "cell_type": "code",
   "execution_count": 91,
   "outputs": [],
   "source": [
    "class StaticDataset(Dataset):\n",
    "    def __init__(self, data_dir, transform=None, target_transform=None):\n",
    "        self.data = torch.tensor(np.load(data_dir)[:, :-1], dtype=torch.float32, )\n",
    "        self.labels = torch.tensor(np.load(data_dir)[:, -1], dtype=torch.int64)\n",
    "        self.transform = transform\n",
    "        self.target_transform = target_transform\n",
    "        self.print_statistics()\n",
    "\n",
    "    def __len__(self):\n",
    "        return len(self.data)\n",
    "\n",
    "    def __getitem__(self, idx):\n",
    "        sample = self.data[idx, 1:]\n",
    "        label = self.labels[idx]\n",
    "        if self.transform:\n",
    "            sample = self.transform(sample)\n",
    "        if self.target_transform:\n",
    "            label = self.target_transform(label)\n",
    "        return sample, label\n",
    "\n",
    "    def print_statistics(self):\n",
    "        print(f'Number of samples: {len(self.data)}')\n",
    "        print(f'Number of features: {len(self.data[0])}')\n",
    "        print(f'Number of labels: {len(self.labels)}')\n",
    "        print(f'Number of classes: {len(np.unique(self.labels.cpu().numpy()))}')\n",
    "        print(f'Number of samples per class: {np.bincount(self.labels.cpu().numpy())}')"
   ],
   "metadata": {
    "collapsed": false,
    "ExecuteTime": {
     "end_time": "2023-11-27T10:13:45.734934400Z",
     "start_time": "2023-11-27T10:13:45.681202300Z"
    }
   },
   "id": "7debf418ec6858ab"
  },
  {
   "cell_type": "code",
   "execution_count": 92,
   "outputs": [],
   "source": [
    "def get_train_val_data(val_split=0.8):\n",
    "    \"\"\"\n",
    "    :param val_split: \n",
    "    :return: \n",
    "    \"\"\"\n",
    "    dataset = StaticDataset('../data/processed/train_static.npy')\n",
    "    train_len = int(len(dataset) * val_split)\n",
    "    val_len = len(dataset) - train_len\n",
    "    print(f'train_len: {train_len}, val_len: {val_len}')\n",
    "    return torch.utils.data.random_split(dataset, [train_len, val_len])"
   ],
   "metadata": {
    "collapsed": false,
    "ExecuteTime": {
     "end_time": "2023-11-27T10:13:45.734934400Z",
     "start_time": "2023-11-27T10:13:45.690774Z"
    }
   },
   "id": "368de87a30c0e92b"
  },
  {
   "cell_type": "code",
   "execution_count": 93,
   "outputs": [],
   "source": [
    "def get_test_data():\n",
    "    \"\"\"\n",
    "    \n",
    "    :return: \n",
    "    \"\"\"\n",
    "    return StaticDataset('../data/processed/test_static.npy')"
   ],
   "metadata": {
    "collapsed": false,
    "ExecuteTime": {
     "end_time": "2023-11-27T10:13:45.734934400Z",
     "start_time": "2023-11-27T10:13:45.693862500Z"
    }
   },
   "id": "69e0c6fc8c4414f4"
  },
  {
   "cell_type": "code",
   "execution_count": 94,
   "outputs": [],
   "source": [
    "def make_loader(dataset, batch_size=64, shuffle=True):\n",
    "    return DataLoader(dataset, batch_size=batch_size, shuffle=shuffle, num_workers=0)"
   ],
   "metadata": {
    "collapsed": false,
    "ExecuteTime": {
     "end_time": "2023-11-27T10:13:45.734934400Z",
     "start_time": "2023-11-27T10:13:45.698954700Z"
    }
   },
   "id": "11be09938bd65b5d"
  },
  {
   "cell_type": "code",
   "execution_count": 95,
   "outputs": [
    {
     "name": "stdout",
     "output_type": "stream",
     "text": [
      "Number of samples: 16159\n",
      "Number of features: 330\n",
      "Number of labels: 16159\n",
      "Number of classes: 2\n",
      "Number of samples per class: [7692 8467]\n",
      "train_len: 12927, val_len: 3232\n",
      "Number of samples: 1995\n",
      "Number of features: 330\n",
      "Number of labels: 1995\n",
      "Number of classes: 2\n",
      "Number of samples per class: [ 959 1036]\n"
     ]
    }
   ],
   "source": [
    "train_data, val_data = get_train_val_data()\n",
    "train_loader = make_loader(train_data)\n",
    "val_loader = make_loader(val_data, shuffle=False)\n",
    "test_loader = make_loader(get_test_data(), shuffle=False)"
   ],
   "metadata": {
    "collapsed": false,
    "ExecuteTime": {
     "end_time": "2023-11-27T10:13:45.755243900Z",
     "start_time": "2023-11-27T10:13:45.702184700Z"
    }
   },
   "id": "72ee488b95dbd2b1"
  },
  {
   "cell_type": "code",
   "execution_count": 96,
   "outputs": [],
   "source": [
    "model = LNN(input_size=329, hidden_size=256, num_layers=5, dropout_prob=0.5, output_size=1, activation=nn.ReLU(),\n",
    "            decrease_size=True)"
   ],
   "metadata": {
    "collapsed": false,
    "ExecuteTime": {
     "end_time": "2023-11-27T10:13:45.833632400Z",
     "start_time": "2023-11-27T10:13:45.754246500Z"
    }
   },
   "id": "4bc646d4dced3cb2"
  },
  {
   "cell_type": "code",
   "execution_count": 97,
   "outputs": [
    {
     "name": "stderr",
     "output_type": "stream",
     "text": [
      "GPU available: True (cuda), used: True\n",
      "TPU available: False, using: 0 TPU cores\n",
      "IPU available: False, using: 0 IPUs\n",
      "HPU available: False, using: 0 HPUs\n"
     ]
    },
    {
     "data": {
      "text/plain": "<IPython.core.display.HTML object>",
      "text/html": "wandb version 0.16.0 is available!  To upgrade, please run:\n $ pip install wandb --upgrade"
     },
     "metadata": {},
     "output_type": "display_data"
    },
    {
     "data": {
      "text/plain": "<IPython.core.display.HTML object>",
      "text/html": "Tracking run with wandb version 0.15.12"
     },
     "metadata": {},
     "output_type": "display_data"
    },
    {
     "data": {
      "text/plain": "<IPython.core.display.HTML object>",
      "text/html": "Run data is saved locally in <code>.\\wandb\\run-20231127_111345-0hmg4n5f</code>"
     },
     "metadata": {},
     "output_type": "display_data"
    },
    {
     "data": {
      "text/plain": "<IPython.core.display.HTML object>",
      "text/html": "Syncing run <strong><a href='https://wandb.ai/moritz-palm/leaguify/runs/0hmg4n5f' target=\"_blank\">toasty-pyramid-9488</a></strong> to <a href='https://wandb.ai/moritz-palm/leaguify' target=\"_blank\">Weights & Biases</a> (<a href='https://wandb.me/run' target=\"_blank\">docs</a>)<br/>"
     },
     "metadata": {},
     "output_type": "display_data"
    },
    {
     "data": {
      "text/plain": "<IPython.core.display.HTML object>",
      "text/html": " View project at <a href='https://wandb.ai/moritz-palm/leaguify' target=\"_blank\">https://wandb.ai/moritz-palm/leaguify</a>"
     },
     "metadata": {},
     "output_type": "display_data"
    },
    {
     "data": {
      "text/plain": "<IPython.core.display.HTML object>",
      "text/html": " View run at <a href='https://wandb.ai/moritz-palm/leaguify/runs/0hmg4n5f' target=\"_blank\">https://wandb.ai/moritz-palm/leaguify/runs/0hmg4n5f</a>"
     },
     "metadata": {},
     "output_type": "display_data"
    },
    {
     "name": "stderr",
     "output_type": "stream",
     "text": [
      "LOCAL_RANK: 0 - CUDA_VISIBLE_DEVICES: [0]\n",
      "\n",
      "  | Name             | Type                  | Params\n",
      "-----------------------------------------------------------\n",
      "0 | model            | NeuralNetwork         | 129 K \n",
      "1 | criterion        | BCELoss               | 0     \n",
      "2 | accuracy         | BinaryAccuracy        | 0     \n",
      "3 | f1               | BinaryF1Score         | 0     \n",
      "4 | confusion_matrix | BinaryConfusionMatrix | 0     \n",
      "-----------------------------------------------------------\n",
      "129 K     Trainable params\n",
      "0         Non-trainable params\n",
      "129 K     Total params\n",
      "0.517     Total estimated model params size (MB)\n"
     ]
    },
    {
     "data": {
      "text/plain": "Sanity Checking: |          | 0/? [00:00<?, ?it/s]",
      "application/vnd.jupyter.widget-view+json": {
       "version_major": 2,
       "version_minor": 0,
       "model_id": "bf6ddaa3f6da46fdbd0418d48631f07d"
      }
     },
     "metadata": {},
     "output_type": "display_data"
    },
    {
     "data": {
      "text/plain": "Training: |          | 0/? [00:00<?, ?it/s]",
      "application/vnd.jupyter.widget-view+json": {
       "version_major": 2,
       "version_minor": 0,
       "model_id": "d348cbe930084985ab6521c3adfba06a"
      }
     },
     "metadata": {},
     "output_type": "display_data"
    },
    {
     "data": {
      "text/plain": "Validation: |          | 0/? [00:00<?, ?it/s]",
      "application/vnd.jupyter.widget-view+json": {
       "version_major": 2,
       "version_minor": 0,
       "model_id": "f52e7004101f4ecab5b96396c744207a"
      }
     },
     "metadata": {},
     "output_type": "display_data"
    },
    {
     "data": {
      "text/plain": "Validation: |          | 0/? [00:00<?, ?it/s]",
      "application/vnd.jupyter.widget-view+json": {
       "version_major": 2,
       "version_minor": 0,
       "model_id": "1d0daa7fd9934fda9f225931a0a47fac"
      }
     },
     "metadata": {},
     "output_type": "display_data"
    },
    {
     "data": {
      "text/plain": "Validation: |          | 0/? [00:00<?, ?it/s]",
      "application/vnd.jupyter.widget-view+json": {
       "version_major": 2,
       "version_minor": 0,
       "model_id": "ce66f63ed0cf45e895a2236a13a4c5c8"
      }
     },
     "metadata": {},
     "output_type": "display_data"
    },
    {
     "data": {
      "text/plain": "Validation: |          | 0/? [00:00<?, ?it/s]",
      "application/vnd.jupyter.widget-view+json": {
       "version_major": 2,
       "version_minor": 0,
       "model_id": "a60f2cac8c4949bfadb05ed95a06fdac"
      }
     },
     "metadata": {},
     "output_type": "display_data"
    },
    {
     "data": {
      "text/plain": "Validation: |          | 0/? [00:00<?, ?it/s]",
      "application/vnd.jupyter.widget-view+json": {
       "version_major": 2,
       "version_minor": 0,
       "model_id": "6171693d549e4e3198cf7ebc33ff6a0c"
      }
     },
     "metadata": {},
     "output_type": "display_data"
    },
    {
     "data": {
      "text/plain": "Validation: |          | 0/? [00:00<?, ?it/s]",
      "application/vnd.jupyter.widget-view+json": {
       "version_major": 2,
       "version_minor": 0,
       "model_id": "21376426a2204e078e0ad9635909f492"
      }
     },
     "metadata": {},
     "output_type": "display_data"
    },
    {
     "data": {
      "text/plain": "Validation: |          | 0/? [00:00<?, ?it/s]",
      "application/vnd.jupyter.widget-view+json": {
       "version_major": 2,
       "version_minor": 0,
       "model_id": "6958dfa8f7864b5d81ccf984706e9ef2"
      }
     },
     "metadata": {},
     "output_type": "display_data"
    },
    {
     "data": {
      "text/plain": "Validation: |          | 0/? [00:00<?, ?it/s]",
      "application/vnd.jupyter.widget-view+json": {
       "version_major": 2,
       "version_minor": 0,
       "model_id": "a49add803c944dcdad95ddbcb819c3a6"
      }
     },
     "metadata": {},
     "output_type": "display_data"
    },
    {
     "data": {
      "text/plain": "Validation: |          | 0/? [00:00<?, ?it/s]",
      "application/vnd.jupyter.widget-view+json": {
       "version_major": 2,
       "version_minor": 0,
       "model_id": "8f98cf3373ab4972ad64c7967896092e"
      }
     },
     "metadata": {},
     "output_type": "display_data"
    },
    {
     "data": {
      "text/plain": "Validation: |          | 0/? [00:00<?, ?it/s]",
      "application/vnd.jupyter.widget-view+json": {
       "version_major": 2,
       "version_minor": 0,
       "model_id": "a3cbe6254ac24156aeb04cf16592ee45"
      }
     },
     "metadata": {},
     "output_type": "display_data"
    },
    {
     "data": {
      "text/plain": "Validation: |          | 0/? [00:00<?, ?it/s]",
      "application/vnd.jupyter.widget-view+json": {
       "version_major": 2,
       "version_minor": 0,
       "model_id": "e4fb1133b3fc4308a0853b8cbaaddec7"
      }
     },
     "metadata": {},
     "output_type": "display_data"
    },
    {
     "data": {
      "text/plain": "Validation: |          | 0/? [00:00<?, ?it/s]",
      "application/vnd.jupyter.widget-view+json": {
       "version_major": 2,
       "version_minor": 0,
       "model_id": "5d7e7489314945469cdfc46afed2e29d"
      }
     },
     "metadata": {},
     "output_type": "display_data"
    },
    {
     "data": {
      "text/plain": "Validation: |          | 0/? [00:00<?, ?it/s]",
      "application/vnd.jupyter.widget-view+json": {
       "version_major": 2,
       "version_minor": 0,
       "model_id": "b6810dd2d320492f9a560366a853c85d"
      }
     },
     "metadata": {},
     "output_type": "display_data"
    },
    {
     "data": {
      "text/plain": "Validation: |          | 0/? [00:00<?, ?it/s]",
      "application/vnd.jupyter.widget-view+json": {
       "version_major": 2,
       "version_minor": 0,
       "model_id": "a1256659c0f047f98d94e19932153aff"
      }
     },
     "metadata": {},
     "output_type": "display_data"
    },
    {
     "data": {
      "text/plain": "Validation: |          | 0/? [00:00<?, ?it/s]",
      "application/vnd.jupyter.widget-view+json": {
       "version_major": 2,
       "version_minor": 0,
       "model_id": "2b31d8d540524cd98373848d2373e9f6"
      }
     },
     "metadata": {},
     "output_type": "display_data"
    },
    {
     "data": {
      "text/plain": "Validation: |          | 0/? [00:00<?, ?it/s]",
      "application/vnd.jupyter.widget-view+json": {
       "version_major": 2,
       "version_minor": 0,
       "model_id": "6ce2b6be908140e1a191b7eaa9487ef1"
      }
     },
     "metadata": {},
     "output_type": "display_data"
    },
    {
     "data": {
      "text/plain": "Validation: |          | 0/? [00:00<?, ?it/s]",
      "application/vnd.jupyter.widget-view+json": {
       "version_major": 2,
       "version_minor": 0,
       "model_id": "ea3f235aade74657855e1cc77827549e"
      }
     },
     "metadata": {},
     "output_type": "display_data"
    },
    {
     "data": {
      "text/plain": "Validation: |          | 0/? [00:00<?, ?it/s]",
      "application/vnd.jupyter.widget-view+json": {
       "version_major": 2,
       "version_minor": 0,
       "model_id": "10234d247921408ea254cd1192aae907"
      }
     },
     "metadata": {},
     "output_type": "display_data"
    },
    {
     "data": {
      "text/plain": "Validation: |          | 0/? [00:00<?, ?it/s]",
      "application/vnd.jupyter.widget-view+json": {
       "version_major": 2,
       "version_minor": 0,
       "model_id": "6be97e2bf71f4593b81c41de9fbb921f"
      }
     },
     "metadata": {},
     "output_type": "display_data"
    },
    {
     "data": {
      "text/plain": "Validation: |          | 0/? [00:00<?, ?it/s]",
      "application/vnd.jupyter.widget-view+json": {
       "version_major": 2,
       "version_minor": 0,
       "model_id": "2844d2f0b1994db29aa9cb3a053250f0"
      }
     },
     "metadata": {},
     "output_type": "display_data"
    },
    {
     "data": {
      "text/plain": "Validation: |          | 0/? [00:00<?, ?it/s]",
      "application/vnd.jupyter.widget-view+json": {
       "version_major": 2,
       "version_minor": 0,
       "model_id": "f4c91374e53d46a086022472e9503fcf"
      }
     },
     "metadata": {},
     "output_type": "display_data"
    },
    {
     "data": {
      "text/plain": "Validation: |          | 0/? [00:00<?, ?it/s]",
      "application/vnd.jupyter.widget-view+json": {
       "version_major": 2,
       "version_minor": 0,
       "model_id": "b7ddb4218d3d413181505012ef90946b"
      }
     },
     "metadata": {},
     "output_type": "display_data"
    },
    {
     "data": {
      "text/plain": "Validation: |          | 0/? [00:00<?, ?it/s]",
      "application/vnd.jupyter.widget-view+json": {
       "version_major": 2,
       "version_minor": 0,
       "model_id": "6b27520749894c4fa321e79bafeed2fc"
      }
     },
     "metadata": {},
     "output_type": "display_data"
    },
    {
     "data": {
      "text/plain": "Validation: |          | 0/? [00:00<?, ?it/s]",
      "application/vnd.jupyter.widget-view+json": {
       "version_major": 2,
       "version_minor": 0,
       "model_id": "2ea1cea984d54a2ab4a1b26ccdb652ec"
      }
     },
     "metadata": {},
     "output_type": "display_data"
    },
    {
     "data": {
      "text/plain": "Validation: |          | 0/? [00:00<?, ?it/s]",
      "application/vnd.jupyter.widget-view+json": {
       "version_major": 2,
       "version_minor": 0,
       "model_id": "1e6a05ba8233430c98ec251bad70dfbb"
      }
     },
     "metadata": {},
     "output_type": "display_data"
    },
    {
     "data": {
      "text/plain": "Validation: |          | 0/? [00:00<?, ?it/s]",
      "application/vnd.jupyter.widget-view+json": {
       "version_major": 2,
       "version_minor": 0,
       "model_id": "0275077783c74b0794e137bc558bd5d4"
      }
     },
     "metadata": {},
     "output_type": "display_data"
    },
    {
     "name": "stderr",
     "output_type": "stream",
     "text": [
      "FIT Profiler Report\r\n",
      "\r\n",
      "---------------------------------------------------------------------------------------------------------------------------------------------------------------------------------------------------------------------------------------------------------------------------\r\n",
      "|  Action                                                                                                                                                         \t|  Mean duration (s)\t|  Num calls      \t|  Total time (s) \t|  Percentage %   \t|\r\n",
      "---------------------------------------------------------------------------------------------------------------------------------------------------------------------------------------------------------------------------------------------------------------------------\r\n",
      "|  Total                                                                                                                                                          \t|  -              \t|  242965         \t|  65.0           \t|  100 %          \t|\r\n",
      "---------------------------------------------------------------------------------------------------------------------------------------------------------------------------------------------------------------------------------------------------------------------------\r\n",
      "|  run_training_epoch                                                                                                                                             \t|  2.1797         \t|  26             \t|  56.672         \t|  87.188         \t|\r\n",
      "|  run_training_batch                                                                                                                                             \t|  0.0065581      \t|  5252           \t|  34.443         \t|  52.989         \t|\r\n",
      "|  [LightningModule]LNN.optimizer_step                                                                                                                            \t|  0.0064743      \t|  5252           \t|  34.003         \t|  52.312         \t|\r\n",
      "|  [Strategy]SingleDeviceStrategy.training_step                                                                                                                   \t|  0.0031392      \t|  5252           \t|  16.487         \t|  25.365         \t|\r\n",
      "|  [Strategy]SingleDeviceStrategy.backward                                                                                                                        \t|  0.0021786      \t|  5252           \t|  11.442         \t|  17.603         \t|\r\n",
      "|  [Callback]ModelCheckpoint{'monitor': None, 'mode': 'min', 'every_n_train_steps': 0, 'every_n_epochs': 1, 'train_time_interval': None}.on_train_epoch_end       \t|  0.23858        \t|  26             \t|  6.203          \t|  9.5431         \t|\r\n",
      "|  [Callback]TQDMProgressBar.on_train_batch_end                                                                                                                   \t|  0.0010864      \t|  5252           \t|  5.706          \t|  8.7785         \t|\r\n",
      "|  [_TrainingEpochLoop].train_dataloader_next                                                                                                                     \t|  0.00093507     \t|  5252           \t|  4.911          \t|  7.5554         \t|\r\n",
      "|  [Strategy]SingleDeviceStrategy.validation_step                                                                                                                 \t|  0.003256       \t|  1328           \t|  4.324          \t|  6.6523         \t|\r\n",
      "|  [_EvaluationLoop].val_next                                                                                                                                     \t|  0.0010392      \t|  1328           \t|  1.38           \t|  2.1231         \t|\r\n",
      "|  [LightningModule]LNN.optimizer_zero_grad                                                                                                                       \t|  0.00025343     \t|  5252           \t|  1.331          \t|  2.0477         \t|\r\n",
      "|  [Strategy]SingleDeviceStrategy.batch_to_device                                                                                                                 \t|  0.00012872     \t|  6580           \t|  0.847          \t|  1.3031         \t|\r\n",
      "|  [LightningModule]LNN.transfer_batch_to_device                                                                                                                  \t|  0.00010486     \t|  6580           \t|  0.69           \t|  1.0615         \t|\r\n",
      "|  [Callback]TQDMProgressBar.on_validation_batch_end                                                                                                              \t|  0.00051581     \t|  1328           \t|  0.685          \t|  1.0538         \t|\r\n",
      "|  [Callback]TQDMProgressBar.on_validation_start                                                                                                                  \t|  0.0045926      \t|  27             \t|  0.124          \t|  0.19077        \t|\r\n",
      "|  [Callback]ModelCheckpoint{'monitor': None, 'mode': 'min', 'every_n_train_steps': 0, 'every_n_epochs': 1, 'train_time_interval': None}.on_train_batch_end       \t|  1.7708e-05     \t|  5252           \t|  0.093          \t|  0.14308        \t|\r\n",
      "|  [LightningModule]LNN.configure_gradient_clipping                                                                                                               \t|  1.7517e-05     \t|  5252           \t|  0.092          \t|  0.14154        \t|\r\n",
      "|  [Callback]TQDMProgressBar.on_validation_end                                                                                                                    \t|  0.0017407      \t|  27             \t|  0.047          \t|  0.072308       \t|\r\n",
      "|  [LightningModule]LNN.on_before_batch_transfer                                                                                                                  \t|  4.7112e-06     \t|  6580           \t|  0.031          \t|  0.047692       \t|\r\n",
      "|  [LightningModule]LNN.on_after_batch_transfer                                                                                                                   \t|  4.7112e-06     \t|  6580           \t|  0.031          \t|  0.047692       \t|\r\n",
      "|  [Callback]TQDMProgressBar.on_train_epoch_start                                                                                                                 \t|  0.0011923      \t|  26             \t|  0.031          \t|  0.047692       \t|\r\n",
      "|  [LightningModule]LNN.on_validation_model_eval                                                                                                                  \t|  0.00059259     \t|  27             \t|  0.016          \t|  0.024615       \t|\r\n",
      "|  [Callback]EarlyStopping{'monitor': 'val_loss', 'mode': 'min'}.on_train_batch_start                                                                             \t|  3.0465e-06     \t|  5252           \t|  0.016          \t|  0.024615       \t|\r\n",
      "|  [Callback]EarlyStopping{'monitor': 'val_loss', 'mode': 'min'}.on_before_backward                                                                               \t|  3.0465e-06     \t|  5252           \t|  0.016          \t|  0.024615       \t|\r\n",
      "|  [Callback]EarlyStopping{'monitor': 'val_loss', 'mode': 'min'}.on_after_backward                                                                                \t|  3.0465e-06     \t|  5252           \t|  0.016          \t|  0.024615       \t|\r\n",
      "|  [Callback]EarlyStopping{'monitor': 'val_loss', 'mode': 'min'}.on_train_epoch_end                                                                               \t|  0.00061538     \t|  26             \t|  0.016          \t|  0.024615       \t|\r\n",
      "|  [Callback]TQDMProgressBar.on_train_batch_start                                                                                                                 \t|  2.8561e-06     \t|  5252           \t|  0.015          \t|  0.023077       \t|\r\n",
      "|  [LightningModule]LNN.on_before_zero_grad                                                                                                                       \t|  2.8561e-06     \t|  5252           \t|  0.015          \t|  0.023077       \t|\r\n",
      "|  [Callback]TQDMProgressBar.on_after_backward                                                                                                                    \t|  2.8561e-06     \t|  5252           \t|  0.015          \t|  0.023077       \t|\r\n",
      "|  [Callback]ModelCheckpoint{'monitor': None, 'mode': 'min', 'every_n_train_steps': 0, 'every_n_epochs': 1, 'train_time_interval': None}.on_after_backward        \t|  2.8561e-06     \t|  5252           \t|  0.015          \t|  0.023077       \t|\r\n",
      "|  [Callback]EarlyStopping{'monitor': 'val_loss', 'mode': 'min'}.on_train_batch_end                                                                               \t|  2.8561e-06     \t|  5252           \t|  0.015          \t|  0.023077       \t|\r\n",
      "|  [LightningModule]LNN.configure_callbacks                                                                                                                       \t|  0.0            \t|  1              \t|  0.0            \t|  0.0            \t|\r\n",
      "|  [LightningModule]LNN.prepare_data                                                                                                                              \t|  0.0            \t|  1              \t|  0.0            \t|  0.0            \t|\r\n",
      "|  [Callback]EarlyStopping{'monitor': 'val_loss', 'mode': 'min'}.setup                                                                                            \t|  0.0            \t|  1              \t|  0.0            \t|  0.0            \t|\r\n",
      "|  [Callback]TQDMProgressBar.setup                                                                                                                                \t|  0.0            \t|  1              \t|  0.0            \t|  0.0            \t|\r\n",
      "|  [Callback]ModelSummary.setup                                                                                                                                   \t|  0.0            \t|  1              \t|  0.0            \t|  0.0            \t|\r\n",
      "|  [Callback]ModelCheckpoint{'monitor': None, 'mode': 'min', 'every_n_train_steps': 0, 'every_n_epochs': 1, 'train_time_interval': None}.setup                    \t|  0.0            \t|  1              \t|  0.0            \t|  0.0            \t|\r\n",
      "|  [LightningModule]LNN.setup                                                                                                                                     \t|  0.0            \t|  1              \t|  0.0            \t|  0.0            \t|\r\n",
      "|  [LightningModule]LNN.configure_optimizers                                                                                                                      \t|  0.0            \t|  1              \t|  0.0            \t|  0.0            \t|\r\n",
      "|  [Callback]EarlyStopping{'monitor': 'val_loss', 'mode': 'min'}.on_fit_start                                                                                     \t|  0.0            \t|  1              \t|  0.0            \t|  0.0            \t|\r\n",
      "|  [Callback]TQDMProgressBar.on_fit_start                                                                                                                         \t|  0.0            \t|  1              \t|  0.0            \t|  0.0            \t|\r\n",
      "|  [Callback]ModelSummary.on_fit_start                                                                                                                            \t|  0.0            \t|  1              \t|  0.0            \t|  0.0            \t|\r\n",
      "|  [Callback]ModelCheckpoint{'monitor': None, 'mode': 'min', 'every_n_train_steps': 0, 'every_n_epochs': 1, 'train_time_interval': None}.on_fit_start             \t|  0.0            \t|  1              \t|  0.0            \t|  0.0            \t|\r\n",
      "|  [LightningModule]LNN.on_fit_start                                                                                                                              \t|  0.0            \t|  1              \t|  0.0            \t|  0.0            \t|\r\n",
      "|  [Callback]EarlyStopping{'monitor': 'val_loss', 'mode': 'min'}.on_sanity_check_start                                                                            \t|  0.0            \t|  1              \t|  0.0            \t|  0.0            \t|\r\n",
      "|  [Callback]TQDMProgressBar.on_sanity_check_start                                                                                                                \t|  0.0            \t|  1              \t|  0.0            \t|  0.0            \t|\r\n",
      "|  [Callback]ModelSummary.on_sanity_check_start                                                                                                                   \t|  0.0            \t|  1              \t|  0.0            \t|  0.0            \t|\r\n",
      "|  [Callback]ModelCheckpoint{'monitor': None, 'mode': 'min', 'every_n_train_steps': 0, 'every_n_epochs': 1, 'train_time_interval': None}.on_sanity_check_start    \t|  0.0            \t|  1              \t|  0.0            \t|  0.0            \t|\r\n",
      "|  [Callback]EarlyStopping{'monitor': 'val_loss', 'mode': 'min'}.on_validation_start                                                                              \t|  0.0            \t|  27             \t|  0.0            \t|  0.0            \t|\r\n",
      "|  [Callback]ModelSummary.on_validation_start                                                                                                                     \t|  0.0            \t|  27             \t|  0.0            \t|  0.0            \t|\r\n",
      "|  [Callback]ModelCheckpoint{'monitor': None, 'mode': 'min', 'every_n_train_steps': 0, 'every_n_epochs': 1, 'train_time_interval': None}.on_validation_start      \t|  0.0            \t|  27             \t|  0.0            \t|  0.0            \t|\r\n",
      "|  [LightningModule]LNN.on_validation_start                                                                                                                       \t|  0.0            \t|  27             \t|  0.0            \t|  0.0            \t|\r\n",
      "|  [Strategy]SingleDeviceStrategy.on_validation_start                                                                                                             \t|  0.0            \t|  27             \t|  0.0            \t|  0.0            \t|\r\n",
      "|  [Callback]EarlyStopping{'monitor': 'val_loss', 'mode': 'min'}.on_validation_epoch_start                                                                        \t|  0.0            \t|  27             \t|  0.0            \t|  0.0            \t|\r\n",
      "|  [Callback]TQDMProgressBar.on_validation_epoch_start                                                                                                            \t|  0.0            \t|  27             \t|  0.0            \t|  0.0            \t|\r\n",
      "|  [Callback]ModelSummary.on_validation_epoch_start                                                                                                               \t|  0.0            \t|  27             \t|  0.0            \t|  0.0            \t|\r\n",
      "|  [Callback]ModelCheckpoint{'monitor': None, 'mode': 'min', 'every_n_train_steps': 0, 'every_n_epochs': 1, 'train_time_interval': None}.on_validation_epoch_start\t|  0.0            \t|  27             \t|  0.0            \t|  0.0            \t|\r\n",
      "|  [LightningModule]LNN.on_validation_epoch_start                                                                                                                 \t|  0.0            \t|  27             \t|  0.0            \t|  0.0            \t|\r\n",
      "|  [Callback]EarlyStopping{'monitor': 'val_loss', 'mode': 'min'}.on_validation_batch_start                                                                        \t|  0.0            \t|  1328           \t|  0.0            \t|  0.0            \t|\r\n",
      "|  [Callback]TQDMProgressBar.on_validation_batch_start                                                                                                            \t|  0.0            \t|  1328           \t|  0.0            \t|  0.0            \t|\r\n",
      "|  [Callback]ModelSummary.on_validation_batch_start                                                                                                               \t|  0.0            \t|  1328           \t|  0.0            \t|  0.0            \t|\r\n",
      "|  [Callback]ModelCheckpoint{'monitor': None, 'mode': 'min', 'every_n_train_steps': 0, 'every_n_epochs': 1, 'train_time_interval': None}.on_validation_batch_start\t|  0.0            \t|  1328           \t|  0.0            \t|  0.0            \t|\r\n",
      "|  [LightningModule]LNN.on_validation_batch_start                                                                                                                 \t|  0.0            \t|  1328           \t|  0.0            \t|  0.0            \t|\r\n",
      "|  [Callback]EarlyStopping{'monitor': 'val_loss', 'mode': 'min'}.on_validation_batch_end                                                                          \t|  0.0            \t|  1328           \t|  0.0            \t|  0.0            \t|\r\n",
      "|  [Callback]ModelSummary.on_validation_batch_end                                                                                                                 \t|  0.0            \t|  1328           \t|  0.0            \t|  0.0            \t|\r\n",
      "|  [Callback]ModelCheckpoint{'monitor': None, 'mode': 'min', 'every_n_train_steps': 0, 'every_n_epochs': 1, 'train_time_interval': None}.on_validation_batch_end  \t|  0.0            \t|  1328           \t|  0.0            \t|  0.0            \t|\r\n",
      "|  [LightningModule]LNN.on_validation_batch_end                                                                                                                   \t|  0.0            \t|  1328           \t|  0.0            \t|  0.0            \t|\r\n",
      "|  [Callback]EarlyStopping{'monitor': 'val_loss', 'mode': 'min'}.on_validation_epoch_end                                                                          \t|  0.0            \t|  27             \t|  0.0            \t|  0.0            \t|\r\n",
      "|  [Callback]TQDMProgressBar.on_validation_epoch_end                                                                                                              \t|  0.0            \t|  27             \t|  0.0            \t|  0.0            \t|\r\n",
      "|  [Callback]ModelSummary.on_validation_epoch_end                                                                                                                 \t|  0.0            \t|  27             \t|  0.0            \t|  0.0            \t|\r\n",
      "|  [Callback]ModelCheckpoint{'monitor': None, 'mode': 'min', 'every_n_train_steps': 0, 'every_n_epochs': 1, 'train_time_interval': None}.on_validation_epoch_end  \t|  0.0            \t|  27             \t|  0.0            \t|  0.0            \t|\r\n",
      "|  [LightningModule]LNN.on_validation_epoch_end                                                                                                                   \t|  0.0            \t|  27             \t|  0.0            \t|  0.0            \t|\r\n",
      "|  [Callback]EarlyStopping{'monitor': 'val_loss', 'mode': 'min'}.on_validation_end                                                                                \t|  0.0            \t|  27             \t|  0.0            \t|  0.0            \t|\r\n",
      "|  [Callback]ModelSummary.on_validation_end                                                                                                                       \t|  0.0            \t|  27             \t|  0.0            \t|  0.0            \t|\r\n",
      "|  [Callback]ModelCheckpoint{'monitor': None, 'mode': 'min', 'every_n_train_steps': 0, 'every_n_epochs': 1, 'train_time_interval': None}.on_validation_end        \t|  0.0            \t|  27             \t|  0.0            \t|  0.0            \t|\r\n",
      "|  [LightningModule]LNN.on_validation_end                                                                                                                         \t|  0.0            \t|  27             \t|  0.0            \t|  0.0            \t|\r\n",
      "|  [Strategy]SingleDeviceStrategy.on_validation_end                                                                                                               \t|  0.0            \t|  27             \t|  0.0            \t|  0.0            \t|\r\n",
      "|  [LightningModule]LNN.on_validation_model_train                                                                                                                 \t|  0.0            \t|  27             \t|  0.0            \t|  0.0            \t|\r\n",
      "|  [Callback]EarlyStopping{'monitor': 'val_loss', 'mode': 'min'}.on_sanity_check_end                                                                              \t|  0.0            \t|  1              \t|  0.0            \t|  0.0            \t|\r\n",
      "|  [Callback]TQDMProgressBar.on_sanity_check_end                                                                                                                  \t|  0.0            \t|  1              \t|  0.0            \t|  0.0            \t|\r\n",
      "|  [Callback]ModelSummary.on_sanity_check_end                                                                                                                     \t|  0.0            \t|  1              \t|  0.0            \t|  0.0            \t|\r\n",
      "|  [Callback]ModelCheckpoint{'monitor': None, 'mode': 'min', 'every_n_train_steps': 0, 'every_n_epochs': 1, 'train_time_interval': None}.on_sanity_check_end      \t|  0.0            \t|  1              \t|  0.0            \t|  0.0            \t|\r\n",
      "|  [Callback]EarlyStopping{'monitor': 'val_loss', 'mode': 'min'}.on_train_start                                                                                   \t|  0.0            \t|  1              \t|  0.0            \t|  0.0            \t|\r\n",
      "|  [Callback]TQDMProgressBar.on_train_start                                                                                                                       \t|  0.0            \t|  1              \t|  0.0            \t|  0.0            \t|\r\n",
      "|  [Callback]ModelSummary.on_train_start                                                                                                                          \t|  0.0            \t|  1              \t|  0.0            \t|  0.0            \t|\r\n",
      "|  [Callback]ModelCheckpoint{'monitor': None, 'mode': 'min', 'every_n_train_steps': 0, 'every_n_epochs': 1, 'train_time_interval': None}.on_train_start           \t|  0.0            \t|  1              \t|  0.0            \t|  0.0            \t|\r\n",
      "|  [LightningModule]LNN.on_train_start                                                                                                                            \t|  0.0            \t|  1              \t|  0.0            \t|  0.0            \t|\r\n",
      "|  [Strategy]SingleDeviceStrategy.on_train_start                                                                                                                  \t|  0.0            \t|  1              \t|  0.0            \t|  0.0            \t|\r\n",
      "|  [Callback]EarlyStopping{'monitor': 'val_loss', 'mode': 'min'}.on_train_epoch_start                                                                             \t|  0.0            \t|  26             \t|  0.0            \t|  0.0            \t|\r\n",
      "|  [Callback]ModelSummary.on_train_epoch_start                                                                                                                    \t|  0.0            \t|  26             \t|  0.0            \t|  0.0            \t|\r\n",
      "|  [Callback]ModelCheckpoint{'monitor': None, 'mode': 'min', 'every_n_train_steps': 0, 'every_n_epochs': 1, 'train_time_interval': None}.on_train_epoch_start     \t|  0.0            \t|  26             \t|  0.0            \t|  0.0            \t|\r\n",
      "|  [LightningModule]LNN.on_train_epoch_start                                                                                                                      \t|  0.0            \t|  26             \t|  0.0            \t|  0.0            \t|\r\n",
      "|  [Callback]ModelSummary.on_train_batch_start                                                                                                                    \t|  0.0            \t|  5252           \t|  0.0            \t|  0.0            \t|\r\n",
      "|  [Callback]ModelCheckpoint{'monitor': None, 'mode': 'min', 'every_n_train_steps': 0, 'every_n_epochs': 1, 'train_time_interval': None}.on_train_batch_start     \t|  0.0            \t|  5252           \t|  0.0            \t|  0.0            \t|\r\n",
      "|  [LightningModule]LNN.on_train_batch_start                                                                                                                      \t|  0.0            \t|  5252           \t|  0.0            \t|  0.0            \t|\r\n",
      "|  [Strategy]SingleDeviceStrategy.on_train_batch_start                                                                                                            \t|  0.0            \t|  5252           \t|  0.0            \t|  0.0            \t|\r\n",
      "|  [Callback]EarlyStopping{'monitor': 'val_loss', 'mode': 'min'}.on_before_zero_grad                                                                              \t|  0.0            \t|  5252           \t|  0.0            \t|  0.0            \t|\r\n",
      "|  [Callback]TQDMProgressBar.on_before_zero_grad                                                                                                                  \t|  0.0            \t|  5252           \t|  0.0            \t|  0.0            \t|\r\n",
      "|  [Callback]ModelSummary.on_before_zero_grad                                                                                                                     \t|  0.0            \t|  5252           \t|  0.0            \t|  0.0            \t|\r\n",
      "|  [Callback]ModelCheckpoint{'monitor': None, 'mode': 'min', 'every_n_train_steps': 0, 'every_n_epochs': 1, 'train_time_interval': None}.on_before_zero_grad      \t|  0.0            \t|  5252           \t|  0.0            \t|  0.0            \t|\r\n",
      "|  [Callback]TQDMProgressBar.on_before_backward                                                                                                                   \t|  0.0            \t|  5252           \t|  0.0            \t|  0.0            \t|\r\n",
      "|  [Callback]ModelSummary.on_before_backward                                                                                                                      \t|  0.0            \t|  5252           \t|  0.0            \t|  0.0            \t|\r\n",
      "|  [Callback]ModelCheckpoint{'monitor': None, 'mode': 'min', 'every_n_train_steps': 0, 'every_n_epochs': 1, 'train_time_interval': None}.on_before_backward       \t|  0.0            \t|  5252           \t|  0.0            \t|  0.0            \t|\r\n",
      "|  [LightningModule]LNN.on_before_backward                                                                                                                        \t|  0.0            \t|  5252           \t|  0.0            \t|  0.0            \t|\r\n",
      "|  [Callback]ModelSummary.on_after_backward                                                                                                                       \t|  0.0            \t|  5252           \t|  0.0            \t|  0.0            \t|\r\n",
      "|  [LightningModule]LNN.on_after_backward                                                                                                                         \t|  0.0            \t|  5252           \t|  0.0            \t|  0.0            \t|\r\n",
      "|  [Callback]EarlyStopping{'monitor': 'val_loss', 'mode': 'min'}.on_before_optimizer_step                                                                         \t|  0.0            \t|  5252           \t|  0.0            \t|  0.0            \t|\r\n",
      "|  [Callback]TQDMProgressBar.on_before_optimizer_step                                                                                                             \t|  0.0            \t|  5252           \t|  0.0            \t|  0.0            \t|\r\n",
      "|  [Callback]ModelSummary.on_before_optimizer_step                                                                                                                \t|  0.0            \t|  5252           \t|  0.0            \t|  0.0            \t|\r\n",
      "|  [Callback]ModelCheckpoint{'monitor': None, 'mode': 'min', 'every_n_train_steps': 0, 'every_n_epochs': 1, 'train_time_interval': None}.on_before_optimizer_step \t|  0.0            \t|  5252           \t|  0.0            \t|  0.0            \t|\r\n",
      "|  [LightningModule]LNN.on_before_optimizer_step                                                                                                                  \t|  0.0            \t|  5252           \t|  0.0            \t|  0.0            \t|\r\n",
      "|  [Callback]ModelSummary.on_train_batch_end                                                                                                                      \t|  0.0            \t|  5252           \t|  0.0            \t|  0.0            \t|\r\n",
      "|  [LightningModule]LNN.on_train_batch_end                                                                                                                        \t|  0.0            \t|  5252           \t|  0.0            \t|  0.0            \t|\r\n",
      "|  [LightningModule]LNN.on_validation_model_zero_grad                                                                                                             \t|  0.0            \t|  26             \t|  0.0            \t|  0.0            \t|\r\n",
      "|  [Callback]TQDMProgressBar.on_train_epoch_end                                                                                                                   \t|  0.0            \t|  26             \t|  0.0            \t|  0.0            \t|\r\n",
      "|  [Callback]ModelSummary.on_train_epoch_end                                                                                                                      \t|  0.0            \t|  26             \t|  0.0            \t|  0.0            \t|\r\n",
      "|  [LightningModule]LNN.on_train_epoch_end                                                                                                                        \t|  0.0            \t|  26             \t|  0.0            \t|  0.0            \t|\r\n",
      "|  [Callback]EarlyStopping{'monitor': 'val_loss', 'mode': 'min'}.on_save_checkpoint                                                                               \t|  0.0            \t|  26             \t|  0.0            \t|  0.0            \t|\r\n",
      "|  [Callback]TQDMProgressBar.on_save_checkpoint                                                                                                                   \t|  0.0            \t|  26             \t|  0.0            \t|  0.0            \t|\r\n",
      "|  [Callback]ModelSummary.on_save_checkpoint                                                                                                                      \t|  0.0            \t|  26             \t|  0.0            \t|  0.0            \t|\r\n",
      "|  [Callback]ModelCheckpoint{'monitor': None, 'mode': 'min', 'every_n_train_steps': 0, 'every_n_epochs': 1, 'train_time_interval': None}.on_save_checkpoint       \t|  0.0            \t|  26             \t|  0.0            \t|  0.0            \t|\r\n",
      "|  [LightningModule]LNN.on_save_checkpoint                                                                                                                        \t|  0.0            \t|  26             \t|  0.0            \t|  0.0            \t|\r\n",
      "|  [Callback]EarlyStopping{'monitor': 'val_loss', 'mode': 'min'}.on_train_end                                                                                     \t|  0.0            \t|  1              \t|  0.0            \t|  0.0            \t|\r\n",
      "|  [Callback]TQDMProgressBar.on_train_end                                                                                                                         \t|  0.0            \t|  1              \t|  0.0            \t|  0.0            \t|\r\n",
      "|  [Callback]ModelSummary.on_train_end                                                                                                                            \t|  0.0            \t|  1              \t|  0.0            \t|  0.0            \t|\r\n",
      "|  [Callback]ModelCheckpoint{'monitor': None, 'mode': 'min', 'every_n_train_steps': 0, 'every_n_epochs': 1, 'train_time_interval': None}.on_train_end             \t|  0.0            \t|  1              \t|  0.0            \t|  0.0            \t|\r\n",
      "|  [LightningModule]LNN.on_train_end                                                                                                                              \t|  0.0            \t|  1              \t|  0.0            \t|  0.0            \t|\r\n",
      "|  [Strategy]SingleDeviceStrategy.on_train_end                                                                                                                    \t|  0.0            \t|  1              \t|  0.0            \t|  0.0            \t|\r\n",
      "|  [Callback]EarlyStopping{'monitor': 'val_loss', 'mode': 'min'}.on_fit_end                                                                                       \t|  0.0            \t|  1              \t|  0.0            \t|  0.0            \t|\r\n",
      "|  [Callback]TQDMProgressBar.on_fit_end                                                                                                                           \t|  0.0            \t|  1              \t|  0.0            \t|  0.0            \t|\r\n",
      "|  [Callback]ModelSummary.on_fit_end                                                                                                                              \t|  0.0            \t|  1              \t|  0.0            \t|  0.0            \t|\r\n",
      "|  [Callback]ModelCheckpoint{'monitor': None, 'mode': 'min', 'every_n_train_steps': 0, 'every_n_epochs': 1, 'train_time_interval': None}.on_fit_end               \t|  0.0            \t|  1              \t|  0.0            \t|  0.0            \t|\r\n",
      "|  [LightningModule]LNN.on_fit_end                                                                                                                                \t|  0.0            \t|  1              \t|  0.0            \t|  0.0            \t|\r\n",
      "|  [Callback]EarlyStopping{'monitor': 'val_loss', 'mode': 'min'}.teardown                                                                                         \t|  0.0            \t|  1              \t|  0.0            \t|  0.0            \t|\r\n",
      "|  [Callback]TQDMProgressBar.teardown                                                                                                                             \t|  0.0            \t|  1              \t|  0.0            \t|  0.0            \t|\r\n",
      "|  [Callback]ModelSummary.teardown                                                                                                                                \t|  0.0            \t|  1              \t|  0.0            \t|  0.0            \t|\r\n",
      "|  [Callback]ModelCheckpoint{'monitor': None, 'mode': 'min', 'every_n_train_steps': 0, 'every_n_epochs': 1, 'train_time_interval': None}.teardown                 \t|  0.0            \t|  1              \t|  0.0            \t|  0.0            \t|\r\n",
      "|  [LightningModule]LNN.teardown                                                                                                                                  \t|  0.0            \t|  1              \t|  0.0            \t|  0.0            \t|\r\n",
      "---------------------------------------------------------------------------------------------------------------------------------------------------------------------------------------------------------------------------------------------------------------------------\r\n",
      "\n",
      "LOCAL_RANK: 0 - CUDA_VISIBLE_DEVICES: [0]\n"
     ]
    },
    {
     "data": {
      "text/plain": "Testing: |          | 0/? [00:00<?, ?it/s]",
      "application/vnd.jupyter.widget-view+json": {
       "version_major": 2,
       "version_minor": 0,
       "model_id": "cbb456f4c5384cbe9f896231278488d1"
      }
     },
     "metadata": {},
     "output_type": "display_data"
    },
    {
     "name": "stderr",
     "output_type": "stream",
     "text": [
      "TEST Profiler Report\r\n",
      "\r\n",
      "---------------------------------------------------------------------------------------------------------------------------------------------------------------------------------------------------------------------------------------------------------------------------\r\n",
      "|  Action                                                                                                                                                         \t|  Mean duration (s)\t|  Num calls      \t|  Total time (s) \t|  Percentage %   \t|\r\n",
      "---------------------------------------------------------------------------------------------------------------------------------------------------------------------------------------------------------------------------------------------------------------------------\r\n",
      "|  Total                                                                                                                                                          \t|  -              \t|  243513         \t|  65.25          \t|  100 %          \t|\r\n",
      "---------------------------------------------------------------------------------------------------------------------------------------------------------------------------------------------------------------------------------------------------------------------------\r\n",
      "|  run_training_epoch                                                                                                                                             \t|  2.1797         \t|  26             \t|  56.672         \t|  86.854         \t|\r\n",
      "|  run_training_batch                                                                                                                                             \t|  0.0065581      \t|  5252           \t|  34.443         \t|  52.786         \t|\r\n",
      "|  [LightningModule]LNN.optimizer_step                                                                                                                            \t|  0.0064743      \t|  5252           \t|  34.003         \t|  52.112         \t|\r\n",
      "|  [Strategy]SingleDeviceStrategy.training_step                                                                                                                   \t|  0.0031392      \t|  5252           \t|  16.487         \t|  25.267         \t|\r\n",
      "|  [Strategy]SingleDeviceStrategy.backward                                                                                                                        \t|  0.0021786      \t|  5252           \t|  11.442         \t|  17.536         \t|\r\n",
      "|  [Callback]ModelCheckpoint{'monitor': None, 'mode': 'min', 'every_n_train_steps': 0, 'every_n_epochs': 1, 'train_time_interval': None}.on_train_epoch_end       \t|  0.23858        \t|  26             \t|  6.203          \t|  9.5065         \t|\r\n",
      "|  [Callback]TQDMProgressBar.on_train_batch_end                                                                                                                   \t|  0.0010864      \t|  5252           \t|  5.706          \t|  8.7448         \t|\r\n",
      "|  [_TrainingEpochLoop].train_dataloader_next                                                                                                                     \t|  0.00093507     \t|  5252           \t|  4.911          \t|  7.5264         \t|\r\n",
      "|  [Strategy]SingleDeviceStrategy.validation_step                                                                                                                 \t|  0.003256       \t|  1328           \t|  4.324          \t|  6.6268         \t|\r\n",
      "|  [_EvaluationLoop].val_next                                                                                                                                     \t|  0.0010392      \t|  1328           \t|  1.38           \t|  2.1149         \t|\r\n",
      "|  [LightningModule]LNN.optimizer_zero_grad                                                                                                                       \t|  0.00025343     \t|  5252           \t|  1.331          \t|  2.0398         \t|\r\n",
      "|  [Strategy]SingleDeviceStrategy.batch_to_device                                                                                                                 \t|  0.0001281      \t|  6612           \t|  0.847          \t|  1.2981         \t|\r\n",
      "|  [LightningModule]LNN.transfer_batch_to_device                                                                                                                  \t|  0.00010436     \t|  6612           \t|  0.69           \t|  1.0575         \t|\r\n",
      "|  [Callback]TQDMProgressBar.on_validation_batch_end                                                                                                              \t|  0.00051581     \t|  1328           \t|  0.685          \t|  1.0498         \t|\r\n",
      "|  [Callback]TQDMProgressBar.on_validation_start                                                                                                                  \t|  0.0045926      \t|  27             \t|  0.124          \t|  0.19004        \t|\r\n",
      "|  [Strategy]SingleDeviceStrategy.test_step                                                                                                                       \t|  0.0034375      \t|  32             \t|  0.11           \t|  0.16858        \t|\r\n",
      "|  [Callback]ModelCheckpoint{'monitor': None, 'mode': 'min', 'every_n_train_steps': 0, 'every_n_epochs': 1, 'train_time_interval': None}.on_train_batch_end       \t|  1.7708e-05     \t|  5252           \t|  0.093          \t|  0.14253        \t|\r\n",
      "|  [LightningModule]LNN.configure_gradient_clipping                                                                                                               \t|  1.7517e-05     \t|  5252           \t|  0.092          \t|  0.141          \t|\r\n",
      "|  [Callback]TQDMProgressBar.on_validation_end                                                                                                                    \t|  0.0017407      \t|  27             \t|  0.047          \t|  0.072031       \t|\r\n",
      "|  [_EvaluationLoop].test_next                                                                                                                                    \t|  0.001          \t|  32             \t|  0.032          \t|  0.049042       \t|\r\n",
      "|  [LightningModule]LNN.on_before_batch_transfer                                                                                                                  \t|  4.6884e-06     \t|  6612           \t|  0.031          \t|  0.04751        \t|\r\n",
      "|  [LightningModule]LNN.on_after_batch_transfer                                                                                                                   \t|  4.6884e-06     \t|  6612           \t|  0.031          \t|  0.04751        \t|\r\n",
      "|  [Callback]TQDMProgressBar.on_train_epoch_start                                                                                                                 \t|  0.0011923      \t|  26             \t|  0.031          \t|  0.04751        \t|\r\n",
      "|  [LightningModule]LNN.on_validation_model_eval                                                                                                                  \t|  0.00059259     \t|  27             \t|  0.016          \t|  0.024521       \t|\r\n",
      "|  [Callback]EarlyStopping{'monitor': 'val_loss', 'mode': 'min'}.on_train_batch_start                                                                             \t|  3.0465e-06     \t|  5252           \t|  0.016          \t|  0.024521       \t|\r\n",
      "|  [Callback]EarlyStopping{'monitor': 'val_loss', 'mode': 'min'}.on_before_backward                                                                               \t|  3.0465e-06     \t|  5252           \t|  0.016          \t|  0.024521       \t|\r\n",
      "|  [Callback]EarlyStopping{'monitor': 'val_loss', 'mode': 'min'}.on_after_backward                                                                                \t|  3.0465e-06     \t|  5252           \t|  0.016          \t|  0.024521       \t|\r\n",
      "|  [Callback]EarlyStopping{'monitor': 'val_loss', 'mode': 'min'}.on_train_epoch_end                                                                               \t|  0.00061538     \t|  26             \t|  0.016          \t|  0.024521       \t|\r\n",
      "|  [Callback]TQDMProgressBar.on_train_batch_start                                                                                                                 \t|  2.8561e-06     \t|  5252           \t|  0.015          \t|  0.022989       \t|\r\n",
      "|  [LightningModule]LNN.on_before_zero_grad                                                                                                                       \t|  2.8561e-06     \t|  5252           \t|  0.015          \t|  0.022989       \t|\r\n",
      "|  [Callback]TQDMProgressBar.on_after_backward                                                                                                                    \t|  2.8561e-06     \t|  5252           \t|  0.015          \t|  0.022989       \t|\r\n",
      "|  [Callback]ModelCheckpoint{'monitor': None, 'mode': 'min', 'every_n_train_steps': 0, 'every_n_epochs': 1, 'train_time_interval': None}.on_after_backward        \t|  2.8561e-06     \t|  5252           \t|  0.015          \t|  0.022989       \t|\r\n",
      "|  [Callback]EarlyStopping{'monitor': 'val_loss', 'mode': 'min'}.on_train_batch_end                                                                               \t|  2.8561e-06     \t|  5252           \t|  0.015          \t|  0.022989       \t|\r\n",
      "|  [LightningModule]LNN.configure_callbacks                                                                                                                       \t|  0.0            \t|  2              \t|  0.0            \t|  0.0            \t|\r\n",
      "|  [LightningModule]LNN.prepare_data                                                                                                                              \t|  0.0            \t|  2              \t|  0.0            \t|  0.0            \t|\r\n",
      "|  [Callback]EarlyStopping{'monitor': 'val_loss', 'mode': 'min'}.setup                                                                                            \t|  0.0            \t|  2              \t|  0.0            \t|  0.0            \t|\r\n",
      "|  [Callback]TQDMProgressBar.setup                                                                                                                                \t|  0.0            \t|  2              \t|  0.0            \t|  0.0            \t|\r\n",
      "|  [Callback]ModelSummary.setup                                                                                                                                   \t|  0.0            \t|  2              \t|  0.0            \t|  0.0            \t|\r\n",
      "|  [Callback]ModelCheckpoint{'monitor': None, 'mode': 'min', 'every_n_train_steps': 0, 'every_n_epochs': 1, 'train_time_interval': None}.setup                    \t|  0.0            \t|  2              \t|  0.0            \t|  0.0            \t|\r\n",
      "|  [LightningModule]LNN.setup                                                                                                                                     \t|  0.0            \t|  2              \t|  0.0            \t|  0.0            \t|\r\n",
      "|  [LightningModule]LNN.configure_optimizers                                                                                                                      \t|  0.0            \t|  1              \t|  0.0            \t|  0.0            \t|\r\n",
      "|  [Callback]EarlyStopping{'monitor': 'val_loss', 'mode': 'min'}.on_fit_start                                                                                     \t|  0.0            \t|  1              \t|  0.0            \t|  0.0            \t|\r\n",
      "|  [Callback]TQDMProgressBar.on_fit_start                                                                                                                         \t|  0.0            \t|  1              \t|  0.0            \t|  0.0            \t|\r\n",
      "|  [Callback]ModelSummary.on_fit_start                                                                                                                            \t|  0.0            \t|  1              \t|  0.0            \t|  0.0            \t|\r\n",
      "|  [Callback]ModelCheckpoint{'monitor': None, 'mode': 'min', 'every_n_train_steps': 0, 'every_n_epochs': 1, 'train_time_interval': None}.on_fit_start             \t|  0.0            \t|  1              \t|  0.0            \t|  0.0            \t|\r\n",
      "|  [LightningModule]LNN.on_fit_start                                                                                                                              \t|  0.0            \t|  1              \t|  0.0            \t|  0.0            \t|\r\n",
      "|  [Callback]EarlyStopping{'monitor': 'val_loss', 'mode': 'min'}.on_sanity_check_start                                                                            \t|  0.0            \t|  1              \t|  0.0            \t|  0.0            \t|\r\n",
      "|  [Callback]TQDMProgressBar.on_sanity_check_start                                                                                                                \t|  0.0            \t|  1              \t|  0.0            \t|  0.0            \t|\r\n",
      "|  [Callback]ModelSummary.on_sanity_check_start                                                                                                                   \t|  0.0            \t|  1              \t|  0.0            \t|  0.0            \t|\r\n",
      "|  [Callback]ModelCheckpoint{'monitor': None, 'mode': 'min', 'every_n_train_steps': 0, 'every_n_epochs': 1, 'train_time_interval': None}.on_sanity_check_start    \t|  0.0            \t|  1              \t|  0.0            \t|  0.0            \t|\r\n",
      "|  [Callback]EarlyStopping{'monitor': 'val_loss', 'mode': 'min'}.on_validation_start                                                                              \t|  0.0            \t|  27             \t|  0.0            \t|  0.0            \t|\r\n",
      "|  [Callback]ModelSummary.on_validation_start                                                                                                                     \t|  0.0            \t|  27             \t|  0.0            \t|  0.0            \t|\r\n",
      "|  [Callback]ModelCheckpoint{'monitor': None, 'mode': 'min', 'every_n_train_steps': 0, 'every_n_epochs': 1, 'train_time_interval': None}.on_validation_start      \t|  0.0            \t|  27             \t|  0.0            \t|  0.0            \t|\r\n",
      "|  [LightningModule]LNN.on_validation_start                                                                                                                       \t|  0.0            \t|  27             \t|  0.0            \t|  0.0            \t|\r\n",
      "|  [Strategy]SingleDeviceStrategy.on_validation_start                                                                                                             \t|  0.0            \t|  27             \t|  0.0            \t|  0.0            \t|\r\n",
      "|  [Callback]EarlyStopping{'monitor': 'val_loss', 'mode': 'min'}.on_validation_epoch_start                                                                        \t|  0.0            \t|  27             \t|  0.0            \t|  0.0            \t|\r\n",
      "|  [Callback]TQDMProgressBar.on_validation_epoch_start                                                                                                            \t|  0.0            \t|  27             \t|  0.0            \t|  0.0            \t|\r\n",
      "|  [Callback]ModelSummary.on_validation_epoch_start                                                                                                               \t|  0.0            \t|  27             \t|  0.0            \t|  0.0            \t|\r\n",
      "|  [Callback]ModelCheckpoint{'monitor': None, 'mode': 'min', 'every_n_train_steps': 0, 'every_n_epochs': 1, 'train_time_interval': None}.on_validation_epoch_start\t|  0.0            \t|  27             \t|  0.0            \t|  0.0            \t|\r\n",
      "|  [LightningModule]LNN.on_validation_epoch_start                                                                                                                 \t|  0.0            \t|  27             \t|  0.0            \t|  0.0            \t|\r\n",
      "|  [Callback]EarlyStopping{'monitor': 'val_loss', 'mode': 'min'}.on_validation_batch_start                                                                        \t|  0.0            \t|  1328           \t|  0.0            \t|  0.0            \t|\r\n",
      "|  [Callback]TQDMProgressBar.on_validation_batch_start                                                                                                            \t|  0.0            \t|  1328           \t|  0.0            \t|  0.0            \t|\r\n",
      "|  [Callback]ModelSummary.on_validation_batch_start                                                                                                               \t|  0.0            \t|  1328           \t|  0.0            \t|  0.0            \t|\r\n",
      "|  [Callback]ModelCheckpoint{'monitor': None, 'mode': 'min', 'every_n_train_steps': 0, 'every_n_epochs': 1, 'train_time_interval': None}.on_validation_batch_start\t|  0.0            \t|  1328           \t|  0.0            \t|  0.0            \t|\r\n",
      "|  [LightningModule]LNN.on_validation_batch_start                                                                                                                 \t|  0.0            \t|  1328           \t|  0.0            \t|  0.0            \t|\r\n",
      "|  [Callback]EarlyStopping{'monitor': 'val_loss', 'mode': 'min'}.on_validation_batch_end                                                                          \t|  0.0            \t|  1328           \t|  0.0            \t|  0.0            \t|\r\n",
      "|  [Callback]ModelSummary.on_validation_batch_end                                                                                                                 \t|  0.0            \t|  1328           \t|  0.0            \t|  0.0            \t|\r\n",
      "|  [Callback]ModelCheckpoint{'monitor': None, 'mode': 'min', 'every_n_train_steps': 0, 'every_n_epochs': 1, 'train_time_interval': None}.on_validation_batch_end  \t|  0.0            \t|  1328           \t|  0.0            \t|  0.0            \t|\r\n",
      "|  [LightningModule]LNN.on_validation_batch_end                                                                                                                   \t|  0.0            \t|  1328           \t|  0.0            \t|  0.0            \t|\r\n",
      "|  [Callback]EarlyStopping{'monitor': 'val_loss', 'mode': 'min'}.on_validation_epoch_end                                                                          \t|  0.0            \t|  27             \t|  0.0            \t|  0.0            \t|\r\n",
      "|  [Callback]TQDMProgressBar.on_validation_epoch_end                                                                                                              \t|  0.0            \t|  27             \t|  0.0            \t|  0.0            \t|\r\n",
      "|  [Callback]ModelSummary.on_validation_epoch_end                                                                                                                 \t|  0.0            \t|  27             \t|  0.0            \t|  0.0            \t|\r\n",
      "|  [Callback]ModelCheckpoint{'monitor': None, 'mode': 'min', 'every_n_train_steps': 0, 'every_n_epochs': 1, 'train_time_interval': None}.on_validation_epoch_end  \t|  0.0            \t|  27             \t|  0.0            \t|  0.0            \t|\r\n",
      "|  [LightningModule]LNN.on_validation_epoch_end                                                                                                                   \t|  0.0            \t|  27             \t|  0.0            \t|  0.0            \t|\r\n",
      "|  [Callback]EarlyStopping{'monitor': 'val_loss', 'mode': 'min'}.on_validation_end                                                                                \t|  0.0            \t|  27             \t|  0.0            \t|  0.0            \t|\r\n",
      "|  [Callback]ModelSummary.on_validation_end                                                                                                                       \t|  0.0            \t|  27             \t|  0.0            \t|  0.0            \t|\r\n",
      "|  [Callback]ModelCheckpoint{'monitor': None, 'mode': 'min', 'every_n_train_steps': 0, 'every_n_epochs': 1, 'train_time_interval': None}.on_validation_end        \t|  0.0            \t|  27             \t|  0.0            \t|  0.0            \t|\r\n",
      "|  [LightningModule]LNN.on_validation_end                                                                                                                         \t|  0.0            \t|  27             \t|  0.0            \t|  0.0            \t|\r\n",
      "|  [Strategy]SingleDeviceStrategy.on_validation_end                                                                                                               \t|  0.0            \t|  27             \t|  0.0            \t|  0.0            \t|\r\n",
      "|  [LightningModule]LNN.on_validation_model_train                                                                                                                 \t|  0.0            \t|  27             \t|  0.0            \t|  0.0            \t|\r\n",
      "|  [Callback]EarlyStopping{'monitor': 'val_loss', 'mode': 'min'}.on_sanity_check_end                                                                              \t|  0.0            \t|  1              \t|  0.0            \t|  0.0            \t|\r\n",
      "|  [Callback]TQDMProgressBar.on_sanity_check_end                                                                                                                  \t|  0.0            \t|  1              \t|  0.0            \t|  0.0            \t|\r\n",
      "|  [Callback]ModelSummary.on_sanity_check_end                                                                                                                     \t|  0.0            \t|  1              \t|  0.0            \t|  0.0            \t|\r\n",
      "|  [Callback]ModelCheckpoint{'monitor': None, 'mode': 'min', 'every_n_train_steps': 0, 'every_n_epochs': 1, 'train_time_interval': None}.on_sanity_check_end      \t|  0.0            \t|  1              \t|  0.0            \t|  0.0            \t|\r\n",
      "|  [Callback]EarlyStopping{'monitor': 'val_loss', 'mode': 'min'}.on_train_start                                                                                   \t|  0.0            \t|  1              \t|  0.0            \t|  0.0            \t|\r\n",
      "|  [Callback]TQDMProgressBar.on_train_start                                                                                                                       \t|  0.0            \t|  1              \t|  0.0            \t|  0.0            \t|\r\n",
      "|  [Callback]ModelSummary.on_train_start                                                                                                                          \t|  0.0            \t|  1              \t|  0.0            \t|  0.0            \t|\r\n",
      "|  [Callback]ModelCheckpoint{'monitor': None, 'mode': 'min', 'every_n_train_steps': 0, 'every_n_epochs': 1, 'train_time_interval': None}.on_train_start           \t|  0.0            \t|  1              \t|  0.0            \t|  0.0            \t|\r\n",
      "|  [LightningModule]LNN.on_train_start                                                                                                                            \t|  0.0            \t|  1              \t|  0.0            \t|  0.0            \t|\r\n",
      "|  [Strategy]SingleDeviceStrategy.on_train_start                                                                                                                  \t|  0.0            \t|  1              \t|  0.0            \t|  0.0            \t|\r\n",
      "|  [Callback]EarlyStopping{'monitor': 'val_loss', 'mode': 'min'}.on_train_epoch_start                                                                             \t|  0.0            \t|  26             \t|  0.0            \t|  0.0            \t|\r\n",
      "|  [Callback]ModelSummary.on_train_epoch_start                                                                                                                    \t|  0.0            \t|  26             \t|  0.0            \t|  0.0            \t|\r\n",
      "|  [Callback]ModelCheckpoint{'monitor': None, 'mode': 'min', 'every_n_train_steps': 0, 'every_n_epochs': 1, 'train_time_interval': None}.on_train_epoch_start     \t|  0.0            \t|  26             \t|  0.0            \t|  0.0            \t|\r\n",
      "|  [LightningModule]LNN.on_train_epoch_start                                                                                                                      \t|  0.0            \t|  26             \t|  0.0            \t|  0.0            \t|\r\n",
      "|  [Callback]ModelSummary.on_train_batch_start                                                                                                                    \t|  0.0            \t|  5252           \t|  0.0            \t|  0.0            \t|\r\n",
      "|  [Callback]ModelCheckpoint{'monitor': None, 'mode': 'min', 'every_n_train_steps': 0, 'every_n_epochs': 1, 'train_time_interval': None}.on_train_batch_start     \t|  0.0            \t|  5252           \t|  0.0            \t|  0.0            \t|\r\n",
      "|  [LightningModule]LNN.on_train_batch_start                                                                                                                      \t|  0.0            \t|  5252           \t|  0.0            \t|  0.0            \t|\r\n",
      "|  [Strategy]SingleDeviceStrategy.on_train_batch_start                                                                                                            \t|  0.0            \t|  5252           \t|  0.0            \t|  0.0            \t|\r\n",
      "|  [Callback]EarlyStopping{'monitor': 'val_loss', 'mode': 'min'}.on_before_zero_grad                                                                              \t|  0.0            \t|  5252           \t|  0.0            \t|  0.0            \t|\r\n",
      "|  [Callback]TQDMProgressBar.on_before_zero_grad                                                                                                                  \t|  0.0            \t|  5252           \t|  0.0            \t|  0.0            \t|\r\n",
      "|  [Callback]ModelSummary.on_before_zero_grad                                                                                                                     \t|  0.0            \t|  5252           \t|  0.0            \t|  0.0            \t|\r\n",
      "|  [Callback]ModelCheckpoint{'monitor': None, 'mode': 'min', 'every_n_train_steps': 0, 'every_n_epochs': 1, 'train_time_interval': None}.on_before_zero_grad      \t|  0.0            \t|  5252           \t|  0.0            \t|  0.0            \t|\r\n",
      "|  [Callback]TQDMProgressBar.on_before_backward                                                                                                                   \t|  0.0            \t|  5252           \t|  0.0            \t|  0.0            \t|\r\n",
      "|  [Callback]ModelSummary.on_before_backward                                                                                                                      \t|  0.0            \t|  5252           \t|  0.0            \t|  0.0            \t|\r\n",
      "|  [Callback]ModelCheckpoint{'monitor': None, 'mode': 'min', 'every_n_train_steps': 0, 'every_n_epochs': 1, 'train_time_interval': None}.on_before_backward       \t|  0.0            \t|  5252           \t|  0.0            \t|  0.0            \t|\r\n",
      "|  [LightningModule]LNN.on_before_backward                                                                                                                        \t|  0.0            \t|  5252           \t|  0.0            \t|  0.0            \t|\r\n",
      "|  [Callback]ModelSummary.on_after_backward                                                                                                                       \t|  0.0            \t|  5252           \t|  0.0            \t|  0.0            \t|\r\n",
      "|  [LightningModule]LNN.on_after_backward                                                                                                                         \t|  0.0            \t|  5252           \t|  0.0            \t|  0.0            \t|\r\n",
      "|  [Callback]EarlyStopping{'monitor': 'val_loss', 'mode': 'min'}.on_before_optimizer_step                                                                         \t|  0.0            \t|  5252           \t|  0.0            \t|  0.0            \t|\r\n",
      "|  [Callback]TQDMProgressBar.on_before_optimizer_step                                                                                                             \t|  0.0            \t|  5252           \t|  0.0            \t|  0.0            \t|\r\n",
      "|  [Callback]ModelSummary.on_before_optimizer_step                                                                                                                \t|  0.0            \t|  5252           \t|  0.0            \t|  0.0            \t|\r\n",
      "|  [Callback]ModelCheckpoint{'monitor': None, 'mode': 'min', 'every_n_train_steps': 0, 'every_n_epochs': 1, 'train_time_interval': None}.on_before_optimizer_step \t|  0.0            \t|  5252           \t|  0.0            \t|  0.0            \t|\r\n",
      "|  [LightningModule]LNN.on_before_optimizer_step                                                                                                                  \t|  0.0            \t|  5252           \t|  0.0            \t|  0.0            \t|\r\n",
      "|  [Callback]ModelSummary.on_train_batch_end                                                                                                                      \t|  0.0            \t|  5252           \t|  0.0            \t|  0.0            \t|\r\n",
      "|  [LightningModule]LNN.on_train_batch_end                                                                                                                        \t|  0.0            \t|  5252           \t|  0.0            \t|  0.0            \t|\r\n",
      "|  [LightningModule]LNN.on_validation_model_zero_grad                                                                                                             \t|  0.0            \t|  26             \t|  0.0            \t|  0.0            \t|\r\n",
      "|  [Callback]TQDMProgressBar.on_train_epoch_end                                                                                                                   \t|  0.0            \t|  26             \t|  0.0            \t|  0.0            \t|\r\n",
      "|  [Callback]ModelSummary.on_train_epoch_end                                                                                                                      \t|  0.0            \t|  26             \t|  0.0            \t|  0.0            \t|\r\n",
      "|  [LightningModule]LNN.on_train_epoch_end                                                                                                                        \t|  0.0            \t|  26             \t|  0.0            \t|  0.0            \t|\r\n",
      "|  [Callback]EarlyStopping{'monitor': 'val_loss', 'mode': 'min'}.on_save_checkpoint                                                                               \t|  0.0            \t|  26             \t|  0.0            \t|  0.0            \t|\r\n",
      "|  [Callback]TQDMProgressBar.on_save_checkpoint                                                                                                                   \t|  0.0            \t|  26             \t|  0.0            \t|  0.0            \t|\r\n",
      "|  [Callback]ModelSummary.on_save_checkpoint                                                                                                                      \t|  0.0            \t|  26             \t|  0.0            \t|  0.0            \t|\r\n",
      "|  [Callback]ModelCheckpoint{'monitor': None, 'mode': 'min', 'every_n_train_steps': 0, 'every_n_epochs': 1, 'train_time_interval': None}.on_save_checkpoint       \t|  0.0            \t|  26             \t|  0.0            \t|  0.0            \t|\r\n",
      "|  [LightningModule]LNN.on_save_checkpoint                                                                                                                        \t|  0.0            \t|  26             \t|  0.0            \t|  0.0            \t|\r\n",
      "|  [Callback]EarlyStopping{'monitor': 'val_loss', 'mode': 'min'}.on_train_end                                                                                     \t|  0.0            \t|  1              \t|  0.0            \t|  0.0            \t|\r\n",
      "|  [Callback]TQDMProgressBar.on_train_end                                                                                                                         \t|  0.0            \t|  1              \t|  0.0            \t|  0.0            \t|\r\n",
      "|  [Callback]ModelSummary.on_train_end                                                                                                                            \t|  0.0            \t|  1              \t|  0.0            \t|  0.0            \t|\r\n",
      "|  [Callback]ModelCheckpoint{'monitor': None, 'mode': 'min', 'every_n_train_steps': 0, 'every_n_epochs': 1, 'train_time_interval': None}.on_train_end             \t|  0.0            \t|  1              \t|  0.0            \t|  0.0            \t|\r\n",
      "|  [LightningModule]LNN.on_train_end                                                                                                                              \t|  0.0            \t|  1              \t|  0.0            \t|  0.0            \t|\r\n",
      "|  [Strategy]SingleDeviceStrategy.on_train_end                                                                                                                    \t|  0.0            \t|  1              \t|  0.0            \t|  0.0            \t|\r\n",
      "|  [Callback]EarlyStopping{'monitor': 'val_loss', 'mode': 'min'}.on_fit_end                                                                                       \t|  0.0            \t|  1              \t|  0.0            \t|  0.0            \t|\r\n",
      "|  [Callback]TQDMProgressBar.on_fit_end                                                                                                                           \t|  0.0            \t|  1              \t|  0.0            \t|  0.0            \t|\r\n",
      "|  [Callback]ModelSummary.on_fit_end                                                                                                                              \t|  0.0            \t|  1              \t|  0.0            \t|  0.0            \t|\r\n",
      "|  [Callback]ModelCheckpoint{'monitor': None, 'mode': 'min', 'every_n_train_steps': 0, 'every_n_epochs': 1, 'train_time_interval': None}.on_fit_end               \t|  0.0            \t|  1              \t|  0.0            \t|  0.0            \t|\r\n",
      "|  [LightningModule]LNN.on_fit_end                                                                                                                                \t|  0.0            \t|  1              \t|  0.0            \t|  0.0            \t|\r\n",
      "|  [Callback]EarlyStopping{'monitor': 'val_loss', 'mode': 'min'}.teardown                                                                                         \t|  0.0            \t|  2              \t|  0.0            \t|  0.0            \t|\r\n",
      "|  [Callback]TQDMProgressBar.teardown                                                                                                                             \t|  0.0            \t|  2              \t|  0.0            \t|  0.0            \t|\r\n",
      "|  [Callback]ModelSummary.teardown                                                                                                                                \t|  0.0            \t|  2              \t|  0.0            \t|  0.0            \t|\r\n",
      "|  [Callback]ModelCheckpoint{'monitor': None, 'mode': 'min', 'every_n_train_steps': 0, 'every_n_epochs': 1, 'train_time_interval': None}.teardown                 \t|  0.0            \t|  2              \t|  0.0            \t|  0.0            \t|\r\n",
      "|  [LightningModule]LNN.teardown                                                                                                                                  \t|  0.0            \t|  2              \t|  0.0            \t|  0.0            \t|\r\n",
      "|  [LightningModule]LNN.on_test_model_eval                                                                                                                        \t|  0.0            \t|  1              \t|  0.0            \t|  0.0            \t|\r\n",
      "|  [Callback]EarlyStopping{'monitor': 'val_loss', 'mode': 'min'}.on_test_start                                                                                    \t|  0.0            \t|  1              \t|  0.0            \t|  0.0            \t|\r\n",
      "|  [Callback]TQDMProgressBar.on_test_start                                                                                                                        \t|  0.0            \t|  1              \t|  0.0            \t|  0.0            \t|\r\n",
      "|  [Callback]ModelSummary.on_test_start                                                                                                                           \t|  0.0            \t|  1              \t|  0.0            \t|  0.0            \t|\r\n",
      "|  [Callback]ModelCheckpoint{'monitor': None, 'mode': 'min', 'every_n_train_steps': 0, 'every_n_epochs': 1, 'train_time_interval': None}.on_test_start            \t|  0.0            \t|  1              \t|  0.0            \t|  0.0            \t|\r\n",
      "|  [LightningModule]LNN.on_test_start                                                                                                                             \t|  0.0            \t|  1              \t|  0.0            \t|  0.0            \t|\r\n",
      "|  [Strategy]SingleDeviceStrategy.on_test_start                                                                                                                   \t|  0.0            \t|  1              \t|  0.0            \t|  0.0            \t|\r\n",
      "|  [Callback]EarlyStopping{'monitor': 'val_loss', 'mode': 'min'}.on_test_epoch_start                                                                              \t|  0.0            \t|  1              \t|  0.0            \t|  0.0            \t|\r\n",
      "|  [Callback]TQDMProgressBar.on_test_epoch_start                                                                                                                  \t|  0.0            \t|  1              \t|  0.0            \t|  0.0            \t|\r\n",
      "|  [Callback]ModelSummary.on_test_epoch_start                                                                                                                     \t|  0.0            \t|  1              \t|  0.0            \t|  0.0            \t|\r\n",
      "|  [Callback]ModelCheckpoint{'monitor': None, 'mode': 'min', 'every_n_train_steps': 0, 'every_n_epochs': 1, 'train_time_interval': None}.on_test_epoch_start      \t|  0.0            \t|  1              \t|  0.0            \t|  0.0            \t|\r\n",
      "|  [LightningModule]LNN.on_test_epoch_start                                                                                                                       \t|  0.0            \t|  1              \t|  0.0            \t|  0.0            \t|\r\n",
      "|  [Callback]EarlyStopping{'monitor': 'val_loss', 'mode': 'min'}.on_test_batch_start                                                                              \t|  0.0            \t|  32             \t|  0.0            \t|  0.0            \t|\r\n",
      "|  [Callback]TQDMProgressBar.on_test_batch_start                                                                                                                  \t|  0.0            \t|  32             \t|  0.0            \t|  0.0            \t|\r\n",
      "|  [Callback]ModelSummary.on_test_batch_start                                                                                                                     \t|  0.0            \t|  32             \t|  0.0            \t|  0.0            \t|\r\n",
      "|  [Callback]ModelCheckpoint{'monitor': None, 'mode': 'min', 'every_n_train_steps': 0, 'every_n_epochs': 1, 'train_time_interval': None}.on_test_batch_start      \t|  0.0            \t|  32             \t|  0.0            \t|  0.0            \t|\r\n",
      "|  [LightningModule]LNN.on_test_batch_start                                                                                                                       \t|  0.0            \t|  32             \t|  0.0            \t|  0.0            \t|\r\n",
      "|  [Callback]EarlyStopping{'monitor': 'val_loss', 'mode': 'min'}.on_test_batch_end                                                                                \t|  0.0            \t|  32             \t|  0.0            \t|  0.0            \t|\r\n",
      "|  [Callback]TQDMProgressBar.on_test_batch_end                                                                                                                    \t|  0.0            \t|  32             \t|  0.0            \t|  0.0            \t|\r\n",
      "|  [Callback]ModelSummary.on_test_batch_end                                                                                                                       \t|  0.0            \t|  32             \t|  0.0            \t|  0.0            \t|\r\n",
      "|  [Callback]ModelCheckpoint{'monitor': None, 'mode': 'min', 'every_n_train_steps': 0, 'every_n_epochs': 1, 'train_time_interval': None}.on_test_batch_end        \t|  0.0            \t|  32             \t|  0.0            \t|  0.0            \t|\r\n",
      "|  [LightningModule]LNN.on_test_batch_end                                                                                                                         \t|  0.0            \t|  32             \t|  0.0            \t|  0.0            \t|\r\n",
      "|  [Callback]EarlyStopping{'monitor': 'val_loss', 'mode': 'min'}.on_test_epoch_end                                                                                \t|  0.0            \t|  1              \t|  0.0            \t|  0.0            \t|\r\n",
      "|  [Callback]TQDMProgressBar.on_test_epoch_end                                                                                                                    \t|  0.0            \t|  1              \t|  0.0            \t|  0.0            \t|\r\n",
      "|  [Callback]ModelSummary.on_test_epoch_end                                                                                                                       \t|  0.0            \t|  1              \t|  0.0            \t|  0.0            \t|\r\n",
      "|  [Callback]ModelCheckpoint{'monitor': None, 'mode': 'min', 'every_n_train_steps': 0, 'every_n_epochs': 1, 'train_time_interval': None}.on_test_epoch_end        \t|  0.0            \t|  1              \t|  0.0            \t|  0.0            \t|\r\n",
      "|  [LightningModule]LNN.on_test_epoch_end                                                                                                                         \t|  0.0            \t|  1              \t|  0.0            \t|  0.0            \t|\r\n",
      "|  [Callback]EarlyStopping{'monitor': 'val_loss', 'mode': 'min'}.on_test_end                                                                                      \t|  0.0            \t|  1              \t|  0.0            \t|  0.0            \t|\r\n",
      "|  [Callback]TQDMProgressBar.on_test_end                                                                                                                          \t|  0.0            \t|  1              \t|  0.0            \t|  0.0            \t|\r\n",
      "|  [Callback]ModelSummary.on_test_end                                                                                                                             \t|  0.0            \t|  1              \t|  0.0            \t|  0.0            \t|\r\n",
      "|  [Callback]ModelCheckpoint{'monitor': None, 'mode': 'min', 'every_n_train_steps': 0, 'every_n_epochs': 1, 'train_time_interval': None}.on_test_end              \t|  0.0            \t|  1              \t|  0.0            \t|  0.0            \t|\r\n",
      "|  [LightningModule]LNN.on_test_end                                                                                                                               \t|  0.0            \t|  1              \t|  0.0            \t|  0.0            \t|\r\n",
      "|  [Strategy]SingleDeviceStrategy.on_test_end                                                                                                                     \t|  0.0            \t|  1              \t|  0.0            \t|  0.0            \t|\r\n",
      "|  [LightningModule]LNN.on_test_model_train                                                                                                                       \t|  0.0            \t|  1              \t|  0.0            \t|  0.0            \t|\r\n",
      "---------------------------------------------------------------------------------------------------------------------------------------------------------------------------------------------------------------------------------------------------------------------------\r\n",
      "\n"
     ]
    },
    {
     "name": "stdout",
     "output_type": "stream",
     "text": [
      "────────────────────────────────────────────────────────────────────────────────────────────────────────────────────────\r\n",
      "       Test metric             DataLoader 0\r\n",
      "────────────────────────────────────────────────────────────────────────────────────────────────────────────────────────\r\n",
      "        test_acc            0.7157894968986511\r\n",
      "        test_loss           0.5450858473777771\r\n",
      "────────────────────────────────────────────────────────────────────────────────────────────────────────────────────────\n"
     ]
    },
    {
     "data": {
      "text/plain": "<IPython.core.display.HTML object>",
      "text/html": "Waiting for W&B process to finish... <strong style=\"color:green\">(success).</strong>"
     },
     "metadata": {},
     "output_type": "display_data"
    },
    {
     "data": {
      "text/plain": "<IPython.core.display.HTML object>",
      "text/html": "<style>\n    table.wandb td:nth-child(1) { padding: 0 10px; text-align: left ; width: auto;} td:nth-child(2) {text-align: left ; width: 100%}\n    .wandb-row { display: flex; flex-direction: row; flex-wrap: wrap; justify-content: flex-start; width: 100% }\n    .wandb-col { display: flex; flex-direction: column; flex-basis: 100%; flex: 1; padding: 10px; }\n    </style>\n<div class=\"wandb-row\"><div class=\"wandb-col\"><h3>Run history:</h3><br/><table class=\"wandb\"><tr><td>epoch</td><td>▁▁▁▂▂▂▂▂▂▃▃▃▃▃▃▄▄▄▄▄▅▅▅▅▅▅▆▆▆▆▆▆▇▇▇▇▇▇██</td></tr><tr><td>test_acc</td><td>▁</td></tr><tr><td>test_loss</td><td>▁</td></tr><tr><td>train_acc</td><td>▁▂▃▄▅▃▅▆▃▅▆▅▃▆▇▆▇▆▆▄▅▆▆▅▅▆▄▆▆▅▇▆█▅▆▇▅▄█▇</td></tr><tr><td>train_loss</td><td>█▇▇▆▄▇▄▄▅▄▄▅▇▄▄▃▂▃▄▄▄▇▃▅▃▂▅▂▆▄▂▄▂▅▄▄▄█▁▂</td></tr><tr><td>trainer/global_step</td><td>▁▁▁▂▂▂▂▂▂▃▃▃▃▃▄▄▄▄▄▄▅▅▅▅▅▅▆▆▆▆▆▇▇▇▇▇████</td></tr><tr><td>val_acc</td><td>▁▅▆▆▇█▆▆▆▇██▆▇▆█▇▄▇▅▅▅▆▃▄▆</td></tr><tr><td>val_loss</td><td>█▃▃▂▂▂▁▂▂▂▂▁▂▂▂▁▂▂▂▂▂▂▂▃▂▂</td></tr></table><br/></div><div class=\"wandb-col\"><h3>Run summary:</h3><br/><table class=\"wandb\"><tr><td>epoch</td><td>26</td></tr><tr><td>test_acc</td><td>0.71579</td></tr><tr><td>test_loss</td><td>0.54509</td></tr><tr><td>train_acc</td><td>0.8125</td></tr><tr><td>train_loss</td><td>0.44383</td></tr><tr><td>trainer/global_step</td><td>5252</td></tr><tr><td>val_acc</td><td>0.70606</td></tr><tr><td>val_loss</td><td>0.56249</td></tr></table><br/></div></div>"
     },
     "metadata": {},
     "output_type": "display_data"
    },
    {
     "data": {
      "text/plain": "<IPython.core.display.HTML object>",
      "text/html": " View run <strong style=\"color:#cdcd00\">toasty-pyramid-9488</strong> at: <a href='https://wandb.ai/moritz-palm/leaguify/runs/0hmg4n5f' target=\"_blank\">https://wandb.ai/moritz-palm/leaguify/runs/0hmg4n5f</a><br/> View job at <a href='https://wandb.ai/moritz-palm/leaguify/jobs/QXJ0aWZhY3RDb2xsZWN0aW9uOjExOTA0NDg2Ng==/version_details/v1' target=\"_blank\">https://wandb.ai/moritz-palm/leaguify/jobs/QXJ0aWZhY3RDb2xsZWN0aW9uOjExOTA0NDg2Ng==/version_details/v1</a><br/>Synced 5 W&B file(s), 0 media file(s), 26 artifact file(s) and 0 other file(s)"
     },
     "metadata": {},
     "output_type": "display_data"
    },
    {
     "data": {
      "text/plain": "<IPython.core.display.HTML object>",
      "text/html": "Find logs at: <code>.\\wandb\\run-20231127_111345-0hmg4n5f\\logs</code>"
     },
     "metadata": {},
     "output_type": "display_data"
    }
   ],
   "source": [
    "trainer = L.Trainer(max_epochs=100, accelerator=device, callbacks=[EarlyStopping(monitor='val_loss', patience=10,\n",
    "                                                                                 mode='min')], profiler='simple',\n",
    "                    logger=[logger1, logger2, csv_logger])\n",
    "trainer.fit(model, train_loader, val_loader)\n",
    "trainer.test(model, test_loader)\n",
    "\n",
    "wandb.finish()"
   ],
   "metadata": {
    "collapsed": false,
    "ExecuteTime": {
     "end_time": "2023-11-27T10:15:11.101441500Z",
     "start_time": "2023-11-27T10:13:45.763604Z"
    }
   },
   "id": "4629cef0b451b36"
  },
  {
   "cell_type": "code",
   "execution_count": 97,
   "outputs": [],
   "source": [],
   "metadata": {
    "collapsed": false,
    "ExecuteTime": {
     "end_time": "2023-11-27T10:15:11.107665Z",
     "start_time": "2023-11-27T10:15:11.100425600Z"
    }
   },
   "id": "ef6f47167d037726"
  },
  {
   "cell_type": "code",
   "execution_count": 97,
   "outputs": [],
   "source": [],
   "metadata": {
    "collapsed": false,
    "ExecuteTime": {
     "end_time": "2023-11-27T10:15:11.108665100Z",
     "start_time": "2023-11-27T10:15:11.103437700Z"
    }
   },
   "id": "a4444b76f7871266"
  }
 ],
 "metadata": {
  "kernelspec": {
   "display_name": "Python 3",
   "language": "python",
   "name": "python3"
  },
  "language_info": {
   "codemirror_mode": {
    "name": "ipython",
    "version": 2
   },
   "file_extension": ".py",
   "mimetype": "text/x-python",
   "name": "python",
   "nbconvert_exporter": "python",
   "pygments_lexer": "ipython2",
   "version": "2.7.6"
  }
 },
 "nbformat": 4,
 "nbformat_minor": 5
}
