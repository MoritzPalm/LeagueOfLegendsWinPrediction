{
 "cells": [
  {
   "cell_type": "code",
   "execution_count": 1,
   "id": "initial_id",
   "metadata": {
    "collapsed": true,
    "ExecuteTime": {
     "end_time": "2023-10-10T11:56:08.965441300Z",
     "start_time": "2023-10-10T11:56:06.670438600Z"
    }
   },
   "outputs": [],
   "source": [
    "import numpy as np\n",
    "import pandas as pd\n",
    "import matplotlib.pyplot as plt\n",
    "import seaborn as sns\n",
    "import torch\n",
    "from torch.utils.data import Dataset, DataLoader\n",
    "from torch.nn import functional as F\n",
    "from torch.autograd import Variable\n",
    "from torch import Tensor, optim, nn\n"
   ]
  },
  {
   "cell_type": "code",
   "execution_count": 2,
   "outputs": [],
   "source": [
    "class StaticDataset(Dataset):\n",
    "    def __init__(self, data_dir, transform=None, target_transform=None):\n",
    "        self.data = pd.read_pickle(data_dir)\n",
    "        self.labels = self.data['label']\n",
    "        self.transform = transform\n",
    "        self.target_transform = target_transform\n",
    "\n",
    "    def __len__(self):\n",
    "        return len(self.data)\n",
    "\n",
    "    def __getitem__(self, idx):\n",
    "        sample = self.data.iloc[idx, 1:].values\n",
    "        label = self.labels.iloc[idx]\n",
    "        if self.transform:\n",
    "            sample = self.transform(sample)\n",
    "        if self.target_transform:\n",
    "            label = self.target_transform(label)\n",
    "        return sample, label"
   ],
   "metadata": {
    "collapsed": false,
    "ExecuteTime": {
     "end_time": "2023-10-10T11:56:08.988936900Z",
     "start_time": "2023-10-10T11:56:08.968438800Z"
    }
   },
   "id": "c843eaf2d2fe8be7"
  },
  {
   "cell_type": "code",
   "execution_count": 3,
   "outputs": [],
   "source": [
    "train_dataloader = DataLoader(StaticDataset('../data/processed_static_dataset.pkl'), batch_size=64, shuffle=True)\n",
    "#test_dataloader = DataLoader(StaticDataset('data/test.pkl'), batch_size=64, shuffle=True)"
   ],
   "metadata": {
    "collapsed": false,
    "ExecuteTime": {
     "end_time": "2023-10-10T11:56:08.989438400Z",
     "start_time": "2023-10-10T11:56:08.973938100Z"
    }
   },
   "id": "74caa4d0ea3ed4b2"
  },
  {
   "cell_type": "code",
   "execution_count": 5,
   "outputs": [
    {
     "name": "stdout",
     "output_type": "stream",
     "text": [
      "PyTorch version: 2.1.0\n",
      "**********\n",
      "_CUDA version: \n",
      "nvcc: NVIDIA (R) Cuda compiler driver\n",
      "Copyright (c) 2005-2023 NVIDIA Corporation\n",
      "Built on Tue_Jun_13_19:42:34_Pacific_Daylight_Time_2023\n",
      "Cuda compilation tools, release 12.2, V12.2.91\n",
      "Build cuda_12.2.r12.2/compiler.32965470_0\n",
      "**********\n",
      "CUDNN version: 8801\n",
      "Available GPU devices: 1\n",
      "Device Name: NVIDIA GeForce RTX 2080\n"
     ]
    }
   ],
   "source": [
    "print(f'PyTorch version: {torch.__version__}')\n",
    "print('*' * 10)\n",
    "print(f'_CUDA version: ')\n",
    "!nvcc --version\n",
    "print('*' * 10)\n",
    "print(f'CUDNN version: {torch.backends.cudnn.version()}')\n",
    "print(f'Available GPU devices: {torch.cuda.device_count()}')\n",
    "print(f'Device Name: {torch.cuda.get_device_name()}')"
   ],
   "metadata": {
    "collapsed": false,
    "ExecuteTime": {
     "end_time": "2023-10-10T11:56:10.531440800Z",
     "start_time": "2023-10-10T11:56:09.008438300Z"
    }
   },
   "id": "32d1969f8cc6aca1"
  },
  {
   "cell_type": "code",
   "execution_count": 9,
   "outputs": [
    {
     "name": "stdout",
     "output_type": "stream",
     "text": [
      "Using cuda device\n"
     ]
    }
   ],
   "source": [
    "device = (\n",
    "    \"cuda\" if torch.cuda.is_available()\n",
    "    else \"cpu\"\n",
    ")\n",
    "print(f\"Using {device} device\")"
   ],
   "metadata": {
    "collapsed": false,
    "ExecuteTime": {
     "end_time": "2023-10-10T12:01:16.803886600Z",
     "start_time": "2023-10-10T12:01:16.793389600Z"
    }
   },
   "id": "aace44d3e59a63c3"
  },
  {
   "cell_type": "code",
   "execution_count": 10,
   "outputs": [],
   "source": [
    "class NeuralNetwork(nn.Module):\n",
    "    def __init__(self, input_size, hidden_size, num_layers, dropout_prob):\n",
    "        super(NeuralNetwork, self).__init__()\n",
    "        self.dropout = nn.Dropout(dropout_prob)\n",
    "        self.num_layers = num_layers\n",
    "        self.hidden_size = hidden_size\n",
    "        self.input_size = input_size\n",
    "        self.flatten = nn.Flatten()\n",
    "        self.linear_relu_stack = nn.Sequential(\n",
    "            nn.Linear(input_size, 64),\n",
    "            nn.ReLU(),\n",
    "            nn.Linear(64, 64),\n",
    "            nn.ReLU(),\n",
    "            nn.Linear(64, 2),\n",
    "            nn.ReLU()\n",
    "        )\n",
    "\n",
    "    def forward(self, x):\n",
    "        x = self.flatten(x)\n",
    "        logits = self.linear_relu_stack(x)\n",
    "        return logits"
   ],
   "metadata": {
    "collapsed": false,
    "ExecuteTime": {
     "end_time": "2023-10-10T12:01:17.711633100Z",
     "start_time": "2023-10-10T12:01:17.701636400Z"
    }
   },
   "id": "3a87d27c212fc895"
  },
  {
   "cell_type": "code",
   "execution_count": 11,
   "outputs": [],
   "source": [
    "def train(learning_rate, hidden_size, X_train, Y_train, dropout_prob=0.2, num_epochs=10):\n",
    "    N = len(X_train)\n",
    "    batch_size = 64\n",
    "    num_batches = N // batch_size\n",
    "    input_size = X_train.shape[1]\n",
    "    model = NeuralNetwork(input_size, hidden_size, 2, dropout_prob).to(device)\n",
    "    optimizer = optim.Adam(model.parameters(), lr=learning_rate)\n",
    "    loss_fn = nn.CrossEntropyLoss()\n",
    "    for epoch in range(num_epochs):\n",
    "        for i in range(num_batches):\n",
    "            X_batch = X_train[i * batch_size:(i + 1) * batch_size]\n",
    "            Y_batch = Y_train[i * batch_size:(i + 1) * batch_size]\n",
    "            X_batch = torch.from_numpy(X_batch).float().to(device)\n",
    "            Y_batch = torch.from_numpy(Y_batch).long().to(device)\n",
    "            optimizer.zero_grad()\n",
    "            output = model(X_batch)\n",
    "            loss = loss_fn(output, Y_batch)\n",
    "            loss.backward()\n",
    "            optimizer.step()\n",
    "        print(f\"Epoch {epoch + 1}/{num_epochs} finished\")\n",
    "    return model"
   ],
   "metadata": {
    "collapsed": false,
    "ExecuteTime": {
     "end_time": "2023-10-10T12:01:19.074751500Z",
     "start_time": "2023-10-10T12:01:19.068248Z"
    }
   },
   "id": "8639047e162f0756"
  },
  {
   "cell_type": "code",
   "execution_count": 13,
   "outputs": [
    {
     "data": {
      "text/plain": "   participant1_tier  participant1_leaguePoints  participant1_veteran  \\\n0                7.1                        207                     0   \n1                6.3                         56                     0   \n2                6.3                         29                     0   \n3                6.2                         29                     0   \n4                2.4                         29                     0   \n\n   participant1_inactive  participant1_freshBlood  participant1_hotStreak  \\\n0                      0                        1                       0   \n1                      0                        0                       0   \n2                      0                        0                       0   \n3                      0                        1                       0   \n4                      0                        0                       0   \n\n   participant1_champion_lastPlayTime  participant1_champion_championLevel  \\\n0                        1.696710e+12                                  2.0   \n1                                 NaN                                  NaN   \n2                        1.696428e+12                                  7.0   \n3                        1.696905e+12                                  5.0   \n4                        1.696928e+12                                  7.0   \n\n   participant1_champion_championPoints  \\\n0                                3837.0   \n1                                   NaN   \n2                              592841.0   \n3                              482286.0   \n4                              106023.0   \n\n   participant1_champion_championPointsSinceLastLevel  ...  \\\n0                                             2037.0   ...   \n1                                                NaN   ...   \n2                                           571241.0   ...   \n3                                           460686.0   ...   \n4                                            84423.0   ...   \n\n   participant1_winrate  participant2_winrate  participant3_winrate  \\\n0              0.521912              0.645161              0.510582   \n1              0.512953              0.645161              0.494505   \n2              0.583333              0.647059              0.493976   \n3              0.565789              0.707317              0.650794   \n4              0.571429              0.547368              0.636364   \n\n   participant4_winrate  participant5_winrate  participant6_winrate  \\\n0              0.542088              0.727273              0.555556   \n1              0.497297              0.556098              0.666667   \n2              0.809524              0.542522              0.497696   \n3              0.623377              0.583333              0.645161   \n4              0.564516              0.504132              0.777778   \n\n   participant7_winrate  participant8_winrate  participant9_winrate  \\\n0              0.722222              0.516588              0.498476   \n1              0.546326              0.513382              0.533654   \n2              0.645161              0.507868              0.530233   \n3              0.503185              0.511450              0.375000   \n4              0.488889              0.598958              0.509091   \n\n   participant10_winrate  \n0               0.333333  \n1               0.505236  \n2               0.562500  \n3               0.600000  \n4               0.625000  \n\n[5 rows x 230 columns]",
      "text/html": "<div>\n<style scoped>\n    .dataframe tbody tr th:only-of-type {\n        vertical-align: middle;\n    }\n\n    .dataframe tbody tr th {\n        vertical-align: top;\n    }\n\n    .dataframe thead th {\n        text-align: right;\n    }\n</style>\n<table border=\"1\" class=\"dataframe\">\n  <thead>\n    <tr style=\"text-align: right;\">\n      <th></th>\n      <th>participant1_tier</th>\n      <th>participant1_leaguePoints</th>\n      <th>participant1_veteran</th>\n      <th>participant1_inactive</th>\n      <th>participant1_freshBlood</th>\n      <th>participant1_hotStreak</th>\n      <th>participant1_champion_lastPlayTime</th>\n      <th>participant1_champion_championLevel</th>\n      <th>participant1_champion_championPoints</th>\n      <th>participant1_champion_championPointsSinceLastLevel</th>\n      <th>...</th>\n      <th>participant1_winrate</th>\n      <th>participant2_winrate</th>\n      <th>participant3_winrate</th>\n      <th>participant4_winrate</th>\n      <th>participant5_winrate</th>\n      <th>participant6_winrate</th>\n      <th>participant7_winrate</th>\n      <th>participant8_winrate</th>\n      <th>participant9_winrate</th>\n      <th>participant10_winrate</th>\n    </tr>\n  </thead>\n  <tbody>\n    <tr>\n      <th>0</th>\n      <td>7.1</td>\n      <td>207</td>\n      <td>0</td>\n      <td>0</td>\n      <td>1</td>\n      <td>0</td>\n      <td>1.696710e+12</td>\n      <td>2.0</td>\n      <td>3837.0</td>\n      <td>2037.0</td>\n      <td>...</td>\n      <td>0.521912</td>\n      <td>0.645161</td>\n      <td>0.510582</td>\n      <td>0.542088</td>\n      <td>0.727273</td>\n      <td>0.555556</td>\n      <td>0.722222</td>\n      <td>0.516588</td>\n      <td>0.498476</td>\n      <td>0.333333</td>\n    </tr>\n    <tr>\n      <th>1</th>\n      <td>6.3</td>\n      <td>56</td>\n      <td>0</td>\n      <td>0</td>\n      <td>0</td>\n      <td>0</td>\n      <td>NaN</td>\n      <td>NaN</td>\n      <td>NaN</td>\n      <td>NaN</td>\n      <td>...</td>\n      <td>0.512953</td>\n      <td>0.645161</td>\n      <td>0.494505</td>\n      <td>0.497297</td>\n      <td>0.556098</td>\n      <td>0.666667</td>\n      <td>0.546326</td>\n      <td>0.513382</td>\n      <td>0.533654</td>\n      <td>0.505236</td>\n    </tr>\n    <tr>\n      <th>2</th>\n      <td>6.3</td>\n      <td>29</td>\n      <td>0</td>\n      <td>0</td>\n      <td>0</td>\n      <td>0</td>\n      <td>1.696428e+12</td>\n      <td>7.0</td>\n      <td>592841.0</td>\n      <td>571241.0</td>\n      <td>...</td>\n      <td>0.583333</td>\n      <td>0.647059</td>\n      <td>0.493976</td>\n      <td>0.809524</td>\n      <td>0.542522</td>\n      <td>0.497696</td>\n      <td>0.645161</td>\n      <td>0.507868</td>\n      <td>0.530233</td>\n      <td>0.562500</td>\n    </tr>\n    <tr>\n      <th>3</th>\n      <td>6.2</td>\n      <td>29</td>\n      <td>0</td>\n      <td>0</td>\n      <td>1</td>\n      <td>0</td>\n      <td>1.696905e+12</td>\n      <td>5.0</td>\n      <td>482286.0</td>\n      <td>460686.0</td>\n      <td>...</td>\n      <td>0.565789</td>\n      <td>0.707317</td>\n      <td>0.650794</td>\n      <td>0.623377</td>\n      <td>0.583333</td>\n      <td>0.645161</td>\n      <td>0.503185</td>\n      <td>0.511450</td>\n      <td>0.375000</td>\n      <td>0.600000</td>\n    </tr>\n    <tr>\n      <th>4</th>\n      <td>2.4</td>\n      <td>29</td>\n      <td>0</td>\n      <td>0</td>\n      <td>0</td>\n      <td>0</td>\n      <td>1.696928e+12</td>\n      <td>7.0</td>\n      <td>106023.0</td>\n      <td>84423.0</td>\n      <td>...</td>\n      <td>0.571429</td>\n      <td>0.547368</td>\n      <td>0.636364</td>\n      <td>0.564516</td>\n      <td>0.504132</td>\n      <td>0.777778</td>\n      <td>0.488889</td>\n      <td>0.598958</td>\n      <td>0.509091</td>\n      <td>0.625000</td>\n    </tr>\n  </tbody>\n</table>\n<p>5 rows × 230 columns</p>\n</div>"
     },
     "execution_count": 13,
     "metadata": {},
     "output_type": "execute_result"
    }
   ],
   "source": [
    "X_train = pd.read_pickle('../data/processed_static_dataset.pkl').iloc[:, 1:].values\n",
    "X_train.head()"
   ],
   "metadata": {
    "collapsed": false,
    "ExecuteTime": {
     "end_time": "2023-10-10T12:03:33.134326100Z",
     "start_time": "2023-10-10T12:03:33.090324400Z"
    }
   },
   "id": "54d8f7c6565db350"
  },
  {
   "cell_type": "code",
   "execution_count": 8,
   "outputs": [],
   "source": [
    "train(0.001, 64, X_train, Y_train, num_epochs=10)"
   ],
   "metadata": {
    "collapsed": false,
    "ExecuteTime": {
     "end_time": "2023-10-10T11:56:10.615438100Z",
     "start_time": "2023-10-10T11:56:10.611441500Z"
    }
   },
   "id": "63223f3b223d001a"
  }
 ],
 "metadata": {
  "kernelspec": {
   "display_name": "Python 3",
   "language": "python",
   "name": "python3"
  },
  "language_info": {
   "codemirror_mode": {
    "name": "ipython",
    "version": 2
   },
   "file_extension": ".py",
   "mimetype": "text/x-python",
   "name": "python",
   "nbconvert_exporter": "python",
   "pygments_lexer": "ipython2",
   "version": "2.7.6"
  }
 },
 "nbformat": 4,
 "nbformat_minor": 5
}
