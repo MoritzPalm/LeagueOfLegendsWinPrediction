{
 "cells": [
  {
   "cell_type": "code",
   "execution_count": 1,
   "id": "initial_id",
   "metadata": {
    "collapsed": true,
    "ExecuteTime": {
     "end_time": "2024-01-17T17:08:37.811800Z",
     "start_time": "2024-01-17T17:08:36.819825Z"
    }
   },
   "outputs": [],
   "source": [
    "import pandas as pd\n",
    "import numpy as np\n",
    "import matplotlib.pyplot as plt\n",
    "import seaborn as sns\n",
    "import matplotlib\n",
    "from sklearn.metrics import confusion_matrix, classification_report, roc_auc_score, roc_curve, auc, RocCurveDisplay"
   ]
  },
  {
   "cell_type": "code",
   "execution_count": 2,
   "outputs": [],
   "source": [
    "matplotlib.use(\"pgf\")\n",
    "matplotlib.rcParams.update({\n",
    "    \"pgf.texsystem\": \"pdflatex\",\n",
    "    'font.family': 'serif',\n",
    "    'text.usetex': True,\n",
    "    'pgf.rcfonts': False,\n",
    "})"
   ],
   "metadata": {
    "collapsed": false,
    "ExecuteTime": {
     "end_time": "2024-01-17T17:08:39.425727Z",
     "start_time": "2024-01-17T17:08:37.810426Z"
    }
   },
   "id": "831b7552ba13741a"
  },
  {
   "cell_type": "code",
   "execution_count": 3,
   "outputs": [],
   "source": [
    "cm = [[1180,  751], [ 409, 1660]]"
   ],
   "metadata": {
    "collapsed": false,
    "ExecuteTime": {
     "end_time": "2024-01-17T17:08:42.005922Z",
     "start_time": "2024-01-17T17:08:41.996150Z"
    }
   },
   "id": "d81badbcdd1143c5"
  },
  {
   "cell_type": "code",
   "execution_count": 5,
   "outputs": [],
   "source": [
    "sns.heatmap(cm, annot=True, fmt='d', cmap='Blues')\n",
    "plt.xlabel('Predicted')\n",
    "plt.ylabel('True')\n",
    "plt.title('Confusion Matrix')\n",
    "plt.tight_layout()\n",
    "plt.savefig('../../thesis/images/staticcm.pgf', bbox_inches='tight')"
   ],
   "metadata": {
    "collapsed": false,
    "ExecuteTime": {
     "end_time": "2024-01-17T17:12:36.159284Z",
     "start_time": "2024-01-17T17:12:35.613608Z"
    }
   },
   "id": "29a2cce3c7d7fad6"
  },
  {
   "cell_type": "code",
   "execution_count": null,
   "outputs": [],
   "source": [
    "fpr_static = pd.read_csv('./static/results_data/fpr_table.csv')\n",
    "fpr_static.head()"
   ],
   "metadata": {
    "collapsed": false
   },
   "id": "bc5208e291f55a14"
  },
  {
   "cell_type": "code",
   "execution_count": null,
   "outputs": [],
   "source": [
    "tpr_static = pd.read_csv('./static/results_data/tpr_table.csv')"
   ],
   "metadata": {
    "collapsed": false
   },
   "id": "c188762d9162fcb8"
  },
  {
   "cell_type": "code",
   "execution_count": null,
   "outputs": [],
   "source": [
    "auc_static = auc(fpr_static, tpr_static)\n",
    "auc_static"
   ],
   "metadata": {
    "collapsed": false
   },
   "id": "f5780ccd3700107c"
  },
  {
   "cell_type": "code",
   "execution_count": null,
   "outputs": [],
   "source": [
    "fpr_timeline = pd.read_csv('./timeline/results_data/fpr_table.csv')\n",
    "tpr_timeline = pd.read_csv('./timeline/results_data/tpr_table.csv')\n",
    "auc_timeline = auc(fpr_timeline, tpr_timeline)\n",
    "auc_timeline"
   ],
   "metadata": {
    "collapsed": false
   },
   "id": "f247171cf8582e2"
  },
  {
   "cell_type": "code",
   "execution_count": null,
   "outputs": [],
   "source": [
    "plt.plot(fpr_static, tpr_static, label=f'Pre-Game (AUC = {auc_static:.2f})')\n",
    "plt.plot(fpr_timeline, tpr_timeline, label=f'In-Game (AUC = {auc_timeline:.2f})')\n",
    "plt.plot([0, 1], [0, 1], color='gray', linestyle='--')\n",
    "plt.title('Receiver Operating Characteristic')\n",
    "plt.ylabel('True Positive Rate')\n",
    "plt.xlabel('False Positive Rate')\n",
    "plt.tight_layout()\n",
    "plt.legend(loc='lower right')\n",
    "#plt.savefig('../../thesis/images/roc.pgf')"
   ],
   "metadata": {
    "collapsed": false
   },
   "id": "867b404ab9cc0c40"
  },
  {
   "cell_type": "code",
   "execution_count": null,
   "outputs": [],
   "source": [],
   "metadata": {
    "collapsed": false
   },
   "id": "9d272caa39c60c37"
  }
 ],
 "metadata": {
  "kernelspec": {
   "display_name": "Python 3",
   "language": "python",
   "name": "python3"
  },
  "language_info": {
   "codemirror_mode": {
    "name": "ipython",
    "version": 2
   },
   "file_extension": ".py",
   "mimetype": "text/x-python",
   "name": "python",
   "nbconvert_exporter": "python",
   "pygments_lexer": "ipython2",
   "version": "2.7.6"
  }
 },
 "nbformat": 4,
 "nbformat_minor": 5
}
