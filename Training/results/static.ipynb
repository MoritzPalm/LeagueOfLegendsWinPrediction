{
 "cells": [
  {
   "cell_type": "code",
   "execution_count": 1,
   "id": "initial_id",
   "metadata": {
    "collapsed": true,
    "ExecuteTime": {
     "end_time": "2024-01-28T08:21:45.086490Z",
     "start_time": "2024-01-28T08:21:44.860714Z"
    }
   },
   "outputs": [],
   "source": [
    "import pandas as pd\n",
    "import numpy as np\n",
    "import matplotlib.pyplot as plt\n",
    "import seaborn as sns\n",
    "import matplotlib\n",
    "from sklearn.metrics import confusion_matrix, classification_report, roc_auc_score, roc_curve, auc, RocCurveDisplay"
   ]
  },
  {
   "cell_type": "code",
   "execution_count": 8,
   "outputs": [],
   "source": [
    "matplotlib.use(\"pgf\")\n",
    "#plt.rcParams['text.latex.preamble']=r\"\\usepackage{lmodern}\"\n",
    "plt.rcParams.update({\n",
    "    \"pgf.texsystem\": \"pdflatex\",\n",
    "    'text.usetex': True,\n",
    "    'pgf.rcfonts': False,\n",
    "    #'font.family' : 'lmodern',\n",
    "    #\"pgf.preamble\": \"\\n\".join([r\"\\usepackage{lmodern}\"])\n",
    "     'font.family': 'serif',\n",
    "\n",
    "})"
   ],
   "metadata": {
    "collapsed": false,
    "ExecuteTime": {
     "end_time": "2024-01-28T08:23:56.810172Z",
     "start_time": "2024-01-28T08:23:56.797428Z"
    }
   },
   "id": "831b7552ba13741a"
  },
  {
   "cell_type": "code",
   "execution_count": 9,
   "outputs": [],
   "source": [
    "def set_size(width, fraction=1):\n",
    "    \"\"\"Set figure dimensions to avoid scaling in LaTeX.\n",
    "\n",
    "    Parameters\n",
    "    ----------\n",
    "    width: float\n",
    "            Document textwidth or columnwidth in pts\n",
    "    fraction: float, optional\n",
    "            Fraction of the width which you wish the figure to occupy\n",
    "\n",
    "    Returns\n",
    "    -------\n",
    "    fig_dim: tuple\n",
    "            Dimensions of figure in inches\n",
    "    \"\"\"\n",
    "    # Width of figure (in pts)\n",
    "    fig_width_pt = width * fraction\n",
    "\n",
    "    # Convert from pt to inches\n",
    "    inches_per_pt = 1 / 72.27\n",
    "\n",
    "    # Golden ratio to set aesthetic figure height\n",
    "    # https://disq.us/p/2940ij3\n",
    "    golden_ratio = (5**.5 - 1) / 2\n",
    "\n",
    "    # Figure width in inches\n",
    "    fig_width_in = fig_width_pt * inches_per_pt\n",
    "    # Figure height in inches\n",
    "    fig_height_in = fig_width_in * golden_ratio\n",
    "\n",
    "    fig_dim = (fig_width_in, fig_height_in)\n",
    "\n",
    "    return fig_dim\n"
   ],
   "metadata": {
    "collapsed": false,
    "ExecuteTime": {
     "end_time": "2024-01-28T08:23:57.008925Z",
     "start_time": "2024-01-28T08:23:56.998400Z"
    }
   },
   "id": "ab803d62dc2e07e2"
  },
  {
   "cell_type": "code",
   "execution_count": 10,
   "outputs": [],
   "source": [
    "width = 441"
   ],
   "metadata": {
    "collapsed": false,
    "ExecuteTime": {
     "end_time": "2024-01-28T08:23:57.226781Z",
     "start_time": "2024-01-28T08:23:57.211359Z"
    }
   },
   "id": "3fc4eee06520f608"
  },
  {
   "cell_type": "code",
   "execution_count": 11,
   "outputs": [
    {
     "data": {
      "text/plain": "[[0.295, 0.18775], [0.10225, 0.415]]"
     },
     "execution_count": 11,
     "metadata": {},
     "output_type": "execute_result"
    }
   ],
   "source": [
    "cm_static = [[1180,  751], [ 409, 1660]]\n",
    "number_of_static = sum([sum(row) for row in cm_static])\n",
    "cm_static = [[x / number_of_static for x in row] for row in cm_static]\n",
    "cm_static"
   ],
   "metadata": {
    "collapsed": false,
    "ExecuteTime": {
     "end_time": "2024-01-28T08:23:57.382106Z",
     "start_time": "2024-01-28T08:23:57.371430Z"
    }
   },
   "id": "3a3ebe3129e88bb8"
  },
  {
   "cell_type": "code",
   "execution_count": 12,
   "outputs": [
    {
     "data": {
      "text/plain": "[[0.40521564694082246, 0.12236710130391174],\n [0.1424272818455366, 0.3299899699097292]]"
     },
     "execution_count": 12,
     "metadata": {},
     "output_type": "execute_result"
    }
   ],
   "source": [
    "\n",
    "cm_timeline = [[6471, 1961], [2281, 5271]]\n",
    "cm_timeline = [[x // 16 for x in row] for row in cm_timeline ]\n",
    "number_of_timeline = sum([sum(row) for row in cm_timeline])\n",
    "cm_timeline = [[x / number_of_timeline for x in row] for row in cm_timeline]\n",
    "cm_timeline"
   ],
   "metadata": {
    "collapsed": false,
    "ExecuteTime": {
     "end_time": "2024-01-28T08:23:57.567017Z",
     "start_time": "2024-01-28T08:23:57.556361Z"
    }
   },
   "id": "d81badbcdd1143c5"
  },
  {
   "cell_type": "code",
   "execution_count": 13,
   "outputs": [],
   "source": [
    "fig, (ax1, ax2) = plt.subplots(1, 2, figsize=set_size(width, fraction=1))\n",
    "sns.heatmap(cm_static, annot=True,  cmap='Blues', cbar=False, ax=ax1)\n",
    "ax1.set_title('Confusion Matrix for Pre-Game Model')\n",
    "ax1.set_xlabel('Predicted')\n",
    "ax1.set_ylabel('Actual')\n",
    "\n",
    "sns.heatmap(cm_timeline, annot=True,  cmap='Blues', cbar=False, ax=ax2)\n",
    "ax2.set_title('Confusion Matrix for In-Game Model')\n",
    "ax2.set_xlabel('Predicted')\n",
    "ax2.set_ylabel('Actual')\n",
    "plt.tight_layout()\n",
    "plt.savefig('../../thesis/images/staticcm.pgf', bbox_inches='tight', dpi=1000)"
   ],
   "metadata": {
    "collapsed": false,
    "ExecuteTime": {
     "end_time": "2024-01-28T08:23:58.158413Z",
     "start_time": "2024-01-28T08:23:57.737417Z"
    }
   },
   "id": "29a2cce3c7d7fad6"
  },
  {
   "cell_type": "code",
   "execution_count": 14,
   "outputs": [
    {
     "data": {
      "text/plain": "          0\n0  0.000000\n1  0.000000\n2  0.000000\n3  0.000518\n4  0.000518",
      "text/html": "<div>\n<style scoped>\n    .dataframe tbody tr th:only-of-type {\n        vertical-align: middle;\n    }\n\n    .dataframe tbody tr th {\n        vertical-align: top;\n    }\n\n    .dataframe thead th {\n        text-align: right;\n    }\n</style>\n<table border=\"1\" class=\"dataframe\">\n  <thead>\n    <tr style=\"text-align: right;\">\n      <th></th>\n      <th>0</th>\n    </tr>\n  </thead>\n  <tbody>\n    <tr>\n      <th>0</th>\n      <td>0.000000</td>\n    </tr>\n    <tr>\n      <th>1</th>\n      <td>0.000000</td>\n    </tr>\n    <tr>\n      <th>2</th>\n      <td>0.000000</td>\n    </tr>\n    <tr>\n      <th>3</th>\n      <td>0.000518</td>\n    </tr>\n    <tr>\n      <th>4</th>\n      <td>0.000518</td>\n    </tr>\n  </tbody>\n</table>\n</div>"
     },
     "execution_count": 14,
     "metadata": {},
     "output_type": "execute_result"
    }
   ],
   "source": [
    "fpr_static = pd.read_csv('./static/results_data/fpr_table.csv')\n",
    "fpr_static.head()"
   ],
   "metadata": {
    "collapsed": false,
    "ExecuteTime": {
     "end_time": "2024-01-28T08:23:58.278279Z",
     "start_time": "2024-01-28T08:23:58.235321Z"
    }
   },
   "id": "bc5208e291f55a14"
  },
  {
   "cell_type": "code",
   "execution_count": 7,
   "outputs": [],
   "source": [
    "tpr_static = pd.read_csv('./static/results_data/tpr_table.csv')"
   ],
   "metadata": {
    "collapsed": false,
    "ExecuteTime": {
     "end_time": "2024-01-18T16:35:56.652706Z",
     "start_time": "2024-01-18T16:35:56.638857Z"
    }
   },
   "id": "c188762d9162fcb8"
  },
  {
   "cell_type": "code",
   "execution_count": 8,
   "outputs": [
    {
     "data": {
      "text/plain": "0.7867171400759755"
     },
     "execution_count": 8,
     "metadata": {},
     "output_type": "execute_result"
    }
   ],
   "source": [
    "auc_static = auc(fpr_static, tpr_static)\n",
    "auc_static"
   ],
   "metadata": {
    "collapsed": false,
    "ExecuteTime": {
     "end_time": "2024-01-18T16:35:57.173380Z",
     "start_time": "2024-01-18T16:35:57.163380Z"
    }
   },
   "id": "f5780ccd3700107c"
  },
  {
   "cell_type": "code",
   "execution_count": 9,
   "outputs": [
    {
     "data": {
      "text/plain": "0.808864657916372"
     },
     "execution_count": 9,
     "metadata": {},
     "output_type": "execute_result"
    }
   ],
   "source": [
    "fpr_timeline = pd.read_csv('./timeline/results_data/fpr_table.csv')\n",
    "tpr_timeline = pd.read_csv('./timeline/results_data/tpr_table.csv')\n",
    "auc_timeline = auc(fpr_timeline, tpr_timeline)\n",
    "auc_timeline"
   ],
   "metadata": {
    "collapsed": false,
    "ExecuteTime": {
     "end_time": "2024-01-18T16:35:57.753089Z",
     "start_time": "2024-01-18T16:35:57.723417Z"
    }
   },
   "id": "f247171cf8582e2"
  },
  {
   "cell_type": "code",
   "execution_count": 12,
   "outputs": [],
   "source": [
    "plt.plot(fpr_static, tpr_static, label=f'Pre-Game (AUC = {auc_static:.2f})')\n",
    "plt.plot(fpr_timeline, tpr_timeline, label=f'In-Game (AUC = {auc_timeline:.2f})')\n",
    "plt.plot([0, 1], [0, 1], color='gray', linestyle='--')\n",
    "plt.title('Receiver Operating Characteristic')\n",
    "plt.ylabel('True Positive Rate')\n",
    "plt.xlabel('False Positive Rate')\n",
    "plt.tight_layout()\n",
    "plt.legend(loc='lower right')\n",
    "plt.savefig('../../thesis/images/roc.pgf')"
   ],
   "metadata": {
    "collapsed": false,
    "ExecuteTime": {
     "end_time": "2024-01-18T16:36:42.300359Z",
     "start_time": "2024-01-18T16:36:40.974176Z"
    }
   },
   "id": "867b404ab9cc0c40"
  },
  {
   "cell_type": "code",
   "execution_count": null,
   "outputs": [],
   "source": [],
   "metadata": {
    "collapsed": false
   },
   "id": "9d272caa39c60c37"
  }
 ],
 "metadata": {
  "kernelspec": {
   "display_name": "Python 3",
   "language": "python",
   "name": "python3"
  },
  "language_info": {
   "codemirror_mode": {
    "name": "ipython",
    "version": 2
   },
   "file_extension": ".py",
   "mimetype": "text/x-python",
   "name": "python",
   "nbconvert_exporter": "python",
   "pygments_lexer": "ipython2",
   "version": "2.7.6"
  }
 },
 "nbformat": 4,
 "nbformat_minor": 5
}
