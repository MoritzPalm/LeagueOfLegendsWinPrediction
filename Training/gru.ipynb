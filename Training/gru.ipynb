{
 "cells": [
  {
   "cell_type": "code",
   "execution_count": 18,
   "metadata": {
    "collapsed": true,
    "ExecuteTime": {
     "end_time": "2023-11-07T09:03:28.615416100Z",
     "start_time": "2023-11-07T09:03:28.372563100Z"
    }
   },
   "outputs": [
    {
     "data": {
      "text/plain": "True"
     },
     "execution_count": 18,
     "metadata": {},
     "output_type": "execute_result"
    }
   ],
   "source": [
    "import numpy as np\n",
    "import pandas as pd\n",
    "import torch\n",
    "from torch.utils.data import Dataset, DataLoader\n",
    "from torch.nn import functional as F\n",
    "from torch.autograd import Variable\n",
    "from torch import Tensor, optim, nn\n",
    "import wandb\n",
    "from tqdm import tqdm\n",
    "from sklearn.metrics import classification_report\n",
    "\n",
    "wandb.login()"
   ]
  },
  {
   "cell_type": "code",
   "execution_count": 19,
   "outputs": [],
   "source": [
    "config = {\n",
    "    \"learning_rate\": 0.01,\n",
    "    \"architecture\": \"GRU\",\n",
    "    \"dataset\": \"timeline_1.0\",\n",
    "    \"epochs\": 50,\n",
    "    \"classes\": 2,\n",
    "    \"batch_size\": 128,\n",
    "    \"num_layers\": 2,\n",
    "    \"hidden_size\": 64,\n",
    "    \"dropout_prob\": 0.5,\n",
    "    \"input_size\": 381,\n",
    "    \"output_size\": 1,\n",
    "    \"optimizer\": \"Adam\",\n",
    "    \"loss\": \"CrossEntropyLoss\",\n",
    "    \"activation\": \"ReLU\",\n",
    "    \"initializer\": \"Xavier\",\n",
    "    \"regularization\": \"L2\",\n",
    "    \"regularization_lambda\": 0.01,\n",
    "    \"gru_layers\": 1,\n",
    "    \"sequence_length\": 16,\n",
    "\n",
    "}"
   ],
   "metadata": {
    "collapsed": false,
    "ExecuteTime": {
     "end_time": "2023-11-07T09:03:28.615416100Z",
     "start_time": "2023-11-07T09:03:28.379106400Z"
    }
   }
  },
  {
   "cell_type": "code",
   "execution_count": 20,
   "outputs": [],
   "source": [
    "def model_pipeline(hyperparameters):\n",
    "    with wandb.init(project=\"leaguify\", config=hyperparameters):\n",
    "        # access all HPs through wandb.config, so logging matches execution!\n",
    "        config = wandb.config\n",
    "\n",
    "        # make the model, data, and optimization problem\n",
    "        model, train_loader, val_loader, test_loader, criterion, optimizer = make(config)\n",
    "        print(model)\n",
    "\n",
    "        # and use them to train the model\n",
    "        train(model, train_loader, val_loader, criterion, optimizer, config)\n",
    "\n",
    "        # and test its final performance\n",
    "        test(model, val_loader, 'val')\n",
    "        test(model, test_loader, 'test')\n",
    "    return model"
   ],
   "metadata": {
    "collapsed": false,
    "ExecuteTime": {
     "end_time": "2023-11-07T09:03:28.616414800Z",
     "start_time": "2023-11-07T09:03:28.384057800Z"
    }
   }
  },
  {
   "cell_type": "code",
   "execution_count": 21,
   "outputs": [],
   "source": [
    "class TimelineDataset(Dataset):\n",
    "    def __init__(self, data_dir, sequence_length, transform=None, target_transform=None):\n",
    "        self.data = torch.tensor(np.load(data_dir)[:, :-1], dtype=torch.float32, device=device)\n",
    "        self.labels = torch.tensor(np.load(data_dir)[:, -1], dtype=torch.int64, device=device)\n",
    "        self.sequence_length = sequence_length\n",
    "        self.transform = transform\n",
    "        self.target_transform = target_transform\n",
    "\n",
    "    def __len__(self):\n",
    "        return len(self.data) - self.sequence_length\n",
    "\n",
    "    def __getitem__(self, idx):\n",
    "        sample = self.data[idx:idx + self.sequence_length, :]\n",
    "        label = self.labels[idx]\n",
    "        if self.transform:\n",
    "            sample = self.transform(sample)\n",
    "        if self.target_transform:\n",
    "            label = self.target_transform(label)\n",
    "        return sample, label"
   ],
   "metadata": {
    "collapsed": false,
    "ExecuteTime": {
     "end_time": "2023-11-07T09:03:28.616414800Z",
     "start_time": "2023-11-07T09:03:28.388893300Z"
    }
   }
  },
  {
   "cell_type": "code",
   "execution_count": 22,
   "outputs": [],
   "source": [
    "def make(config):\n",
    "    train = get_train_data(sequence_length=config.sequence_length)\n",
    "    val = get_val_data(sequence_length=config.sequence_length)\n",
    "    test = get_test_data(sequence_length=config.sequence_length)\n",
    "    train_loader = make_loader(train, batch_size=config.batch_size)\n",
    "    val_loader = make_loader(val, batch_size=config.batch_size)\n",
    "    test_loader = make_loader(test, batch_size=config.batch_size)\n",
    "\n",
    "    model = GRU(config.input_size, config.hidden_size, config.classes, config.num_layers, config\n",
    "                .gru_layers, drop_prob=config.dropout_prob).to(device)\n",
    "    criterion = nn.CrossEntropyLoss()\n",
    "    optimizer = optim.Adam(model.parameters(), lr=config.learning_rate)\n",
    "\n",
    "    return model, train_loader, val_loader, test_loader, criterion, optimizer"
   ],
   "metadata": {
    "collapsed": false,
    "ExecuteTime": {
     "end_time": "2023-11-07T09:03:28.787476300Z",
     "start_time": "2023-11-07T09:03:28.395411900Z"
    }
   }
  },
  {
   "cell_type": "code",
   "execution_count": 23,
   "outputs": [],
   "source": [
    "def get_train_data(sequence_length=16) -> (torch.utils.data.Dataset, torch.utils.data.Dataset):\n",
    "    dataset = TimelineDataset('../data/processed/train_timeline.npy', sequence_length)\n",
    "    return dataset"
   ],
   "metadata": {
    "collapsed": false,
    "ExecuteTime": {
     "end_time": "2023-11-07T09:03:28.896536300Z",
     "start_time": "2023-11-07T09:03:28.399095900Z"
    }
   }
  },
  {
   "cell_type": "code",
   "execution_count": 24,
   "outputs": [],
   "source": [
    "def get_val_data(sequence_length=16):\n",
    "    \"\"\"\n",
    "    Get the validation data\n",
    "    :param sequence_length: \n",
    "    :return: \n",
    "    \"\"\"\n",
    "    dataset = TimelineDataset('../data/processed/val_timeline.npy', sequence_length)\n",
    "    return dataset"
   ],
   "metadata": {
    "collapsed": false,
    "ExecuteTime": {
     "end_time": "2023-11-07T09:03:28.896536300Z",
     "start_time": "2023-11-07T09:03:28.403078300Z"
    }
   }
  },
  {
   "cell_type": "code",
   "execution_count": 25,
   "outputs": [],
   "source": [
    "def check_correct_split(full_dataset, train_data, val_data, sequence_length=16):\n",
    "    \"\"\"\n",
    "    Check that the train/val split is correct and no data is leaked between the two\n",
    "    appends both datasets together, removes duplicates and checks that the original dataset is the same as the combined\n",
    "    :param full_dataset: \n",
    "    :param train_data: \n",
    "    :param val_data: \n",
    "    :param sequence_length: \n",
    "    :return: \n",
    "    \"\"\"\n",
    "    len_combined = len(full_dataset)\n",
    "    full_no_dup = torch.unique(full_dataset, dim=0)\n",
    "    len_no_dup = len(full_no_dup)\n",
    "    original = TimelineDataset('../data/processed/train_timeline.npy', sequence_length)\n",
    "    len_original = len(original)\n",
    "    print(f'len_combined: {len_combined}, len_no_dup: {len_no_dup}, len_original: {len_original}')\n",
    "    assert len_combined == len_no_dup\n",
    "    assert len_original == len_combined\n",
    "\n"
   ],
   "metadata": {
    "collapsed": false,
    "ExecuteTime": {
     "end_time": "2023-11-07T09:03:28.897535700Z",
     "start_time": "2023-11-07T09:03:28.408089800Z"
    }
   }
  },
  {
   "cell_type": "code",
   "execution_count": 26,
   "outputs": [],
   "source": [
    "def get_test_data(sequence_length=16):\n",
    "    full_dataset = TimelineDataset('../data/processed/test_timeline.npy', sequence_length)\n",
    "    return full_dataset"
   ],
   "metadata": {
    "collapsed": false,
    "ExecuteTime": {
     "end_time": "2023-11-07T09:03:28.897535700Z",
     "start_time": "2023-11-07T09:03:28.411450900Z"
    }
   }
  },
  {
   "cell_type": "code",
   "execution_count": 27,
   "outputs": [],
   "source": [
    "def make_loader(dataset, batch_size=64):\n",
    "    return DataLoader(dataset, batch_size=batch_size, num_workers=0, drop_last=False)"
   ],
   "metadata": {
    "collapsed": false,
    "ExecuteTime": {
     "end_time": "2023-11-07T09:03:28.897535700Z",
     "start_time": "2023-11-07T09:03:28.415510300Z"
    }
   }
  },
  {
   "cell_type": "code",
   "execution_count": 28,
   "outputs": [
    {
     "name": "stdout",
     "output_type": "stream",
     "text": [
      "PyTorch version: 2.1.0+cu121\n",
      "**********\n",
      "_CUDA version: \n",
      "nvcc: NVIDIA (R) Cuda compiler driver\n",
      "Copyright (c) 2005-2023 NVIDIA Corporation\n",
      "Built on Tue_Aug_15_22:09:35_Pacific_Daylight_Time_2023\n",
      "Cuda compilation tools, release 12.2, V12.2.140\n",
      "Build cuda_12.2.r12.2/compiler.33191640_0\n",
      "**********\n",
      "CUDNN version: 8801\n",
      "Available GPU devices: 1\n",
      "Device Name: NVIDIA GeForce RTX 2080\n",
      "Using cuda device\n"
     ]
    }
   ],
   "source": [
    "device = (\n",
    "    \"cuda\" if torch.cuda.is_available()\n",
    "    else \"cpu\"\n",
    ")\n",
    "if torch.cuda.is_available():\n",
    "    print(f'PyTorch version: {torch.__version__}')\n",
    "    print('*' * 10)\n",
    "    print(f'_CUDA version: ')\n",
    "    !nvcc --version\n",
    "    print('*' * 10)\n",
    "    print(f'CUDNN version: {torch.backends.cudnn.version()}')\n",
    "    print(f'Available GPU devices: {torch.cuda.device_count()}')\n",
    "    print(f'Device Name: {torch.cuda.get_device_name()}')\n",
    "print(f\"Using {device} device\")"
   ],
   "metadata": {
    "collapsed": false,
    "ExecuteTime": {
     "end_time": "2023-11-07T09:03:28.897535700Z",
     "start_time": "2023-11-07T09:03:28.420572500Z"
    }
   }
  },
  {
   "cell_type": "code",
   "execution_count": 29,
   "outputs": [],
   "source": [
    "class GRU(nn.Module):\n",
    "    def __init__(self, input_dim, hidden_dim, output_dim, n_layers, gru_layers, drop_prob=0.2):\n",
    "        super(GRU, self).__init__()\n",
    "        self.hidden_dim = hidden_dim\n",
    "        self.n_layers = n_layers\n",
    "        self.gru = nn.GRU(input_dim, hidden_dim, gru_layers, batch_first=True, dropout=drop_prob)\n",
    "        self.gru2 = nn.GRU(hidden_dim, hidden_dim, gru_layers, batch_first=True, dropout=drop_prob)\n",
    "        self.fc = nn.Linear(hidden_dim, output_dim)\n",
    "        self.relu = nn.ReLU()\n",
    "\n",
    "    def forward(self, x, h=None):\n",
    "        out, h = self.gru(x, h)\n",
    "        out, h = self.gru2(out, h)\n",
    "        out = self.fc(self.relu(out[:, -1]))\n",
    "        return out, h\n",
    "\n",
    "    def init_hidden(self, batch_size):\n",
    "        weight = next(self.parameters()).data\n",
    "        hidden = weight.new(1, batch_size, self.hidden_dim).zero_().to(device)\n",
    "        return hidden"
   ],
   "metadata": {
    "collapsed": false,
    "ExecuteTime": {
     "end_time": "2023-11-07T09:03:28.898536Z",
     "start_time": "2023-11-07T09:03:28.486028900Z"
    }
   }
  },
  {
   "cell_type": "code",
   "execution_count": 30,
   "outputs": [],
   "source": [
    "def train(model, train_loader, val_loader, criterion, optimizer, config):\n",
    "    wandb.watch(model, criterion, log='all', log_freq=10)\n",
    "\n",
    "    total_batches = len(train_loader) * config.epochs\n",
    "    example_count = 0\n",
    "    batch_count = 0\n",
    "    loss_vals = []\n",
    "    for epoch in tqdm(range(config.epochs)):\n",
    "        print(f'Epoch: {epoch}')\n",
    "        tested = False\n",
    "        h = model.init_hidden(config.batch_size)\n",
    "        for _, (matches, labels) in enumerate(train_loader):\n",
    "            model.train()\n",
    "            output, h = model(matches)  # hidden state is not passed to re-init at each batch\n",
    "            loss = criterion(output, labels)\n",
    "            optimizer.zero_grad()\n",
    "            loss.backward()\n",
    "            optimizer.step()\n",
    "            example_count += len(matches)\n",
    "            batch_count += 1\n",
    "            if (batch_count + 1) % 25 == 0:\n",
    "                if not tested:\n",
    "                    train_log(loss, example_count, epoch, val_loader, model, to_test=True, train_loader=train_loader)\n",
    "                    tested = True\n",
    "                else:\n",
    "                    train_log(loss, example_count, epoch, val_loader, model, to_test=False)"
   ],
   "metadata": {
    "collapsed": false,
    "ExecuteTime": {
     "end_time": "2023-11-07T09:03:28.898536Z",
     "start_time": "2023-11-07T09:03:28.492215200Z"
    }
   }
  },
  {
   "cell_type": "code",
   "execution_count": 31,
   "outputs": [],
   "source": [
    "def train_log(loss, example_count, epoch, val_loader, model, to_test=False, train_loader=None):\n",
    "    if to_test:\n",
    "        val_acc = test(model, val_loader, 'val')\n",
    "        train_acc = test(model, train_loader, 'train')\n",
    "        wandb.log({\"epoch\": epoch, \"val_accuracy\": val_acc, \"train_accuracy\": train_acc}, step=example_count)\n",
    "    wandb.log({\"epoch\": epoch, \"train_loss\": loss}, step=example_count)\n",
    "    print(f\"Loss after {str(example_count).zfill(5)} examples: {loss:.3f}\")"
   ],
   "metadata": {
    "collapsed": false,
    "ExecuteTime": {
     "end_time": "2023-11-07T09:03:28.898536Z",
     "start_time": "2023-11-07T09:03:28.499844200Z"
    }
   }
  },
  {
   "cell_type": "code",
   "execution_count": 32,
   "outputs": [
    {
     "name": "stdout",
     "output_type": "stream",
     "text": [
      "train_data: 38128\n",
      "val_data: 12688\n"
     ]
    }
   ],
   "source": [
    "train_data = get_train_data(sequence_length=16)\n",
    "val_data = get_val_data(sequence_length=16)\n",
    "print(f'train_data: {len(train_data)}')\n",
    "print(f'val_data: {len(val_data)}')\n",
    "for matches, labels in make_loader(val_data, batch_size=1):\n",
    "    if matches.shape[1] != 16:\n",
    "        print(f'matches: {matches.shape}, labels: {labels.shape}')"
   ],
   "metadata": {
    "collapsed": false,
    "ExecuteTime": {
     "end_time": "2023-11-07T09:03:30.188671600Z",
     "start_time": "2023-11-07T09:03:28.502364600Z"
    }
   }
  },
  {
   "cell_type": "code",
   "execution_count": 33,
   "outputs": [],
   "source": [
    "def test(model, loader, loader_name='val'):\n",
    "    # Run the model on some test examples\n",
    "    with torch.no_grad():\n",
    "        correct, total = 0, 0\n",
    "        y_pred, y_true = [], []\n",
    "        for matches, labels in loader:\n",
    "            matches, labels = matches.to(device), labels.to(device)\n",
    "            model.eval()\n",
    "            output, h = model(matches)\n",
    "            _, predicted = torch.max(output, 1)\n",
    "            y_pred.extend(predicted.cpu().numpy())\n",
    "            y_true.extend(labels.cpu().numpy())\n",
    "            total += labels.size(0)\n",
    "            correct += (predicted == labels).sum().item()\n",
    "        print(classification_report(y_true, y_pred))\n",
    "        print(f\"Accuracy of the model on the {total} \" +\n",
    "              f\"{loader_name} matches: {correct / total:%}\")\n",
    "\n",
    "        wandb.log({f\"{loader_name}_accuracy\": correct / total})\n",
    "    return correct / total"
   ],
   "metadata": {
    "collapsed": false,
    "ExecuteTime": {
     "end_time": "2023-11-07T09:03:30.249428100Z",
     "start_time": "2023-11-07T09:03:30.191673500Z"
    }
   }
  },
  {
   "cell_type": "code",
   "execution_count": 34,
   "outputs": [
    {
     "data": {
      "text/plain": "<IPython.core.display.HTML object>",
      "text/html": "Tracking run with wandb version 0.15.12"
     },
     "metadata": {},
     "output_type": "display_data"
    },
    {
     "data": {
      "text/plain": "<IPython.core.display.HTML object>",
      "text/html": "Run data is saved locally in <code>C:\\Users\\morit\\Documents\\Informatik\\Projekte\\LeagueOfLegendsWinPrediction\\Training\\wandb\\run-20231107_100330-5l6g6syh</code>"
     },
     "metadata": {},
     "output_type": "display_data"
    },
    {
     "data": {
      "text/plain": "<IPython.core.display.HTML object>",
      "text/html": "Syncing run <strong><a href='https://wandb.ai/moritz-palm/leaguify/runs/5l6g6syh' target=\"_blank\">effortless-yogurt-9474</a></strong> to <a href='https://wandb.ai/moritz-palm/leaguify' target=\"_blank\">Weights & Biases</a> (<a href='https://wandb.me/run' target=\"_blank\">docs</a>)<br/>"
     },
     "metadata": {},
     "output_type": "display_data"
    },
    {
     "data": {
      "text/plain": "<IPython.core.display.HTML object>",
      "text/html": " View project at <a href='https://wandb.ai/moritz-palm/leaguify' target=\"_blank\">https://wandb.ai/moritz-palm/leaguify</a>"
     },
     "metadata": {},
     "output_type": "display_data"
    },
    {
     "data": {
      "text/plain": "<IPython.core.display.HTML object>",
      "text/html": " View run at <a href='https://wandb.ai/moritz-palm/leaguify/runs/5l6g6syh' target=\"_blank\">https://wandb.ai/moritz-palm/leaguify/runs/5l6g6syh</a>"
     },
     "metadata": {},
     "output_type": "display_data"
    },
    {
     "name": "stderr",
     "output_type": "stream",
     "text": [
      "C:\\Users\\morit\\AppData\\Local\\pypoetry\\Cache\\virtualenvs\\leaguify-VaCbhr8h-py3.11\\Lib\\site-packages\\torch\\nn\\modules\\rnn.py:82: UserWarning: dropout option adds dropout after all but last recurrent layer, so non-zero dropout expects num_layers greater than 1, but got dropout=0.5 and num_layers=1\n",
      "  warnings.warn(\"dropout option adds dropout after all but last \"\n"
     ]
    },
    {
     "name": "stdout",
     "output_type": "stream",
     "text": [
      "GRU(\n",
      "  (gru): GRU(381, 64, batch_first=True, dropout=0.5)\n",
      "  (gru2): GRU(64, 64, batch_first=True, dropout=0.5)\n",
      "  (fc): Linear(in_features=64, out_features=2, bias=True)\n",
      "  (relu): ReLU()\n",
      ")\n"
     ]
    },
    {
     "name": "stderr",
     "output_type": "stream",
     "text": [
      "  0%|          | 0/50 [00:00<?, ?it/s]"
     ]
    },
    {
     "name": "stdout",
     "output_type": "stream",
     "text": [
      "Epoch: 0\n",
      "              precision    recall  f1-score   support\n",
      "\n",
      "           0       0.55      0.97      0.70      6928\n",
      "           1       0.51      0.04      0.07      5760\n",
      "\n",
      "    accuracy                           0.55     12688\n",
      "   macro avg       0.53      0.50      0.38     12688\n",
      "weighted avg       0.53      0.55      0.41     12688\n",
      "\n",
      "Accuracy of the model on the 12688 val matches: 54.657945%\n",
      "              precision    recall  f1-score   support\n",
      "\n",
      "           0       0.52      0.97      0.68     19792\n",
      "           1       0.59      0.05      0.09     18336\n",
      "\n",
      "    accuracy                           0.53     38128\n",
      "   macro avg       0.55      0.51      0.39     38128\n",
      "weighted avg       0.55      0.53      0.40     38128\n",
      "\n",
      "Accuracy of the model on the 38128 train matches: 52.622744%\n",
      "Loss after 03072 examples: 0.726\n",
      "Loss after 06272 examples: 0.669\n",
      "Loss after 09472 examples: 0.682\n",
      "Loss after 12672 examples: 0.650\n",
      "Loss after 15872 examples: 0.720\n",
      "Loss after 19072 examples: 0.620\n",
      "Loss after 22272 examples: 0.574\n",
      "Loss after 25472 examples: 0.654\n",
      "Loss after 28672 examples: 0.568\n",
      "Loss after 31872 examples: 0.931\n"
     ]
    },
    {
     "name": "stderr",
     "output_type": "stream",
     "text": [
      "  2%|▏         | 1/50 [00:02<02:26,  3.00s/it]"
     ]
    },
    {
     "name": "stdout",
     "output_type": "stream",
     "text": [
      "Loss after 35072 examples: 0.663\n",
      "Epoch: 1\n",
      "              precision    recall  f1-score   support\n",
      "\n",
      "           0       0.70      0.59      0.64      6928\n",
      "           1       0.59      0.70      0.64      5760\n",
      "\n",
      "    accuracy                           0.64     12688\n",
      "   macro avg       0.65      0.65      0.64     12688\n",
      "weighted avg       0.65      0.64      0.64     12688\n",
      "\n",
      "Accuracy of the model on the 12688 val matches: 64.178752%\n",
      "              precision    recall  f1-score   support\n",
      "\n",
      "           0       0.75      0.64      0.69     19792\n",
      "           1       0.66      0.78      0.72     18336\n",
      "\n",
      "    accuracy                           0.70     38128\n",
      "   macro avg       0.71      0.71      0.70     38128\n",
      "weighted avg       0.71      0.70      0.70     38128\n",
      "\n",
      "Accuracy of the model on the 38128 train matches: 70.318401%\n",
      "Loss after 38256 examples: 0.578\n",
      "Loss after 41456 examples: 0.790\n",
      "Loss after 44656 examples: 0.680\n",
      "Loss after 47856 examples: 0.621\n",
      "Loss after 51056 examples: 0.599\n",
      "Loss after 54256 examples: 0.697\n",
      "Loss after 57456 examples: 0.447\n",
      "Loss after 60656 examples: 0.610\n",
      "Loss after 63856 examples: 0.639\n",
      "Loss after 67056 examples: 1.117\n",
      "Loss after 70256 examples: 0.463\n",
      "Loss after 73456 examples: 0.516\n"
     ]
    },
    {
     "name": "stderr",
     "output_type": "stream",
     "text": [
      "  4%|▍         | 2/50 [00:06<02:25,  3.03s/it]"
     ]
    },
    {
     "name": "stdout",
     "output_type": "stream",
     "text": [
      "Epoch: 2\n",
      "              precision    recall  f1-score   support\n",
      "\n",
      "           0       0.69      0.70      0.69      6928\n",
      "           1       0.63      0.62      0.62      5760\n",
      "\n",
      "    accuracy                           0.66     12688\n",
      "   macro avg       0.66      0.66      0.66     12688\n",
      "weighted avg       0.66      0.66      0.66     12688\n",
      "\n",
      "Accuracy of the model on the 12688 val matches: 66.354035%\n",
      "              precision    recall  f1-score   support\n",
      "\n",
      "           0       0.74      0.75      0.75     19792\n",
      "           1       0.73      0.72      0.72     18336\n",
      "\n",
      "    accuracy                           0.73     38128\n",
      "   macro avg       0.73      0.73      0.73     38128\n",
      "weighted avg       0.73      0.73      0.73     38128\n",
      "\n",
      "Accuracy of the model on the 38128 train matches: 73.468317%\n",
      "Loss after 76640 examples: 0.476\n",
      "Loss after 79840 examples: 0.483\n",
      "Loss after 83040 examples: 0.477\n",
      "Loss after 86240 examples: 0.369\n",
      "Loss after 89440 examples: 0.492\n",
      "Loss after 92640 examples: 0.855\n",
      "Loss after 95840 examples: 0.231\n",
      "Loss after 99040 examples: 0.649\n",
      "Loss after 102240 examples: 0.785\n",
      "Loss after 105440 examples: 0.655\n",
      "Loss after 108640 examples: 0.655\n",
      "Loss after 111840 examples: 0.720\n"
     ]
    },
    {
     "name": "stderr",
     "output_type": "stream",
     "text": [
      "  6%|▌         | 3/50 [00:08<02:19,  2.97s/it]"
     ]
    },
    {
     "name": "stdout",
     "output_type": "stream",
     "text": [
      "Epoch: 3\n",
      "              precision    recall  f1-score   support\n",
      "\n",
      "           0       0.69      0.62      0.65      6928\n",
      "           1       0.59      0.66      0.62      5760\n",
      "\n",
      "    accuracy                           0.64     12688\n",
      "   macro avg       0.64      0.64      0.64     12688\n",
      "weighted avg       0.64      0.64      0.64     12688\n",
      "\n",
      "Accuracy of the model on the 12688 val matches: 63.942308%\n",
      "              precision    recall  f1-score   support\n",
      "\n",
      "           0       0.78      0.72      0.75     19792\n",
      "           1       0.72      0.79      0.75     18336\n",
      "\n",
      "    accuracy                           0.75     38128\n",
      "   macro avg       0.75      0.75      0.75     38128\n",
      "weighted avg       0.75      0.75      0.75     38128\n",
      "\n",
      "Accuracy of the model on the 38128 train matches: 75.212442%\n",
      "Loss after 115024 examples: 0.623\n",
      "Loss after 118224 examples: 0.489\n",
      "Loss after 121424 examples: 0.529\n",
      "Loss after 124624 examples: 0.502\n",
      "Loss after 127824 examples: 0.590\n",
      "Loss after 131024 examples: 0.296\n",
      "Loss after 134224 examples: 0.325\n",
      "Loss after 137424 examples: 0.759\n",
      "Loss after 140624 examples: 0.226\n",
      "Loss after 143824 examples: 0.515\n",
      "Loss after 147024 examples: 0.791\n",
      "Loss after 150224 examples: 0.448\n"
     ]
    },
    {
     "name": "stderr",
     "output_type": "stream",
     "text": [
      "  8%|▊         | 4/50 [00:11<02:15,  2.95s/it]"
     ]
    },
    {
     "name": "stdout",
     "output_type": "stream",
     "text": [
      "Epoch: 4\n",
      "              precision    recall  f1-score   support\n",
      "\n",
      "           0       0.73      0.59      0.65      6928\n",
      "           1       0.60      0.74      0.66      5760\n",
      "\n",
      "    accuracy                           0.66     12688\n",
      "   macro avg       0.67      0.67      0.66     12688\n",
      "weighted avg       0.67      0.66      0.66     12688\n",
      "\n",
      "Accuracy of the model on the 12688 val matches: 65.865385%\n",
      "              precision    recall  f1-score   support\n",
      "\n",
      "           0       0.83      0.66      0.74     19792\n",
      "           1       0.70      0.86      0.77     18336\n",
      "\n",
      "    accuracy                           0.75     38128\n",
      "   macro avg       0.77      0.76      0.75     38128\n",
      "weighted avg       0.77      0.75      0.75     38128\n",
      "\n",
      "Accuracy of the model on the 38128 train matches: 75.419639%\n",
      "Loss after 153408 examples: 0.517\n",
      "Loss after 156608 examples: 0.548\n",
      "Loss after 159808 examples: 0.721\n",
      "Loss after 163008 examples: 0.469\n",
      "Loss after 166208 examples: 0.785\n",
      "Loss after 169408 examples: 0.626\n",
      "Loss after 172608 examples: 0.463\n",
      "Loss after 175808 examples: 0.440\n",
      "Loss after 179008 examples: 0.328\n",
      "Loss after 182208 examples: 0.451\n",
      "Loss after 185408 examples: 0.875\n",
      "Loss after 188608 examples: 0.576\n"
     ]
    },
    {
     "name": "stderr",
     "output_type": "stream",
     "text": [
      " 10%|█         | 5/50 [00:14<02:11,  2.93s/it]"
     ]
    },
    {
     "name": "stdout",
     "output_type": "stream",
     "text": [
      "Epoch: 5\n",
      "              precision    recall  f1-score   support\n",
      "\n",
      "           0       0.73      0.60      0.66      6928\n",
      "           1       0.60      0.73      0.66      5760\n",
      "\n",
      "    accuracy                           0.66     12688\n",
      "   macro avg       0.67      0.67      0.66     12688\n",
      "weighted avg       0.67      0.66      0.66     12688\n",
      "\n",
      "Accuracy of the model on the 12688 val matches: 66.093947%\n",
      "              precision    recall  f1-score   support\n",
      "\n",
      "           0       0.85      0.69      0.76     19792\n",
      "           1       0.72      0.87      0.79     18336\n",
      "\n",
      "    accuracy                           0.78     38128\n",
      "   macro avg       0.79      0.78      0.78     38128\n",
      "weighted avg       0.79      0.78      0.78     38128\n",
      "\n",
      "Accuracy of the model on the 38128 train matches: 77.659463%\n",
      "Loss after 191792 examples: 0.431\n",
      "Loss after 194992 examples: 0.533\n",
      "Loss after 198192 examples: 0.746\n",
      "Loss after 201392 examples: 0.549\n",
      "Loss after 204592 examples: 0.784\n",
      "Loss after 207792 examples: 0.697\n",
      "Loss after 210992 examples: 0.641\n",
      "Loss after 214192 examples: 0.388\n",
      "Loss after 217392 examples: 0.527\n",
      "Loss after 220592 examples: 0.701\n",
      "Loss after 223792 examples: 0.489\n",
      "Loss after 226992 examples: 0.842\n"
     ]
    },
    {
     "name": "stderr",
     "output_type": "stream",
     "text": [
      " 12%|█▏        | 6/50 [00:17<02:08,  2.92s/it]"
     ]
    },
    {
     "name": "stdout",
     "output_type": "stream",
     "text": [
      "Epoch: 6\n",
      "              precision    recall  f1-score   support\n",
      "\n",
      "           0       0.70      0.67      0.69      6928\n",
      "           1       0.62      0.65      0.64      5760\n",
      "\n",
      "    accuracy                           0.66     12688\n",
      "   macro avg       0.66      0.66      0.66     12688\n",
      "weighted avg       0.67      0.66      0.66     12688\n",
      "\n",
      "Accuracy of the model on the 12688 val matches: 66.377680%\n",
      "              precision    recall  f1-score   support\n",
      "\n",
      "           0       0.82      0.79      0.80     19792\n",
      "           1       0.78      0.82      0.80     18336\n",
      "\n",
      "    accuracy                           0.80     38128\n",
      "   macro avg       0.80      0.80      0.80     38128\n",
      "weighted avg       0.80      0.80      0.80     38128\n",
      "\n",
      "Accuracy of the model on the 38128 train matches: 80.211393%\n",
      "Loss after 230176 examples: 0.644\n",
      "Loss after 233376 examples: 0.253\n",
      "Loss after 236576 examples: 0.388\n",
      "Loss after 239776 examples: 0.391\n",
      "Loss after 242976 examples: 0.580\n",
      "Loss after 246176 examples: 0.584\n",
      "Loss after 249376 examples: 0.267\n",
      "Loss after 252576 examples: 0.484\n",
      "Loss after 255776 examples: 0.451\n",
      "Loss after 258976 examples: 0.408\n",
      "Loss after 262176 examples: 0.349\n",
      "Loss after 265376 examples: 0.424\n"
     ]
    },
    {
     "name": "stderr",
     "output_type": "stream",
     "text": [
      " 14%|█▍        | 7/50 [00:20<02:05,  2.92s/it]"
     ]
    },
    {
     "name": "stdout",
     "output_type": "stream",
     "text": [
      "Epoch: 7\n",
      "              precision    recall  f1-score   support\n",
      "\n",
      "           0       0.67      0.74      0.70      6928\n",
      "           1       0.64      0.57      0.60      5760\n",
      "\n",
      "    accuracy                           0.66     12688\n",
      "   macro avg       0.66      0.65      0.65     12688\n",
      "weighted avg       0.66      0.66      0.66     12688\n",
      "\n",
      "Accuracy of the model on the 12688 val matches: 66.109710%\n",
      "              precision    recall  f1-score   support\n",
      "\n",
      "           0       0.80      0.85      0.82     19792\n",
      "           1       0.83      0.77      0.80     18336\n",
      "\n",
      "    accuracy                           0.81     38128\n",
      "   macro avg       0.81      0.81      0.81     38128\n",
      "weighted avg       0.81      0.81      0.81     38128\n",
      "\n",
      "Accuracy of the model on the 38128 train matches: 81.155581%\n",
      "Loss after 268560 examples: 0.622\n",
      "Loss after 271760 examples: 0.453\n",
      "Loss after 274960 examples: 0.522\n",
      "Loss after 278160 examples: 0.441\n",
      "Loss after 281360 examples: 0.314\n",
      "Loss after 284560 examples: 0.536\n",
      "Loss after 287760 examples: 0.638\n",
      "Loss after 290960 examples: 0.404\n",
      "Loss after 294160 examples: 0.548\n",
      "Loss after 297360 examples: 0.155\n",
      "Loss after 300560 examples: 0.419\n",
      "Loss after 303760 examples: 0.681\n"
     ]
    },
    {
     "name": "stderr",
     "output_type": "stream",
     "text": [
      " 16%|█▌        | 8/50 [00:23<02:02,  2.91s/it]"
     ]
    },
    {
     "name": "stdout",
     "output_type": "stream",
     "text": [
      "Epoch: 8\n",
      "              precision    recall  f1-score   support\n",
      "\n",
      "           0       0.69      0.66      0.68      6928\n",
      "           1       0.61      0.65      0.63      5760\n",
      "\n",
      "    accuracy                           0.65     12688\n",
      "   macro avg       0.65      0.65      0.65     12688\n",
      "weighted avg       0.66      0.65      0.66     12688\n",
      "\n",
      "Accuracy of the model on the 12688 val matches: 65.471311%\n",
      "              precision    recall  f1-score   support\n",
      "\n",
      "           0       0.85      0.80      0.83     19792\n",
      "           1       0.80      0.85      0.82     18336\n",
      "\n",
      "    accuracy                           0.82     38128\n",
      "   macro avg       0.82      0.82      0.82     38128\n",
      "weighted avg       0.83      0.82      0.82     38128\n",
      "\n",
      "Accuracy of the model on the 38128 train matches: 82.385648%\n",
      "Loss after 306944 examples: 0.629\n",
      "Loss after 310144 examples: 0.461\n",
      "Loss after 313344 examples: 0.515\n",
      "Loss after 316544 examples: 0.847\n",
      "Loss after 319744 examples: 0.562\n",
      "Loss after 322944 examples: 0.195\n",
      "Loss after 326144 examples: 0.581\n",
      "Loss after 329344 examples: 0.219\n",
      "Loss after 332544 examples: 0.367\n",
      "Loss after 335744 examples: 0.334\n",
      "Loss after 338944 examples: 0.265\n",
      "Loss after 342144 examples: 0.532\n"
     ]
    },
    {
     "name": "stderr",
     "output_type": "stream",
     "text": [
      " 18%|█▊        | 9/50 [00:26<02:00,  2.94s/it]"
     ]
    },
    {
     "name": "stdout",
     "output_type": "stream",
     "text": [
      "Epoch: 9\n",
      "              precision    recall  f1-score   support\n",
      "\n",
      "           0       0.70      0.72      0.71      6928\n",
      "           1       0.65      0.63      0.64      5760\n",
      "\n",
      "    accuracy                           0.68     12688\n",
      "   macro avg       0.67      0.67      0.67     12688\n",
      "weighted avg       0.68      0.68      0.68     12688\n",
      "\n",
      "Accuracy of the model on the 12688 val matches: 67.575662%\n",
      "              precision    recall  f1-score   support\n",
      "\n",
      "           0       0.83      0.83      0.83     19792\n",
      "           1       0.82      0.81      0.82     18336\n",
      "\n",
      "    accuracy                           0.82     38128\n",
      "   macro avg       0.82      0.82      0.82     38128\n",
      "weighted avg       0.82      0.82      0.82     38128\n",
      "\n",
      "Accuracy of the model on the 38128 train matches: 82.372535%\n",
      "Loss after 345328 examples: 0.384\n",
      "Loss after 348528 examples: 0.488\n",
      "Loss after 351728 examples: 0.416\n",
      "Loss after 354928 examples: 0.400\n",
      "Loss after 358128 examples: 0.688\n",
      "Loss after 361328 examples: 0.347\n",
      "Loss after 364528 examples: 0.194\n",
      "Loss after 367728 examples: 0.475\n",
      "Loss after 370928 examples: 0.319\n",
      "Loss after 374128 examples: 0.540\n",
      "Loss after 377328 examples: 0.295\n",
      "Loss after 380528 examples: 0.404\n"
     ]
    },
    {
     "name": "stderr",
     "output_type": "stream",
     "text": [
      " 20%|██        | 10/50 [00:29<02:03,  3.08s/it]"
     ]
    },
    {
     "name": "stdout",
     "output_type": "stream",
     "text": [
      "Epoch: 10\n",
      "              precision    recall  f1-score   support\n",
      "\n",
      "           0       0.70      0.68      0.69      6928\n",
      "           1       0.63      0.64      0.63      5760\n",
      "\n",
      "    accuracy                           0.66     12688\n",
      "   macro avg       0.66      0.66      0.66     12688\n",
      "weighted avg       0.66      0.66      0.66     12688\n",
      "\n",
      "Accuracy of the model on the 12688 val matches: 66.377680%\n",
      "              precision    recall  f1-score   support\n",
      "\n",
      "           0       0.85      0.85      0.85     19792\n",
      "           1       0.84      0.84      0.84     18336\n",
      "\n",
      "    accuracy                           0.85     38128\n",
      "   macro avg       0.84      0.84      0.84     38128\n",
      "weighted avg       0.85      0.85      0.85     38128\n",
      "\n",
      "Accuracy of the model on the 38128 train matches: 84.517940%\n",
      "Loss after 383712 examples: 0.572\n",
      "Loss after 386912 examples: 0.719\n",
      "Loss after 390112 examples: 0.206\n",
      "Loss after 393312 examples: 0.502\n",
      "Loss after 396512 examples: 0.214\n",
      "Loss after 399712 examples: 0.245\n",
      "Loss after 402912 examples: 0.323\n",
      "Loss after 406112 examples: 0.265\n",
      "Loss after 409312 examples: 0.177\n",
      "Loss after 412512 examples: 0.283\n"
     ]
    },
    {
     "name": "stderr",
     "output_type": "stream",
     "text": [
      " 22%|██▏       | 11/50 [00:32<02:00,  3.09s/it]"
     ]
    },
    {
     "name": "stdout",
     "output_type": "stream",
     "text": [
      "Loss after 415712 examples: 0.411\n",
      "Loss after 418912 examples: 0.387\n",
      "Epoch: 11\n",
      "              precision    recall  f1-score   support\n",
      "\n",
      "           0       0.67      0.75      0.71      6928\n",
      "           1       0.65      0.55      0.60      5760\n",
      "\n",
      "    accuracy                           0.66     12688\n",
      "   macro avg       0.66      0.65      0.65     12688\n",
      "weighted avg       0.66      0.66      0.66     12688\n",
      "\n",
      "Accuracy of the model on the 12688 val matches: 66.212169%\n",
      "              precision    recall  f1-score   support\n",
      "\n",
      "           0       0.82      0.91      0.86     19792\n",
      "           1       0.89      0.78      0.83     18336\n",
      "\n",
      "    accuracy                           0.85     38128\n",
      "   macro avg       0.85      0.85      0.85     38128\n",
      "weighted avg       0.85      0.85      0.85     38128\n",
      "\n",
      "Accuracy of the model on the 38128 train matches: 84.801196%\n",
      "Loss after 422096 examples: 0.424\n",
      "Loss after 425296 examples: 0.386\n",
      "Loss after 428496 examples: 0.259\n",
      "Loss after 431696 examples: 0.381\n",
      "Loss after 434896 examples: 0.253\n",
      "Loss after 438096 examples: 0.159\n",
      "Loss after 441296 examples: 0.923\n",
      "Loss after 444496 examples: 0.145\n",
      "Loss after 447696 examples: 0.627\n",
      "Loss after 450896 examples: 0.476\n"
     ]
    },
    {
     "name": "stderr",
     "output_type": "stream",
     "text": [
      " 24%|██▍       | 12/50 [00:36<01:57,  3.09s/it]"
     ]
    },
    {
     "name": "stdout",
     "output_type": "stream",
     "text": [
      "Loss after 454096 examples: 0.257\n",
      "Loss after 457296 examples: 0.471\n",
      "Epoch: 12\n",
      "              precision    recall  f1-score   support\n",
      "\n",
      "           0       0.68      0.73      0.71      6928\n",
      "           1       0.65      0.59      0.62      5760\n",
      "\n",
      "    accuracy                           0.67     12688\n",
      "   macro avg       0.66      0.66      0.66     12688\n",
      "weighted avg       0.67      0.67      0.67     12688\n",
      "\n",
      "Accuracy of the model on the 12688 val matches: 66.771753%\n",
      "              precision    recall  f1-score   support\n",
      "\n",
      "           0       0.86      0.90      0.88     19792\n",
      "           1       0.88      0.84      0.86     18336\n",
      "\n",
      "    accuracy                           0.87     38128\n",
      "   macro avg       0.87      0.87      0.87     38128\n",
      "weighted avg       0.87      0.87      0.87     38128\n",
      "\n",
      "Accuracy of the model on the 38128 train matches: 86.818086%\n",
      "Loss after 460480 examples: 0.285\n",
      "Loss after 463680 examples: 0.458\n",
      "Loss after 466880 examples: 0.349\n",
      "Loss after 470080 examples: 0.433\n",
      "Loss after 473280 examples: 0.099\n",
      "Loss after 476480 examples: 0.139\n",
      "Loss after 479680 examples: 0.333\n",
      "Loss after 482880 examples: 0.124\n",
      "Loss after 486080 examples: 0.244\n",
      "Loss after 489280 examples: 0.244\n"
     ]
    },
    {
     "name": "stderr",
     "output_type": "stream",
     "text": [
      " 26%|██▌       | 13/50 [00:39<01:53,  3.08s/it]"
     ]
    },
    {
     "name": "stdout",
     "output_type": "stream",
     "text": [
      "Loss after 492480 examples: 0.197\n",
      "Loss after 495664 examples: 0.372\n",
      "Epoch: 13\n",
      "              precision    recall  f1-score   support\n",
      "\n",
      "           0       0.70      0.68      0.69      6928\n",
      "           1       0.63      0.66      0.64      5760\n",
      "\n",
      "    accuracy                           0.67     12688\n",
      "   macro avg       0.67      0.67      0.67     12688\n",
      "weighted avg       0.67      0.67      0.67     12688\n",
      "\n",
      "Accuracy of the model on the 12688 val matches: 66.842686%\n",
      "              precision    recall  f1-score   support\n",
      "\n",
      "           0       0.89      0.85      0.87     19792\n",
      "           1       0.85      0.88      0.86     18336\n",
      "\n",
      "    accuracy                           0.87     38128\n",
      "   macro avg       0.87      0.87      0.87     38128\n",
      "weighted avg       0.87      0.87      0.87     38128\n",
      "\n",
      "Accuracy of the model on the 38128 train matches: 86.639740%\n",
      "Loss after 498864 examples: 0.702\n",
      "Loss after 502064 examples: 0.569\n",
      "Loss after 505264 examples: 0.623\n",
      "Loss after 508464 examples: 0.942\n",
      "Loss after 511664 examples: 0.350\n",
      "Loss after 514864 examples: 0.404\n",
      "Loss after 518064 examples: 0.241\n",
      "Loss after 521264 examples: 0.398\n",
      "Loss after 524464 examples: 0.433\n",
      "Loss after 527664 examples: 0.278\n"
     ]
    },
    {
     "name": "stderr",
     "output_type": "stream",
     "text": [
      " 28%|██▊       | 14/50 [00:42<01:50,  3.08s/it]"
     ]
    },
    {
     "name": "stdout",
     "output_type": "stream",
     "text": [
      "Loss after 530864 examples: 0.276\n",
      "Epoch: 14\n",
      "              precision    recall  f1-score   support\n",
      "\n",
      "           0       0.72      0.68      0.70      6928\n",
      "           1       0.64      0.68      0.66      5760\n",
      "\n",
      "    accuracy                           0.68     12688\n",
      "   macro avg       0.68      0.68      0.68     12688\n",
      "weighted avg       0.68      0.68      0.68     12688\n",
      "\n",
      "Accuracy of the model on the 12688 val matches: 67.741173%\n",
      "              precision    recall  f1-score   support\n",
      "\n",
      "           0       0.89      0.89      0.89     19792\n",
      "           1       0.88      0.88      0.88     18336\n",
      "\n",
      "    accuracy                           0.89     38128\n",
      "   macro avg       0.89      0.89      0.89     38128\n",
      "weighted avg       0.89      0.89      0.89     38128\n",
      "\n",
      "Accuracy of the model on the 38128 train matches: 88.601553%\n",
      "Loss after 534048 examples: 0.421\n",
      "Loss after 537248 examples: 0.296\n",
      "Loss after 540448 examples: 0.238\n",
      "Loss after 543648 examples: 0.118\n",
      "Loss after 546848 examples: 0.201\n",
      "Loss after 550048 examples: 0.185\n",
      "Loss after 553248 examples: 0.142\n",
      "Loss after 556448 examples: 0.526\n",
      "Loss after 559648 examples: 0.258\n",
      "Loss after 562848 examples: 0.731\n",
      "Loss after 566048 examples: 0.363\n",
      "Loss after 569248 examples: 0.243\n"
     ]
    },
    {
     "name": "stderr",
     "output_type": "stream",
     "text": [
      " 30%|███       | 15/50 [00:45<01:47,  3.07s/it]"
     ]
    },
    {
     "name": "stdout",
     "output_type": "stream",
     "text": [
      "Epoch: 15\n",
      "              precision    recall  f1-score   support\n",
      "\n",
      "           0       0.72      0.57      0.64      6928\n",
      "           1       0.59      0.73      0.65      5760\n",
      "\n",
      "    accuracy                           0.64     12688\n",
      "   macro avg       0.65      0.65      0.64     12688\n",
      "weighted avg       0.66      0.64      0.64     12688\n",
      "\n",
      "Accuracy of the model on the 12688 val matches: 64.281211%\n",
      "              precision    recall  f1-score   support\n",
      "\n",
      "           0       0.93      0.77      0.84     19792\n",
      "           1       0.79      0.94      0.86     18336\n",
      "\n",
      "    accuracy                           0.85     38128\n",
      "   macro avg       0.86      0.85      0.85     38128\n",
      "weighted avg       0.86      0.85      0.85     38128\n",
      "\n",
      "Accuracy of the model on the 38128 train matches: 85.142153%\n",
      "Loss after 572432 examples: 0.231\n",
      "Loss after 575632 examples: 0.565\n",
      "Loss after 578832 examples: 0.378\n",
      "Loss after 582032 examples: 0.238\n",
      "Loss after 585232 examples: 0.224\n",
      "Loss after 588432 examples: 0.200\n",
      "Loss after 591632 examples: 0.471\n",
      "Loss after 594832 examples: 0.350\n",
      "Loss after 598032 examples: 0.265\n",
      "Loss after 601232 examples: 0.472\n",
      "Loss after 604432 examples: 0.209\n",
      "Loss after 607632 examples: 0.205\n"
     ]
    },
    {
     "name": "stderr",
     "output_type": "stream",
     "text": [
      " 32%|███▏      | 16/50 [00:48<01:44,  3.08s/it]"
     ]
    },
    {
     "name": "stdout",
     "output_type": "stream",
     "text": [
      "Epoch: 16\n",
      "              precision    recall  f1-score   support\n",
      "\n",
      "           0       0.73      0.60      0.66      6928\n",
      "           1       0.60      0.73      0.66      5760\n",
      "\n",
      "    accuracy                           0.66     12688\n",
      "   macro avg       0.67      0.67      0.66     12688\n",
      "weighted avg       0.67      0.66      0.66     12688\n",
      "\n",
      "Accuracy of the model on the 12688 val matches: 65.920555%\n",
      "              precision    recall  f1-score   support\n",
      "\n",
      "           0       0.93      0.81      0.87     19792\n",
      "           1       0.82      0.94      0.87     18336\n",
      "\n",
      "    accuracy                           0.87     38128\n",
      "   macro avg       0.88      0.87      0.87     38128\n",
      "weighted avg       0.88      0.87      0.87     38128\n",
      "\n",
      "Accuracy of the model on the 38128 train matches: 87.080361%\n",
      "Loss after 610816 examples: 0.491\n",
      "Loss after 614016 examples: 0.223\n",
      "Loss after 617216 examples: 0.265\n",
      "Loss after 620416 examples: 0.311\n",
      "Loss after 623616 examples: 0.427\n",
      "Loss after 626816 examples: 0.317\n",
      "Loss after 630016 examples: 0.414\n",
      "Loss after 633216 examples: 0.569\n",
      "Loss after 636416 examples: 0.585\n",
      "Loss after 639616 examples: 0.228\n",
      "Loss after 642816 examples: 0.528\n",
      "Loss after 646016 examples: 0.290\n"
     ]
    },
    {
     "name": "stderr",
     "output_type": "stream",
     "text": [
      " 34%|███▍      | 17/50 [00:51<01:41,  3.08s/it]"
     ]
    },
    {
     "name": "stdout",
     "output_type": "stream",
     "text": [
      "Epoch: 17\n",
      "              precision    recall  f1-score   support\n",
      "\n",
      "           0       0.70      0.65      0.68      6928\n",
      "           1       0.62      0.67      0.64      5760\n",
      "\n",
      "    accuracy                           0.66     12688\n",
      "   macro avg       0.66      0.66      0.66     12688\n",
      "weighted avg       0.66      0.66      0.66     12688\n",
      "\n",
      "Accuracy of the model on the 12688 val matches: 66.023014%\n",
      "              precision    recall  f1-score   support\n",
      "\n",
      "           0       0.90      0.85      0.88     19792\n",
      "           1       0.85      0.90      0.87     18336\n",
      "\n",
      "    accuracy                           0.87     38128\n",
      "   macro avg       0.88      0.88      0.87     38128\n",
      "weighted avg       0.88      0.87      0.87     38128\n",
      "\n",
      "Accuracy of the model on the 38128 train matches: 87.486886%\n",
      "Loss after 649200 examples: 0.365\n",
      "Loss after 652400 examples: 0.750\n",
      "Loss after 655600 examples: 0.326\n",
      "Loss after 658800 examples: 0.237\n",
      "Loss after 662000 examples: 0.065\n",
      "Loss after 665200 examples: 0.163\n",
      "Loss after 668400 examples: 0.450\n",
      "Loss after 671600 examples: 0.231\n",
      "Loss after 674800 examples: 0.240\n",
      "Loss after 678000 examples: 0.604\n",
      "Loss after 681200 examples: 0.390\n",
      "Loss after 684400 examples: 0.368\n"
     ]
    },
    {
     "name": "stderr",
     "output_type": "stream",
     "text": [
      " 36%|███▌      | 18/50 [00:54<01:38,  3.07s/it]"
     ]
    },
    {
     "name": "stdout",
     "output_type": "stream",
     "text": [
      "Epoch: 18\n",
      "              precision    recall  f1-score   support\n",
      "\n",
      "           0       0.70      0.62      0.66      6928\n",
      "           1       0.60      0.68      0.64      5760\n",
      "\n",
      "    accuracy                           0.65     12688\n",
      "   macro avg       0.65      0.65      0.65     12688\n",
      "weighted avg       0.65      0.65      0.65     12688\n",
      "\n",
      "Accuracy of the model on the 12688 val matches: 64.817150%\n",
      "              precision    recall  f1-score   support\n",
      "\n",
      "           0       0.90      0.86      0.88     19792\n",
      "           1       0.86      0.90      0.88     18336\n",
      "\n",
      "    accuracy                           0.88     38128\n",
      "   macro avg       0.88      0.88      0.88     38128\n",
      "weighted avg       0.88      0.88      0.88     38128\n",
      "\n",
      "Accuracy of the model on the 38128 train matches: 88.181914%\n",
      "Loss after 687584 examples: 0.518\n",
      "Loss after 690784 examples: 0.457\n",
      "Loss after 693984 examples: 0.295\n",
      "Loss after 697184 examples: 0.248\n",
      "Loss after 700384 examples: 0.124\n",
      "Loss after 703584 examples: 0.349\n",
      "Loss after 706784 examples: 0.363\n",
      "Loss after 709984 examples: 0.155\n",
      "Loss after 713184 examples: 0.501\n",
      "Loss after 716384 examples: 0.284\n",
      "Loss after 719584 examples: 0.351\n",
      "Loss after 722784 examples: 0.240\n"
     ]
    },
    {
     "name": "stderr",
     "output_type": "stream",
     "text": [
      " 38%|███▊      | 19/50 [00:57<01:35,  3.07s/it]"
     ]
    },
    {
     "name": "stdout",
     "output_type": "stream",
     "text": [
      "Epoch: 19\n",
      "              precision    recall  f1-score   support\n",
      "\n",
      "           0       0.70      0.63      0.66      6928\n",
      "           1       0.60      0.67      0.64      5760\n",
      "\n",
      "    accuracy                           0.65     12688\n",
      "   macro avg       0.65      0.65      0.65     12688\n",
      "weighted avg       0.66      0.65      0.65     12688\n",
      "\n",
      "Accuracy of the model on the 12688 val matches: 65.100883%\n",
      "              precision    recall  f1-score   support\n",
      "\n",
      "           0       0.92      0.87      0.89     19792\n",
      "           1       0.86      0.92      0.89     18336\n",
      "\n",
      "    accuracy                           0.89     38128\n",
      "   macro avg       0.89      0.89      0.89     38128\n",
      "weighted avg       0.89      0.89      0.89     38128\n",
      "\n",
      "Accuracy of the model on the 38128 train matches: 89.225766%\n",
      "Loss after 725968 examples: 0.063\n",
      "Loss after 729168 examples: 0.108\n",
      "Loss after 732368 examples: 0.197\n",
      "Loss after 735568 examples: 0.308\n",
      "Loss after 738768 examples: 0.313\n",
      "Loss after 741968 examples: 0.237\n",
      "Loss after 745168 examples: 0.538\n",
      "Loss after 748368 examples: 0.379\n",
      "Loss after 751568 examples: 0.390\n",
      "Loss after 754768 examples: 0.611\n",
      "Loss after 757968 examples: 0.223\n",
      "Loss after 761168 examples: 0.237\n"
     ]
    },
    {
     "name": "stderr",
     "output_type": "stream",
     "text": [
      " 40%|████      | 20/50 [01:00<01:31,  3.06s/it]"
     ]
    },
    {
     "name": "stdout",
     "output_type": "stream",
     "text": [
      "Epoch: 20\n",
      "              precision    recall  f1-score   support\n",
      "\n",
      "           0       0.69      0.66      0.67      6928\n",
      "           1       0.61      0.64      0.63      5760\n",
      "\n",
      "    accuracy                           0.65     12688\n",
      "   macro avg       0.65      0.65      0.65     12688\n",
      "weighted avg       0.65      0.65      0.65     12688\n",
      "\n",
      "Accuracy of the model on the 12688 val matches: 65.053594%\n",
      "              precision    recall  f1-score   support\n",
      "\n",
      "           0       0.90      0.90      0.90     19792\n",
      "           1       0.89      0.90      0.89     18336\n",
      "\n",
      "    accuracy                           0.90     38128\n",
      "   macro avg       0.90      0.90      0.90     38128\n",
      "weighted avg       0.90      0.90      0.90     38128\n",
      "\n",
      "Accuracy of the model on the 38128 train matches: 89.671632%\n",
      "Loss after 764352 examples: 0.164\n",
      "Loss after 767552 examples: 0.191\n",
      "Loss after 770752 examples: 0.164\n",
      "Loss after 773952 examples: 0.261\n",
      "Loss after 777152 examples: 0.143\n",
      "Loss after 780352 examples: 0.246\n",
      "Loss after 783552 examples: 0.249\n",
      "Loss after 786752 examples: 0.315\n",
      "Loss after 789952 examples: 0.766\n",
      "Loss after 793152 examples: 0.335\n",
      "Loss after 796352 examples: 0.139\n",
      "Loss after 799552 examples: 0.291\n"
     ]
    },
    {
     "name": "stderr",
     "output_type": "stream",
     "text": [
      " 42%|████▏     | 21/50 [01:03<01:28,  3.06s/it]"
     ]
    },
    {
     "name": "stdout",
     "output_type": "stream",
     "text": [
      "Epoch: 21\n",
      "              precision    recall  f1-score   support\n",
      "\n",
      "           0       0.69      0.70      0.69      6928\n",
      "           1       0.63      0.62      0.63      5760\n",
      "\n",
      "    accuracy                           0.66     12688\n",
      "   macro avg       0.66      0.66      0.66     12688\n",
      "weighted avg       0.66      0.66      0.66     12688\n",
      "\n",
      "Accuracy of the model on the 12688 val matches: 66.164880%\n",
      "              precision    recall  f1-score   support\n",
      "\n",
      "           0       0.91      0.91      0.91     19792\n",
      "           1       0.90      0.91      0.90     18336\n",
      "\n",
      "    accuracy                           0.91     38128\n",
      "   macro avg       0.91      0.91      0.91     38128\n",
      "weighted avg       0.91      0.91      0.91     38128\n",
      "\n",
      "Accuracy of the model on the 38128 train matches: 90.773185%\n",
      "Loss after 802736 examples: 0.184\n",
      "Loss after 805936 examples: 0.436\n",
      "Loss after 809136 examples: 0.141\n",
      "Loss after 812336 examples: 0.268\n",
      "Loss after 815536 examples: 0.212\n",
      "Loss after 818736 examples: 0.347\n",
      "Loss after 821936 examples: 0.079\n",
      "Loss after 825136 examples: 0.357\n",
      "Loss after 828336 examples: 0.346\n",
      "Loss after 831536 examples: 0.412\n",
      "Loss after 834736 examples: 0.319\n",
      "Loss after 837936 examples: 0.113\n"
     ]
    },
    {
     "name": "stderr",
     "output_type": "stream",
     "text": [
      " 44%|████▍     | 22/50 [01:06<01:25,  3.06s/it]"
     ]
    },
    {
     "name": "stdout",
     "output_type": "stream",
     "text": [
      "Epoch: 22\n",
      "              precision    recall  f1-score   support\n",
      "\n",
      "           0       0.68      0.73      0.71      6928\n",
      "           1       0.65      0.59      0.62      5760\n",
      "\n",
      "    accuracy                           0.67     12688\n",
      "   macro avg       0.66      0.66      0.66     12688\n",
      "weighted avg       0.66      0.67      0.66     12688\n",
      "\n",
      "Accuracy of the model on the 12688 val matches: 66.629887%\n",
      "              precision    recall  f1-score   support\n",
      "\n",
      "           0       0.89      0.93      0.91     19792\n",
      "           1       0.92      0.88      0.90     18336\n",
      "\n",
      "    accuracy                           0.91     38128\n",
      "   macro avg       0.91      0.91      0.91     38128\n",
      "weighted avg       0.91      0.91      0.91     38128\n",
      "\n",
      "Accuracy of the model on the 38128 train matches: 90.686634%\n",
      "Loss after 841120 examples: 0.188\n",
      "Loss after 844320 examples: 0.231\n",
      "Loss after 847520 examples: 0.445\n",
      "Loss after 850720 examples: 0.104\n",
      "Loss after 853920 examples: 0.172\n",
      "Loss after 857120 examples: 0.253\n",
      "Loss after 860320 examples: 0.469\n",
      "Loss after 863520 examples: 0.266\n",
      "Loss after 866720 examples: 0.374\n",
      "Loss after 869920 examples: 0.157\n",
      "Loss after 873120 examples: 0.111\n",
      "Loss after 876320 examples: 0.190\n"
     ]
    },
    {
     "name": "stderr",
     "output_type": "stream",
     "text": [
      " 46%|████▌     | 23/50 [01:09<01:22,  3.07s/it]"
     ]
    },
    {
     "name": "stdout",
     "output_type": "stream",
     "text": [
      "Epoch: 23\n",
      "              precision    recall  f1-score   support\n",
      "\n",
      "           0       0.69      0.71      0.70      6928\n",
      "           1       0.64      0.62      0.63      5760\n",
      "\n",
      "    accuracy                           0.67     12688\n",
      "   macro avg       0.66      0.66      0.66     12688\n",
      "weighted avg       0.67      0.67      0.67     12688\n",
      "\n",
      "Accuracy of the model on the 12688 val matches: 66.606242%\n",
      "              precision    recall  f1-score   support\n",
      "\n",
      "           0       0.92      0.91      0.92     19792\n",
      "           1       0.91      0.92      0.91     18336\n",
      "\n",
      "    accuracy                           0.91     38128\n",
      "   macro avg       0.91      0.91      0.91     38128\n",
      "weighted avg       0.91      0.91      0.91     38128\n",
      "\n",
      "Accuracy of the model on the 38128 train matches: 91.457721%\n",
      "Loss after 879504 examples: 0.334\n",
      "Loss after 882704 examples: 0.415\n",
      "Loss after 885904 examples: 0.090\n",
      "Loss after 889104 examples: 0.625\n",
      "Loss after 892304 examples: 0.331\n",
      "Loss after 895504 examples: 0.300\n",
      "Loss after 898704 examples: 0.285\n",
      "Loss after 901904 examples: 0.281\n",
      "Loss after 905104 examples: 0.336\n",
      "Loss after 908304 examples: 0.117\n"
     ]
    },
    {
     "name": "stderr",
     "output_type": "stream",
     "text": [
      " 48%|████▊     | 24/50 [01:12<01:20,  3.11s/it]"
     ]
    },
    {
     "name": "stdout",
     "output_type": "stream",
     "text": [
      "Loss after 911504 examples: 0.173\n",
      "Loss after 914704 examples: 0.066\n",
      "Epoch: 24\n",
      "              precision    recall  f1-score   support\n",
      "\n",
      "           0       0.71      0.66      0.68      6928\n",
      "           1       0.62      0.68      0.65      5760\n",
      "\n",
      "    accuracy                           0.67     12688\n",
      "   macro avg       0.67      0.67      0.67     12688\n",
      "weighted avg       0.67      0.67      0.67     12688\n",
      "\n",
      "Accuracy of the model on the 12688 val matches: 66.929382%\n",
      "              precision    recall  f1-score   support\n",
      "\n",
      "           0       0.92      0.89      0.90     19792\n",
      "           1       0.89      0.91      0.90     18336\n",
      "\n",
      "    accuracy                           0.90     38128\n",
      "   macro avg       0.90      0.90      0.90     38128\n",
      "weighted avg       0.90      0.90      0.90     38128\n",
      "\n",
      "Accuracy of the model on the 38128 train matches: 90.256504%\n",
      "Loss after 917888 examples: 0.535\n",
      "Loss after 921088 examples: 0.102\n",
      "Loss after 924288 examples: 0.623\n",
      "Loss after 927488 examples: 0.205\n",
      "Loss after 930688 examples: 0.161\n",
      "Loss after 933888 examples: 0.303\n",
      "Loss after 937088 examples: 0.230\n",
      "Loss after 940288 examples: 0.123\n",
      "Loss after 943488 examples: 0.446\n",
      "Loss after 946688 examples: 0.317\n"
     ]
    },
    {
     "name": "stderr",
     "output_type": "stream",
     "text": [
      " 50%|█████     | 25/50 [01:16<01:17,  3.11s/it]"
     ]
    },
    {
     "name": "stdout",
     "output_type": "stream",
     "text": [
      "Loss after 949888 examples: 0.070\n",
      "Loss after 953088 examples: 0.073\n",
      "Epoch: 25\n",
      "              precision    recall  f1-score   support\n",
      "\n",
      "           0       0.69      0.69      0.69      6928\n",
      "           1       0.63      0.63      0.63      5760\n",
      "\n",
      "    accuracy                           0.67     12688\n",
      "   macro avg       0.66      0.66      0.66     12688\n",
      "weighted avg       0.67      0.67      0.67     12688\n",
      "\n",
      "Accuracy of the model on the 12688 val matches: 66.566835%\n",
      "              precision    recall  f1-score   support\n",
      "\n",
      "           0       0.90      0.92      0.91     19792\n",
      "           1       0.91      0.89      0.90     18336\n",
      "\n",
      "    accuracy                           0.91     38128\n",
      "   macro avg       0.91      0.91      0.91     38128\n",
      "weighted avg       0.91      0.91      0.91     38128\n",
      "\n",
      "Accuracy of the model on the 38128 train matches: 90.770562%\n",
      "Loss after 956272 examples: 0.269\n",
      "Loss after 959472 examples: 0.431\n",
      "Loss after 962672 examples: 0.272\n",
      "Loss after 965872 examples: 0.249\n",
      "Loss after 969072 examples: 0.089\n",
      "Loss after 972272 examples: 0.152\n",
      "Loss after 975472 examples: 0.144\n",
      "Loss after 978672 examples: 0.158\n",
      "Loss after 981872 examples: 0.368\n",
      "Loss after 985072 examples: 0.296\n"
     ]
    },
    {
     "name": "stderr",
     "output_type": "stream",
     "text": [
      " 52%|█████▏    | 26/50 [01:19<01:14,  3.10s/it]"
     ]
    },
    {
     "name": "stdout",
     "output_type": "stream",
     "text": [
      "Loss after 988272 examples: 0.434\n",
      "Epoch: 26\n",
      "              precision    recall  f1-score   support\n",
      "\n",
      "           0       0.71      0.65      0.68      6928\n",
      "           1       0.62      0.68      0.65      5760\n",
      "\n",
      "    accuracy                           0.66     12688\n",
      "   macro avg       0.66      0.66      0.66     12688\n",
      "weighted avg       0.67      0.66      0.66     12688\n",
      "\n",
      "Accuracy of the model on the 12688 val matches: 66.354035%\n",
      "              precision    recall  f1-score   support\n",
      "\n",
      "           0       0.94      0.90      0.92     19792\n",
      "           1       0.90      0.93      0.92     18336\n",
      "\n",
      "    accuracy                           0.92     38128\n",
      "   macro avg       0.92      0.92      0.92     38128\n",
      "weighted avg       0.92      0.92      0.92     38128\n",
      "\n",
      "Accuracy of the model on the 38128 train matches: 91.717373%\n",
      "Loss after 991456 examples: 0.221\n",
      "Loss after 994656 examples: 0.318\n",
      "Loss after 997856 examples: 0.142\n",
      "Loss after 1001056 examples: 0.097\n",
      "Loss after 1004256 examples: 0.403\n",
      "Loss after 1007456 examples: 0.093\n",
      "Loss after 1010656 examples: 0.339\n",
      "Loss after 1013856 examples: 0.238\n",
      "Loss after 1017056 examples: 0.302\n",
      "Loss after 1020256 examples: 0.187\n",
      "Loss after 1023456 examples: 0.062\n",
      "Loss after 1026656 examples: 0.443\n"
     ]
    },
    {
     "name": "stderr",
     "output_type": "stream",
     "text": [
      " 54%|█████▍    | 27/50 [01:22<01:11,  3.11s/it]"
     ]
    },
    {
     "name": "stdout",
     "output_type": "stream",
     "text": [
      "Epoch: 27\n",
      "              precision    recall  f1-score   support\n",
      "\n",
      "           0       0.73      0.61      0.67      6928\n",
      "           1       0.61      0.73      0.67      5760\n",
      "\n",
      "    accuracy                           0.67     12688\n",
      "   macro avg       0.67      0.67      0.67     12688\n",
      "weighted avg       0.68      0.67      0.67     12688\n",
      "\n",
      "Accuracy of the model on the 12688 val matches: 66.598361%\n",
      "              precision    recall  f1-score   support\n",
      "\n",
      "           0       0.96      0.84      0.90     19792\n",
      "           1       0.85      0.96      0.90     18336\n",
      "\n",
      "    accuracy                           0.90     38128\n",
      "   macro avg       0.90      0.90      0.90     38128\n",
      "weighted avg       0.91      0.90      0.90     38128\n",
      "\n",
      "Accuracy of the model on the 38128 train matches: 89.981116%\n",
      "Loss after 1029840 examples: 0.120\n",
      "Loss after 1033040 examples: 0.629\n",
      "Loss after 1036240 examples: 0.210\n",
      "Loss after 1039440 examples: 0.202\n",
      "Loss after 1042640 examples: 0.300\n",
      "Loss after 1045840 examples: 0.528\n",
      "Loss after 1049040 examples: 0.274\n",
      "Loss after 1052240 examples: 0.276\n",
      "Loss after 1055440 examples: 0.172\n",
      "Loss after 1058640 examples: 0.085\n",
      "Loss after 1061840 examples: 0.090\n",
      "Loss after 1065040 examples: 0.410\n"
     ]
    },
    {
     "name": "stderr",
     "output_type": "stream",
     "text": [
      " 56%|█████▌    | 28/50 [01:25<01:07,  3.08s/it]"
     ]
    },
    {
     "name": "stdout",
     "output_type": "stream",
     "text": [
      "Epoch: 28\n",
      "              precision    recall  f1-score   support\n",
      "\n",
      "           0       0.72      0.64      0.68      6928\n",
      "           1       0.62      0.69      0.65      5760\n",
      "\n",
      "    accuracy                           0.66     12688\n",
      "   macro avg       0.67      0.67      0.66     12688\n",
      "weighted avg       0.67      0.66      0.67     12688\n",
      "\n",
      "Accuracy of the model on the 12688 val matches: 66.495902%\n",
      "              precision    recall  f1-score   support\n",
      "\n",
      "           0       0.96      0.90      0.93     19792\n",
      "           1       0.90      0.96      0.93     18336\n",
      "\n",
      "    accuracy                           0.93     38128\n",
      "   macro avg       0.93      0.93      0.93     38128\n",
      "weighted avg       0.93      0.93      0.93     38128\n",
      "\n",
      "Accuracy of the model on the 38128 train matches: 92.648447%\n",
      "Loss after 1068224 examples: 0.266\n",
      "Loss after 1071424 examples: 0.264\n",
      "Loss after 1074624 examples: 0.275\n",
      "Loss after 1077824 examples: 0.274\n",
      "Loss after 1081024 examples: 0.113\n",
      "Loss after 1084224 examples: 0.048\n",
      "Loss after 1087424 examples: 0.111\n",
      "Loss after 1090624 examples: 0.125\n",
      "Loss after 1093824 examples: 0.073\n",
      "Loss after 1097024 examples: 0.179\n",
      "Loss after 1100224 examples: 0.515\n",
      "Loss after 1103424 examples: 0.249\n"
     ]
    },
    {
     "name": "stderr",
     "output_type": "stream",
     "text": [
      " 58%|█████▊    | 29/50 [01:28<01:03,  3.02s/it]"
     ]
    },
    {
     "name": "stdout",
     "output_type": "stream",
     "text": [
      "Epoch: 29\n",
      "              precision    recall  f1-score   support\n",
      "\n",
      "           0       0.70      0.64      0.67      6928\n",
      "           1       0.61      0.67      0.64      5760\n",
      "\n",
      "    accuracy                           0.65     12688\n",
      "   macro avg       0.65      0.66      0.65     12688\n",
      "weighted avg       0.66      0.65      0.66     12688\n",
      "\n",
      "Accuracy of the model on the 12688 val matches: 65.447667%\n",
      "              precision    recall  f1-score   support\n",
      "\n",
      "           0       0.93      0.88      0.90     19792\n",
      "           1       0.88      0.93      0.90     18336\n",
      "\n",
      "    accuracy                           0.90     38128\n",
      "   macro avg       0.90      0.90      0.90     38128\n",
      "weighted avg       0.91      0.90      0.90     38128\n",
      "\n",
      "Accuracy of the model on the 38128 train matches: 90.358791%\n",
      "Loss after 1106608 examples: 0.176\n",
      "Loss after 1109808 examples: 0.286\n",
      "Loss after 1113008 examples: 0.420\n",
      "Loss after 1116208 examples: 0.377\n",
      "Loss after 1119408 examples: 0.478\n",
      "Loss after 1122608 examples: 0.472\n",
      "Loss after 1125808 examples: 0.309\n",
      "Loss after 1129008 examples: 0.314\n",
      "Loss after 1132208 examples: 0.118\n",
      "Loss after 1135408 examples: 0.098\n",
      "Loss after 1138608 examples: 0.282\n",
      "Loss after 1141808 examples: 0.225\n"
     ]
    },
    {
     "name": "stderr",
     "output_type": "stream",
     "text": [
      " 60%|██████    | 30/50 [01:31<00:59,  2.98s/it]"
     ]
    },
    {
     "name": "stdout",
     "output_type": "stream",
     "text": [
      "Epoch: 30\n",
      "              precision    recall  f1-score   support\n",
      "\n",
      "           0       0.71      0.64      0.67      6928\n",
      "           1       0.61      0.68      0.65      5760\n",
      "\n",
      "    accuracy                           0.66     12688\n",
      "   macro avg       0.66      0.66      0.66     12688\n",
      "weighted avg       0.67      0.66      0.66     12688\n",
      "\n",
      "Accuracy of the model on the 12688 val matches: 66.054540%\n",
      "              precision    recall  f1-score   support\n",
      "\n",
      "           0       0.93      0.90      0.92     19792\n",
      "           1       0.90      0.93      0.91     18336\n",
      "\n",
      "    accuracy                           0.92     38128\n",
      "   macro avg       0.92      0.92      0.92     38128\n",
      "weighted avg       0.92      0.92      0.92     38128\n",
      "\n",
      "Accuracy of the model on the 38128 train matches: 91.649182%\n",
      "Loss after 1144992 examples: 0.236\n",
      "Loss after 1148192 examples: 0.196\n",
      "Loss after 1151392 examples: 0.426\n",
      "Loss after 1154592 examples: 0.116\n",
      "Loss after 1157792 examples: 0.203\n",
      "Loss after 1160992 examples: 0.249\n",
      "Loss after 1164192 examples: 0.082\n",
      "Loss after 1167392 examples: 0.203\n",
      "Loss after 1170592 examples: 0.554\n",
      "Loss after 1173792 examples: 0.511\n",
      "Loss after 1176992 examples: 0.088\n",
      "Loss after 1180192 examples: 0.362\n"
     ]
    },
    {
     "name": "stderr",
     "output_type": "stream",
     "text": [
      " 62%|██████▏   | 31/50 [01:33<00:55,  2.94s/it]"
     ]
    },
    {
     "name": "stdout",
     "output_type": "stream",
     "text": [
      "Epoch: 31\n",
      "              precision    recall  f1-score   support\n",
      "\n",
      "           0       0.71      0.66      0.68      6928\n",
      "           1       0.62      0.67      0.64      5760\n",
      "\n",
      "    accuracy                           0.66     12688\n",
      "   macro avg       0.66      0.66      0.66     12688\n",
      "weighted avg       0.67      0.66      0.66     12688\n",
      "\n",
      "Accuracy of the model on the 12688 val matches: 66.346154%\n",
      "              precision    recall  f1-score   support\n",
      "\n",
      "           0       0.94      0.91      0.92     19792\n",
      "           1       0.90      0.93      0.92     18336\n",
      "\n",
      "    accuracy                           0.92     38128\n",
      "   macro avg       0.92      0.92      0.92     38128\n",
      "weighted avg       0.92      0.92      0.92     38128\n",
      "\n",
      "Accuracy of the model on the 38128 train matches: 92.042593%\n",
      "Loss after 1183376 examples: 0.276\n",
      "Loss after 1186576 examples: 0.067\n",
      "Loss after 1189776 examples: 0.225\n",
      "Loss after 1192976 examples: 0.085\n",
      "Loss after 1196176 examples: 0.134\n",
      "Loss after 1199376 examples: 0.409\n",
      "Loss after 1202576 examples: 0.240\n",
      "Loss after 1205776 examples: 0.574\n",
      "Loss after 1208976 examples: 0.262\n",
      "Loss after 1212176 examples: 0.053\n",
      "Loss after 1215376 examples: 0.199\n",
      "Loss after 1218576 examples: 0.176\n"
     ]
    },
    {
     "name": "stderr",
     "output_type": "stream",
     "text": [
      " 64%|██████▍   | 32/50 [01:36<00:52,  2.91s/it]"
     ]
    },
    {
     "name": "stdout",
     "output_type": "stream",
     "text": [
      "Epoch: 32\n",
      "              precision    recall  f1-score   support\n",
      "\n",
      "           0       0.70      0.66      0.68      6928\n",
      "           1       0.62      0.66      0.64      5760\n",
      "\n",
      "    accuracy                           0.66     12688\n",
      "   macro avg       0.66      0.66      0.66     12688\n",
      "weighted avg       0.66      0.66      0.66     12688\n",
      "\n",
      "Accuracy of the model on the 12688 val matches: 66.101828%\n",
      "              precision    recall  f1-score   support\n",
      "\n",
      "           0       0.94      0.92      0.93     19792\n",
      "           1       0.91      0.94      0.93     18336\n",
      "\n",
      "    accuracy                           0.93     38128\n",
      "   macro avg       0.93      0.93      0.93     38128\n",
      "weighted avg       0.93      0.93      0.93     38128\n",
      "\n",
      "Accuracy of the model on the 38128 train matches: 92.839908%\n",
      "Loss after 1221760 examples: 0.443\n",
      "Loss after 1224960 examples: 0.298\n",
      "Loss after 1228160 examples: 0.281\n",
      "Loss after 1231360 examples: 0.109\n",
      "Loss after 1234560 examples: 0.196\n",
      "Loss after 1237760 examples: 0.150\n",
      "Loss after 1240960 examples: 0.259\n",
      "Loss after 1244160 examples: 0.108\n",
      "Loss after 1247360 examples: 0.163\n",
      "Loss after 1250560 examples: 0.060\n",
      "Loss after 1253760 examples: 0.154\n",
      "Loss after 1256960 examples: 0.246\n"
     ]
    },
    {
     "name": "stderr",
     "output_type": "stream",
     "text": [
      " 66%|██████▌   | 33/50 [01:39<00:50,  2.97s/it]"
     ]
    },
    {
     "name": "stdout",
     "output_type": "stream",
     "text": [
      "Epoch: 33\n",
      "              precision    recall  f1-score   support\n",
      "\n",
      "           0       0.69      0.68      0.68      6928\n",
      "           1       0.62      0.63      0.63      5760\n",
      "\n",
      "    accuracy                           0.66     12688\n",
      "   macro avg       0.65      0.66      0.65     12688\n",
      "weighted avg       0.66      0.66      0.66     12688\n",
      "\n",
      "Accuracy of the model on the 12688 val matches: 65.707755%\n",
      "              precision    recall  f1-score   support\n",
      "\n",
      "           0       0.92      0.95      0.94     19792\n",
      "           1       0.94      0.92      0.93     18336\n",
      "\n",
      "    accuracy                           0.93     38128\n",
      "   macro avg       0.93      0.93      0.93     38128\n",
      "weighted avg       0.93      0.93      0.93     38128\n",
      "\n",
      "Accuracy of the model on the 38128 train matches: 93.277906%\n",
      "Loss after 1260144 examples: 0.152\n",
      "Loss after 1263344 examples: 0.190\n",
      "Loss after 1266544 examples: 0.534\n",
      "Loss after 1269744 examples: 0.373\n",
      "Loss after 1272944 examples: 0.346\n",
      "Loss after 1276144 examples: 0.101\n",
      "Loss after 1279344 examples: 0.242\n",
      "Loss after 1282544 examples: 0.263\n",
      "Loss after 1285744 examples: 0.093\n",
      "Loss after 1288944 examples: 0.141\n",
      "Loss after 1292144 examples: 0.075\n",
      "Loss after 1295344 examples: 0.139\n"
     ]
    },
    {
     "name": "stderr",
     "output_type": "stream",
     "text": [
      " 68%|██████▊   | 34/50 [01:42<00:47,  2.99s/it]"
     ]
    },
    {
     "name": "stdout",
     "output_type": "stream",
     "text": [
      "Epoch: 34\n",
      "              precision    recall  f1-score   support\n",
      "\n",
      "           0       0.69      0.68      0.69      6928\n",
      "           1       0.62      0.63      0.62      5760\n",
      "\n",
      "    accuracy                           0.66     12688\n",
      "   macro avg       0.66      0.66      0.66     12688\n",
      "weighted avg       0.66      0.66      0.66     12688\n",
      "\n",
      "Accuracy of the model on the 12688 val matches: 65.794451%\n",
      "              precision    recall  f1-score   support\n",
      "\n",
      "           0       0.92      0.94      0.93     19792\n",
      "           1       0.93      0.91      0.92     18336\n",
      "\n",
      "    accuracy                           0.92     38128\n",
      "   macro avg       0.92      0.92      0.92     38128\n",
      "weighted avg       0.92      0.92      0.92     38128\n",
      "\n",
      "Accuracy of the model on the 38128 train matches: 92.215695%\n",
      "Loss after 1298528 examples: 0.123\n",
      "Loss after 1301728 examples: 0.290\n",
      "Loss after 1304928 examples: 0.129\n",
      "Loss after 1308128 examples: 0.132\n",
      "Loss after 1311328 examples: 0.134\n",
      "Loss after 1314528 examples: 0.157\n",
      "Loss after 1317728 examples: 0.129\n",
      "Loss after 1320928 examples: 0.131\n",
      "Loss after 1324128 examples: 0.163\n",
      "Loss after 1327328 examples: 0.420\n",
      "Loss after 1330528 examples: 0.059\n",
      "Loss after 1333728 examples: 0.246\n"
     ]
    },
    {
     "name": "stderr",
     "output_type": "stream",
     "text": [
      " 70%|███████   | 35/50 [01:46<00:45,  3.06s/it]"
     ]
    },
    {
     "name": "stdout",
     "output_type": "stream",
     "text": [
      "Epoch: 35\n",
      "              precision    recall  f1-score   support\n",
      "\n",
      "           0       0.69      0.71      0.70      6928\n",
      "           1       0.64      0.62      0.63      5760\n",
      "\n",
      "    accuracy                           0.67     12688\n",
      "   macro avg       0.66      0.66      0.66     12688\n",
      "weighted avg       0.66      0.67      0.66     12688\n",
      "\n",
      "Accuracy of the model on the 12688 val matches: 66.543190%\n",
      "              precision    recall  f1-score   support\n",
      "\n",
      "           0       0.92      0.95      0.94     19792\n",
      "           1       0.95      0.91      0.93     18336\n",
      "\n",
      "    accuracy                           0.93     38128\n",
      "   macro avg       0.94      0.93      0.93     38128\n",
      "weighted avg       0.93      0.93      0.93     38128\n",
      "\n",
      "Accuracy of the model on the 38128 train matches: 93.443139%\n",
      "Loss after 1336912 examples: 0.111\n",
      "Loss after 1340112 examples: 0.303\n",
      "Loss after 1343312 examples: 0.357\n",
      "Loss after 1346512 examples: 0.360\n",
      "Loss after 1349712 examples: 0.156\n",
      "Loss after 1352912 examples: 0.308\n",
      "Loss after 1356112 examples: 0.164\n",
      "Loss after 1359312 examples: 0.140\n",
      "Loss after 1362512 examples: 0.473\n",
      "Loss after 1365712 examples: 0.132\n",
      "Loss after 1368912 examples: 0.283\n",
      "Loss after 1372112 examples: 0.242\n"
     ]
    },
    {
     "name": "stderr",
     "output_type": "stream",
     "text": [
      " 72%|███████▏  | 36/50 [01:49<00:44,  3.15s/it]"
     ]
    },
    {
     "name": "stdout",
     "output_type": "stream",
     "text": [
      "Epoch: 36\n",
      "              precision    recall  f1-score   support\n",
      "\n",
      "           0       0.67      0.73      0.70      6928\n",
      "           1       0.64      0.56      0.60      5760\n",
      "\n",
      "    accuracy                           0.65     12688\n",
      "   macro avg       0.65      0.65      0.65     12688\n",
      "weighted avg       0.65      0.65      0.65     12688\n",
      "\n",
      "Accuracy of the model on the 12688 val matches: 65.494956%\n",
      "              precision    recall  f1-score   support\n",
      "\n",
      "           0       0.89      0.96      0.93     19792\n",
      "           1       0.95      0.88      0.91     18336\n",
      "\n",
      "    accuracy                           0.92     38128\n",
      "   macro avg       0.92      0.92      0.92     38128\n",
      "weighted avg       0.92      0.92      0.92     38128\n",
      "\n",
      "Accuracy of the model on the 38128 train matches: 91.982270%\n",
      "Loss after 1375296 examples: 0.132\n",
      "Loss after 1378496 examples: 0.122\n",
      "Loss after 1381696 examples: 0.056\n",
      "Loss after 1384896 examples: 0.110\n",
      "Loss after 1388096 examples: 0.195\n",
      "Loss after 1391296 examples: 0.136\n",
      "Loss after 1394496 examples: 0.184\n",
      "Loss after 1397696 examples: 0.251\n",
      "Loss after 1400896 examples: 0.327\n",
      "Loss after 1404096 examples: 0.333\n"
     ]
    },
    {
     "name": "stderr",
     "output_type": "stream",
     "text": [
      " 74%|███████▍  | 37/50 [01:52<00:41,  3.16s/it]"
     ]
    },
    {
     "name": "stdout",
     "output_type": "stream",
     "text": [
      "Loss after 1407296 examples: 0.197\n",
      "Loss after 1410496 examples: 0.462\n",
      "Epoch: 37\n",
      "              precision    recall  f1-score   support\n",
      "\n",
      "           0       0.69      0.68      0.68      6928\n",
      "           1       0.62      0.63      0.62      5760\n",
      "\n",
      "    accuracy                           0.66     12688\n",
      "   macro avg       0.65      0.65      0.65     12688\n",
      "weighted avg       0.66      0.66      0.66     12688\n",
      "\n",
      "Accuracy of the model on the 12688 val matches: 65.684111%\n",
      "              precision    recall  f1-score   support\n",
      "\n",
      "           0       0.92      0.93      0.93     19792\n",
      "           1       0.93      0.91      0.92     18336\n",
      "\n",
      "    accuracy                           0.92     38128\n",
      "   macro avg       0.92      0.92      0.92     38128\n",
      "weighted avg       0.92      0.92      0.92     38128\n",
      "\n",
      "Accuracy of the model on the 38128 train matches: 92.210449%\n",
      "Loss after 1413680 examples: 0.384\n",
      "Loss after 1416880 examples: 0.549\n",
      "Loss after 1420080 examples: 0.118\n",
      "Loss after 1423280 examples: 0.266\n",
      "Loss after 1426480 examples: 0.168\n",
      "Loss after 1429680 examples: 0.202\n",
      "Loss after 1432880 examples: 0.178\n",
      "Loss after 1436080 examples: 0.105\n",
      "Loss after 1439280 examples: 0.152\n",
      "Loss after 1442480 examples: 0.135\n"
     ]
    },
    {
     "name": "stderr",
     "output_type": "stream",
     "text": [
      " 76%|███████▌  | 38/50 [01:55<00:37,  3.14s/it]"
     ]
    },
    {
     "name": "stdout",
     "output_type": "stream",
     "text": [
      "Loss after 1445680 examples: 0.127\n",
      "Loss after 1448864 examples: 0.129\n",
      "Epoch: 38\n",
      "              precision    recall  f1-score   support\n",
      "\n",
      "           0       0.69      0.67      0.68      6928\n",
      "           1       0.62      0.64      0.63      5760\n",
      "\n",
      "    accuracy                           0.66     12688\n",
      "   macro avg       0.65      0.65      0.65     12688\n",
      "weighted avg       0.66      0.66      0.66     12688\n",
      "\n",
      "Accuracy of the model on the 12688 val matches: 65.534363%\n",
      "              precision    recall  f1-score   support\n",
      "\n",
      "           0       0.93      0.91      0.92     19792\n",
      "           1       0.91      0.92      0.91     18336\n",
      "\n",
      "    accuracy                           0.92     38128\n",
      "   macro avg       0.92      0.92      0.92     38128\n",
      "weighted avg       0.92      0.92      0.92     38128\n",
      "\n",
      "Accuracy of the model on the 38128 train matches: 91.756714%\n",
      "Loss after 1452064 examples: 0.281\n",
      "Loss after 1455264 examples: 0.256\n",
      "Loss after 1458464 examples: 0.383\n",
      "Loss after 1461664 examples: 0.673\n",
      "Loss after 1464864 examples: 0.510\n",
      "Loss after 1468064 examples: 0.218\n",
      "Loss after 1471264 examples: 0.372\n",
      "Loss after 1474464 examples: 0.389\n",
      "Loss after 1477664 examples: 0.294\n",
      "Loss after 1480864 examples: 0.324\n"
     ]
    },
    {
     "name": "stderr",
     "output_type": "stream",
     "text": [
      " 78%|███████▊  | 39/50 [01:59<00:34,  3.17s/it]"
     ]
    },
    {
     "name": "stdout",
     "output_type": "stream",
     "text": [
      "Loss after 1484064 examples: 0.143\n",
      "Epoch: 39\n",
      "              precision    recall  f1-score   support\n",
      "\n",
      "           0       0.69      0.70      0.69      6928\n",
      "           1       0.63      0.62      0.63      5760\n",
      "\n",
      "    accuracy                           0.66     12688\n",
      "   macro avg       0.66      0.66      0.66     12688\n",
      "weighted avg       0.66      0.66      0.66     12688\n",
      "\n",
      "Accuracy of the model on the 12688 val matches: 66.283102%\n",
      "              precision    recall  f1-score   support\n",
      "\n",
      "           0       0.91      0.92      0.92     19792\n",
      "           1       0.92      0.90      0.91     18336\n",
      "\n",
      "    accuracy                           0.91     38128\n",
      "   macro avg       0.91      0.91      0.91     38128\n",
      "weighted avg       0.91      0.91      0.91     38128\n",
      "\n",
      "Accuracy of the model on the 38128 train matches: 91.250525%\n",
      "Loss after 1487248 examples: 0.263\n",
      "Loss after 1490448 examples: 0.333\n",
      "Loss after 1493648 examples: 0.203\n",
      "Loss after 1496848 examples: 0.227\n",
      "Loss after 1500048 examples: 0.157\n",
      "Loss after 1503248 examples: 0.187\n",
      "Loss after 1506448 examples: 0.189\n",
      "Loss after 1509648 examples: 0.262\n",
      "Loss after 1512848 examples: 0.109\n",
      "Loss after 1516048 examples: 0.490\n",
      "Loss after 1519248 examples: 0.209\n",
      "Loss after 1522448 examples: 0.207\n"
     ]
    },
    {
     "name": "stderr",
     "output_type": "stream",
     "text": [
      " 80%|████████  | 40/50 [02:02<00:31,  3.15s/it]"
     ]
    },
    {
     "name": "stdout",
     "output_type": "stream",
     "text": [
      "Epoch: 40\n",
      "              precision    recall  f1-score   support\n",
      "\n",
      "           0       0.72      0.55      0.62      6928\n",
      "           1       0.58      0.74      0.65      5760\n",
      "\n",
      "    accuracy                           0.64     12688\n",
      "   macro avg       0.65      0.65      0.64     12688\n",
      "weighted avg       0.66      0.64      0.64     12688\n",
      "\n",
      "Accuracy of the model on the 12688 val matches: 63.776797%\n",
      "              precision    recall  f1-score   support\n",
      "\n",
      "           0       0.96      0.82      0.88     19792\n",
      "           1       0.83      0.96      0.89     18336\n",
      "\n",
      "    accuracy                           0.89     38128\n",
      "   macro avg       0.90      0.89      0.89     38128\n",
      "weighted avg       0.90      0.89      0.89     38128\n",
      "\n",
      "Accuracy of the model on the 38128 train matches: 88.787768%\n",
      "Loss after 1525632 examples: 0.132\n",
      "Loss after 1528832 examples: 0.445\n",
      "Loss after 1532032 examples: 0.221\n",
      "Loss after 1535232 examples: 0.296\n",
      "Loss after 1538432 examples: 0.193\n",
      "Loss after 1541632 examples: 0.187\n",
      "Loss after 1544832 examples: 0.128\n",
      "Loss after 1548032 examples: 0.191\n",
      "Loss after 1551232 examples: 0.456\n",
      "Loss after 1554432 examples: 0.265\n",
      "Loss after 1557632 examples: 0.195\n",
      "Loss after 1560832 examples: 0.072\n"
     ]
    },
    {
     "name": "stderr",
     "output_type": "stream",
     "text": [
      " 82%|████████▏ | 41/50 [02:05<00:28,  3.20s/it]"
     ]
    },
    {
     "name": "stdout",
     "output_type": "stream",
     "text": [
      "Epoch: 41\n",
      "              precision    recall  f1-score   support\n",
      "\n",
      "           0       0.71      0.62      0.66      6928\n",
      "           1       0.60      0.70      0.65      5760\n",
      "\n",
      "    accuracy                           0.66     12688\n",
      "   macro avg       0.66      0.66      0.66     12688\n",
      "weighted avg       0.66      0.66      0.66     12688\n",
      "\n",
      "Accuracy of the model on the 12688 val matches: 65.526482%\n",
      "              precision    recall  f1-score   support\n",
      "\n",
      "           0       0.95      0.90      0.92     19792\n",
      "           1       0.89      0.95      0.92     18336\n",
      "\n",
      "    accuracy                           0.92     38128\n",
      "   macro avg       0.92      0.92      0.92     38128\n",
      "weighted avg       0.92      0.92      0.92     38128\n",
      "\n",
      "Accuracy of the model on the 38128 train matches: 92.223563%\n",
      "Loss after 1564016 examples: 0.390\n",
      "Loss after 1567216 examples: 0.162\n",
      "Loss after 1570416 examples: 0.201\n",
      "Loss after 1573616 examples: 0.155\n",
      "Loss after 1576816 examples: 0.158\n",
      "Loss after 1580016 examples: 0.124\n",
      "Loss after 1583216 examples: 0.112\n",
      "Loss after 1586416 examples: 0.161\n",
      "Loss after 1589616 examples: 0.216\n",
      "Loss after 1592816 examples: 0.180\n",
      "Loss after 1596016 examples: 0.248\n",
      "Loss after 1599216 examples: 0.344\n"
     ]
    },
    {
     "name": "stderr",
     "output_type": "stream",
     "text": [
      " 84%|████████▍ | 42/50 [02:08<00:26,  3.27s/it]"
     ]
    },
    {
     "name": "stdout",
     "output_type": "stream",
     "text": [
      "Epoch: 42\n",
      "              precision    recall  f1-score   support\n",
      "\n",
      "           0       0.69      0.66      0.68      6928\n",
      "           1       0.61      0.65      0.63      5760\n",
      "\n",
      "    accuracy                           0.66     12688\n",
      "   macro avg       0.65      0.66      0.65     12688\n",
      "weighted avg       0.66      0.66      0.66     12688\n",
      "\n",
      "Accuracy of the model on the 12688 val matches: 65.589533%\n",
      "              precision    recall  f1-score   support\n",
      "\n",
      "           0       0.94      0.91      0.92     19792\n",
      "           1       0.90      0.94      0.92     18336\n",
      "\n",
      "    accuracy                           0.92     38128\n",
      "   macro avg       0.92      0.92      0.92     38128\n",
      "weighted avg       0.92      0.92      0.92     38128\n",
      "\n",
      "Accuracy of the model on the 38128 train matches: 92.239299%\n",
      "Loss after 1602400 examples: 0.081\n",
      "Loss after 1605600 examples: 0.207\n",
      "Loss after 1608800 examples: 0.400\n",
      "Loss after 1612000 examples: 0.324\n",
      "Loss after 1615200 examples: 0.041\n",
      "Loss after 1618400 examples: 0.267\n",
      "Loss after 1621600 examples: 0.355\n",
      "Loss after 1624800 examples: 0.055\n",
      "Loss after 1628000 examples: 0.356\n",
      "Loss after 1631200 examples: 0.433\n",
      "Loss after 1634400 examples: 0.269\n",
      "Loss after 1637600 examples: 0.398\n"
     ]
    },
    {
     "name": "stderr",
     "output_type": "stream",
     "text": [
      " 86%|████████▌ | 43/50 [02:12<00:23,  3.29s/it]"
     ]
    },
    {
     "name": "stdout",
     "output_type": "stream",
     "text": [
      "Epoch: 43\n",
      "              precision    recall  f1-score   support\n",
      "\n",
      "           0       0.69      0.67      0.68      6928\n",
      "           1       0.62      0.64      0.63      5760\n",
      "\n",
      "    accuracy                           0.66     12688\n",
      "   macro avg       0.66      0.66      0.66     12688\n",
      "weighted avg       0.66      0.66      0.66     12688\n",
      "\n",
      "Accuracy of the model on the 12688 val matches: 65.739281%\n",
      "              precision    recall  f1-score   support\n",
      "\n",
      "           0       0.95      0.92      0.94     19792\n",
      "           1       0.92      0.95      0.93     18336\n",
      "\n",
      "    accuracy                           0.93     38128\n",
      "   macro avg       0.93      0.94      0.93     38128\n",
      "weighted avg       0.94      0.93      0.93     38128\n",
      "\n",
      "Accuracy of the model on the 38128 train matches: 93.469366%\n",
      "Loss after 1640784 examples: 0.147\n",
      "Loss after 1643984 examples: 0.119\n",
      "Loss after 1647184 examples: 0.159\n",
      "Loss after 1650384 examples: 0.053\n",
      "Loss after 1653584 examples: 0.116\n",
      "Loss after 1656784 examples: 0.216\n",
      "Loss after 1659984 examples: 0.192\n",
      "Loss after 1663184 examples: 0.076\n",
      "Loss after 1666384 examples: 0.281\n",
      "Loss after 1669584 examples: 0.222\n",
      "Loss after 1672784 examples: 0.292\n",
      "Loss after 1675984 examples: 0.101\n"
     ]
    },
    {
     "name": "stderr",
     "output_type": "stream",
     "text": [
      " 88%|████████▊ | 44/50 [02:15<00:19,  3.25s/it]"
     ]
    },
    {
     "name": "stdout",
     "output_type": "stream",
     "text": [
      "Epoch: 44\n",
      "              precision    recall  f1-score   support\n",
      "\n",
      "           0       0.69      0.62      0.66      6928\n",
      "           1       0.60      0.67      0.63      5760\n",
      "\n",
      "    accuracy                           0.64     12688\n",
      "   macro avg       0.64      0.65      0.64     12688\n",
      "weighted avg       0.65      0.64      0.64     12688\n",
      "\n",
      "Accuracy of the model on the 12688 val matches: 64.344262%\n",
      "              precision    recall  f1-score   support\n",
      "\n",
      "           0       0.95      0.89      0.92     19792\n",
      "           1       0.89      0.95      0.92     18336\n",
      "\n",
      "    accuracy                           0.92     38128\n",
      "   macro avg       0.92      0.92      0.92     38128\n",
      "weighted avg       0.92      0.92      0.92     38128\n",
      "\n",
      "Accuracy of the model on the 38128 train matches: 92.176353%\n",
      "Loss after 1679168 examples: 0.079\n",
      "Loss after 1682368 examples: 0.074\n",
      "Loss after 1685568 examples: 0.222\n",
      "Loss after 1688768 examples: 0.153\n",
      "Loss after 1691968 examples: 0.143\n",
      "Loss after 1695168 examples: 0.308\n",
      "Loss after 1698368 examples: 0.322\n",
      "Loss after 1701568 examples: 0.195\n",
      "Loss after 1704768 examples: 0.089\n",
      "Loss after 1707968 examples: 0.347\n",
      "Loss after 1711168 examples: 0.097\n",
      "Loss after 1714368 examples: 0.281\n"
     ]
    },
    {
     "name": "stderr",
     "output_type": "stream",
     "text": [
      " 90%|█████████ | 45/50 [02:18<00:15,  3.13s/it]"
     ]
    },
    {
     "name": "stdout",
     "output_type": "stream",
     "text": [
      "Epoch: 45\n",
      "              precision    recall  f1-score   support\n",
      "\n",
      "           0       0.69      0.69      0.69      6928\n",
      "           1       0.63      0.62      0.62      5760\n",
      "\n",
      "    accuracy                           0.66     12688\n",
      "   macro avg       0.66      0.66      0.66     12688\n",
      "weighted avg       0.66      0.66      0.66     12688\n",
      "\n",
      "Accuracy of the model on the 12688 val matches: 65.873266%\n",
      "              precision    recall  f1-score   support\n",
      "\n",
      "           0       0.94      0.94      0.94     19792\n",
      "           1       0.93      0.93      0.93     18336\n",
      "\n",
      "    accuracy                           0.94     38128\n",
      "   macro avg       0.94      0.94      0.94     38128\n",
      "weighted avg       0.94      0.94      0.94     38128\n",
      "\n",
      "Accuracy of the model on the 38128 train matches: 93.571653%\n",
      "Loss after 1717552 examples: 0.226\n",
      "Loss after 1720752 examples: 0.427\n",
      "Loss after 1723952 examples: 0.040\n",
      "Loss after 1727152 examples: 0.132\n",
      "Loss after 1730352 examples: 0.165\n",
      "Loss after 1733552 examples: 0.117\n",
      "Loss after 1736752 examples: 0.253\n",
      "Loss after 1739952 examples: 0.174\n",
      "Loss after 1743152 examples: 0.333\n",
      "Loss after 1746352 examples: 0.183\n"
     ]
    },
    {
     "name": "stderr",
     "output_type": "stream",
     "text": [
      " 92%|█████████▏| 46/50 [02:21<00:12,  3.05s/it]"
     ]
    },
    {
     "name": "stdout",
     "output_type": "stream",
     "text": [
      "Loss after 1749552 examples: 0.197\n",
      "Loss after 1752752 examples: 0.309\n",
      "Epoch: 46\n",
      "              precision    recall  f1-score   support\n",
      "\n",
      "           0       0.69      0.60      0.64      6928\n",
      "           1       0.59      0.68      0.63      5760\n",
      "\n",
      "    accuracy                           0.64     12688\n",
      "   macro avg       0.64      0.64      0.64     12688\n",
      "weighted avg       0.64      0.64      0.64     12688\n",
      "\n",
      "Accuracy of the model on the 12688 val matches: 63.595523%\n",
      "              precision    recall  f1-score   support\n",
      "\n",
      "           0       0.94      0.90      0.92     19792\n",
      "           1       0.89      0.94      0.92     18336\n",
      "\n",
      "    accuracy                           0.92     38128\n",
      "   macro avg       0.92      0.92      0.92     38128\n",
      "weighted avg       0.92      0.92      0.92     38128\n",
      "\n",
      "Accuracy of the model on the 38128 train matches: 91.793433%\n",
      "Loss after 1755936 examples: 0.057\n",
      "Loss after 1759136 examples: 0.419\n",
      "Loss after 1762336 examples: 0.200\n",
      "Loss after 1765536 examples: 0.076\n",
      "Loss after 1768736 examples: 0.145\n",
      "Loss after 1771936 examples: 0.124\n",
      "Loss after 1775136 examples: 0.060\n",
      "Loss after 1778336 examples: 0.601\n",
      "Loss after 1781536 examples: 0.245\n",
      "Loss after 1784736 examples: 0.175\n"
     ]
    },
    {
     "name": "stderr",
     "output_type": "stream",
     "text": [
      " 94%|█████████▍| 47/50 [02:23<00:08,  2.97s/it]"
     ]
    },
    {
     "name": "stdout",
     "output_type": "stream",
     "text": [
      "Loss after 1787936 examples: 0.084\n",
      "Loss after 1791136 examples: 0.317\n",
      "Epoch: 47\n",
      "              precision    recall  f1-score   support\n",
      "\n",
      "           0       0.67      0.67      0.67      6928\n",
      "           1       0.61      0.61      0.61      5760\n",
      "\n",
      "    accuracy                           0.64     12688\n",
      "   macro avg       0.64      0.64      0.64     12688\n",
      "weighted avg       0.64      0.64      0.64     12688\n",
      "\n",
      "Accuracy of the model on the 12688 val matches: 64.289092%\n",
      "              precision    recall  f1-score   support\n",
      "\n",
      "           0       0.90      0.91      0.91     19792\n",
      "           1       0.90      0.89      0.90     18336\n",
      "\n",
      "    accuracy                           0.90     38128\n",
      "   macro avg       0.90      0.90      0.90     38128\n",
      "weighted avg       0.90      0.90      0.90     38128\n",
      "\n",
      "Accuracy of the model on the 38128 train matches: 90.345678%\n",
      "Loss after 1794320 examples: 0.349\n",
      "Loss after 1797520 examples: 0.177\n",
      "Loss after 1800720 examples: 0.149\n",
      "Loss after 1803920 examples: 0.115\n",
      "Loss after 1807120 examples: 0.180\n",
      "Loss after 1810320 examples: 0.300\n",
      "Loss after 1813520 examples: 0.683\n",
      "Loss after 1816720 examples: 0.071\n",
      "Loss after 1819920 examples: 0.188\n",
      "Loss after 1823120 examples: 0.252\n"
     ]
    },
    {
     "name": "stderr",
     "output_type": "stream",
     "text": [
      " 96%|█████████▌| 48/50 [02:26<00:05,  2.93s/it]"
     ]
    },
    {
     "name": "stdout",
     "output_type": "stream",
     "text": [
      "Loss after 1826320 examples: 0.119\n",
      "Loss after 1829520 examples: 0.411\n",
      "Epoch: 48\n",
      "              precision    recall  f1-score   support\n",
      "\n",
      "           0       0.68      0.70      0.69      6928\n",
      "           1       0.63      0.61      0.62      5760\n",
      "\n",
      "    accuracy                           0.66     12688\n",
      "   macro avg       0.66      0.66      0.66     12688\n",
      "weighted avg       0.66      0.66      0.66     12688\n",
      "\n",
      "Accuracy of the model on the 12688 val matches: 65.975725%\n",
      "              precision    recall  f1-score   support\n",
      "\n",
      "           0       0.91      0.94      0.92     19792\n",
      "           1       0.93      0.90      0.92     18336\n",
      "\n",
      "    accuracy                           0.92     38128\n",
      "   macro avg       0.92      0.92      0.92     38128\n",
      "weighted avg       0.92      0.92      0.92     38128\n",
      "\n",
      "Accuracy of the model on the 38128 train matches: 92.108162%\n",
      "Loss after 1832704 examples: 0.135\n",
      "Loss after 1835904 examples: 0.169\n",
      "Loss after 1839104 examples: 0.186\n",
      "Loss after 1842304 examples: 0.478\n",
      "Loss after 1845504 examples: 0.333\n",
      "Loss after 1848704 examples: 0.049\n",
      "Loss after 1851904 examples: 0.234\n",
      "Loss after 1855104 examples: 0.275\n",
      "Loss after 1858304 examples: 0.236\n",
      "Loss after 1861504 examples: 0.137\n"
     ]
    },
    {
     "name": "stderr",
     "output_type": "stream",
     "text": [
      " 98%|█████████▊| 49/50 [02:29<00:02,  2.91s/it]"
     ]
    },
    {
     "name": "stdout",
     "output_type": "stream",
     "text": [
      "Loss after 1864704 examples: 0.113\n",
      "Loss after 1867904 examples: 0.040\n",
      "Epoch: 49\n",
      "              precision    recall  f1-score   support\n",
      "\n",
      "           0       0.71      0.65      0.68      6928\n",
      "           1       0.62      0.68      0.65      5760\n",
      "\n",
      "    accuracy                           0.67     12688\n",
      "   macro avg       0.66      0.67      0.66     12688\n",
      "weighted avg       0.67      0.67      0.67     12688\n",
      "\n",
      "Accuracy of the model on the 12688 val matches: 66.511665%\n",
      "              precision    recall  f1-score   support\n",
      "\n",
      "           0       0.94      0.90      0.92     19792\n",
      "           1       0.90      0.93      0.92     18336\n",
      "\n",
      "    accuracy                           0.92     38128\n",
      "   macro avg       0.92      0.92      0.92     38128\n",
      "weighted avg       0.92      0.92      0.92     38128\n",
      "\n",
      "Accuracy of the model on the 38128 train matches: 91.722619%\n",
      "Loss after 1871088 examples: 0.360\n",
      "Loss after 1874288 examples: 0.140\n",
      "Loss after 1877488 examples: 0.151\n",
      "Loss after 1880688 examples: 0.149\n",
      "Loss after 1883888 examples: 0.084\n",
      "Loss after 1887088 examples: 0.347\n",
      "Loss after 1890288 examples: 0.060\n",
      "Loss after 1893488 examples: 0.112\n",
      "Loss after 1896688 examples: 0.275\n",
      "Loss after 1899888 examples: 0.264\n"
     ]
    },
    {
     "name": "stderr",
     "output_type": "stream",
     "text": [
      "100%|██████████| 50/50 [02:32<00:00,  3.05s/it]"
     ]
    },
    {
     "name": "stdout",
     "output_type": "stream",
     "text": [
      "Loss after 1903088 examples: 0.150\n",
      "Loss after 1906288 examples: 0.188\n"
     ]
    },
    {
     "name": "stderr",
     "output_type": "stream",
     "text": [
      "\n"
     ]
    },
    {
     "name": "stdout",
     "output_type": "stream",
     "text": [
      "              precision    recall  f1-score   support\n",
      "\n",
      "           0       0.70      0.63      0.67      6928\n",
      "           1       0.61      0.68      0.64      5760\n",
      "\n",
      "    accuracy                           0.66     12688\n",
      "   macro avg       0.66      0.66      0.65     12688\n",
      "weighted avg       0.66      0.66      0.66     12688\n",
      "\n",
      "Accuracy of the model on the 12688 val matches: 65.526482%\n",
      "              precision    recall  f1-score   support\n",
      "\n",
      "           0       0.75      0.66      0.70      7168\n",
      "           1       0.62      0.71      0.66      5520\n",
      "\n",
      "    accuracy                           0.68     12688\n",
      "   macro avg       0.68      0.68      0.68     12688\n",
      "weighted avg       0.69      0.68      0.68     12688\n",
      "\n",
      "Accuracy of the model on the 12688 test matches: 68.024905%\n"
     ]
    },
    {
     "data": {
      "text/plain": "<IPython.core.display.HTML object>",
      "text/html": "Waiting for W&B process to finish... <strong style=\"color:green\">(success).</strong>"
     },
     "metadata": {},
     "output_type": "display_data"
    },
    {
     "data": {
      "text/plain": "VBox(children=(Label(value='0.001 MB of 0.001 MB uploaded (0.000 MB deduped)\\r'), FloatProgress(value=1.0, max…",
      "application/vnd.jupyter.widget-view+json": {
       "version_major": 2,
       "version_minor": 0,
       "model_id": "26508e3b4b804096b9c6e2ec13bcf8d9"
      }
     },
     "metadata": {},
     "output_type": "display_data"
    },
    {
     "data": {
      "text/plain": "<IPython.core.display.HTML object>",
      "text/html": "<style>\n    table.wandb td:nth-child(1) { padding: 0 10px; text-align: left ; width: auto;} td:nth-child(2) {text-align: left ; width: 100%}\n    .wandb-row { display: flex; flex-direction: row; flex-wrap: wrap; justify-content: flex-start; width: 100% }\n    .wandb-col { display: flex; flex-direction: column; flex-basis: 100%; flex: 1; padding: 10px; }\n    </style>\n<div class=\"wandb-row\"><div class=\"wandb-col\"><h3>Run history:</h3><br/><table class=\"wandb\"><tr><td>epoch</td><td>▁▁▁▂▂▂▂▂▂▃▃▃▃▃▄▄▄▄▄▄▅▅▅▅▅▅▆▆▆▆▆▇▇▇▇▇▇███</td></tr><tr><td>test_accuracy</td><td>▁</td></tr><tr><td>train_accuracy</td><td>▁▄▅▅▅▆▆▆▆▇▇▇▇▇▇▇▇██▇██▇▇████████▇███████</td></tr><tr><td>train_loss</td><td>▇▆█▅█▅▆▇▆▃▃▃▂▃▅▃▂▄▂▁▂▁▃▃▅▃▂▂▂▂▄▃▃▂▄▂▂▃▅▁</td></tr><tr><td>val_accuracy</td><td>▁▆▇▆▇▇▇▇▇▇▇█▆▇▇▇▇▇▇█▇▇▇▇▇▇▇▇▇▇▇▇▇▇▇▆▆▆▇▇</td></tr></table><br/></div><div class=\"wandb-col\"><h3>Run summary:</h3><br/><table class=\"wandb\"><tr><td>epoch</td><td>49</td></tr><tr><td>test_accuracy</td><td>0.68025</td></tr><tr><td>train_accuracy</td><td>0.91723</td></tr><tr><td>train_loss</td><td>0.18833</td></tr><tr><td>val_accuracy</td><td>0.65526</td></tr></table><br/></div></div>"
     },
     "metadata": {},
     "output_type": "display_data"
    },
    {
     "data": {
      "text/plain": "<IPython.core.display.HTML object>",
      "text/html": " View run <strong style=\"color:#cdcd00\">effortless-yogurt-9474</strong> at: <a href='https://wandb.ai/moritz-palm/leaguify/runs/5l6g6syh' target=\"_blank\">https://wandb.ai/moritz-palm/leaguify/runs/5l6g6syh</a><br/> View job at <a href='https://wandb.ai/moritz-palm/leaguify/jobs/QXJ0aWZhY3RDb2xsZWN0aW9uOjEwODAxNDk0Mg==/version_details/v39' target=\"_blank\">https://wandb.ai/moritz-palm/leaguify/jobs/QXJ0aWZhY3RDb2xsZWN0aW9uOjEwODAxNDk0Mg==/version_details/v39</a><br/>Synced 5 W&B file(s), 0 media file(s), 2 artifact file(s) and 0 other file(s)"
     },
     "metadata": {},
     "output_type": "display_data"
    },
    {
     "data": {
      "text/plain": "<IPython.core.display.HTML object>",
      "text/html": "Find logs at: <code>.\\wandb\\run-20231107_100330-5l6g6syh\\logs</code>"
     },
     "metadata": {},
     "output_type": "display_data"
    }
   ],
   "source": [
    "model = model_pipeline(config)"
   ],
   "metadata": {
    "collapsed": false,
    "ExecuteTime": {
     "end_time": "2023-11-07T09:06:13.156980600Z",
     "start_time": "2023-11-07T09:03:30.196382300Z"
    }
   }
  },
  {
   "cell_type": "code",
   "execution_count": 34,
   "outputs": [],
   "source": [],
   "metadata": {
    "collapsed": false,
    "ExecuteTime": {
     "end_time": "2023-11-07T09:06:13.157978200Z",
     "start_time": "2023-11-07T09:06:13.146107Z"
    }
   }
  }
 ],
 "metadata": {
  "kernelspec": {
   "display_name": "Python 3",
   "language": "python",
   "name": "python3"
  },
  "language_info": {
   "codemirror_mode": {
    "name": "ipython",
    "version": 2
   },
   "file_extension": ".py",
   "mimetype": "text/x-python",
   "name": "python",
   "nbconvert_exporter": "python",
   "pygments_lexer": "ipython2",
   "version": "2.7.6"
  }
 },
 "nbformat": 4,
 "nbformat_minor": 0
}
