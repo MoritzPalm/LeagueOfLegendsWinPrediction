{
 "cells": [
  {
   "cell_type": "code",
   "execution_count": 26,
   "id": "initial_id",
   "metadata": {
    "collapsed": true,
    "ExecuteTime": {
     "end_time": "2023-12-12T13:50:36.168484400Z",
     "start_time": "2023-12-12T13:50:35.996349600Z"
    }
   },
   "outputs": [
    {
     "name": "stdout",
     "output_type": "stream",
     "text": [
      "PyTorch version: 2.1.0+cu121\n",
      "**********\n",
      "_CUDA version: \n",
      "nvcc: NVIDIA (R) Cuda compiler driver\n",
      "Copyright (c) 2005-2023 NVIDIA Corporation\n",
      "Built on Tue_Aug_15_22:09:35_Pacific_Daylight_Time_2023\n",
      "Cuda compilation tools, release 12.2, V12.2.140\n",
      "Build cuda_12.2.r12.2/compiler.33191640_0\n",
      "**********\n",
      "CUDNN version: 8801\n",
      "Available GPU devices: 1\n",
      "Device Name: NVIDIA GeForce RTX 2080\n",
      "Using cuda device\n"
     ]
    }
   ],
   "source": [
    "import numpy as np\n",
    "import pandas as pd\n",
    "import torch\n",
    "import wandb\n",
    "from torch.utils.data import Dataset, DataLoader\n",
    "from sklearn.metrics import f1_score, classification_report\n",
    "from torch import optim, nn\n",
    "import torchmetrics\n",
    "from tqdm import tqdm\n",
    "import lightning as L\n",
    "from lightning.pytorch.callbacks.early_stopping import EarlyStopping\n",
    "from lightning.pytorch.loggers import TensorBoardLogger, WandbLogger, CSVLogger\n",
    "from lightning.pytorch.callbacks import ModelCheckpoint\n",
    "\n",
    "wandb.login()\n",
    "\n",
    "if torch.cuda.is_available():\n",
    "    print(f'PyTorch version: {torch.__version__}')\n",
    "    print('*' * 10)\n",
    "    print(f'_CUDA version: ')\n",
    "    !nvcc --version\n",
    "    print('*' * 10)\n",
    "    print(f'CUDNN version: {torch.backends.cudnn.version()}')\n",
    "    print(f'Available GPU devices: {torch.cuda.device_count()}')\n",
    "    print(f'Device Name: {torch.cuda.get_device_name()}')\n",
    "    device = \"cuda\"\n",
    "else:\n",
    "    device = \"cpu\"\n",
    "print(f\"Using {device} device\")\n"
   ]
  },
  {
   "cell_type": "code",
   "execution_count": 27,
   "outputs": [],
   "source": [
    "sweep_config = {\n",
    "    'method': 'random',\n",
    "    'metric': {\n",
    "        'name': 'val_acc',\n",
    "        'goal': 'maximize'\n",
    "    },\n",
    "    'parameters': {\n",
    "        'input_size': {\n",
    "            'values': [221]\n",
    "        },\n",
    "        'hidden_size': {\n",
    "            'values': [128, 256, 512, 1024]\n",
    "        },\n",
    "        'num_layers': {\n",
    "            'min': 2,\n",
    "            'max': 15\n",
    "        },\n",
    "        'dropout_prob': {\n",
    "            'values': [0.2, 0.3, 0.4, 0.5]\n",
    "        },\n",
    "        'activation': {\n",
    "            'values': ['ReLU']\n",
    "        },\n",
    "        'decrease_size': {\n",
    "            'values': [False, True]\n",
    "        },\n",
    "        'batch_size': {\n",
    "            'values': [64, 128, 256]\n",
    "        },\n",
    "        'lr': {\n",
    "            'min': 1e-5,\n",
    "            'max': 1e-1\n",
    "        },\n",
    "        'weight_decay': {\n",
    "            'values': [1e-5]\n",
    "        },\n",
    "        'max_epochs': {\n",
    "            'values': [200]\n",
    "        },\n",
    "        'patience': {\n",
    "            'values': [10, 20, 30, 40]\n",
    "        },\n",
    "        'merged': {\n",
    "            'values': [True]\n",
    "        }\n",
    "    }\n",
    "}"
   ],
   "metadata": {
    "collapsed": false,
    "ExecuteTime": {
     "end_time": "2023-12-12T13:50:36.168484400Z",
     "start_time": "2023-12-12T13:50:36.067448600Z"
    }
   },
   "id": "83874e982b33f0dd"
  },
  {
   "cell_type": "code",
   "execution_count": 28,
   "outputs": [
    {
     "name": "stdout",
     "output_type": "stream",
     "text": [
      "Create sweep with ID: tih0fcwn\n",
      "Sweep URL: https://wandb.ai/moritz-palm/leaguify/sweeps/tih0fcwn\n"
     ]
    }
   ],
   "source": [
    "sweep_id = wandb.sweep(sweep_config, project='leaguify')"
   ],
   "metadata": {
    "collapsed": false,
    "ExecuteTime": {
     "end_time": "2023-12-12T13:50:38.763246200Z",
     "start_time": "2023-12-12T13:50:36.070971100Z"
    }
   },
   "id": "1de7e5f743415d72"
  },
  {
   "cell_type": "code",
   "execution_count": 29,
   "outputs": [],
   "source": [
    "class NeuralNetwork(nn.Module):\n",
    "    def __init__(self, input_size, hidden_size, num_layers, dropout_prob, output_size=1, activation=nn.ReLU(),\n",
    "                 decrease_size=False):\n",
    "        super(NeuralNetwork, self).__init__()\n",
    "        self.dropout = nn.Dropout(dropout_prob)\n",
    "        self.num_layers = num_layers\n",
    "        self.hidden_size = hidden_size\n",
    "        self.input_size = input_size\n",
    "        self.output_size = output_size\n",
    "        self.flatten = nn.Flatten()\n",
    "        self.linear_relu_stack = nn.Sequential()\n",
    "        self.linear_relu_stack.append(nn.Linear(input_size, hidden_size))\n",
    "        for i in range(num_layers - 1):\n",
    "            if decrease_size:\n",
    "                next_hidden_size = int(self.hidden_size // 2)\n",
    "            else:\n",
    "                next_hidden_size = self.hidden_size\n",
    "            self.linear_relu_stack.append(self.dropout)\n",
    "            self.linear_relu_stack.append(nn.BatchNorm1d(self.hidden_size))\n",
    "            self.linear_relu_stack.append(nn.Linear(self.hidden_size, next_hidden_size))\n",
    "            self.linear_relu_stack.append(activation)\n",
    "            self.hidden_size = next_hidden_size\n",
    "        self.linear_relu_stack.append(nn.Linear(self.hidden_size, self.output_size))\n",
    "        self.linear_relu_stack.append(nn.Sigmoid())\n",
    "\n",
    "    def forward(self, x):\n",
    "        \"\"\"\n",
    "\n",
    "        :param x:\n",
    "        :return:\n",
    "        \"\"\"\n",
    "        x = self.flatten(x)\n",
    "        logits = self.linear_relu_stack(x)\n",
    "        return logits"
   ],
   "metadata": {
    "collapsed": false,
    "ExecuteTime": {
     "end_time": "2023-12-12T13:50:38.778553700Z",
     "start_time": "2023-12-12T13:50:38.768904800Z"
    }
   },
   "id": "8a212011a515cfe7"
  },
  {
   "cell_type": "code",
   "execution_count": 30,
   "outputs": [],
   "source": [
    "class LNN(L.LightningModule):\n",
    "    def __init__(self, input_size, hidden_size, num_layers, dropout_prob, output_size=1, activation=nn.ReLU(),\n",
    "                 decrease_size=False):\n",
    "        super().__init__()\n",
    "        self.model = NeuralNetwork(input_size, hidden_size, num_layers, dropout_prob, output_size, activation,\n",
    "                                   decrease_size)\n",
    "        self.criterion = nn.BCELoss()\n",
    "        self.save_hyperparameters()\n",
    "        self.accuracy = torchmetrics.classification.BinaryAccuracy()\n",
    "        self.f1 = torchmetrics.classification.BinaryF1Score()\n",
    "        self.confusion_matrix = torchmetrics.classification.BinaryConfusionMatrix()\n",
    "\n",
    "    def training_step(self, batch, batch_idx):\n",
    "        x, y = batch\n",
    "        x = x.type(torch.float32)\n",
    "        y = y.type(torch.float32)\n",
    "        y_hat = self.model(x).squeeze(-1)\n",
    "        loss = self.criterion(y_hat, y)\n",
    "        self.log('train_loss', loss, prog_bar=True)\n",
    "        self.log('train_acc', self.accuracy(y_hat, y), prog_bar=True)\n",
    "        return loss\n",
    "\n",
    "    def validation_step(self, batch, batch_idx):\n",
    "        x, y = batch\n",
    "        x = x.type(torch.float32)\n",
    "        y = y.type(torch.float32)\n",
    "        y_hat = self.model(x).squeeze(-1)\n",
    "        loss = self.criterion(y_hat, y)\n",
    "        self.log('val_loss', loss, prog_bar=True)\n",
    "        self.log('val_acc', self.accuracy(y_hat, y), prog_bar=True)\n",
    "        return loss\n",
    "\n",
    "    def test_step(self, batch, batch_idx):\n",
    "        x, y = batch\n",
    "        x = x.type(torch.float32)\n",
    "        y = y.type(torch.float32)\n",
    "        y_hat = self.model(x).squeeze(-1)\n",
    "        print(f'y_shape: {y.shape}, y_hat_shape: {y_hat.shape}')\n",
    "        loss = self.criterion(y_hat, y)\n",
    "        self.log('test_loss', loss, prog_bar=True)\n",
    "        self.log('test_acc', self.accuracy(y_hat, y), prog_bar=True)\n",
    "        self.log('test_f1', self.f1(y_hat, y), prog_bar=True)\n",
    "        print(f'test_confusion_matrix {self.confusion_matrix(y_hat, y)}')\n",
    "        return loss\n",
    "\n",
    "    def configure_optimizers(self):\n",
    "        optimizer = optim.Adam(self.parameters(), lr=1e-3)\n",
    "        return optimizer"
   ],
   "metadata": {
    "collapsed": false,
    "ExecuteTime": {
     "end_time": "2023-12-12T13:50:38.780550Z",
     "start_time": "2023-12-12T13:50:38.776544800Z"
    }
   },
   "id": "562cf8e4b84ac0ae"
  },
  {
   "cell_type": "code",
   "execution_count": 31,
   "outputs": [],
   "source": [
    "class StaticDataset(Dataset):\n",
    "    def __init__(self, data_dir, transform=None, target_transform=None):\n",
    "        self.data = torch.tensor(np.load(data_dir)[:, :-1], dtype=torch.float32, )\n",
    "        self.labels = torch.tensor(np.load(data_dir)[:, -1], dtype=torch.int64)\n",
    "        self.transform = transform\n",
    "        self.target_transform = target_transform\n",
    "        print(f'labels: {self.labels}')\n",
    "        self.print_statistics()\n",
    "\n",
    "    def __len__(self):\n",
    "        return len(self.data)\n",
    "\n",
    "    def __getitem__(self, idx):\n",
    "        sample = self.data[idx, 1:]\n",
    "        label = self.labels[idx]\n",
    "        if self.transform:\n",
    "            sample = self.transform(sample)\n",
    "        if self.target_transform:\n",
    "            label = self.target_transform(label)\n",
    "        return sample, label\n",
    "\n",
    "    def print_statistics(self):\n",
    "        print(f'Number of samples: {len(self.data)}')\n",
    "        print(f'Number of features: {len(self.data[0])}')\n",
    "        print(f'Number of labels: {len(self.labels)}')\n",
    "        print(f'Number of classes: {len(np.unique(self.labels.cpu().numpy()))}')\n",
    "        print(f'Number of samples per class: {np.bincount(self.labels.cpu().numpy())}')\n"
   ],
   "metadata": {
    "collapsed": false,
    "ExecuteTime": {
     "end_time": "2023-12-12T13:50:38.797071400Z",
     "start_time": "2023-12-12T13:50:38.783551100Z"
    }
   },
   "id": "e17432a4c33a388c"
  },
  {
   "cell_type": "code",
   "execution_count": 32,
   "outputs": [],
   "source": [
    "def train(config=None):\n",
    "    \"\"\"\n",
    "\n",
    "    :param config:\n",
    "    :return:\n",
    "    \"\"\"\n",
    "    with wandb.init(config=config):\n",
    "        data_dir = '../../data/static_11_12_23/processed'\n",
    "        config = wandb.config\n",
    "        model = LNN(config.input_size, config.hidden_size, config.num_layers, config.dropout_prob)\n",
    "\n",
    "        wandb_logger = WandbLogger()\n",
    "        wandb_logger.watch(model)\n",
    "        # training_data = wandb.Artifact('training_data', type='dataset')\n",
    "        # training_data.add_dir(data_dir)\n",
    "        # wandb_logger.experiment.log_artifact(training_data)\n",
    "        if config.merged:\n",
    "            train_loader = DataLoader(StaticDataset(data_dir + '/train_static_merged.npy'),\n",
    "                                      batch_size=config.batch_size,\n",
    "                                      shuffle=True)\n",
    "            val_loader = DataLoader(StaticDataset(data_dir + '/val_static_merged.npy'), batch_size=config.batch_size,\n",
    "                                    shuffle=True)\n",
    "            test_loader = DataLoader(StaticDataset(data_dir + '/test_static_merged.npy'), batch_size=config.batch_size,\n",
    "                                     shuffle=True)\n",
    "        else:\n",
    "            train_loader = DataLoader(StaticDataset(data_dir + '/train_static.npy'), batch_size=config.batch_size,\n",
    "                                      shuffle=True)\n",
    "            val_loader = DataLoader(StaticDataset(data_dir + '/val_static.npy'), batch_size=config.batch_size,\n",
    "                                    shuffle=True)\n",
    "            test_loader = DataLoader(StaticDataset(data_dir + '/test_static.npy'), batch_size=config.batch_size,\n",
    "                                     shuffle=True)\n",
    "        trainer = L.Trainer(max_epochs=config.max_epochs, accelerator=device, devices=1,\n",
    "                            logger=wandb_logger,\n",
    "                            callbacks=[\n",
    "                                EarlyStopping(monitor='val_acc', patience=config.patience, verbose=True, mode='max'),\n",
    "                                ModelCheckpoint(monitor='val_acc', dirpath='models', filename='model', save_top_k=2,\n",
    "                                                mode='max',\n",
    "                                                every_n_epochs=1)\n",
    "                            ])\n",
    "        trainer.fit(model, train_loader, val_loader)\n",
    "        trainer.test(model, test_loader)\n"
   ],
   "metadata": {
    "collapsed": false,
    "ExecuteTime": {
     "end_time": "2023-12-12T13:50:38.819750300Z",
     "start_time": "2023-12-12T13:50:38.789942100Z"
    }
   },
   "id": "e3721ffa93b0ebbf"
  },
  {
   "cell_type": "code",
   "execution_count": 33,
   "outputs": [
    {
     "name": "stderr",
     "output_type": "stream",
     "text": [
      "\u001B[34m\u001B[1mwandb\u001B[0m: Agent Starting Run: nw7ocoom with config:\n",
      "\u001B[34m\u001B[1mwandb\u001B[0m: \tactivation: ReLU\n",
      "\u001B[34m\u001B[1mwandb\u001B[0m: \tbatch_size: 64\n",
      "\u001B[34m\u001B[1mwandb\u001B[0m: \tdecrease_size: False\n",
      "\u001B[34m\u001B[1mwandb\u001B[0m: \tdropout_prob: 0.2\n",
      "\u001B[34m\u001B[1mwandb\u001B[0m: \thidden_size: 256\n",
      "\u001B[34m\u001B[1mwandb\u001B[0m: \tinput_size: 221\n",
      "\u001B[34m\u001B[1mwandb\u001B[0m: \tlr: 0.05052929108760294\n",
      "\u001B[34m\u001B[1mwandb\u001B[0m: \tmax_epochs: 200\n",
      "\u001B[34m\u001B[1mwandb\u001B[0m: \tmerged: True\n",
      "\u001B[34m\u001B[1mwandb\u001B[0m: \tnum_layers: 14\n",
      "\u001B[34m\u001B[1mwandb\u001B[0m: \tpatience: 10\n",
      "\u001B[34m\u001B[1mwandb\u001B[0m: \tweight_decay: 1e-05\n"
     ]
    },
    {
     "data": {
      "text/plain": "<IPython.core.display.HTML object>",
      "text/html": "wandb version 0.16.1 is available!  To upgrade, please run:\n $ pip install wandb --upgrade"
     },
     "metadata": {},
     "output_type": "display_data"
    },
    {
     "data": {
      "text/plain": "<IPython.core.display.HTML object>",
      "text/html": "Tracking run with wandb version 0.15.12"
     },
     "metadata": {},
     "output_type": "display_data"
    },
    {
     "data": {
      "text/plain": "<IPython.core.display.HTML object>",
      "text/html": "Run data is saved locally in <code>C:\\Users\\morit\\Documents\\Informatik\\Projekte\\LeagueOfLegendsWinPrediction\\Training\\static\\wandb\\run-20231212_145041-nw7ocoom</code>"
     },
     "metadata": {},
     "output_type": "display_data"
    },
    {
     "data": {
      "text/plain": "<IPython.core.display.HTML object>",
      "text/html": "Syncing run <strong><a href='https://wandb.ai/moritz-palm/leaguify/runs/nw7ocoom' target=\"_blank\">cool-sweep-1</a></strong> to <a href='https://wandb.ai/moritz-palm/leaguify' target=\"_blank\">Weights & Biases</a> (<a href='https://wandb.me/run' target=\"_blank\">docs</a>)<br/>Sweep page: <a href='https://wandb.ai/moritz-palm/leaguify/sweeps/tih0fcwn' target=\"_blank\">https://wandb.ai/moritz-palm/leaguify/sweeps/tih0fcwn</a>"
     },
     "metadata": {},
     "output_type": "display_data"
    },
    {
     "data": {
      "text/plain": "<IPython.core.display.HTML object>",
      "text/html": " View project at <a href='https://wandb.ai/moritz-palm/leaguify' target=\"_blank\">https://wandb.ai/moritz-palm/leaguify</a>"
     },
     "metadata": {},
     "output_type": "display_data"
    },
    {
     "data": {
      "text/plain": "<IPython.core.display.HTML object>",
      "text/html": " View sweep at <a href='https://wandb.ai/moritz-palm/leaguify/sweeps/tih0fcwn' target=\"_blank\">https://wandb.ai/moritz-palm/leaguify/sweeps/tih0fcwn</a>"
     },
     "metadata": {},
     "output_type": "display_data"
    },
    {
     "data": {
      "text/plain": "<IPython.core.display.HTML object>",
      "text/html": " View run at <a href='https://wandb.ai/moritz-palm/leaguify/runs/nw7ocoom' target=\"_blank\">https://wandb.ai/moritz-palm/leaguify/runs/nw7ocoom</a>"
     },
     "metadata": {},
     "output_type": "display_data"
    },
    {
     "name": "stderr",
     "output_type": "stream",
     "text": [
      "\u001B[34m\u001B[1mwandb\u001B[0m: logging graph, to disable use `wandb.watch(log_graph=False)`\n"
     ]
    },
    {
     "name": "stdout",
     "output_type": "stream",
     "text": [
      "labels: tensor([1, 1, 0,  ..., 0, 1, 0])\n",
      "Number of samples: 31243\n",
      "Number of features: 222\n",
      "Number of labels: 31243\n",
      "Number of classes: 2\n",
      "Number of samples per class: [15084 16159]\n",
      "labels: tensor([0, 1, 1,  ..., 1, 1, 0])\n",
      "Number of samples: 3472\n",
      "Number of features: 222\n",
      "Number of labels: 3472\n",
      "Number of classes: 2\n",
      "Number of samples per class: [1676 1796]\n",
      "labels: tensor([0, 0, 0,  ..., 1, 1, 0])\n",
      "Number of samples: 3858\n",
      "Number of features: 222\n",
      "Number of labels: 3858\n",
      "Number of classes: 2\n",
      "Number of samples per class: [1863 1995]\n"
     ]
    },
    {
     "name": "stderr",
     "output_type": "stream",
     "text": [
      "GPU available: True (cuda), used: True\n",
      "TPU available: False, using: 0 TPU cores\n",
      "IPU available: False, using: 0 IPUs\n",
      "HPU available: False, using: 0 HPUs\n",
      "LOCAL_RANK: 0 - CUDA_VISIBLE_DEVICES: [0]\n",
      "\n",
      "  | Name             | Type                  | Params\n",
      "-----------------------------------------------------------\n",
      "0 | model            | NeuralNetwork         | 919 K \n",
      "1 | criterion        | BCELoss               | 0     \n",
      "2 | accuracy         | BinaryAccuracy        | 0     \n",
      "3 | f1               | BinaryF1Score         | 0     \n",
      "4 | confusion_matrix | BinaryConfusionMatrix | 0     \n",
      "-----------------------------------------------------------\n",
      "919 K     Trainable params\n",
      "0         Non-trainable params\n",
      "919 K     Total params\n",
      "3.676     Total estimated model params size (MB)\n",
      "\u001B[34m\u001B[1mwandb\u001B[0m: \u001B[33mWARNING\u001B[0m Config item 'input_size' was locked by 'sweep' (ignored update).\n",
      "\u001B[34m\u001B[1mwandb\u001B[0m: \u001B[33mWARNING\u001B[0m Config item 'hidden_size' was locked by 'sweep' (ignored update).\n",
      "\u001B[34m\u001B[1mwandb\u001B[0m: \u001B[33mWARNING\u001B[0m Config item 'num_layers' was locked by 'sweep' (ignored update).\n",
      "\u001B[34m\u001B[1mwandb\u001B[0m: \u001B[33mWARNING\u001B[0m Config item 'dropout_prob' was locked by 'sweep' (ignored update).\n",
      "\u001B[34m\u001B[1mwandb\u001B[0m: \u001B[33mWARNING\u001B[0m Config item 'activation' was locked by 'sweep' (ignored update).\n",
      "\u001B[34m\u001B[1mwandb\u001B[0m: \u001B[33mWARNING\u001B[0m Config item 'decrease_size' was locked by 'sweep' (ignored update).\n"
     ]
    },
    {
     "data": {
      "text/plain": "Sanity Checking: |          | 0/? [00:00<?, ?it/s]",
      "application/vnd.jupyter.widget-view+json": {
       "version_major": 2,
       "version_minor": 0,
       "model_id": "ea89d5a00d20441a871887567e709632"
      }
     },
     "metadata": {},
     "output_type": "display_data"
    },
    {
     "name": "stderr",
     "output_type": "stream",
     "text": [
      "C:\\Users\\morit\\AppData\\Local\\pypoetry\\Cache\\virtualenvs\\leaguify-VaCbhr8h-py3.11\\Lib\\site-packages\\lightning\\pytorch\\trainer\\connectors\\data_connector.py:492: Your `val_dataloader`'s sampler has shuffling enabled, it is strongly recommended that you turn shuffling off for val/test dataloaders.\n",
      "C:\\Users\\morit\\AppData\\Local\\pypoetry\\Cache\\virtualenvs\\leaguify-VaCbhr8h-py3.11\\Lib\\site-packages\\lightning\\pytorch\\trainer\\connectors\\data_connector.py:441: The 'val_dataloader' does not have many workers which may be a bottleneck. Consider increasing the value of the `num_workers` argument` to `num_workers=23` in the `DataLoader` to improve performance.\n",
      "C:\\Users\\morit\\AppData\\Local\\pypoetry\\Cache\\virtualenvs\\leaguify-VaCbhr8h-py3.11\\Lib\\site-packages\\lightning\\pytorch\\trainer\\connectors\\data_connector.py:441: The 'train_dataloader' does not have many workers which may be a bottleneck. Consider increasing the value of the `num_workers` argument` to `num_workers=23` in the `DataLoader` to improve performance.\n"
     ]
    },
    {
     "data": {
      "text/plain": "Training: |          | 0/? [00:00<?, ?it/s]",
      "application/vnd.jupyter.widget-view+json": {
       "version_major": 2,
       "version_minor": 0,
       "model_id": "b3f86a1b0d4241e6a85bdf314ba3ecf0"
      }
     },
     "metadata": {},
     "output_type": "display_data"
    },
    {
     "data": {
      "text/plain": "Validation: |          | 0/? [00:00<?, ?it/s]",
      "application/vnd.jupyter.widget-view+json": {
       "version_major": 2,
       "version_minor": 0,
       "model_id": "1da7446f16cc4f20818a42098f3777c6"
      }
     },
     "metadata": {},
     "output_type": "display_data"
    },
    {
     "name": "stderr",
     "output_type": "stream",
     "text": [
      "Metric val_acc improved. New best score: 0.695\n"
     ]
    },
    {
     "data": {
      "text/plain": "Validation: |          | 0/? [00:00<?, ?it/s]",
      "application/vnd.jupyter.widget-view+json": {
       "version_major": 2,
       "version_minor": 0,
       "model_id": "ed62f8088bdc4b3599127f78ab3a56f8"
      }
     },
     "metadata": {},
     "output_type": "display_data"
    },
    {
     "name": "stderr",
     "output_type": "stream",
     "text": [
      "Metric val_acc improved by 0.003 >= min_delta = 0.0. New best score: 0.698\n"
     ]
    },
    {
     "data": {
      "text/plain": "Validation: |          | 0/? [00:00<?, ?it/s]",
      "application/vnd.jupyter.widget-view+json": {
       "version_major": 2,
       "version_minor": 0,
       "model_id": "20b81641c6ff4a3ab8d29f1e6f6d47d6"
      }
     },
     "metadata": {},
     "output_type": "display_data"
    },
    {
     "data": {
      "text/plain": "Validation: |          | 0/? [00:00<?, ?it/s]",
      "application/vnd.jupyter.widget-view+json": {
       "version_major": 2,
       "version_minor": 0,
       "model_id": "75ad5ed82a934b36a42af04a411139ff"
      }
     },
     "metadata": {},
     "output_type": "display_data"
    },
    {
     "data": {
      "text/plain": "Validation: |          | 0/? [00:00<?, ?it/s]",
      "application/vnd.jupyter.widget-view+json": {
       "version_major": 2,
       "version_minor": 0,
       "model_id": "a51e794eaf09466eb26d30f04283e601"
      }
     },
     "metadata": {},
     "output_type": "display_data"
    },
    {
     "data": {
      "text/plain": "Validation: |          | 0/? [00:00<?, ?it/s]",
      "application/vnd.jupyter.widget-view+json": {
       "version_major": 2,
       "version_minor": 0,
       "model_id": "9367113bb2974ff0a849b7638a82fe2c"
      }
     },
     "metadata": {},
     "output_type": "display_data"
    },
    {
     "data": {
      "text/plain": "Validation: |          | 0/? [00:00<?, ?it/s]",
      "application/vnd.jupyter.widget-view+json": {
       "version_major": 2,
       "version_minor": 0,
       "model_id": "8ac9ccef991f4c72ba62bdc4b37e8447"
      }
     },
     "metadata": {},
     "output_type": "display_data"
    },
    {
     "data": {
      "text/plain": "Validation: |          | 0/? [00:00<?, ?it/s]",
      "application/vnd.jupyter.widget-view+json": {
       "version_major": 2,
       "version_minor": 0,
       "model_id": "1c461f69383640ebb6f2761c51b2f3ec"
      }
     },
     "metadata": {},
     "output_type": "display_data"
    },
    {
     "data": {
      "text/plain": "Validation: |          | 0/? [00:00<?, ?it/s]",
      "application/vnd.jupyter.widget-view+json": {
       "version_major": 2,
       "version_minor": 0,
       "model_id": "cdd680d34e1b47b488a7e0878c211a44"
      }
     },
     "metadata": {},
     "output_type": "display_data"
    },
    {
     "data": {
      "text/plain": "Validation: |          | 0/? [00:00<?, ?it/s]",
      "application/vnd.jupyter.widget-view+json": {
       "version_major": 2,
       "version_minor": 0,
       "model_id": "b593d7a6f59d400da28a55b6ed58bf22"
      }
     },
     "metadata": {},
     "output_type": "display_data"
    },
    {
     "data": {
      "text/plain": "Validation: |          | 0/? [00:00<?, ?it/s]",
      "application/vnd.jupyter.widget-view+json": {
       "version_major": 2,
       "version_minor": 0,
       "model_id": "111a4e2e74c0480786b556dbf770a966"
      }
     },
     "metadata": {},
     "output_type": "display_data"
    },
    {
     "data": {
      "text/plain": "Validation: |          | 0/? [00:00<?, ?it/s]",
      "application/vnd.jupyter.widget-view+json": {
       "version_major": 2,
       "version_minor": 0,
       "model_id": "0348e8c92d6f40e18a2ab72325d8640a"
      }
     },
     "metadata": {},
     "output_type": "display_data"
    },
    {
     "name": "stderr",
     "output_type": "stream",
     "text": [
      "Monitored metric val_acc did not improve in the last 10 records. Best score: 0.698. Signaling Trainer to stop.\n",
      "LOCAL_RANK: 0 - CUDA_VISIBLE_DEVICES: [0]\n",
      "\u001B[34m\u001B[1mwandb\u001B[0m: \u001B[33mWARNING\u001B[0m Config item 'input_size' was locked by 'sweep' (ignored update).\n",
      "\u001B[34m\u001B[1mwandb\u001B[0m: \u001B[33mWARNING\u001B[0m Config item 'hidden_size' was locked by 'sweep' (ignored update).\n",
      "\u001B[34m\u001B[1mwandb\u001B[0m: \u001B[33mWARNING\u001B[0m Config item 'num_layers' was locked by 'sweep' (ignored update).\n",
      "\u001B[34m\u001B[1mwandb\u001B[0m: \u001B[33mWARNING\u001B[0m Config item 'dropout_prob' was locked by 'sweep' (ignored update).\n",
      "\u001B[34m\u001B[1mwandb\u001B[0m: \u001B[33mWARNING\u001B[0m Config item 'activation' was locked by 'sweep' (ignored update).\n",
      "\u001B[34m\u001B[1mwandb\u001B[0m: \u001B[33mWARNING\u001B[0m Config item 'decrease_size' was locked by 'sweep' (ignored update).\n",
      "C:\\Users\\morit\\AppData\\Local\\pypoetry\\Cache\\virtualenvs\\leaguify-VaCbhr8h-py3.11\\Lib\\site-packages\\lightning\\pytorch\\trainer\\connectors\\data_connector.py:492: Your `test_dataloader`'s sampler has shuffling enabled, it is strongly recommended that you turn shuffling off for val/test dataloaders.\n",
      "C:\\Users\\morit\\AppData\\Local\\pypoetry\\Cache\\virtualenvs\\leaguify-VaCbhr8h-py3.11\\Lib\\site-packages\\lightning\\pytorch\\trainer\\connectors\\data_connector.py:441: The 'test_dataloader' does not have many workers which may be a bottleneck. Consider increasing the value of the `num_workers` argument` to `num_workers=23` in the `DataLoader` to improve performance.\n"
     ]
    },
    {
     "data": {
      "text/plain": "Testing: |          | 0/? [00:00<?, ?it/s]",
      "application/vnd.jupyter.widget-view+json": {
       "version_major": 2,
       "version_minor": 0,
       "model_id": "765f7a3426cc41ff97b7858a34c530ef"
      }
     },
     "metadata": {},
     "output_type": "display_data"
    },
    {
     "name": "stdout",
     "output_type": "stream",
     "text": [
      "y_shape: torch.Size([64]), y_hat_shape: torch.Size([64])\n",
      "test_confusion_matrix tensor([[29,  6],\n",
      "        [12, 17]], device='cuda:0')\n",
      "y_shape: torch.Size([64]), y_hat_shape: torch.Size([64])\n",
      "test_confusion_matrix tensor([[22,  8],\n",
      "        [11, 23]], device='cuda:0')\n",
      "y_shape: torch.Size([64]), y_hat_shape: torch.Size([64])\n",
      "test_confusion_matrix tensor([[25,  6],\n",
      "        [11, 22]], device='cuda:0')\n",
      "y_shape: torch.Size([64]), y_hat_shape: torch.Size([64])\n",
      "test_confusion_matrix tensor([[25,  8],\n",
      "        [13, 18]], device='cuda:0')\n",
      "y_shape: torch.Size([64]), y_hat_shape: torch.Size([64])\n",
      "test_confusion_matrix tensor([[24,  9],\n",
      "        [13, 18]], device='cuda:0')\n",
      "y_shape: torch.Size([64]), y_hat_shape: torch.Size([64])\n",
      "test_confusion_matrix tensor([[16,  7],\n",
      "        [14, 27]], device='cuda:0')\n",
      "y_shape: torch.Size([64]), y_hat_shape: torch.Size([64])\n",
      "test_confusion_matrix tensor([[27,  5],\n",
      "        [14, 18]], device='cuda:0')\n",
      "y_shape: torch.Size([64]), y_hat_shape: torch.Size([64])\n",
      "test_confusion_matrix tensor([[17, 12],\n",
      "        [14, 21]], device='cuda:0')\n",
      "y_shape: torch.Size([64]), y_hat_shape: torch.Size([64])\n",
      "test_confusion_matrix tensor([[24,  7],\n",
      "        [19, 14]], device='cuda:0')\n",
      "y_shape: torch.Size([64]), y_hat_shape: torch.Size([64])\n",
      "test_confusion_matrix tensor([[30,  5],\n",
      "        [13, 16]], device='cuda:0')\n",
      "y_shape: torch.Size([64]), y_hat_shape: torch.Size([64])\n",
      "test_confusion_matrix tensor([[23,  5],\n",
      "        [16, 20]], device='cuda:0')\n",
      "y_shape: torch.Size([64]), y_hat_shape: torch.Size([64])\n",
      "test_confusion_matrix tensor([[18,  6],\n",
      "        [14, 26]], device='cuda:0')\n",
      "y_shape: torch.Size([64]), y_hat_shape: torch.Size([64])\n",
      "test_confusion_matrix tensor([[23,  8],\n",
      "        [13, 20]], device='cuda:0')\n",
      "y_shape: torch.Size([64]), y_hat_shape: torch.Size([64])\n",
      "test_confusion_matrix tensor([[32,  8],\n",
      "        [ 8, 16]], device='cuda:0')\n",
      "y_shape: torch.Size([64]), y_hat_shape: torch.Size([64])\n",
      "test_confusion_matrix tensor([[30,  6],\n",
      "        [13, 15]], device='cuda:0')\n",
      "y_shape: torch.Size([64]), y_hat_shape: torch.Size([64])\n",
      "test_confusion_matrix tensor([[23,  3],\n",
      "        [13, 25]], device='cuda:0')\n",
      "y_shape: torch.Size([64]), y_hat_shape: torch.Size([64])\n",
      "test_confusion_matrix tensor([[17,  5],\n",
      "        [12, 30]], device='cuda:0')\n",
      "y_shape: torch.Size([64]), y_hat_shape: torch.Size([64])\n",
      "test_confusion_matrix tensor([[21,  9],\n",
      "        [16, 18]], device='cuda:0')\n",
      "y_shape: torch.Size([64]), y_hat_shape: torch.Size([64])\n",
      "test_confusion_matrix tensor([[20,  8],\n",
      "        [13, 23]], device='cuda:0')\n",
      "y_shape: torch.Size([64]), y_hat_shape: torch.Size([64])\n",
      "test_confusion_matrix tensor([[22, 12],\n",
      "        [17, 13]], device='cuda:0')\n",
      "y_shape: torch.Size([64]), y_hat_shape: torch.Size([64])\n",
      "test_confusion_matrix tensor([[19,  9],\n",
      "        [20, 16]], device='cuda:0')\n",
      "y_shape: torch.Size([64]), y_hat_shape: torch.Size([64])\n",
      "test_confusion_matrix tensor([[26, 11],\n",
      "        [ 7, 20]], device='cuda:0')\n",
      "y_shape: torch.Size([64]), y_hat_shape: torch.Size([64])\n",
      "test_confusion_matrix tensor([[21, 11],\n",
      "        [13, 19]], device='cuda:0')\n",
      "y_shape: torch.Size([64]), y_hat_shape: torch.Size([64])\n",
      "test_confusion_matrix tensor([[13,  5],\n",
      "        [19, 27]], device='cuda:0')\n",
      "y_shape: torch.Size([64]), y_hat_shape: torch.Size([64])\n",
      "test_confusion_matrix tensor([[25,  3],\n",
      "        [ 9, 27]], device='cuda:0')\n",
      "y_shape: torch.Size([64]), y_hat_shape: torch.Size([64])\n",
      "test_confusion_matrix tensor([[27,  8],\n",
      "        [ 9, 20]], device='cuda:0')\n",
      "y_shape: torch.Size([64]), y_hat_shape: torch.Size([64])\n",
      "test_confusion_matrix tensor([[24, 10],\n",
      "        [ 8, 22]], device='cuda:0')\n",
      "y_shape: torch.Size([64]), y_hat_shape: torch.Size([64])\n",
      "test_confusion_matrix tensor([[21,  5],\n",
      "        [14, 24]], device='cuda:0')\n",
      "y_shape: torch.Size([64]), y_hat_shape: torch.Size([64])\n",
      "test_confusion_matrix tensor([[21, 11],\n",
      "        [11, 21]], device='cuda:0')\n",
      "y_shape: torch.Size([64]), y_hat_shape: torch.Size([64])\n",
      "test_confusion_matrix tensor([[29,  6],\n",
      "        [16, 13]], device='cuda:0')\n",
      "y_shape: torch.Size([64]), y_hat_shape: torch.Size([64])\n",
      "test_confusion_matrix tensor([[27,  4],\n",
      "        [13, 20]], device='cuda:0')\n",
      "y_shape: torch.Size([64]), y_hat_shape: torch.Size([64])\n",
      "test_confusion_matrix tensor([[24,  8],\n",
      "        [ 7, 25]], device='cuda:0')\n",
      "y_shape: torch.Size([64]), y_hat_shape: torch.Size([64])\n",
      "test_confusion_matrix tensor([[23,  6],\n",
      "        [15, 20]], device='cuda:0')\n",
      "y_shape: torch.Size([64]), y_hat_shape: torch.Size([64])\n",
      "test_confusion_matrix tensor([[20,  5],\n",
      "        [15, 24]], device='cuda:0')\n",
      "y_shape: torch.Size([64]), y_hat_shape: torch.Size([64])\n",
      "test_confusion_matrix tensor([[28,  6],\n",
      "        [14, 16]], device='cuda:0')\n",
      "y_shape: torch.Size([64]), y_hat_shape: torch.Size([64])\n",
      "test_confusion_matrix tensor([[22, 10],\n",
      "        [14, 18]], device='cuda:0')\n",
      "y_shape: torch.Size([64]), y_hat_shape: torch.Size([64])\n",
      "test_confusion_matrix tensor([[26,  7],\n",
      "        [14, 17]], device='cuda:0')\n",
      "y_shape: torch.Size([64]), y_hat_shape: torch.Size([64])\n",
      "test_confusion_matrix tensor([[29,  3],\n",
      "        [11, 21]], device='cuda:0')\n",
      "y_shape: torch.Size([64]), y_hat_shape: torch.Size([64])\n",
      "test_confusion_matrix tensor([[25,  7],\n",
      "        [10, 22]], device='cuda:0')\n",
      "y_shape: torch.Size([64]), y_hat_shape: torch.Size([64])\n",
      "test_confusion_matrix tensor([[16,  5],\n",
      "        [17, 26]], device='cuda:0')\n",
      "y_shape: torch.Size([64]), y_hat_shape: torch.Size([64])\n",
      "test_confusion_matrix tensor([[28,  7],\n",
      "        [17, 12]], device='cuda:0')\n",
      "y_shape: torch.Size([64]), y_hat_shape: torch.Size([64])\n",
      "test_confusion_matrix tensor([[21,  5],\n",
      "        [18, 20]], device='cuda:0')\n",
      "y_shape: torch.Size([64]), y_hat_shape: torch.Size([64])\n",
      "test_confusion_matrix tensor([[28,  5],\n",
      "        [14, 17]], device='cuda:0')\n",
      "y_shape: torch.Size([64]), y_hat_shape: torch.Size([64])\n",
      "test_confusion_matrix tensor([[25,  6],\n",
      "        [14, 19]], device='cuda:0')\n",
      "y_shape: torch.Size([64]), y_hat_shape: torch.Size([64])\n",
      "test_confusion_matrix tensor([[29,  7],\n",
      "        [11, 17]], device='cuda:0')\n",
      "y_shape: torch.Size([64]), y_hat_shape: torch.Size([64])\n",
      "test_confusion_matrix tensor([[30,  3],\n",
      "        [14, 17]], device='cuda:0')\n",
      "y_shape: torch.Size([64]), y_hat_shape: torch.Size([64])\n",
      "test_confusion_matrix tensor([[26,  3],\n",
      "        [15, 20]], device='cuda:0')\n",
      "y_shape: torch.Size([64]), y_hat_shape: torch.Size([64])\n",
      "test_confusion_matrix tensor([[32,  4],\n",
      "        [13, 15]], device='cuda:0')\n",
      "y_shape: torch.Size([64]), y_hat_shape: torch.Size([64])\n",
      "test_confusion_matrix tensor([[24,  6],\n",
      "        [11, 23]], device='cuda:0')\n",
      "y_shape: torch.Size([64]), y_hat_shape: torch.Size([64])\n",
      "test_confusion_matrix tensor([[22, 12],\n",
      "        [11, 19]], device='cuda:0')\n",
      "y_shape: torch.Size([64]), y_hat_shape: torch.Size([64])\n",
      "test_confusion_matrix tensor([[22, 10],\n",
      "        [15, 17]], device='cuda:0')\n",
      "y_shape: torch.Size([64]), y_hat_shape: torch.Size([64])\n",
      "test_confusion_matrix tensor([[23,  5],\n",
      "        [14, 22]], device='cuda:0')\n",
      "y_shape: torch.Size([64]), y_hat_shape: torch.Size([64])\n",
      "test_confusion_matrix tensor([[31,  8],\n",
      "        [ 7, 18]], device='cuda:0')\n",
      "y_shape: torch.Size([64]), y_hat_shape: torch.Size([64])\n",
      "test_confusion_matrix tensor([[22,  9],\n",
      "        [11, 22]], device='cuda:0')\n",
      "y_shape: torch.Size([64]), y_hat_shape: torch.Size([64])\n",
      "test_confusion_matrix tensor([[21, 10],\n",
      "        [ 8, 25]], device='cuda:0')\n",
      "y_shape: torch.Size([64]), y_hat_shape: torch.Size([64])\n",
      "test_confusion_matrix tensor([[13, 13],\n",
      "        [14, 24]], device='cuda:0')\n",
      "y_shape: torch.Size([64]), y_hat_shape: torch.Size([64])\n",
      "test_confusion_matrix tensor([[27,  9],\n",
      "        [13, 15]], device='cuda:0')\n",
      "y_shape: torch.Size([64]), y_hat_shape: torch.Size([64])\n",
      "test_confusion_matrix tensor([[26,  4],\n",
      "        [19, 15]], device='cuda:0')\n",
      "y_shape: torch.Size([64]), y_hat_shape: torch.Size([64])\n",
      "test_confusion_matrix tensor([[27,  4],\n",
      "        [11, 22]], device='cuda:0')\n",
      "y_shape: torch.Size([64]), y_hat_shape: torch.Size([64])\n",
      "test_confusion_matrix tensor([[27,  6],\n",
      "        [13, 18]], device='cuda:0')\n",
      "y_shape: torch.Size([18]), y_hat_shape: torch.Size([18])\n",
      "test_confusion_matrix tensor([[6, 0],\n",
      "        [4, 8]], device='cuda:0')\n",
      "────────────────────────────────────────────────────────────────────────────────────────────────────────────────────────\r\n",
      "       Test metric             DataLoader 0\r\n",
      "────────────────────────────────────────────────────────────────────────────────────────────────────────────────────────\r\n",
      "        test_acc             0.68610680103302\r\n",
      "         test_f1            0.6607873439788818\r\n",
      "        test_loss           0.5581653714179993\r\n",
      "────────────────────────────────────────────────────────────────────────────────────────────────────────────────────────\n"
     ]
    },
    {
     "data": {
      "text/plain": "<IPython.core.display.HTML object>",
      "text/html": "Waiting for W&B process to finish... <strong style=\"color:green\">(success).</strong>"
     },
     "metadata": {},
     "output_type": "display_data"
    },
    {
     "data": {
      "text/plain": "<IPython.core.display.HTML object>",
      "text/html": "<style>\n    table.wandb td:nth-child(1) { padding: 0 10px; text-align: left ; width: auto;} td:nth-child(2) {text-align: left ; width: 100%}\n    .wandb-row { display: flex; flex-direction: row; flex-wrap: wrap; justify-content: flex-start; width: 100% }\n    .wandb-col { display: flex; flex-direction: column; flex-basis: 100%; flex: 1; padding: 10px; }\n    </style>\n<div class=\"wandb-row\"><div class=\"wandb-col\"><h3>Run history:</h3><br/><table class=\"wandb\"><tr><td>epoch</td><td>▁▁▁▁▂▂▂▂▂▂▃▃▃▃▃▃▄▄▄▄▅▅▅▅▅▅▅▆▆▆▆▆▆▇▇▇▇▇▇█</td></tr><tr><td>test_acc</td><td>▁</td></tr><tr><td>test_f1</td><td>▁</td></tr><tr><td>test_loss</td><td>▁</td></tr><tr><td>train_acc</td><td>▁▃▇▆▄▅▆▆▅▆▆▆█▅▇▆▇▅▅▅▅█▆▆▇▆▇▅▅▇▇▅█▆▄▆▇▅▆▆</td></tr><tr><td>train_loss</td><td>█▇▅▅▆▃▂▄▅▃▄▄▂▆▂▄▄▅▄▅▆▁▄▅▃▅▄▄▄▃▂▆▃▅▆▅▃▄▄▃</td></tr><tr><td>trainer/global_step</td><td>▁▁▁▁▂▂▂▂▂▃▃▃▃▃▃▄▄▄▄▄▅▅▅▅▅▆▆▆▆▆▆▇▇▇▇▇▇███</td></tr><tr><td>val_acc</td><td>▇█▄▅▁▇▄▆▆▇▆▃</td></tr><tr><td>val_loss</td><td>▆▇▆▅█▄▅▁▂▃▂▂</td></tr></table><br/></div><div class=\"wandb-col\"><h3>Run summary:</h3><br/><table class=\"wandb\"><tr><td>epoch</td><td>12</td></tr><tr><td>test_acc</td><td>0.68611</td></tr><tr><td>test_f1</td><td>0.66079</td></tr><tr><td>test_loss</td><td>0.55817</td></tr><tr><td>train_acc</td><td>0.73438</td></tr><tr><td>train_loss</td><td>0.49144</td></tr><tr><td>trainer/global_step</td><td>5868</td></tr><tr><td>val_acc</td><td>0.68606</td></tr><tr><td>val_loss</td><td>0.56243</td></tr></table><br/></div></div>"
     },
     "metadata": {},
     "output_type": "display_data"
    },
    {
     "data": {
      "text/plain": "<IPython.core.display.HTML object>",
      "text/html": " View run <strong style=\"color:#cdcd00\">cool-sweep-1</strong> at: <a href='https://wandb.ai/moritz-palm/leaguify/runs/nw7ocoom' target=\"_blank\">https://wandb.ai/moritz-palm/leaguify/runs/nw7ocoom</a><br/>Synced 5 W&B file(s), 1 media file(s), 0 artifact file(s) and 0 other file(s)"
     },
     "metadata": {},
     "output_type": "display_data"
    },
    {
     "data": {
      "text/plain": "<IPython.core.display.HTML object>",
      "text/html": "Find logs at: <code>.\\wandb\\run-20231212_145041-nw7ocoom\\logs</code>"
     },
     "metadata": {},
     "output_type": "display_data"
    },
    {
     "name": "stderr",
     "output_type": "stream",
     "text": [
      "\u001B[34m\u001B[1mwandb\u001B[0m: Agent Starting Run: sayv290e with config:\n",
      "\u001B[34m\u001B[1mwandb\u001B[0m: \tactivation: ReLU\n",
      "\u001B[34m\u001B[1mwandb\u001B[0m: \tbatch_size: 256\n",
      "\u001B[34m\u001B[1mwandb\u001B[0m: \tdecrease_size: True\n",
      "\u001B[34m\u001B[1mwandb\u001B[0m: \tdropout_prob: 0.4\n",
      "\u001B[34m\u001B[1mwandb\u001B[0m: \thidden_size: 256\n",
      "\u001B[34m\u001B[1mwandb\u001B[0m: \tinput_size: 221\n",
      "\u001B[34m\u001B[1mwandb\u001B[0m: \tlr: 0.03366837801880781\n",
      "\u001B[34m\u001B[1mwandb\u001B[0m: \tmax_epochs: 200\n",
      "\u001B[34m\u001B[1mwandb\u001B[0m: \tmerged: True\n",
      "\u001B[34m\u001B[1mwandb\u001B[0m: \tnum_layers: 6\n",
      "\u001B[34m\u001B[1mwandb\u001B[0m: \tpatience: 10\n",
      "\u001B[34m\u001B[1mwandb\u001B[0m: \tweight_decay: 1e-05\n"
     ]
    },
    {
     "data": {
      "text/plain": "<IPython.core.display.HTML object>",
      "text/html": "wandb version 0.16.1 is available!  To upgrade, please run:\n $ pip install wandb --upgrade"
     },
     "metadata": {},
     "output_type": "display_data"
    },
    {
     "data": {
      "text/plain": "<IPython.core.display.HTML object>",
      "text/html": "Tracking run with wandb version 0.15.12"
     },
     "metadata": {},
     "output_type": "display_data"
    },
    {
     "data": {
      "text/plain": "<IPython.core.display.HTML object>",
      "text/html": "Run data is saved locally in <code>C:\\Users\\morit\\Documents\\Informatik\\Projekte\\LeagueOfLegendsWinPrediction\\Training\\static\\wandb\\run-20231212_145229-sayv290e</code>"
     },
     "metadata": {},
     "output_type": "display_data"
    },
    {
     "data": {
      "text/plain": "<IPython.core.display.HTML object>",
      "text/html": "Syncing run <strong><a href='https://wandb.ai/moritz-palm/leaguify/runs/sayv290e' target=\"_blank\">dark-sweep-2</a></strong> to <a href='https://wandb.ai/moritz-palm/leaguify' target=\"_blank\">Weights & Biases</a> (<a href='https://wandb.me/run' target=\"_blank\">docs</a>)<br/>Sweep page: <a href='https://wandb.ai/moritz-palm/leaguify/sweeps/tih0fcwn' target=\"_blank\">https://wandb.ai/moritz-palm/leaguify/sweeps/tih0fcwn</a>"
     },
     "metadata": {},
     "output_type": "display_data"
    },
    {
     "data": {
      "text/plain": "<IPython.core.display.HTML object>",
      "text/html": " View project at <a href='https://wandb.ai/moritz-palm/leaguify' target=\"_blank\">https://wandb.ai/moritz-palm/leaguify</a>"
     },
     "metadata": {},
     "output_type": "display_data"
    },
    {
     "data": {
      "text/plain": "<IPython.core.display.HTML object>",
      "text/html": " View sweep at <a href='https://wandb.ai/moritz-palm/leaguify/sweeps/tih0fcwn' target=\"_blank\">https://wandb.ai/moritz-palm/leaguify/sweeps/tih0fcwn</a>"
     },
     "metadata": {},
     "output_type": "display_data"
    },
    {
     "data": {
      "text/plain": "<IPython.core.display.HTML object>",
      "text/html": " View run at <a href='https://wandb.ai/moritz-palm/leaguify/runs/sayv290e' target=\"_blank\">https://wandb.ai/moritz-palm/leaguify/runs/sayv290e</a>"
     },
     "metadata": {},
     "output_type": "display_data"
    },
    {
     "name": "stderr",
     "output_type": "stream",
     "text": [
      "C:\\Users\\morit\\AppData\\Local\\pypoetry\\Cache\\virtualenvs\\leaguify-VaCbhr8h-py3.11\\Lib\\site-packages\\lightning\\pytorch\\utilities\\parsing.py:198: Attribute 'activation' is an instance of `nn.Module` and is already saved during checkpointing. It is recommended to ignore them using `self.save_hyperparameters(ignore=['activation'])`.\n",
      "C:\\Users\\morit\\AppData\\Local\\pypoetry\\Cache\\virtualenvs\\leaguify-VaCbhr8h-py3.11\\Lib\\site-packages\\lightning\\pytorch\\loggers\\wandb.py:389: There is a wandb run already in progress and newly created instances of `WandbLogger` will reuse this run. If this is not desired, call `wandb.finish()` before instantiating `WandbLogger`.\n",
      "\u001B[34m\u001B[1mwandb\u001B[0m: logging graph, to disable use `wandb.watch(log_graph=False)`\n",
      "GPU available: True (cuda), used: True\n",
      "TPU available: False, using: 0 TPU cores\n",
      "IPU available: False, using: 0 IPUs\n",
      "HPU available: False, using: 0 HPUs\n",
      "C:\\Users\\morit\\AppData\\Local\\pypoetry\\Cache\\virtualenvs\\leaguify-VaCbhr8h-py3.11\\Lib\\site-packages\\lightning\\pytorch\\callbacks\\model_checkpoint.py:639: Checkpoint directory models exists and is not empty.\n",
      "LOCAL_RANK: 0 - CUDA_VISIBLE_DEVICES: [0]\n",
      "\n",
      "  | Name             | Type                  | Params\n",
      "-----------------------------------------------------------\n",
      "0 | model            | NeuralNetwork         | 388 K \n",
      "1 | criterion        | BCELoss               | 0     \n",
      "2 | accuracy         | BinaryAccuracy        | 0     \n",
      "3 | f1               | BinaryF1Score         | 0     \n",
      "4 | confusion_matrix | BinaryConfusionMatrix | 0     \n",
      "-----------------------------------------------------------\n",
      "388 K     Trainable params\n",
      "0         Non-trainable params\n",
      "388 K     Total params\n",
      "1.554     Total estimated model params size (MB)\n",
      "\u001B[34m\u001B[1mwandb\u001B[0m: \u001B[33mWARNING\u001B[0m Config item 'input_size' was locked by 'sweep' (ignored update).\n",
      "\u001B[34m\u001B[1mwandb\u001B[0m: \u001B[33mWARNING\u001B[0m Config item 'hidden_size' was locked by 'sweep' (ignored update).\n",
      "\u001B[34m\u001B[1mwandb\u001B[0m: \u001B[33mWARNING\u001B[0m Config item 'num_layers' was locked by 'sweep' (ignored update).\n",
      "\u001B[34m\u001B[1mwandb\u001B[0m: \u001B[33mWARNING\u001B[0m Config item 'dropout_prob' was locked by 'sweep' (ignored update).\n",
      "\u001B[34m\u001B[1mwandb\u001B[0m: \u001B[33mWARNING\u001B[0m Config item 'activation' was locked by 'sweep' (ignored update).\n",
      "\u001B[34m\u001B[1mwandb\u001B[0m: \u001B[33mWARNING\u001B[0m Config item 'decrease_size' was locked by 'sweep' (ignored update).\n"
     ]
    },
    {
     "name": "stdout",
     "output_type": "stream",
     "text": [
      "labels: tensor([1, 1, 0,  ..., 0, 1, 0])\n",
      "Number of samples: 31243\n",
      "Number of features: 222\n",
      "Number of labels: 31243\n",
      "Number of classes: 2\n",
      "Number of samples per class: [15084 16159]\n",
      "labels: tensor([0, 1, 1,  ..., 1, 1, 0])\n",
      "Number of samples: 3472\n",
      "Number of features: 222\n",
      "Number of labels: 3472\n",
      "Number of classes: 2\n",
      "Number of samples per class: [1676 1796]\n",
      "labels: tensor([0, 0, 0,  ..., 1, 1, 0])\n",
      "Number of samples: 3858\n",
      "Number of features: 222\n",
      "Number of labels: 3858\n",
      "Number of classes: 2\n",
      "Number of samples per class: [1863 1995]\n"
     ]
    },
    {
     "data": {
      "text/plain": "Sanity Checking: |          | 0/? [00:00<?, ?it/s]",
      "application/vnd.jupyter.widget-view+json": {
       "version_major": 2,
       "version_minor": 0,
       "model_id": "06d1f2a789444194963fa998863a0b00"
      }
     },
     "metadata": {},
     "output_type": "display_data"
    },
    {
     "data": {
      "text/plain": "Training: |          | 0/? [00:00<?, ?it/s]",
      "application/vnd.jupyter.widget-view+json": {
       "version_major": 2,
       "version_minor": 0,
       "model_id": "20ad1f6767e246d2895e7bc1bb4686a2"
      }
     },
     "metadata": {},
     "output_type": "display_data"
    },
    {
     "data": {
      "text/plain": "Validation: |          | 0/? [00:00<?, ?it/s]",
      "application/vnd.jupyter.widget-view+json": {
       "version_major": 2,
       "version_minor": 0,
       "model_id": "b3e03b0de0624699884c57aa7e6fb3be"
      }
     },
     "metadata": {},
     "output_type": "display_data"
    },
    {
     "name": "stderr",
     "output_type": "stream",
     "text": [
      "Metric val_acc improved. New best score: 0.691\n"
     ]
    },
    {
     "data": {
      "text/plain": "Validation: |          | 0/? [00:00<?, ?it/s]",
      "application/vnd.jupyter.widget-view+json": {
       "version_major": 2,
       "version_minor": 0,
       "model_id": "26e5499bacf540fe80fb6da0628cc18e"
      }
     },
     "metadata": {},
     "output_type": "display_data"
    },
    {
     "name": "stderr",
     "output_type": "stream",
     "text": [
      "Metric val_acc improved by 0.005 >= min_delta = 0.0. New best score: 0.696\n"
     ]
    },
    {
     "data": {
      "text/plain": "Validation: |          | 0/? [00:00<?, ?it/s]",
      "application/vnd.jupyter.widget-view+json": {
       "version_major": 2,
       "version_minor": 0,
       "model_id": "e7bb5c48949047dcbf5b864199bb49e1"
      }
     },
     "metadata": {},
     "output_type": "display_data"
    },
    {
     "name": "stderr",
     "output_type": "stream",
     "text": [
      "Metric val_acc improved by 0.004 >= min_delta = 0.0. New best score: 0.700\n"
     ]
    },
    {
     "data": {
      "text/plain": "Validation: |          | 0/? [00:00<?, ?it/s]",
      "application/vnd.jupyter.widget-view+json": {
       "version_major": 2,
       "version_minor": 0,
       "model_id": "bd43dc60f1744c16aaf57eba0033ca3a"
      }
     },
     "metadata": {},
     "output_type": "display_data"
    },
    {
     "data": {
      "text/plain": "Validation: |          | 0/? [00:00<?, ?it/s]",
      "application/vnd.jupyter.widget-view+json": {
       "version_major": 2,
       "version_minor": 0,
       "model_id": "f457ecba8fa049e5a369bff6512f7cfd"
      }
     },
     "metadata": {},
     "output_type": "display_data"
    },
    {
     "data": {
      "text/plain": "Validation: |          | 0/? [00:00<?, ?it/s]",
      "application/vnd.jupyter.widget-view+json": {
       "version_major": 2,
       "version_minor": 0,
       "model_id": "8c5330c7b7fb4fc3872dd4c0cb2d59b8"
      }
     },
     "metadata": {},
     "output_type": "display_data"
    },
    {
     "data": {
      "text/plain": "Validation: |          | 0/? [00:00<?, ?it/s]",
      "application/vnd.jupyter.widget-view+json": {
       "version_major": 2,
       "version_minor": 0,
       "model_id": "775abb34f8e94cf9bceaecadcd21f68b"
      }
     },
     "metadata": {},
     "output_type": "display_data"
    },
    {
     "data": {
      "text/plain": "Validation: |          | 0/? [00:00<?, ?it/s]",
      "application/vnd.jupyter.widget-view+json": {
       "version_major": 2,
       "version_minor": 0,
       "model_id": "b425ead7a31b49559ef58193df71f8fe"
      }
     },
     "metadata": {},
     "output_type": "display_data"
    },
    {
     "data": {
      "text/plain": "Validation: |          | 0/? [00:00<?, ?it/s]",
      "application/vnd.jupyter.widget-view+json": {
       "version_major": 2,
       "version_minor": 0,
       "model_id": "c20f011102f243aeb4938f642cc5e704"
      }
     },
     "metadata": {},
     "output_type": "display_data"
    },
    {
     "data": {
      "text/plain": "Validation: |          | 0/? [00:00<?, ?it/s]",
      "application/vnd.jupyter.widget-view+json": {
       "version_major": 2,
       "version_minor": 0,
       "model_id": "aa30daa8481f4381971cb220ff99c9e4"
      }
     },
     "metadata": {},
     "output_type": "display_data"
    },
    {
     "data": {
      "text/plain": "Validation: |          | 0/? [00:00<?, ?it/s]",
      "application/vnd.jupyter.widget-view+json": {
       "version_major": 2,
       "version_minor": 0,
       "model_id": "80f62d61d7e343d1b868270a99e0ad82"
      }
     },
     "metadata": {},
     "output_type": "display_data"
    },
    {
     "data": {
      "text/plain": "Validation: |          | 0/? [00:00<?, ?it/s]",
      "application/vnd.jupyter.widget-view+json": {
       "version_major": 2,
       "version_minor": 0,
       "model_id": "b6c14832546d4087a1e2cc9dabdc432c"
      }
     },
     "metadata": {},
     "output_type": "display_data"
    },
    {
     "data": {
      "text/plain": "Validation: |          | 0/? [00:00<?, ?it/s]",
      "application/vnd.jupyter.widget-view+json": {
       "version_major": 2,
       "version_minor": 0,
       "model_id": "a88a2cab6b464fcf8697f6bea13ce929"
      }
     },
     "metadata": {},
     "output_type": "display_data"
    },
    {
     "name": "stderr",
     "output_type": "stream",
     "text": [
      "Monitored metric val_acc did not improve in the last 10 records. Best score: 0.700. Signaling Trainer to stop.\n",
      "LOCAL_RANK: 0 - CUDA_VISIBLE_DEVICES: [0]\n",
      "\u001B[34m\u001B[1mwandb\u001B[0m: \u001B[33mWARNING\u001B[0m Config item 'input_size' was locked by 'sweep' (ignored update).\n",
      "\u001B[34m\u001B[1mwandb\u001B[0m: \u001B[33mWARNING\u001B[0m Config item 'hidden_size' was locked by 'sweep' (ignored update).\n",
      "\u001B[34m\u001B[1mwandb\u001B[0m: \u001B[33mWARNING\u001B[0m Config item 'num_layers' was locked by 'sweep' (ignored update).\n",
      "\u001B[34m\u001B[1mwandb\u001B[0m: \u001B[33mWARNING\u001B[0m Config item 'dropout_prob' was locked by 'sweep' (ignored update).\n",
      "\u001B[34m\u001B[1mwandb\u001B[0m: \u001B[33mWARNING\u001B[0m Config item 'activation' was locked by 'sweep' (ignored update).\n",
      "\u001B[34m\u001B[1mwandb\u001B[0m: \u001B[33mWARNING\u001B[0m Config item 'decrease_size' was locked by 'sweep' (ignored update).\n"
     ]
    },
    {
     "data": {
      "text/plain": "Testing: |          | 0/? [00:00<?, ?it/s]",
      "application/vnd.jupyter.widget-view+json": {
       "version_major": 2,
       "version_minor": 0,
       "model_id": "24cd4640dc4f422c8ae9b9e63ac32c3c"
      }
     },
     "metadata": {},
     "output_type": "display_data"
    },
    {
     "name": "stdout",
     "output_type": "stream",
     "text": [
      "y_shape: torch.Size([256]), y_hat_shape: torch.Size([256])\n",
      "test_confusion_matrix tensor([[83, 42],\n",
      "        [36, 95]], device='cuda:0')\n",
      "y_shape: torch.Size([256]), y_hat_shape: torch.Size([256])\n",
      "test_confusion_matrix tensor([[79, 39],\n",
      "        [40, 98]], device='cuda:0')\n",
      "y_shape: torch.Size([256]), y_hat_shape: torch.Size([256])\n",
      "test_confusion_matrix tensor([[83, 48],\n",
      "        [40, 85]], device='cuda:0')\n",
      "y_shape: torch.Size([256]), y_hat_shape: torch.Size([256])\n",
      "test_confusion_matrix tensor([[ 87,  36],\n",
      "        [ 31, 102]], device='cuda:0')\n",
      "y_shape: torch.Size([256]), y_hat_shape: torch.Size([256])\n",
      "test_confusion_matrix tensor([[83, 41],\n",
      "        [33, 99]], device='cuda:0')\n",
      "y_shape: torch.Size([256]), y_hat_shape: torch.Size([256])\n",
      "test_confusion_matrix tensor([[84, 48],\n",
      "        [25, 99]], device='cuda:0')\n",
      "y_shape: torch.Size([256]), y_hat_shape: torch.Size([256])\n",
      "test_confusion_matrix tensor([[86, 36],\n",
      "        [40, 94]], device='cuda:0')\n",
      "y_shape: torch.Size([256]), y_hat_shape: torch.Size([256])\n",
      "test_confusion_matrix tensor([[ 86,  33],\n",
      "        [ 37, 100]], device='cuda:0')\n",
      "y_shape: torch.Size([256]), y_hat_shape: torch.Size([256])\n",
      "test_confusion_matrix tensor([[91, 42],\n",
      "        [43, 80]], device='cuda:0')\n",
      "y_shape: torch.Size([256]), y_hat_shape: torch.Size([256])\n",
      "test_confusion_matrix tensor([[ 75,  33],\n",
      "        [ 29, 119]], device='cuda:0')\n",
      "y_shape: torch.Size([256]), y_hat_shape: torch.Size([256])\n",
      "test_confusion_matrix tensor([[ 76,  47],\n",
      "        [ 32, 101]], device='cuda:0')\n",
      "y_shape: torch.Size([256]), y_hat_shape: torch.Size([256])\n",
      "test_confusion_matrix tensor([[85, 46],\n",
      "        [28, 97]], device='cuda:0')\n",
      "y_shape: torch.Size([256]), y_hat_shape: torch.Size([256])\n",
      "test_confusion_matrix tensor([[ 72,  50],\n",
      "        [ 30, 104]], device='cuda:0')\n",
      "y_shape: torch.Size([256]), y_hat_shape: torch.Size([256])\n",
      "test_confusion_matrix tensor([[87, 43],\n",
      "        [32, 94]], device='cuda:0')\n",
      "y_shape: torch.Size([256]), y_hat_shape: torch.Size([256])\n",
      "test_confusion_matrix tensor([[ 77,  37],\n",
      "        [ 39, 103]], device='cuda:0')\n",
      "y_shape: torch.Size([18]), y_hat_shape: torch.Size([18])\n",
      "test_confusion_matrix tensor([[5, 3],\n",
      "        [2, 8]], device='cuda:0')\n",
      "────────────────────────────────────────────────────────────────────────────────────────────────────────────────────────\r\n",
      "       Test metric             DataLoader 0\r\n",
      "────────────────────────────────────────────────────────────────────────────────────────────────────────────────────────\r\n",
      "        test_acc            0.7042509317398071\r\n",
      "         test_f1            0.7202936410903931\r\n",
      "        test_loss           0.5544840097427368\r\n",
      "────────────────────────────────────────────────────────────────────────────────────────────────────────────────────────\n"
     ]
    },
    {
     "data": {
      "text/plain": "<IPython.core.display.HTML object>",
      "text/html": "Waiting for W&B process to finish... <strong style=\"color:green\">(success).</strong>"
     },
     "metadata": {},
     "output_type": "display_data"
    },
    {
     "data": {
      "text/plain": "<IPython.core.display.HTML object>",
      "text/html": "<style>\n    table.wandb td:nth-child(1) { padding: 0 10px; text-align: left ; width: auto;} td:nth-child(2) {text-align: left ; width: 100%}\n    .wandb-row { display: flex; flex-direction: row; flex-wrap: wrap; justify-content: flex-start; width: 100% }\n    .wandb-col { display: flex; flex-direction: column; flex-basis: 100%; flex: 1; padding: 10px; }\n    </style>\n<div class=\"wandb-row\"><div class=\"wandb-col\"><h3>Run history:</h3><br/><table class=\"wandb\"><tr><td>epoch</td><td>▁▁▁▂▂▂▂▂▂▃▃▃▃▃▃▃▄▄▄▄▄▄▅▅▅▅▅▅▆▆▆▆▆▆▇▇▇▇▇█</td></tr><tr><td>test_acc</td><td>▁</td></tr><tr><td>test_f1</td><td>▁</td></tr><tr><td>test_loss</td><td>▁</td></tr><tr><td>train_acc</td><td>▁▇▄▅▃▃▅▄▄▃▅▁▂▇▅▅▅▅▅▂▅▅▅▃█▇▅▇▂█▅</td></tr><tr><td>train_loss</td><td>▇▂▅▃▅▅▄▃▄▅▃█▄▃▄▄▅▃▄▆▂▄▃▅▁▂▃▁▇▁▄</td></tr><tr><td>trainer/global_step</td><td>▁▁▁▁▂▂▂▂▂▃▃▃▃▃▃▄▄▄▄▄▅▅▅▅▅▆▆▆▆▆▆▆▇▇▇▇▇███</td></tr><tr><td>val_acc</td><td>▁▅█▂▄▂▅▅▆▆▃▁▆</td></tr><tr><td>val_loss</td><td>█▇█▄▄█▇▅█▄▆▁▄</td></tr></table><br/></div><div class=\"wandb-col\"><h3>Run summary:</h3><br/><table class=\"wandb\"><tr><td>epoch</td><td>13</td></tr><tr><td>test_acc</td><td>0.70425</td></tr><tr><td>test_f1</td><td>0.72029</td></tr><tr><td>test_loss</td><td>0.55448</td></tr><tr><td>train_acc</td><td>0.71875</td></tr><tr><td>train_loss</td><td>0.55371</td></tr><tr><td>trainer/global_step</td><td>1599</td></tr><tr><td>val_acc</td><td>0.69758</td></tr><tr><td>val_loss</td><td>0.557</td></tr></table><br/></div></div>"
     },
     "metadata": {},
     "output_type": "display_data"
    },
    {
     "data": {
      "text/plain": "<IPython.core.display.HTML object>",
      "text/html": " View run <strong style=\"color:#cdcd00\">dark-sweep-2</strong> at: <a href='https://wandb.ai/moritz-palm/leaguify/runs/sayv290e' target=\"_blank\">https://wandb.ai/moritz-palm/leaguify/runs/sayv290e</a><br/>Synced 5 W&B file(s), 1 media file(s), 0 artifact file(s) and 0 other file(s)"
     },
     "metadata": {},
     "output_type": "display_data"
    },
    {
     "data": {
      "text/plain": "<IPython.core.display.HTML object>",
      "text/html": "Find logs at: <code>.\\wandb\\run-20231212_145229-sayv290e\\logs</code>"
     },
     "metadata": {},
     "output_type": "display_data"
    }
   ],
   "source": [
    "wandb.agent(sweep_id, function=train, count=2)"
   ],
   "metadata": {
    "collapsed": false,
    "ExecuteTime": {
     "end_time": "2023-12-12T13:52:57.383299100Z",
     "start_time": "2023-12-12T13:50:38.796072Z"
    }
   },
   "id": "69bb6e5d36d2686"
  },
  {
   "cell_type": "code",
   "execution_count": 34,
   "outputs": [
    {
     "name": "stdout",
     "output_type": "stream",
     "text": [
      "C:\\Users\\morit\\Documents\\Informatik\\Projekte\\LeagueOfLegendsWinPrediction\\Training\\static\n"
     ]
    }
   ],
   "source": [
    "import os\n",
    "\n",
    "print(os.getcwd())"
   ],
   "metadata": {
    "collapsed": false,
    "ExecuteTime": {
     "end_time": "2023-12-12T13:52:57.395313300Z",
     "start_time": "2023-12-12T13:52:57.381721900Z"
    }
   },
   "id": "4b9021a213a78b66"
  },
  {
   "cell_type": "code",
   "execution_count": 34,
   "outputs": [],
   "source": [],
   "metadata": {
    "collapsed": false,
    "ExecuteTime": {
     "end_time": "2023-12-12T13:52:57.395313300Z",
     "start_time": "2023-12-12T13:52:57.386299Z"
    }
   },
   "id": "6348333909b74b5d"
  }
 ],
 "metadata": {
  "kernelspec": {
   "display_name": "Python 3",
   "language": "python",
   "name": "python3"
  },
  "language_info": {
   "codemirror_mode": {
    "name": "ipython",
    "version": 2
   },
   "file_extension": ".py",
   "mimetype": "text/x-python",
   "name": "python",
   "nbconvert_exporter": "python",
   "pygments_lexer": "ipython2",
   "version": "2.7.6"
  }
 },
 "nbformat": 4,
 "nbformat_minor": 5
}
