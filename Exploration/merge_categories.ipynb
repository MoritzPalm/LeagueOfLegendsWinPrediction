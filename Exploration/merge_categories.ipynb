{
 "cells": [
  {
   "cell_type": "code",
   "execution_count": 13,
   "id": "initial_id",
   "metadata": {
    "collapsed": true,
    "ExecuteTime": {
     "end_time": "2023-12-10T07:13:14.091925100Z",
     "start_time": "2023-12-10T07:13:14.073856Z"
    }
   },
   "outputs": [],
   "source": [
    "import pickle\n",
    "import pandas as pd\n",
    "import numpy as np\n",
    "from sklearn.model_selection import train_test_split\n",
    "from sklearn.preprocessing import StandardScaler, OneHotEncoder\n",
    "from sklearn.compose import ColumnTransformer\n",
    "from ydata_profiling import ProfileReport\n",
    "import src.dataHandling.cleaningUtils as clean\n",
    "import os\n",
    "import xgboost as xgb\n",
    "import shap\n",
    "import matplotlib.pyplot as plt\n",
    "from sklearn.inspection import permutation_importance\n",
    "import re\n"
   ]
  },
  {
   "cell_type": "code",
   "execution_count": 2,
   "outputs": [
    {
     "name": "stdout",
     "output_type": "stream",
     "text": [
      "found 51360 rows\n",
      "dropped wrong mapId\n",
      "dropped wrong queueId\n",
      "dropped wrong gameDuration\n",
      "dropped wrong seasonId\n",
      "dropped wrong gameVersion\n",
      "dropped wrong patch\n",
      "dropped 0 wrong rows\n",
      "dropped 51 rows because of wrong teamIds\n",
      "dropped 0 rows because of wrong wins\n",
      "dropped 25835 rows\n"
     ]
    }
   ],
   "source": [
    "try:\n",
    "    with open(\"data/static_05_12_23/raw/static_full.pkl\", \"rb\") as f:\n",
    "        df = pickle.load(f)\n",
    "except FileNotFoundError:\n",
    "    os.chdir('../')\n",
    "    with open(\"data/static_05_12_23/raw/static_full.pkl\", \"rb\") as f:\n",
    "        df = pickle.load(f)\n",
    "df = clean.drop_wrong_data(df)\n",
    "df.reset_index(drop=True, inplace=True)\n",
    "df = clean.fix_rank(df)\n",
    "df = clean.calc_winrate(df)\n",
    "df = clean.fix_teamId(df)\n",
    "df = clean.convert_booleans(df)\n",
    "df = clean.convert_lastPlayTime(df)\n",
    "df = clean.convert_championTier(df)\n",
    "df = clean.get_winning_team(df)  # this has to be the last step where a column is inserted\n",
    "df = clean.drop_wrong_teamIds(df)\n",
    "df = clean.drop_wrong_wins(df)\n",
    "df = clean.drop_irrelevant(df)\n",
    "df = clean.drop_missing(df)\n",
    "assert df.columns[-1] == 'label'\n",
    "X_train, X_test, y_train, y_test = train_test_split(df.iloc[:, :-1],\n",
    "                                                    df.iloc[:, -1],\n",
    "                                                    test_size=0.1,\n",
    "                                                    random_state=42,\n",
    "                                                    shuffle=True)\n",
    "X_train, X_val, y_train, y_val = train_test_split(X_train,\n",
    "                                                  y_train,\n",
    "                                                  test_size=0.1,\n",
    "                                                  random_state=42,\n",
    "                                                  shuffle=True)"
   ],
   "metadata": {
    "collapsed": false,
    "ExecuteTime": {
     "end_time": "2023-12-10T07:08:03.942292800Z",
     "start_time": "2023-12-10T07:07:25.304946900Z"
    }
   },
   "id": "e21cebbced1152d3"
  },
  {
   "cell_type": "code",
   "execution_count": 3,
   "outputs": [
    {
     "data": {
      "text/plain": "       participant1_level  participant1_champion_championNumber  \\\n3                     841                                    54   \n4                     766                                    24   \n7                     188                                    54   \n8                      54                                    24   \n10                     54                                    24   \n...                   ...                                   ...   \n51312                 641                                   268   \n51314                 392                                   887   \n51342                  77                                   122   \n51357                 700                                   166   \n51358                 808                                    54   \n\n       participant1_champion_infoAttack  participant1_champion_infoDefense  \\\n3                                     5                                  9   \n4                                     7                                  5   \n7                                     5                                  9   \n8                                     7                                  5   \n10                                    7                                  5   \n...                                 ...                                ...   \n51312                                 6                                  3   \n51314                                 7                                  4   \n51342                                 9                                  5   \n51357                                 0                                  0   \n51358                                 5                                  9   \n\n       participant1_champion_infoMagic  participant1_champion_infoDifficulty  \\\n3                                    7                                     2   \n4                                    7                                     5   \n7                                    7                                     2   \n8                                    7                                     5   \n10                                   7                                     5   \n...                                ...                                   ...   \n51312                                8                                     9   \n51314                                5                                     5   \n51342                                1                                     2   \n51357                                0                                     0   \n51358                                7                                     2   \n\n       participant1_champion_tier  participant1_champion_win_rate  \\\n3                               5                           51.50   \n4                               0                           48.49   \n7                               5                           51.50   \n8                               0                           48.49   \n10                              0                           48.49   \n...                           ...                             ...   \n51312                           0                           48.03   \n51314                           2                           50.80   \n51342                           5                           50.21   \n51357                           4                           51.17   \n51358                           5                           51.50   \n\n       participant1_champion_pick_rate  participant1_champion_ban_rate  ...  \\\n3                                 15.2                            15.2  ...   \n4                                 16.8                            16.8  ...   \n7                                 15.2                            15.2  ...   \n8                                 16.8                            16.8  ...   \n10                                16.8                            16.8  ...   \n...                                ...                             ...  ...   \n51312                              0.7                             0.7  ...   \n51314                              2.2                             2.2  ...   \n51342                             17.9                            17.9  ...   \n51357                              6.1                             6.1  ...   \n51358                             15.2                            15.2  ...   \n\n       participant2_winrate  participant3_winrate  participant4_winrate  \\\n3                  0.541528              0.524000              0.653846   \n4                  0.517751              0.536443              0.504360   \n7                  0.513274              0.528000              0.515038   \n8                  0.510870              0.562189              0.508333   \n10                 0.538462              0.534591              0.505263   \n...                     ...                   ...                   ...   \n51312              0.707317              0.530303              0.517312   \n51314              0.559809              0.517808              0.916667   \n51342              0.571429              0.491379              0.508321   \n51357              1.000000              0.546667              0.380952   \n51358              0.522659              0.581818              0.552174   \n\n       participant5_winrate  participant6_winrate  participant7_winrate  \\\n3                  0.511971              0.506912              0.553476   \n4                  0.562264              0.368421              0.666667   \n7                  0.504274              0.505882              0.529586   \n8                  0.555556              0.552239              0.541528   \n10                 0.554545              0.489130              0.342857   \n...                     ...                   ...                   ...   \n51312              0.481013              0.490909              0.512048   \n51314              0.700000              0.522727              0.538206   \n51342              0.502513              0.666667              0.440000   \n51357              0.575758              0.584795              0.546243   \n51358              0.546154              0.538627              0.509666   \n\n       participant8_winrate  participant9_winrate  participant10_winrate  \\\n3                  0.525275              0.468750               0.508163   \n4                  0.428571              0.583333               0.622449   \n7                  1.000000              0.519846               0.539648   \n8                  0.538462              0.457143               0.568182   \n10                 0.529049              0.777778               0.524194   \n...                     ...                   ...                    ...   \n51312              0.676923              0.535294               0.534562   \n51314              0.565657              0.515695               0.800000   \n51342              0.464481              0.533333               0.517766   \n51357              0.666667              0.523923               0.494350   \n51358              0.548387              0.563953               0.567901   \n\n       label  \n3          1  \n4          0  \n7          0  \n8          0  \n10         0  \n...      ...  \n51312      1  \n51314      0  \n51342      0  \n51357      0  \n51358      1  \n\n[25474 rows x 321 columns]",
      "text/html": "<div>\n<style scoped>\n    .dataframe tbody tr th:only-of-type {\n        vertical-align: middle;\n    }\n\n    .dataframe tbody tr th {\n        vertical-align: top;\n    }\n\n    .dataframe thead th {\n        text-align: right;\n    }\n</style>\n<table border=\"1\" class=\"dataframe\">\n  <thead>\n    <tr style=\"text-align: right;\">\n      <th></th>\n      <th>participant1_level</th>\n      <th>participant1_champion_championNumber</th>\n      <th>participant1_champion_infoAttack</th>\n      <th>participant1_champion_infoDefense</th>\n      <th>participant1_champion_infoMagic</th>\n      <th>participant1_champion_infoDifficulty</th>\n      <th>participant1_champion_tier</th>\n      <th>participant1_champion_win_rate</th>\n      <th>participant1_champion_pick_rate</th>\n      <th>participant1_champion_ban_rate</th>\n      <th>...</th>\n      <th>participant2_winrate</th>\n      <th>participant3_winrate</th>\n      <th>participant4_winrate</th>\n      <th>participant5_winrate</th>\n      <th>participant6_winrate</th>\n      <th>participant7_winrate</th>\n      <th>participant8_winrate</th>\n      <th>participant9_winrate</th>\n      <th>participant10_winrate</th>\n      <th>label</th>\n    </tr>\n  </thead>\n  <tbody>\n    <tr>\n      <th>3</th>\n      <td>841</td>\n      <td>54</td>\n      <td>5</td>\n      <td>9</td>\n      <td>7</td>\n      <td>2</td>\n      <td>5</td>\n      <td>51.50</td>\n      <td>15.2</td>\n      <td>15.2</td>\n      <td>...</td>\n      <td>0.541528</td>\n      <td>0.524000</td>\n      <td>0.653846</td>\n      <td>0.511971</td>\n      <td>0.506912</td>\n      <td>0.553476</td>\n      <td>0.525275</td>\n      <td>0.468750</td>\n      <td>0.508163</td>\n      <td>1</td>\n    </tr>\n    <tr>\n      <th>4</th>\n      <td>766</td>\n      <td>24</td>\n      <td>7</td>\n      <td>5</td>\n      <td>7</td>\n      <td>5</td>\n      <td>0</td>\n      <td>48.49</td>\n      <td>16.8</td>\n      <td>16.8</td>\n      <td>...</td>\n      <td>0.517751</td>\n      <td>0.536443</td>\n      <td>0.504360</td>\n      <td>0.562264</td>\n      <td>0.368421</td>\n      <td>0.666667</td>\n      <td>0.428571</td>\n      <td>0.583333</td>\n      <td>0.622449</td>\n      <td>0</td>\n    </tr>\n    <tr>\n      <th>7</th>\n      <td>188</td>\n      <td>54</td>\n      <td>5</td>\n      <td>9</td>\n      <td>7</td>\n      <td>2</td>\n      <td>5</td>\n      <td>51.50</td>\n      <td>15.2</td>\n      <td>15.2</td>\n      <td>...</td>\n      <td>0.513274</td>\n      <td>0.528000</td>\n      <td>0.515038</td>\n      <td>0.504274</td>\n      <td>0.505882</td>\n      <td>0.529586</td>\n      <td>1.000000</td>\n      <td>0.519846</td>\n      <td>0.539648</td>\n      <td>0</td>\n    </tr>\n    <tr>\n      <th>8</th>\n      <td>54</td>\n      <td>24</td>\n      <td>7</td>\n      <td>5</td>\n      <td>7</td>\n      <td>5</td>\n      <td>0</td>\n      <td>48.49</td>\n      <td>16.8</td>\n      <td>16.8</td>\n      <td>...</td>\n      <td>0.510870</td>\n      <td>0.562189</td>\n      <td>0.508333</td>\n      <td>0.555556</td>\n      <td>0.552239</td>\n      <td>0.541528</td>\n      <td>0.538462</td>\n      <td>0.457143</td>\n      <td>0.568182</td>\n      <td>0</td>\n    </tr>\n    <tr>\n      <th>10</th>\n      <td>54</td>\n      <td>24</td>\n      <td>7</td>\n      <td>5</td>\n      <td>7</td>\n      <td>5</td>\n      <td>0</td>\n      <td>48.49</td>\n      <td>16.8</td>\n      <td>16.8</td>\n      <td>...</td>\n      <td>0.538462</td>\n      <td>0.534591</td>\n      <td>0.505263</td>\n      <td>0.554545</td>\n      <td>0.489130</td>\n      <td>0.342857</td>\n      <td>0.529049</td>\n      <td>0.777778</td>\n      <td>0.524194</td>\n      <td>0</td>\n    </tr>\n    <tr>\n      <th>...</th>\n      <td>...</td>\n      <td>...</td>\n      <td>...</td>\n      <td>...</td>\n      <td>...</td>\n      <td>...</td>\n      <td>...</td>\n      <td>...</td>\n      <td>...</td>\n      <td>...</td>\n      <td>...</td>\n      <td>...</td>\n      <td>...</td>\n      <td>...</td>\n      <td>...</td>\n      <td>...</td>\n      <td>...</td>\n      <td>...</td>\n      <td>...</td>\n      <td>...</td>\n      <td>...</td>\n    </tr>\n    <tr>\n      <th>51312</th>\n      <td>641</td>\n      <td>268</td>\n      <td>6</td>\n      <td>3</td>\n      <td>8</td>\n      <td>9</td>\n      <td>0</td>\n      <td>48.03</td>\n      <td>0.7</td>\n      <td>0.7</td>\n      <td>...</td>\n      <td>0.707317</td>\n      <td>0.530303</td>\n      <td>0.517312</td>\n      <td>0.481013</td>\n      <td>0.490909</td>\n      <td>0.512048</td>\n      <td>0.676923</td>\n      <td>0.535294</td>\n      <td>0.534562</td>\n      <td>1</td>\n    </tr>\n    <tr>\n      <th>51314</th>\n      <td>392</td>\n      <td>887</td>\n      <td>7</td>\n      <td>4</td>\n      <td>5</td>\n      <td>5</td>\n      <td>2</td>\n      <td>50.80</td>\n      <td>2.2</td>\n      <td>2.2</td>\n      <td>...</td>\n      <td>0.559809</td>\n      <td>0.517808</td>\n      <td>0.916667</td>\n      <td>0.700000</td>\n      <td>0.522727</td>\n      <td>0.538206</td>\n      <td>0.565657</td>\n      <td>0.515695</td>\n      <td>0.800000</td>\n      <td>0</td>\n    </tr>\n    <tr>\n      <th>51342</th>\n      <td>77</td>\n      <td>122</td>\n      <td>9</td>\n      <td>5</td>\n      <td>1</td>\n      <td>2</td>\n      <td>5</td>\n      <td>50.21</td>\n      <td>17.9</td>\n      <td>17.9</td>\n      <td>...</td>\n      <td>0.571429</td>\n      <td>0.491379</td>\n      <td>0.508321</td>\n      <td>0.502513</td>\n      <td>0.666667</td>\n      <td>0.440000</td>\n      <td>0.464481</td>\n      <td>0.533333</td>\n      <td>0.517766</td>\n      <td>0</td>\n    </tr>\n    <tr>\n      <th>51357</th>\n      <td>700</td>\n      <td>166</td>\n      <td>0</td>\n      <td>0</td>\n      <td>0</td>\n      <td>0</td>\n      <td>4</td>\n      <td>51.17</td>\n      <td>6.1</td>\n      <td>6.1</td>\n      <td>...</td>\n      <td>1.000000</td>\n      <td>0.546667</td>\n      <td>0.380952</td>\n      <td>0.575758</td>\n      <td>0.584795</td>\n      <td>0.546243</td>\n      <td>0.666667</td>\n      <td>0.523923</td>\n      <td>0.494350</td>\n      <td>0</td>\n    </tr>\n    <tr>\n      <th>51358</th>\n      <td>808</td>\n      <td>54</td>\n      <td>5</td>\n      <td>9</td>\n      <td>7</td>\n      <td>2</td>\n      <td>5</td>\n      <td>51.50</td>\n      <td>15.2</td>\n      <td>15.2</td>\n      <td>...</td>\n      <td>0.522659</td>\n      <td>0.581818</td>\n      <td>0.552174</td>\n      <td>0.546154</td>\n      <td>0.538627</td>\n      <td>0.509666</td>\n      <td>0.548387</td>\n      <td>0.563953</td>\n      <td>0.567901</td>\n      <td>1</td>\n    </tr>\n  </tbody>\n</table>\n<p>25474 rows × 321 columns</p>\n</div>"
     },
     "execution_count": 3,
     "metadata": {},
     "output_type": "execute_result"
    }
   ],
   "source": [
    "df"
   ],
   "metadata": {
    "collapsed": false,
    "ExecuteTime": {
     "end_time": "2023-12-10T07:08:03.974071700Z",
     "start_time": "2023-12-10T07:08:03.942292800Z"
    }
   },
   "id": "4124c8ef973decd4"
  },
  {
   "cell_type": "code",
   "execution_count": 4,
   "outputs": [
    {
     "data": {
      "text/plain": "   participant1_champion_win_rate  participant1_teamId  \\\n0                           49.75                    0   \n1                           52.06                    0   \n2                           48.49                    0   \n3                           51.60                    0   \n4                           50.21                    0   \n5                           50.80                    0   \n6                           50.41                    0   \n7                           48.49                    0   \n8                           50.53                    0   \n9                           46.64                    0   \n\n   participant2_champion_win_rate  participant2_teamId  participant1_tier  \\\n0                           51.53                    0                9.1   \n1                           54.12                    0                9.1   \n2                           51.00                    0                8.1   \n3                           52.18                    0                7.1   \n4                           50.70                    0                8.1   \n5                           51.53                    0                8.1   \n6                           53.24                    0                3.1   \n7                           49.15                    0                7.1   \n8                           50.98                    0                9.1   \n9                           50.98                    0                7.1   \n\n   participant2_tier  \n0                8.1  \n1                7.1  \n2                7.1  \n3                7.1  \n4                7.1  \n5                3.2  \n6                7.1  \n7                7.1  \n8                8.1  \n9                7.1  ",
      "text/html": "<div>\n<style scoped>\n    .dataframe tbody tr th:only-of-type {\n        vertical-align: middle;\n    }\n\n    .dataframe tbody tr th {\n        vertical-align: top;\n    }\n\n    .dataframe thead th {\n        text-align: right;\n    }\n</style>\n<table border=\"1\" class=\"dataframe\">\n  <thead>\n    <tr style=\"text-align: right;\">\n      <th></th>\n      <th>participant1_champion_win_rate</th>\n      <th>participant1_teamId</th>\n      <th>participant2_champion_win_rate</th>\n      <th>participant2_teamId</th>\n      <th>participant1_tier</th>\n      <th>participant2_tier</th>\n    </tr>\n  </thead>\n  <tbody>\n    <tr>\n      <th>0</th>\n      <td>49.75</td>\n      <td>0</td>\n      <td>51.53</td>\n      <td>0</td>\n      <td>9.1</td>\n      <td>8.1</td>\n    </tr>\n    <tr>\n      <th>1</th>\n      <td>52.06</td>\n      <td>0</td>\n      <td>54.12</td>\n      <td>0</td>\n      <td>9.1</td>\n      <td>7.1</td>\n    </tr>\n    <tr>\n      <th>2</th>\n      <td>48.49</td>\n      <td>0</td>\n      <td>51.00</td>\n      <td>0</td>\n      <td>8.1</td>\n      <td>7.1</td>\n    </tr>\n    <tr>\n      <th>3</th>\n      <td>51.60</td>\n      <td>0</td>\n      <td>52.18</td>\n      <td>0</td>\n      <td>7.1</td>\n      <td>7.1</td>\n    </tr>\n    <tr>\n      <th>4</th>\n      <td>50.21</td>\n      <td>0</td>\n      <td>50.70</td>\n      <td>0</td>\n      <td>8.1</td>\n      <td>7.1</td>\n    </tr>\n    <tr>\n      <th>5</th>\n      <td>50.80</td>\n      <td>0</td>\n      <td>51.53</td>\n      <td>0</td>\n      <td>8.1</td>\n      <td>3.2</td>\n    </tr>\n    <tr>\n      <th>6</th>\n      <td>50.41</td>\n      <td>0</td>\n      <td>53.24</td>\n      <td>0</td>\n      <td>3.1</td>\n      <td>7.1</td>\n    </tr>\n    <tr>\n      <th>7</th>\n      <td>48.49</td>\n      <td>0</td>\n      <td>49.15</td>\n      <td>0</td>\n      <td>7.1</td>\n      <td>7.1</td>\n    </tr>\n    <tr>\n      <th>8</th>\n      <td>50.53</td>\n      <td>0</td>\n      <td>50.98</td>\n      <td>0</td>\n      <td>9.1</td>\n      <td>8.1</td>\n    </tr>\n    <tr>\n      <th>9</th>\n      <td>46.64</td>\n      <td>0</td>\n      <td>50.98</td>\n      <td>0</td>\n      <td>7.1</td>\n      <td>7.1</td>\n    </tr>\n  </tbody>\n</table>\n</div>"
     },
     "execution_count": 4,
     "metadata": {},
     "output_type": "execute_result"
    }
   ],
   "source": [
    "df_experiment = X_train.loc[:, ['participant1_champion_win_rate', 'participant1_teamId',\n",
    "                                'participant2_champion_win_rate', 'participant2_teamId', 'participant1_tier',\n",
    "                                'participant2_tier']][:10]\n",
    "df_experiment = df_experiment.reset_index(drop=True)\n",
    "df_experiment"
   ],
   "metadata": {
    "collapsed": false,
    "ExecuteTime": {
     "end_time": "2023-12-10T07:08:03.990507200Z",
     "start_time": "2023-12-10T07:08:03.975261800Z"
    }
   },
   "id": "18200ccb7bdb6dde"
  },
  {
   "cell_type": "code",
   "execution_count": 5,
   "outputs": [],
   "source": [
    "def merge_columns(df: pd.DataFrame) -> dict:\n",
    "    \"\"\"\n",
    "    Merges columns of the form participant<x>_<col> into two columns per category, one for each team.\n",
    "    Uses participant<x>_team columns to determine the team of each participant.\n",
    "    \n",
    "    :param df: DataFrame containing the columns to be merged.\n",
    "    :return: Dictionary with keys as categories and values as a DataFrame with two columns per category, one for each team.\n",
    "    \"\"\"\n",
    "    cols = df.columns.tolist()\n",
    "    merged_columns = {}\n",
    "    # cols that are not to be merged as they are categorical, so averaging them does not make sense\n",
    "    cols_left = ['teamId', 'champion_championNumber']\n",
    "    for col in cols:\n",
    "        matches = re.search(\"participant(\\d+)_(\\w+)\", col)\n",
    "        if matches and matches.group(2) not in cols_left:\n",
    "            participant_number = matches.group(1)\n",
    "            col_type = matches.group(2)\n",
    "\n",
    "            # Determine the team of the participant\n",
    "            team_col = f'participant{participant_number}_teamId'\n",
    "            team = df[team_col].iloc[0] if team_col in df.columns else 'unknown'\n",
    "\n",
    "            if col_type not in merged_columns:\n",
    "                merged_columns[col_type] = {'team1': [], 'team2': []}\n",
    "\n",
    "            if team == 0:\n",
    "                merged_columns[col_type]['team1'].append(df[col])\n",
    "            elif team == 1:\n",
    "                merged_columns[col_type]['team2'].append(df[col])\n",
    "\n",
    "    merged_series = {}\n",
    "    for col_type, teams_data in merged_columns.items():\n",
    "        for team, data_list in teams_data.items():\n",
    "            if data_list:  # Only proceed if there are columns to merge\n",
    "                merged_series[f\"{col_type}_{team}\"] = pd.concat(data_list, axis=1).mean(axis=1)\n",
    "\n",
    "    return merged_series"
   ],
   "metadata": {
    "collapsed": false,
    "ExecuteTime": {
     "end_time": "2023-12-10T07:08:03.990507200Z",
     "start_time": "2023-12-10T07:08:03.979409800Z"
    }
   },
   "id": "b78a208380e9b097"
  },
  {
   "cell_type": "code",
   "execution_count": 6,
   "outputs": [],
   "source": [
    "df_merged = pd.DataFrame(merge_columns(df))"
   ],
   "metadata": {
    "collapsed": false,
    "ExecuteTime": {
     "end_time": "2023-12-10T07:08:04.128109300Z",
     "start_time": "2023-12-10T07:08:03.984506700Z"
    }
   },
   "id": "3f126e8d15138b9"
  },
  {
   "cell_type": "code",
   "execution_count": 11,
   "outputs": [
    {
     "data": {
      "text/plain": "       level_team1  level_team2  champion_infoAttack_team1  \\\n3            275.4        307.6                        5.2   \n4            699.4        538.2                        6.0   \n7            544.8        560.2                        7.0   \n8            364.2        405.2                        5.4   \n10           524.6        502.6                        5.4   \n...            ...          ...                        ...   \n51312        626.2        269.8                        4.4   \n51314        307.8        513.6                        6.4   \n51342        680.8        239.8                        4.6   \n51357        723.2        722.4                        5.4   \n51358        593.6        726.4                        6.2   \n\n       champion_infoAttack_team2  champion_infoDefense_team1  \\\n3                            5.4                         5.2   \n4                            6.0                         3.8   \n7                            8.4                         5.0   \n8                            5.8                         4.8   \n10                           7.4                         3.6   \n...                          ...                         ...   \n51312                        6.0                         5.0   \n51314                        5.8                         5.0   \n51342                        6.6                         6.0   \n51357                        4.6                         3.6   \n51358                        4.2                         5.4   \n\n       champion_infoDefense_team2  champion_infoMagic_team1  \\\n3                             3.6                       5.4   \n4                             3.8                       5.4   \n7                             3.6                       4.8   \n8                             4.6                       6.2   \n10                            4.2                       5.6   \n...                           ...                       ...   \n51312                         5.4                       6.2   \n51314                         4.4                       4.2   \n51342                         3.8                       5.6   \n51357                         3.2                       4.4   \n51358                         4.6                       5.6   \n\n       champion_infoMagic_team2  champion_infoDifficulty_team1  \\\n3                           5.2                            5.0   \n4                           4.2                            4.8   \n7                           3.4                            4.6   \n8                           4.8                            5.8   \n10                          4.4                            5.6   \n...                         ...                            ...   \n51312                       3.8                            6.4   \n51314                       5.0                            5.2   \n51342                       5.0                            4.8   \n51357                       6.0                            5.2   \n51358                       6.0                            5.8   \n\n       champion_infoDifficulty_team2  ...  maxKills_team1  maxKills_team2  \\\n3                                5.8  ...            11.4            12.2   \n4                                6.6  ...            11.0            13.4   \n7                                7.6  ...            12.6            13.4   \n8                                5.2  ...            12.0            10.8   \n10                               5.2  ...             9.8            10.4   \n...                              ...  ...             ...             ...   \n51312                            5.8  ...            12.2            11.2   \n51314                            5.6  ...            11.4            12.8   \n51342                            6.0  ...            14.8            11.0   \n51357                            6.8  ...            10.4            12.0   \n51358                            5.0  ...             9.2            10.6   \n\n       cs_team1  cs_team2  damage_team1  damage_team2  gold_team1  gold_team2  \\\n3        138.32    158.58       16868.4       20872.6     10661.4     11567.8   \n4        134.66    145.44       19998.0       19525.8     11366.8     10758.6   \n7        142.20    177.44       19557.0       21106.8     11767.2     11630.0   \n8        158.64    149.40       18130.8       16636.2     10773.8     10792.4   \n10       163.16    147.80       18453.0       19359.0     11611.0     11132.8   \n...         ...       ...           ...           ...         ...         ...   \n51312    156.26    156.74       19061.6       17401.8     10653.4     10826.4   \n51314    156.60    169.72       18495.6       18986.6     11251.6     11443.4   \n51342    150.08    155.64       19370.8       21313.0     10960.6     11867.6   \n51357    152.92    156.36       17576.2       20622.2     10920.0     11127.4   \n51358    126.14    147.84       13554.2       17418.4      8950.6     10243.0   \n\n       winrate_team1  winrate_team2  \n3           0.543806       0.512515  \n4           0.533784       0.533888  \n7           0.522247       0.618992  \n8           0.555881       0.531511  \n10          0.555064       0.532602  \n...              ...            ...  \n51312       0.569294       0.549947  \n51314       0.649495       0.588457  \n51342       0.513814       0.524449  \n51357       0.607342       0.563196  \n51358       0.544320       0.545707  \n\n[25474 rows x 60 columns]",
      "text/html": "<div>\n<style scoped>\n    .dataframe tbody tr th:only-of-type {\n        vertical-align: middle;\n    }\n\n    .dataframe tbody tr th {\n        vertical-align: top;\n    }\n\n    .dataframe thead th {\n        text-align: right;\n    }\n</style>\n<table border=\"1\" class=\"dataframe\">\n  <thead>\n    <tr style=\"text-align: right;\">\n      <th></th>\n      <th>level_team1</th>\n      <th>level_team2</th>\n      <th>champion_infoAttack_team1</th>\n      <th>champion_infoAttack_team2</th>\n      <th>champion_infoDefense_team1</th>\n      <th>champion_infoDefense_team2</th>\n      <th>champion_infoMagic_team1</th>\n      <th>champion_infoMagic_team2</th>\n      <th>champion_infoDifficulty_team1</th>\n      <th>champion_infoDifficulty_team2</th>\n      <th>...</th>\n      <th>maxKills_team1</th>\n      <th>maxKills_team2</th>\n      <th>cs_team1</th>\n      <th>cs_team2</th>\n      <th>damage_team1</th>\n      <th>damage_team2</th>\n      <th>gold_team1</th>\n      <th>gold_team2</th>\n      <th>winrate_team1</th>\n      <th>winrate_team2</th>\n    </tr>\n  </thead>\n  <tbody>\n    <tr>\n      <th>3</th>\n      <td>275.4</td>\n      <td>307.6</td>\n      <td>5.2</td>\n      <td>5.4</td>\n      <td>5.2</td>\n      <td>3.6</td>\n      <td>5.4</td>\n      <td>5.2</td>\n      <td>5.0</td>\n      <td>5.8</td>\n      <td>...</td>\n      <td>11.4</td>\n      <td>12.2</td>\n      <td>138.32</td>\n      <td>158.58</td>\n      <td>16868.4</td>\n      <td>20872.6</td>\n      <td>10661.4</td>\n      <td>11567.8</td>\n      <td>0.543806</td>\n      <td>0.512515</td>\n    </tr>\n    <tr>\n      <th>4</th>\n      <td>699.4</td>\n      <td>538.2</td>\n      <td>6.0</td>\n      <td>6.0</td>\n      <td>3.8</td>\n      <td>3.8</td>\n      <td>5.4</td>\n      <td>4.2</td>\n      <td>4.8</td>\n      <td>6.6</td>\n      <td>...</td>\n      <td>11.0</td>\n      <td>13.4</td>\n      <td>134.66</td>\n      <td>145.44</td>\n      <td>19998.0</td>\n      <td>19525.8</td>\n      <td>11366.8</td>\n      <td>10758.6</td>\n      <td>0.533784</td>\n      <td>0.533888</td>\n    </tr>\n    <tr>\n      <th>7</th>\n      <td>544.8</td>\n      <td>560.2</td>\n      <td>7.0</td>\n      <td>8.4</td>\n      <td>5.0</td>\n      <td>3.6</td>\n      <td>4.8</td>\n      <td>3.4</td>\n      <td>4.6</td>\n      <td>7.6</td>\n      <td>...</td>\n      <td>12.6</td>\n      <td>13.4</td>\n      <td>142.20</td>\n      <td>177.44</td>\n      <td>19557.0</td>\n      <td>21106.8</td>\n      <td>11767.2</td>\n      <td>11630.0</td>\n      <td>0.522247</td>\n      <td>0.618992</td>\n    </tr>\n    <tr>\n      <th>8</th>\n      <td>364.2</td>\n      <td>405.2</td>\n      <td>5.4</td>\n      <td>5.8</td>\n      <td>4.8</td>\n      <td>4.6</td>\n      <td>6.2</td>\n      <td>4.8</td>\n      <td>5.8</td>\n      <td>5.2</td>\n      <td>...</td>\n      <td>12.0</td>\n      <td>10.8</td>\n      <td>158.64</td>\n      <td>149.40</td>\n      <td>18130.8</td>\n      <td>16636.2</td>\n      <td>10773.8</td>\n      <td>10792.4</td>\n      <td>0.555881</td>\n      <td>0.531511</td>\n    </tr>\n    <tr>\n      <th>10</th>\n      <td>524.6</td>\n      <td>502.6</td>\n      <td>5.4</td>\n      <td>7.4</td>\n      <td>3.6</td>\n      <td>4.2</td>\n      <td>5.6</td>\n      <td>4.4</td>\n      <td>5.6</td>\n      <td>5.2</td>\n      <td>...</td>\n      <td>9.8</td>\n      <td>10.4</td>\n      <td>163.16</td>\n      <td>147.80</td>\n      <td>18453.0</td>\n      <td>19359.0</td>\n      <td>11611.0</td>\n      <td>11132.8</td>\n      <td>0.555064</td>\n      <td>0.532602</td>\n    </tr>\n    <tr>\n      <th>...</th>\n      <td>...</td>\n      <td>...</td>\n      <td>...</td>\n      <td>...</td>\n      <td>...</td>\n      <td>...</td>\n      <td>...</td>\n      <td>...</td>\n      <td>...</td>\n      <td>...</td>\n      <td>...</td>\n      <td>...</td>\n      <td>...</td>\n      <td>...</td>\n      <td>...</td>\n      <td>...</td>\n      <td>...</td>\n      <td>...</td>\n      <td>...</td>\n      <td>...</td>\n      <td>...</td>\n    </tr>\n    <tr>\n      <th>51312</th>\n      <td>626.2</td>\n      <td>269.8</td>\n      <td>4.4</td>\n      <td>6.0</td>\n      <td>5.0</td>\n      <td>5.4</td>\n      <td>6.2</td>\n      <td>3.8</td>\n      <td>6.4</td>\n      <td>5.8</td>\n      <td>...</td>\n      <td>12.2</td>\n      <td>11.2</td>\n      <td>156.26</td>\n      <td>156.74</td>\n      <td>19061.6</td>\n      <td>17401.8</td>\n      <td>10653.4</td>\n      <td>10826.4</td>\n      <td>0.569294</td>\n      <td>0.549947</td>\n    </tr>\n    <tr>\n      <th>51314</th>\n      <td>307.8</td>\n      <td>513.6</td>\n      <td>6.4</td>\n      <td>5.8</td>\n      <td>5.0</td>\n      <td>4.4</td>\n      <td>4.2</td>\n      <td>5.0</td>\n      <td>5.2</td>\n      <td>5.6</td>\n      <td>...</td>\n      <td>11.4</td>\n      <td>12.8</td>\n      <td>156.60</td>\n      <td>169.72</td>\n      <td>18495.6</td>\n      <td>18986.6</td>\n      <td>11251.6</td>\n      <td>11443.4</td>\n      <td>0.649495</td>\n      <td>0.588457</td>\n    </tr>\n    <tr>\n      <th>51342</th>\n      <td>680.8</td>\n      <td>239.8</td>\n      <td>4.6</td>\n      <td>6.6</td>\n      <td>6.0</td>\n      <td>3.8</td>\n      <td>5.6</td>\n      <td>5.0</td>\n      <td>4.8</td>\n      <td>6.0</td>\n      <td>...</td>\n      <td>14.8</td>\n      <td>11.0</td>\n      <td>150.08</td>\n      <td>155.64</td>\n      <td>19370.8</td>\n      <td>21313.0</td>\n      <td>10960.6</td>\n      <td>11867.6</td>\n      <td>0.513814</td>\n      <td>0.524449</td>\n    </tr>\n    <tr>\n      <th>51357</th>\n      <td>723.2</td>\n      <td>722.4</td>\n      <td>5.4</td>\n      <td>4.6</td>\n      <td>3.6</td>\n      <td>3.2</td>\n      <td>4.4</td>\n      <td>6.0</td>\n      <td>5.2</td>\n      <td>6.8</td>\n      <td>...</td>\n      <td>10.4</td>\n      <td>12.0</td>\n      <td>152.92</td>\n      <td>156.36</td>\n      <td>17576.2</td>\n      <td>20622.2</td>\n      <td>10920.0</td>\n      <td>11127.4</td>\n      <td>0.607342</td>\n      <td>0.563196</td>\n    </tr>\n    <tr>\n      <th>51358</th>\n      <td>593.6</td>\n      <td>726.4</td>\n      <td>6.2</td>\n      <td>4.2</td>\n      <td>5.4</td>\n      <td>4.6</td>\n      <td>5.6</td>\n      <td>6.0</td>\n      <td>5.8</td>\n      <td>5.0</td>\n      <td>...</td>\n      <td>9.2</td>\n      <td>10.6</td>\n      <td>126.14</td>\n      <td>147.84</td>\n      <td>13554.2</td>\n      <td>17418.4</td>\n      <td>8950.6</td>\n      <td>10243.0</td>\n      <td>0.544320</td>\n      <td>0.545707</td>\n    </tr>\n  </tbody>\n</table>\n<p>25474 rows × 60 columns</p>\n</div>"
     },
     "execution_count": 11,
     "metadata": {},
     "output_type": "execute_result"
    }
   ],
   "source": [
    "df_merged"
   ],
   "metadata": {
    "collapsed": false,
    "ExecuteTime": {
     "end_time": "2023-12-10T07:08:40.921551700Z",
     "start_time": "2023-12-10T07:08:40.863549700Z"
    }
   },
   "id": "8c4eb4db176874c3"
  },
  {
   "cell_type": "code",
   "execution_count": 7,
   "outputs": [
    {
     "data": {
      "text/plain": "       championNumber_1  championNumber_2  championNumber_3  championNumber_4  \\\n3                     0                 0                 0                 0   \n4                     0                 0                 0                 0   \n7                     0                 0                 0                 0   \n8                     0                 0                 0                 0   \n10                    0                 0                 0                 0   \n...                 ...               ...               ...               ...   \n51312                 0                 0                 0                 0   \n51314                 0                 0                 0                 0   \n51342                 0                 0                 0                 0   \n51357                 0                 0                 0                 0   \n51358                 0                 0                 0                 0   \n\n       championNumber_5  championNumber_6  championNumber_7  championNumber_8  \\\n3                     0                 0                 0                 0   \n4                     0                 0                 0                 0   \n7                     0                 0                 0                 0   \n8                     0                 0                 0                 0   \n10                    0                 0                 0                 0   \n...                 ...               ...               ...               ...   \n51312                 0                 0                 0                 0   \n51314                 0                 0                 0                 0   \n51342                 0                 0                 0                 0   \n51357                 0                 0                 0                 0   \n51358                 0                 0                 0                 0   \n\n       championNumber_9  championNumber_10  ...  championNumber_555  \\\n3                     0                  0  ...                   0   \n4                     0                  0  ...                   0   \n7                     0                  0  ...                   0   \n8                     0                  0  ...                   0   \n10                    0                  0  ...                   0   \n...                 ...                ...  ...                 ...   \n51312                 0                  0  ...                   0   \n51314                 0                  0  ...                   0   \n51342                 0                  0  ...                   0   \n51357                 0                  0  ...                   0   \n51358                 0                  0  ...                   0   \n\n       championNumber_711  championNumber_777  championNumber_875  \\\n3                       0                   0                   0   \n4                       0                   0                   0   \n7                       0                   0                   0   \n8                       0                   0                   0   \n10                      0                   0                   0   \n...                   ...                 ...                 ...   \n51312                   0                   0                   0   \n51314                   0                   0                   0   \n51342                   0                   0                   0   \n51357                   0                   0                   0   \n51358                   0                   0                   0   \n\n       championNumber_876  championNumber_887  championNumber_895  \\\n3                       0                   0                   0   \n4                       0                   0                   0   \n7                       0                   0                   0   \n8                       0                   0                   0   \n10                      0                   0                   0   \n...                   ...                 ...                 ...   \n51312                   0                   0                   0   \n51314                   0                   1                   0   \n51342                   0                   0                   0   \n51357                   0                   0                   0   \n51358                   0                   0                   0   \n\n       championNumber_897  championNumber_902  championNumber_950  \n3                       0                   0                   0  \n4                       0                   0                   0  \n7                       0                   0                   0  \n8                       0                   0                   0  \n10                      0                   0                   0  \n...                   ...                 ...                 ...  \n51312                   0                   0                   0  \n51314                   0                   0                   0  \n51342                   0                   0                   0  \n51357                   0                   0                   0  \n51358                   0                   0                   0  \n\n[25474 rows x 162 columns]",
      "text/html": "<div>\n<style scoped>\n    .dataframe tbody tr th:only-of-type {\n        vertical-align: middle;\n    }\n\n    .dataframe tbody tr th {\n        vertical-align: top;\n    }\n\n    .dataframe thead th {\n        text-align: right;\n    }\n</style>\n<table border=\"1\" class=\"dataframe\">\n  <thead>\n    <tr style=\"text-align: right;\">\n      <th></th>\n      <th>championNumber_1</th>\n      <th>championNumber_2</th>\n      <th>championNumber_3</th>\n      <th>championNumber_4</th>\n      <th>championNumber_5</th>\n      <th>championNumber_6</th>\n      <th>championNumber_7</th>\n      <th>championNumber_8</th>\n      <th>championNumber_9</th>\n      <th>championNumber_10</th>\n      <th>...</th>\n      <th>championNumber_555</th>\n      <th>championNumber_711</th>\n      <th>championNumber_777</th>\n      <th>championNumber_875</th>\n      <th>championNumber_876</th>\n      <th>championNumber_887</th>\n      <th>championNumber_895</th>\n      <th>championNumber_897</th>\n      <th>championNumber_902</th>\n      <th>championNumber_950</th>\n    </tr>\n  </thead>\n  <tbody>\n    <tr>\n      <th>3</th>\n      <td>0</td>\n      <td>0</td>\n      <td>0</td>\n      <td>0</td>\n      <td>0</td>\n      <td>0</td>\n      <td>0</td>\n      <td>0</td>\n      <td>0</td>\n      <td>0</td>\n      <td>...</td>\n      <td>0</td>\n      <td>0</td>\n      <td>0</td>\n      <td>0</td>\n      <td>0</td>\n      <td>0</td>\n      <td>0</td>\n      <td>0</td>\n      <td>0</td>\n      <td>0</td>\n    </tr>\n    <tr>\n      <th>4</th>\n      <td>0</td>\n      <td>0</td>\n      <td>0</td>\n      <td>0</td>\n      <td>0</td>\n      <td>0</td>\n      <td>0</td>\n      <td>0</td>\n      <td>0</td>\n      <td>0</td>\n      <td>...</td>\n      <td>0</td>\n      <td>0</td>\n      <td>0</td>\n      <td>0</td>\n      <td>0</td>\n      <td>0</td>\n      <td>0</td>\n      <td>0</td>\n      <td>0</td>\n      <td>0</td>\n    </tr>\n    <tr>\n      <th>7</th>\n      <td>0</td>\n      <td>0</td>\n      <td>0</td>\n      <td>0</td>\n      <td>0</td>\n      <td>0</td>\n      <td>0</td>\n      <td>0</td>\n      <td>0</td>\n      <td>0</td>\n      <td>...</td>\n      <td>0</td>\n      <td>0</td>\n      <td>0</td>\n      <td>0</td>\n      <td>0</td>\n      <td>0</td>\n      <td>0</td>\n      <td>0</td>\n      <td>0</td>\n      <td>0</td>\n    </tr>\n    <tr>\n      <th>8</th>\n      <td>0</td>\n      <td>0</td>\n      <td>0</td>\n      <td>0</td>\n      <td>0</td>\n      <td>0</td>\n      <td>0</td>\n      <td>0</td>\n      <td>0</td>\n      <td>0</td>\n      <td>...</td>\n      <td>0</td>\n      <td>0</td>\n      <td>0</td>\n      <td>0</td>\n      <td>0</td>\n      <td>0</td>\n      <td>0</td>\n      <td>0</td>\n      <td>0</td>\n      <td>0</td>\n    </tr>\n    <tr>\n      <th>10</th>\n      <td>0</td>\n      <td>0</td>\n      <td>0</td>\n      <td>0</td>\n      <td>0</td>\n      <td>0</td>\n      <td>0</td>\n      <td>0</td>\n      <td>0</td>\n      <td>0</td>\n      <td>...</td>\n      <td>0</td>\n      <td>0</td>\n      <td>0</td>\n      <td>0</td>\n      <td>0</td>\n      <td>0</td>\n      <td>0</td>\n      <td>0</td>\n      <td>0</td>\n      <td>0</td>\n    </tr>\n    <tr>\n      <th>...</th>\n      <td>...</td>\n      <td>...</td>\n      <td>...</td>\n      <td>...</td>\n      <td>...</td>\n      <td>...</td>\n      <td>...</td>\n      <td>...</td>\n      <td>...</td>\n      <td>...</td>\n      <td>...</td>\n      <td>...</td>\n      <td>...</td>\n      <td>...</td>\n      <td>...</td>\n      <td>...</td>\n      <td>...</td>\n      <td>...</td>\n      <td>...</td>\n      <td>...</td>\n      <td>...</td>\n    </tr>\n    <tr>\n      <th>51312</th>\n      <td>0</td>\n      <td>0</td>\n      <td>0</td>\n      <td>0</td>\n      <td>0</td>\n      <td>0</td>\n      <td>0</td>\n      <td>0</td>\n      <td>0</td>\n      <td>0</td>\n      <td>...</td>\n      <td>0</td>\n      <td>0</td>\n      <td>0</td>\n      <td>0</td>\n      <td>0</td>\n      <td>0</td>\n      <td>0</td>\n      <td>0</td>\n      <td>0</td>\n      <td>0</td>\n    </tr>\n    <tr>\n      <th>51314</th>\n      <td>0</td>\n      <td>0</td>\n      <td>0</td>\n      <td>0</td>\n      <td>0</td>\n      <td>0</td>\n      <td>0</td>\n      <td>0</td>\n      <td>0</td>\n      <td>0</td>\n      <td>...</td>\n      <td>0</td>\n      <td>0</td>\n      <td>0</td>\n      <td>0</td>\n      <td>0</td>\n      <td>1</td>\n      <td>0</td>\n      <td>0</td>\n      <td>0</td>\n      <td>0</td>\n    </tr>\n    <tr>\n      <th>51342</th>\n      <td>0</td>\n      <td>0</td>\n      <td>0</td>\n      <td>0</td>\n      <td>0</td>\n      <td>0</td>\n      <td>0</td>\n      <td>0</td>\n      <td>0</td>\n      <td>0</td>\n      <td>...</td>\n      <td>0</td>\n      <td>0</td>\n      <td>0</td>\n      <td>0</td>\n      <td>0</td>\n      <td>0</td>\n      <td>0</td>\n      <td>0</td>\n      <td>0</td>\n      <td>0</td>\n    </tr>\n    <tr>\n      <th>51357</th>\n      <td>0</td>\n      <td>0</td>\n      <td>0</td>\n      <td>0</td>\n      <td>0</td>\n      <td>0</td>\n      <td>0</td>\n      <td>0</td>\n      <td>0</td>\n      <td>0</td>\n      <td>...</td>\n      <td>0</td>\n      <td>0</td>\n      <td>0</td>\n      <td>0</td>\n      <td>0</td>\n      <td>0</td>\n      <td>0</td>\n      <td>0</td>\n      <td>0</td>\n      <td>0</td>\n    </tr>\n    <tr>\n      <th>51358</th>\n      <td>0</td>\n      <td>0</td>\n      <td>0</td>\n      <td>0</td>\n      <td>0</td>\n      <td>0</td>\n      <td>0</td>\n      <td>0</td>\n      <td>0</td>\n      <td>0</td>\n      <td>...</td>\n      <td>0</td>\n      <td>0</td>\n      <td>0</td>\n      <td>0</td>\n      <td>0</td>\n      <td>0</td>\n      <td>0</td>\n      <td>0</td>\n      <td>0</td>\n      <td>0</td>\n    </tr>\n  </tbody>\n</table>\n<p>25474 rows × 162 columns</p>\n</div>"
     },
     "execution_count": 7,
     "metadata": {},
     "output_type": "execute_result"
    }
   ],
   "source": [
    "categorial_columns = [f'participant{x}_champion_championNumber' for x in range(1, 11)]\n",
    "df_categorical = df.loc[:, categorial_columns]\n",
    "df_categorical_one_hot = pd.get_dummies(df_categorical.loc[:, 'participant1_champion_championNumber'],\n",
    "                                        columns='participant1_champion_championNumber', prefix='championNumber')\n",
    "df_categorical_one_hot"
   ],
   "metadata": {
    "collapsed": false,
    "ExecuteTime": {
     "end_time": "2023-12-10T07:08:04.130109300Z",
     "start_time": "2023-12-10T07:08:04.055065400Z"
    }
   },
   "id": "ebb901c674ca92b1"
  },
  {
   "cell_type": "code",
   "execution_count": 19,
   "outputs": [
    {
     "data": {
      "text/plain": "       level_team1  level_team2  champion_infoAttack_team1  \\\n3            275.4        307.6                        5.2   \n4            699.4        538.2                        6.0   \n7            544.8        560.2                        7.0   \n8            364.2        405.2                        5.4   \n10           524.6        502.6                        5.4   \n...            ...          ...                        ...   \n51312        626.2        269.8                        4.4   \n51314        307.8        513.6                        6.4   \n51342        680.8        239.8                        4.6   \n51357        723.2        722.4                        5.4   \n51358        593.6        726.4                        6.2   \n\n       champion_infoAttack_team2  champion_infoDefense_team1  \\\n3                            5.4                         5.2   \n4                            6.0                         3.8   \n7                            8.4                         5.0   \n8                            5.8                         4.8   \n10                           7.4                         3.6   \n...                          ...                         ...   \n51312                        6.0                         5.0   \n51314                        5.8                         5.0   \n51342                        6.6                         6.0   \n51357                        4.6                         3.6   \n51358                        4.2                         5.4   \n\n       champion_infoDefense_team2  champion_infoMagic_team1  \\\n3                             3.6                       5.4   \n4                             3.8                       5.4   \n7                             3.6                       4.8   \n8                             4.6                       6.2   \n10                            4.2                       5.6   \n...                           ...                       ...   \n51312                         5.4                       6.2   \n51314                         4.4                       4.2   \n51342                         3.8                       5.6   \n51357                         3.2                       4.4   \n51358                         4.6                       5.6   \n\n       champion_infoMagic_team2  champion_infoDifficulty_team1  \\\n3                           5.2                            5.0   \n4                           4.2                            4.8   \n7                           3.4                            4.6   \n8                           4.8                            5.8   \n10                          4.4                            5.6   \n...                         ...                            ...   \n51312                       3.8                            6.4   \n51314                       5.0                            5.2   \n51342                       5.0                            4.8   \n51357                       6.0                            5.2   \n51358                       6.0                            5.8   \n\n       champion_infoDifficulty_team2  ...  championNumber_711  \\\n3                                5.8  ...                   0   \n4                                6.6  ...                   0   \n7                                7.6  ...                   0   \n8                                5.2  ...                   0   \n10                               5.2  ...                   0   \n...                              ...  ...                 ...   \n51312                            5.8  ...                   0   \n51314                            5.6  ...                   0   \n51342                            6.0  ...                   0   \n51357                            6.8  ...                   0   \n51358                            5.0  ...                   0   \n\n       championNumber_777  championNumber_875  championNumber_876  \\\n3                       0                   0                   0   \n4                       0                   0                   0   \n7                       0                   0                   0   \n8                       0                   0                   0   \n10                      0                   0                   0   \n...                   ...                 ...                 ...   \n51312                   0                   0                   0   \n51314                   0                   0                   0   \n51342                   0                   0                   0   \n51357                   0                   0                   0   \n51358                   0                   0                   0   \n\n       championNumber_887  championNumber_895  championNumber_897  \\\n3                       0                   0                   0   \n4                       0                   0                   0   \n7                       0                   0                   0   \n8                       0                   0                   0   \n10                      0                   0                   0   \n...                   ...                 ...                 ...   \n51312                   0                   0                   0   \n51314                   1                   0                   0   \n51342                   0                   0                   0   \n51357                   0                   0                   0   \n51358                   0                   0                   0   \n\n       championNumber_902  championNumber_950  label  \n3                       0                   0      1  \n4                       0                   0      0  \n7                       0                   0      0  \n8                       0                   0      0  \n10                      0                   0      0  \n...                   ...                 ...    ...  \n51312                   0                   0      1  \n51314                   0                   0      0  \n51342                   0                   0      0  \n51357                   0                   0      0  \n51358                   0                   0      1  \n\n[25474 rows x 223 columns]",
      "text/html": "<div>\n<style scoped>\n    .dataframe tbody tr th:only-of-type {\n        vertical-align: middle;\n    }\n\n    .dataframe tbody tr th {\n        vertical-align: top;\n    }\n\n    .dataframe thead th {\n        text-align: right;\n    }\n</style>\n<table border=\"1\" class=\"dataframe\">\n  <thead>\n    <tr style=\"text-align: right;\">\n      <th></th>\n      <th>level_team1</th>\n      <th>level_team2</th>\n      <th>champion_infoAttack_team1</th>\n      <th>champion_infoAttack_team2</th>\n      <th>champion_infoDefense_team1</th>\n      <th>champion_infoDefense_team2</th>\n      <th>champion_infoMagic_team1</th>\n      <th>champion_infoMagic_team2</th>\n      <th>champion_infoDifficulty_team1</th>\n      <th>champion_infoDifficulty_team2</th>\n      <th>...</th>\n      <th>championNumber_711</th>\n      <th>championNumber_777</th>\n      <th>championNumber_875</th>\n      <th>championNumber_876</th>\n      <th>championNumber_887</th>\n      <th>championNumber_895</th>\n      <th>championNumber_897</th>\n      <th>championNumber_902</th>\n      <th>championNumber_950</th>\n      <th>label</th>\n    </tr>\n  </thead>\n  <tbody>\n    <tr>\n      <th>3</th>\n      <td>275.4</td>\n      <td>307.6</td>\n      <td>5.2</td>\n      <td>5.4</td>\n      <td>5.2</td>\n      <td>3.6</td>\n      <td>5.4</td>\n      <td>5.2</td>\n      <td>5.0</td>\n      <td>5.8</td>\n      <td>...</td>\n      <td>0</td>\n      <td>0</td>\n      <td>0</td>\n      <td>0</td>\n      <td>0</td>\n      <td>0</td>\n      <td>0</td>\n      <td>0</td>\n      <td>0</td>\n      <td>1</td>\n    </tr>\n    <tr>\n      <th>4</th>\n      <td>699.4</td>\n      <td>538.2</td>\n      <td>6.0</td>\n      <td>6.0</td>\n      <td>3.8</td>\n      <td>3.8</td>\n      <td>5.4</td>\n      <td>4.2</td>\n      <td>4.8</td>\n      <td>6.6</td>\n      <td>...</td>\n      <td>0</td>\n      <td>0</td>\n      <td>0</td>\n      <td>0</td>\n      <td>0</td>\n      <td>0</td>\n      <td>0</td>\n      <td>0</td>\n      <td>0</td>\n      <td>0</td>\n    </tr>\n    <tr>\n      <th>7</th>\n      <td>544.8</td>\n      <td>560.2</td>\n      <td>7.0</td>\n      <td>8.4</td>\n      <td>5.0</td>\n      <td>3.6</td>\n      <td>4.8</td>\n      <td>3.4</td>\n      <td>4.6</td>\n      <td>7.6</td>\n      <td>...</td>\n      <td>0</td>\n      <td>0</td>\n      <td>0</td>\n      <td>0</td>\n      <td>0</td>\n      <td>0</td>\n      <td>0</td>\n      <td>0</td>\n      <td>0</td>\n      <td>0</td>\n    </tr>\n    <tr>\n      <th>8</th>\n      <td>364.2</td>\n      <td>405.2</td>\n      <td>5.4</td>\n      <td>5.8</td>\n      <td>4.8</td>\n      <td>4.6</td>\n      <td>6.2</td>\n      <td>4.8</td>\n      <td>5.8</td>\n      <td>5.2</td>\n      <td>...</td>\n      <td>0</td>\n      <td>0</td>\n      <td>0</td>\n      <td>0</td>\n      <td>0</td>\n      <td>0</td>\n      <td>0</td>\n      <td>0</td>\n      <td>0</td>\n      <td>0</td>\n    </tr>\n    <tr>\n      <th>10</th>\n      <td>524.6</td>\n      <td>502.6</td>\n      <td>5.4</td>\n      <td>7.4</td>\n      <td>3.6</td>\n      <td>4.2</td>\n      <td>5.6</td>\n      <td>4.4</td>\n      <td>5.6</td>\n      <td>5.2</td>\n      <td>...</td>\n      <td>0</td>\n      <td>0</td>\n      <td>0</td>\n      <td>0</td>\n      <td>0</td>\n      <td>0</td>\n      <td>0</td>\n      <td>0</td>\n      <td>0</td>\n      <td>0</td>\n    </tr>\n    <tr>\n      <th>...</th>\n      <td>...</td>\n      <td>...</td>\n      <td>...</td>\n      <td>...</td>\n      <td>...</td>\n      <td>...</td>\n      <td>...</td>\n      <td>...</td>\n      <td>...</td>\n      <td>...</td>\n      <td>...</td>\n      <td>...</td>\n      <td>...</td>\n      <td>...</td>\n      <td>...</td>\n      <td>...</td>\n      <td>...</td>\n      <td>...</td>\n      <td>...</td>\n      <td>...</td>\n      <td>...</td>\n    </tr>\n    <tr>\n      <th>51312</th>\n      <td>626.2</td>\n      <td>269.8</td>\n      <td>4.4</td>\n      <td>6.0</td>\n      <td>5.0</td>\n      <td>5.4</td>\n      <td>6.2</td>\n      <td>3.8</td>\n      <td>6.4</td>\n      <td>5.8</td>\n      <td>...</td>\n      <td>0</td>\n      <td>0</td>\n      <td>0</td>\n      <td>0</td>\n      <td>0</td>\n      <td>0</td>\n      <td>0</td>\n      <td>0</td>\n      <td>0</td>\n      <td>1</td>\n    </tr>\n    <tr>\n      <th>51314</th>\n      <td>307.8</td>\n      <td>513.6</td>\n      <td>6.4</td>\n      <td>5.8</td>\n      <td>5.0</td>\n      <td>4.4</td>\n      <td>4.2</td>\n      <td>5.0</td>\n      <td>5.2</td>\n      <td>5.6</td>\n      <td>...</td>\n      <td>0</td>\n      <td>0</td>\n      <td>0</td>\n      <td>0</td>\n      <td>1</td>\n      <td>0</td>\n      <td>0</td>\n      <td>0</td>\n      <td>0</td>\n      <td>0</td>\n    </tr>\n    <tr>\n      <th>51342</th>\n      <td>680.8</td>\n      <td>239.8</td>\n      <td>4.6</td>\n      <td>6.6</td>\n      <td>6.0</td>\n      <td>3.8</td>\n      <td>5.6</td>\n      <td>5.0</td>\n      <td>4.8</td>\n      <td>6.0</td>\n      <td>...</td>\n      <td>0</td>\n      <td>0</td>\n      <td>0</td>\n      <td>0</td>\n      <td>0</td>\n      <td>0</td>\n      <td>0</td>\n      <td>0</td>\n      <td>0</td>\n      <td>0</td>\n    </tr>\n    <tr>\n      <th>51357</th>\n      <td>723.2</td>\n      <td>722.4</td>\n      <td>5.4</td>\n      <td>4.6</td>\n      <td>3.6</td>\n      <td>3.2</td>\n      <td>4.4</td>\n      <td>6.0</td>\n      <td>5.2</td>\n      <td>6.8</td>\n      <td>...</td>\n      <td>0</td>\n      <td>0</td>\n      <td>0</td>\n      <td>0</td>\n      <td>0</td>\n      <td>0</td>\n      <td>0</td>\n      <td>0</td>\n      <td>0</td>\n      <td>0</td>\n    </tr>\n    <tr>\n      <th>51358</th>\n      <td>593.6</td>\n      <td>726.4</td>\n      <td>6.2</td>\n      <td>4.2</td>\n      <td>5.4</td>\n      <td>4.6</td>\n      <td>5.6</td>\n      <td>6.0</td>\n      <td>5.8</td>\n      <td>5.0</td>\n      <td>...</td>\n      <td>0</td>\n      <td>0</td>\n      <td>0</td>\n      <td>0</td>\n      <td>0</td>\n      <td>0</td>\n      <td>0</td>\n      <td>0</td>\n      <td>0</td>\n      <td>1</td>\n    </tr>\n  </tbody>\n</table>\n<p>25474 rows × 223 columns</p>\n</div>"
     },
     "execution_count": 19,
     "metadata": {},
     "output_type": "execute_result"
    }
   ],
   "source": [
    "df_merged_ohc = pd.concat([df_merged, df_categorical_one_hot], axis=1)\n",
    "df_merged_ohc['label'] = df['label']\n",
    "df_merged_ohc"
   ],
   "metadata": {
    "collapsed": false,
    "ExecuteTime": {
     "end_time": "2023-12-10T07:14:58.369562600Z",
     "start_time": "2023-12-10T07:14:58.344869200Z"
    }
   },
   "id": "c56ee32d225925cc"
  },
  {
   "cell_type": "code",
   "execution_count": 20,
   "outputs": [
    {
     "data": {
      "text/plain": "['level_team1',\n 'level_team2',\n 'champion_infoAttack_team1',\n 'champion_infoAttack_team2',\n 'champion_infoDefense_team1',\n 'champion_infoDefense_team2',\n 'champion_infoMagic_team1',\n 'champion_infoMagic_team2',\n 'champion_infoDifficulty_team1',\n 'champion_infoDifficulty_team2',\n 'champion_tier_team1',\n 'champion_tier_team2',\n 'champion_win_rate_team1',\n 'champion_win_rate_team2',\n 'champion_pick_rate_team1',\n 'champion_pick_rate_team2',\n 'champion_ban_rate_team1',\n 'champion_ban_rate_team2',\n 'champion_matches_team1',\n 'champion_matches_team2',\n 'tier_team1',\n 'tier_team2',\n 'leaguePoints_team1',\n 'leaguePoints_team2',\n 'veteran_team1',\n 'veteran_team2',\n 'inactive_team1',\n 'inactive_team2',\n 'freshBlood_team1',\n 'freshBlood_team2',\n 'hotStreak_team1',\n 'hotStreak_team2',\n 'lastPlayTime_team1',\n 'lastPlayTime_team2',\n 'championLevel_team1',\n 'championLevel_team2',\n 'championPoints_team1',\n 'championPoints_team2',\n 'championPointsSinceLastLevel_team1',\n 'championPointsSinceLastLevel_team2',\n 'tokensEarned_team1',\n 'tokensEarned_team2',\n 'kda_team1',\n 'kda_team2',\n 'kills_team1',\n 'kills_team2',\n 'deaths_team1',\n 'deaths_team2',\n 'assists_team1',\n 'assists_team2',\n 'maxKills_team1',\n 'maxKills_team2',\n 'cs_team1',\n 'cs_team2',\n 'damage_team1',\n 'damage_team2',\n 'gold_team1',\n 'gold_team2',\n 'winrate_team1',\n 'winrate_team2',\n 'championNumber_1',\n 'championNumber_2',\n 'championNumber_3',\n 'championNumber_4',\n 'championNumber_5',\n 'championNumber_6',\n 'championNumber_7',\n 'championNumber_8',\n 'championNumber_9',\n 'championNumber_10',\n 'championNumber_11',\n 'championNumber_12',\n 'championNumber_13',\n 'championNumber_14',\n 'championNumber_15',\n 'championNumber_16',\n 'championNumber_17',\n 'championNumber_18',\n 'championNumber_19',\n 'championNumber_20',\n 'championNumber_21',\n 'championNumber_22',\n 'championNumber_23',\n 'championNumber_24',\n 'championNumber_25',\n 'championNumber_26',\n 'championNumber_27',\n 'championNumber_28',\n 'championNumber_29',\n 'championNumber_30',\n 'championNumber_31',\n 'championNumber_32',\n 'championNumber_33',\n 'championNumber_34',\n 'championNumber_35',\n 'championNumber_36',\n 'championNumber_37',\n 'championNumber_38',\n 'championNumber_39',\n 'championNumber_40',\n 'championNumber_41',\n 'championNumber_42',\n 'championNumber_43',\n 'championNumber_44',\n 'championNumber_45',\n 'championNumber_48',\n 'championNumber_50',\n 'championNumber_51',\n 'championNumber_53',\n 'championNumber_54',\n 'championNumber_55',\n 'championNumber_56',\n 'championNumber_57',\n 'championNumber_58',\n 'championNumber_59',\n 'championNumber_60',\n 'championNumber_61',\n 'championNumber_62',\n 'championNumber_63',\n 'championNumber_64',\n 'championNumber_67',\n 'championNumber_68',\n 'championNumber_69',\n 'championNumber_72',\n 'championNumber_74',\n 'championNumber_75',\n 'championNumber_76',\n 'championNumber_77',\n 'championNumber_78',\n 'championNumber_79',\n 'championNumber_80',\n 'championNumber_81',\n 'championNumber_82',\n 'championNumber_83',\n 'championNumber_84',\n 'championNumber_85',\n 'championNumber_86',\n 'championNumber_89',\n 'championNumber_90',\n 'championNumber_91',\n 'championNumber_92',\n 'championNumber_96',\n 'championNumber_98',\n 'championNumber_99',\n 'championNumber_101',\n 'championNumber_102',\n 'championNumber_103',\n 'championNumber_104',\n 'championNumber_105',\n 'championNumber_106',\n 'championNumber_107',\n 'championNumber_110',\n 'championNumber_111',\n 'championNumber_112',\n 'championNumber_113',\n 'championNumber_114',\n 'championNumber_115',\n 'championNumber_117',\n 'championNumber_119',\n 'championNumber_120',\n 'championNumber_121',\n 'championNumber_122',\n 'championNumber_126',\n 'championNumber_127',\n 'championNumber_131',\n 'championNumber_133',\n 'championNumber_134',\n 'championNumber_136',\n 'championNumber_141',\n 'championNumber_142',\n 'championNumber_143',\n 'championNumber_145',\n 'championNumber_147',\n 'championNumber_150',\n 'championNumber_154',\n 'championNumber_157',\n 'championNumber_161',\n 'championNumber_163',\n 'championNumber_164',\n 'championNumber_166',\n 'championNumber_200',\n 'championNumber_201',\n 'championNumber_202',\n 'championNumber_203',\n 'championNumber_221',\n 'championNumber_222',\n 'championNumber_223',\n 'championNumber_233',\n 'championNumber_234',\n 'championNumber_235',\n 'championNumber_236',\n 'championNumber_238',\n 'championNumber_240',\n 'championNumber_245',\n 'championNumber_246',\n 'championNumber_254',\n 'championNumber_266',\n 'championNumber_268',\n 'championNumber_350',\n 'championNumber_360',\n 'championNumber_412',\n 'championNumber_420',\n 'championNumber_421',\n 'championNumber_427',\n 'championNumber_429',\n 'championNumber_432',\n 'championNumber_497',\n 'championNumber_498',\n 'championNumber_516',\n 'championNumber_517',\n 'championNumber_518',\n 'championNumber_526',\n 'championNumber_555',\n 'championNumber_711',\n 'championNumber_777',\n 'championNumber_875',\n 'championNumber_876',\n 'championNumber_887',\n 'championNumber_895',\n 'championNumber_897',\n 'championNumber_902',\n 'championNumber_950',\n 'label']"
     },
     "execution_count": 20,
     "metadata": {},
     "output_type": "execute_result"
    }
   ],
   "source": [
    "df_merged_ohc.columns.tolist()"
   ],
   "metadata": {
    "collapsed": false,
    "ExecuteTime": {
     "end_time": "2023-12-10T07:15:00.274042600Z",
     "start_time": "2023-12-10T07:15:00.259031500Z"
    }
   },
   "id": "34f6432f83e8df19"
  },
  {
   "cell_type": "code",
   "execution_count": 21,
   "outputs": [
    {
     "data": {
      "text/plain": "       level_team1  level_team2  champion_infoAttack_team1  \\\n0        -0.789315    -0.583545                  -0.582124   \n1         2.066708     0.970357                   0.323217   \n2         1.025337     1.118604                   1.454893   \n3        -0.191167     0.074134                  -0.355789   \n4         0.889272     0.730466                  -0.355789   \n...            ...          ...                        ...   \n25469     1.573640    -0.838261                  -1.487465   \n25470    -0.571071     0.804589                   0.775887   \n25471     1.941420    -1.040416                  -1.261130   \n25472     2.227022     2.211592                  -0.355789   \n25473     1.354049     2.238546                   0.549552   \n\n       champion_infoAttack_team2  champion_infoDefense_team1  \\\n0                      -0.349560                    1.035229   \n1                       0.319613                   -0.683467   \n2                       2.996305                    0.789701   \n3                       0.096556                    0.544173   \n4                       1.881017                   -0.928995   \n...                          ...                         ...   \n25469                   0.319613                    0.789701   \n25470                   0.096556                    0.789701   \n25471                   0.988786                    2.017341   \n25472                  -1.241790                   -0.928995   \n25473                  -1.687906                    1.280757   \n\n       champion_infoDefense_team2  champion_infoMagic_team1  \\\n0                       -0.944089                  0.462482   \n1                       -0.697821                  0.462482   \n2                       -0.944089                 -0.190654   \n3                        0.287247                  1.333331   \n4                       -0.205287                  0.680194   \n...                           ...                       ...   \n25469                    1.272316                  1.333331   \n25470                    0.040980                 -0.843790   \n25471                   -0.697821                  0.680194   \n25472                   -1.436623                 -0.626078   \n25473                    0.287247                  0.680194   \n\n       champion_infoMagic_team2  champion_infoDifficulty_team1  \\\n0                      0.241753                      -0.874332   \n1                     -0.841484                      -1.091962   \n2                     -1.708074                      -1.309593   \n3                     -0.191542                      -0.003810   \n4                     -0.624836                      -0.221441   \n...                         ...                            ...   \n25469                 -1.274779                       0.649081   \n25470                  0.025106                      -0.656701   \n25471                  0.025106                      -1.091962   \n25472                  1.108343                      -0.656701   \n25473                  1.108343                      -0.003810   \n\n       champion_infoDifficulty_team2  ...  championNumber_711  \\\n0                          -0.006871  ...                 0.0   \n1                           0.865061  ...                 0.0   \n2                           1.954975  ...                 0.0   \n3                          -0.660820  ...                 0.0   \n4                          -0.660820  ...                 0.0   \n...                              ...  ...                 ...   \n25469                      -0.006871  ...                 0.0   \n25470                      -0.224854  ...                 0.0   \n25471                       0.211112  ...                 0.0   \n25472                       1.083043  ...                 0.0   \n25473                      -0.878803  ...                 0.0   \n\n       championNumber_777  championNumber_875  championNumber_876  \\\n0                     0.0                 0.0                 0.0   \n1                     0.0                 0.0                 0.0   \n2                     0.0                 0.0                 0.0   \n3                     0.0                 0.0                 0.0   \n4                     0.0                 0.0                 0.0   \n...                   ...                 ...                 ...   \n25469                 0.0                 0.0                 0.0   \n25470                 0.0                 0.0                 0.0   \n25471                 0.0                 0.0                 0.0   \n25472                 0.0                 0.0                 0.0   \n25473                 0.0                 0.0                 0.0   \n\n       championNumber_887  championNumber_895  championNumber_897  \\\n0                     0.0                 0.0                 0.0   \n1                     0.0                 0.0                 0.0   \n2                     0.0                 0.0                 0.0   \n3                     0.0                 0.0                 0.0   \n4                     0.0                 0.0                 0.0   \n...                   ...                 ...                 ...   \n25469                 0.0                 0.0                 0.0   \n25470                 1.0                 0.0                 0.0   \n25471                 0.0                 0.0                 0.0   \n25472                 0.0                 0.0                 0.0   \n25473                 0.0                 0.0                 0.0   \n\n       championNumber_902  championNumber_950  label  \n0                     0.0                 0.0    1.0  \n1                     0.0                 0.0    0.0  \n2                     0.0                 0.0    0.0  \n3                     0.0                 0.0    0.0  \n4                     0.0                 0.0    0.0  \n...                   ...                 ...    ...  \n25469                 0.0                 0.0    1.0  \n25470                 0.0                 0.0    0.0  \n25471                 0.0                 0.0    0.0  \n25472                 0.0                 0.0    0.0  \n25473                 0.0                 0.0    1.0  \n\n[25474 rows x 223 columns]",
      "text/html": "<div>\n<style scoped>\n    .dataframe tbody tr th:only-of-type {\n        vertical-align: middle;\n    }\n\n    .dataframe tbody tr th {\n        vertical-align: top;\n    }\n\n    .dataframe thead th {\n        text-align: right;\n    }\n</style>\n<table border=\"1\" class=\"dataframe\">\n  <thead>\n    <tr style=\"text-align: right;\">\n      <th></th>\n      <th>level_team1</th>\n      <th>level_team2</th>\n      <th>champion_infoAttack_team1</th>\n      <th>champion_infoAttack_team2</th>\n      <th>champion_infoDefense_team1</th>\n      <th>champion_infoDefense_team2</th>\n      <th>champion_infoMagic_team1</th>\n      <th>champion_infoMagic_team2</th>\n      <th>champion_infoDifficulty_team1</th>\n      <th>champion_infoDifficulty_team2</th>\n      <th>...</th>\n      <th>championNumber_711</th>\n      <th>championNumber_777</th>\n      <th>championNumber_875</th>\n      <th>championNumber_876</th>\n      <th>championNumber_887</th>\n      <th>championNumber_895</th>\n      <th>championNumber_897</th>\n      <th>championNumber_902</th>\n      <th>championNumber_950</th>\n      <th>label</th>\n    </tr>\n  </thead>\n  <tbody>\n    <tr>\n      <th>0</th>\n      <td>-0.789315</td>\n      <td>-0.583545</td>\n      <td>-0.582124</td>\n      <td>-0.349560</td>\n      <td>1.035229</td>\n      <td>-0.944089</td>\n      <td>0.462482</td>\n      <td>0.241753</td>\n      <td>-0.874332</td>\n      <td>-0.006871</td>\n      <td>...</td>\n      <td>0.0</td>\n      <td>0.0</td>\n      <td>0.0</td>\n      <td>0.0</td>\n      <td>0.0</td>\n      <td>0.0</td>\n      <td>0.0</td>\n      <td>0.0</td>\n      <td>0.0</td>\n      <td>1.0</td>\n    </tr>\n    <tr>\n      <th>1</th>\n      <td>2.066708</td>\n      <td>0.970357</td>\n      <td>0.323217</td>\n      <td>0.319613</td>\n      <td>-0.683467</td>\n      <td>-0.697821</td>\n      <td>0.462482</td>\n      <td>-0.841484</td>\n      <td>-1.091962</td>\n      <td>0.865061</td>\n      <td>...</td>\n      <td>0.0</td>\n      <td>0.0</td>\n      <td>0.0</td>\n      <td>0.0</td>\n      <td>0.0</td>\n      <td>0.0</td>\n      <td>0.0</td>\n      <td>0.0</td>\n      <td>0.0</td>\n      <td>0.0</td>\n    </tr>\n    <tr>\n      <th>2</th>\n      <td>1.025337</td>\n      <td>1.118604</td>\n      <td>1.454893</td>\n      <td>2.996305</td>\n      <td>0.789701</td>\n      <td>-0.944089</td>\n      <td>-0.190654</td>\n      <td>-1.708074</td>\n      <td>-1.309593</td>\n      <td>1.954975</td>\n      <td>...</td>\n      <td>0.0</td>\n      <td>0.0</td>\n      <td>0.0</td>\n      <td>0.0</td>\n      <td>0.0</td>\n      <td>0.0</td>\n      <td>0.0</td>\n      <td>0.0</td>\n      <td>0.0</td>\n      <td>0.0</td>\n    </tr>\n    <tr>\n      <th>3</th>\n      <td>-0.191167</td>\n      <td>0.074134</td>\n      <td>-0.355789</td>\n      <td>0.096556</td>\n      <td>0.544173</td>\n      <td>0.287247</td>\n      <td>1.333331</td>\n      <td>-0.191542</td>\n      <td>-0.003810</td>\n      <td>-0.660820</td>\n      <td>...</td>\n      <td>0.0</td>\n      <td>0.0</td>\n      <td>0.0</td>\n      <td>0.0</td>\n      <td>0.0</td>\n      <td>0.0</td>\n      <td>0.0</td>\n      <td>0.0</td>\n      <td>0.0</td>\n      <td>0.0</td>\n    </tr>\n    <tr>\n      <th>4</th>\n      <td>0.889272</td>\n      <td>0.730466</td>\n      <td>-0.355789</td>\n      <td>1.881017</td>\n      <td>-0.928995</td>\n      <td>-0.205287</td>\n      <td>0.680194</td>\n      <td>-0.624836</td>\n      <td>-0.221441</td>\n      <td>-0.660820</td>\n      <td>...</td>\n      <td>0.0</td>\n      <td>0.0</td>\n      <td>0.0</td>\n      <td>0.0</td>\n      <td>0.0</td>\n      <td>0.0</td>\n      <td>0.0</td>\n      <td>0.0</td>\n      <td>0.0</td>\n      <td>0.0</td>\n    </tr>\n    <tr>\n      <th>...</th>\n      <td>...</td>\n      <td>...</td>\n      <td>...</td>\n      <td>...</td>\n      <td>...</td>\n      <td>...</td>\n      <td>...</td>\n      <td>...</td>\n      <td>...</td>\n      <td>...</td>\n      <td>...</td>\n      <td>...</td>\n      <td>...</td>\n      <td>...</td>\n      <td>...</td>\n      <td>...</td>\n      <td>...</td>\n      <td>...</td>\n      <td>...</td>\n      <td>...</td>\n      <td>...</td>\n    </tr>\n    <tr>\n      <th>25469</th>\n      <td>1.573640</td>\n      <td>-0.838261</td>\n      <td>-1.487465</td>\n      <td>0.319613</td>\n      <td>0.789701</td>\n      <td>1.272316</td>\n      <td>1.333331</td>\n      <td>-1.274779</td>\n      <td>0.649081</td>\n      <td>-0.006871</td>\n      <td>...</td>\n      <td>0.0</td>\n      <td>0.0</td>\n      <td>0.0</td>\n      <td>0.0</td>\n      <td>0.0</td>\n      <td>0.0</td>\n      <td>0.0</td>\n      <td>0.0</td>\n      <td>0.0</td>\n      <td>1.0</td>\n    </tr>\n    <tr>\n      <th>25470</th>\n      <td>-0.571071</td>\n      <td>0.804589</td>\n      <td>0.775887</td>\n      <td>0.096556</td>\n      <td>0.789701</td>\n      <td>0.040980</td>\n      <td>-0.843790</td>\n      <td>0.025106</td>\n      <td>-0.656701</td>\n      <td>-0.224854</td>\n      <td>...</td>\n      <td>0.0</td>\n      <td>0.0</td>\n      <td>0.0</td>\n      <td>0.0</td>\n      <td>1.0</td>\n      <td>0.0</td>\n      <td>0.0</td>\n      <td>0.0</td>\n      <td>0.0</td>\n      <td>0.0</td>\n    </tr>\n    <tr>\n      <th>25471</th>\n      <td>1.941420</td>\n      <td>-1.040416</td>\n      <td>-1.261130</td>\n      <td>0.988786</td>\n      <td>2.017341</td>\n      <td>-0.697821</td>\n      <td>0.680194</td>\n      <td>0.025106</td>\n      <td>-1.091962</td>\n      <td>0.211112</td>\n      <td>...</td>\n      <td>0.0</td>\n      <td>0.0</td>\n      <td>0.0</td>\n      <td>0.0</td>\n      <td>0.0</td>\n      <td>0.0</td>\n      <td>0.0</td>\n      <td>0.0</td>\n      <td>0.0</td>\n      <td>0.0</td>\n    </tr>\n    <tr>\n      <th>25472</th>\n      <td>2.227022</td>\n      <td>2.211592</td>\n      <td>-0.355789</td>\n      <td>-1.241790</td>\n      <td>-0.928995</td>\n      <td>-1.436623</td>\n      <td>-0.626078</td>\n      <td>1.108343</td>\n      <td>-0.656701</td>\n      <td>1.083043</td>\n      <td>...</td>\n      <td>0.0</td>\n      <td>0.0</td>\n      <td>0.0</td>\n      <td>0.0</td>\n      <td>0.0</td>\n      <td>0.0</td>\n      <td>0.0</td>\n      <td>0.0</td>\n      <td>0.0</td>\n      <td>0.0</td>\n    </tr>\n    <tr>\n      <th>25473</th>\n      <td>1.354049</td>\n      <td>2.238546</td>\n      <td>0.549552</td>\n      <td>-1.687906</td>\n      <td>1.280757</td>\n      <td>0.287247</td>\n      <td>0.680194</td>\n      <td>1.108343</td>\n      <td>-0.003810</td>\n      <td>-0.878803</td>\n      <td>...</td>\n      <td>0.0</td>\n      <td>0.0</td>\n      <td>0.0</td>\n      <td>0.0</td>\n      <td>0.0</td>\n      <td>0.0</td>\n      <td>0.0</td>\n      <td>0.0</td>\n      <td>0.0</td>\n      <td>1.0</td>\n    </tr>\n  </tbody>\n</table>\n<p>25474 rows × 223 columns</p>\n</div>"
     },
     "execution_count": 21,
     "metadata": {},
     "output_type": "execute_result"
    }
   ],
   "source": [
    "categorial_columns = df_categorical_one_hot.columns.tolist()\n",
    "numerical_columns = df_merged.columns.tolist()\n",
    "preprocessor = ColumnTransformer(\n",
    "    transformers=[\n",
    "        ('scaler', StandardScaler(), numerical_columns)],\n",
    "    remainder='passthrough')\n",
    "df_merged_ohc = pd.DataFrame(preprocessor.fit_transform(df_merged_ohc), columns=df_merged_ohc.columns)\n",
    "df_merged_ohc"
   ],
   "metadata": {
    "collapsed": false,
    "ExecuteTime": {
     "end_time": "2023-12-10T07:15:03.251792200Z",
     "start_time": "2023-12-10T07:15:03.190294600Z"
    }
   },
   "id": "7dda9f57c21dfbe5"
  },
  {
   "cell_type": "code",
   "execution_count": 9,
   "outputs": [
    {
     "name": "stdout",
     "output_type": "stream",
     "text": [
      "(22926, 222)\n",
      "(2548, 222)\n",
      "(22926,)\n"
     ]
    }
   ],
   "source": [
    "X_train, X_test, y_train, y_test = train_test_split(df_merged_ohc.iloc[:, :-1], df_merged_ohc.iloc[:, -1],\n",
    "                                                    test_size=0.1,\n",
    "                                                    random_state=42,\n",
    "                                                    shuffle=True)\n",
    "print(X_train.shape)\n",
    "print(X_test.shape)\n",
    "print(y_train.shape)"
   ],
   "metadata": {
    "collapsed": false,
    "ExecuteTime": {
     "end_time": "2023-12-10T07:08:04.241479200Z",
     "start_time": "2023-12-10T07:08:04.107108500Z"
    }
   },
   "id": "865d8d2a63f792f0"
  },
  {
   "cell_type": "code",
   "execution_count": 10,
   "outputs": [
    {
     "data": {
      "text/plain": "0.6911302982731554"
     },
     "execution_count": 10,
     "metadata": {},
     "output_type": "execute_result"
    }
   ],
   "source": [
    "bst = xgb.XGBClassifier()\n",
    "bst.fit(X_train, y_train)\n",
    "bst.score(X_test, y_test)"
   ],
   "metadata": {
    "collapsed": false,
    "ExecuteTime": {
     "end_time": "2023-12-10T07:08:04.977219600Z",
     "start_time": "2023-12-10T07:08:04.144924100Z"
    }
   },
   "id": "48b312c755defa0"
  },
  {
   "cell_type": "code",
   "execution_count": 10,
   "outputs": [],
   "source": [],
   "metadata": {
    "collapsed": false,
    "ExecuteTime": {
     "end_time": "2023-12-10T07:08:04.994729900Z",
     "start_time": "2023-12-10T07:08:04.977219600Z"
    }
   },
   "id": "8a49884bbe7705fc"
  }
 ],
 "metadata": {
  "kernelspec": {
   "display_name": "Python 3",
   "language": "python",
   "name": "python3"
  },
  "language_info": {
   "codemirror_mode": {
    "name": "ipython",
    "version": 2
   },
   "file_extension": ".py",
   "mimetype": "text/x-python",
   "name": "python",
   "nbconvert_exporter": "python",
   "pygments_lexer": "ipython2",
   "version": "2.7.6"
  }
 },
 "nbformat": 4,
 "nbformat_minor": 5
}
