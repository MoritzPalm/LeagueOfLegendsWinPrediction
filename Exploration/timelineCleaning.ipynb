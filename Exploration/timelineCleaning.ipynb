{
 "cells": [
  {
   "cell_type": "code",
   "execution_count": 42,
   "id": "initial_id",
   "metadata": {
    "collapsed": true,
    "ExecuteTime": {
     "end_time": "2023-10-22T13:46:22.587401900Z",
     "start_time": "2023-10-22T13:46:22.034186400Z"
    }
   },
   "outputs": [],
   "source": [
    "import pickle\n",
    "import numpy as np\n",
    "import pandas as pd\n",
    "import matplotlib.pyplot as plt\n",
    "import seaborn as sns\n",
    "from sklearn.preprocessing import StandardScaler\n",
    "from sklearn.model_selection import train_test_split\n",
    "import random"
   ]
  },
  {
   "cell_type": "code",
   "execution_count": 43,
   "outputs": [
    {
     "name": "stdout",
     "output_type": "stream",
     "text": [
      "(28301, 472)\n"
     ]
    }
   ],
   "source": [
    "with open('../data/raw/timelines.pkl', 'rb') as f:\n",
    "    df = pickle.load(f)\n",
    "    print(df.shape)"
   ],
   "metadata": {
    "collapsed": false,
    "ExecuteTime": {
     "end_time": "2023-10-22T13:46:22.676197100Z",
     "start_time": "2023-10-22T13:46:22.040258Z"
    }
   },
   "id": "9900738abb169292"
  },
  {
   "cell_type": "code",
   "execution_count": 44,
   "outputs": [
    {
     "data": {
      "text/plain": "                         timestamp  winning_team  participant1_participantId  \\\nmatchId         frameId                                                        \nEUW1_6621423080 23043            0             0                           1   \n                23044        60006             0                           1   \n                23045       120032             0                           1   \n                23046       180088             0                           1   \n                23047       240118             0                           1   \n                23048       300140             0                           1   \n                23049       360141             0                           1   \n                23050       420169             0                           1   \n                23051       480189             0                           1   \n                23052       540199             0                           1   \n\n                         participant1_abilityHaste  participant1_abilityPower  \\\nmatchId         frameId                                                         \nEUW1_6621423080 23043                            0                          0   \n                23044                            0                          0   \n                23045                            0                          0   \n                23046                            0                          0   \n                23047                            0                          0   \n                23048                            0                          0   \n                23049                            0                          0   \n                23050                            0                          0   \n                23051                            0                          0   \n                23052                            0                          0   \n\n                         participant1_armor  participant1_armorPen  \\\nmatchId         frameId                                              \nEUW1_6621423080 23043                    36                      0   \n                23044                    42                      0   \n                23045                    42                      0   \n                23046                    48                      0   \n                23047                    48                      0   \n                23048                    54                      0   \n                23049                    58                      0   \n                23050                    88                      0   \n                23051                    62                      0   \n                23052                    66                      0   \n\n                         participant1_armorPenPercent  \\\nmatchId         frameId                                 \nEUW1_6621423080 23043                               0   \n                23044                               0   \n                23045                               0   \n                23046                               0   \n                23047                               0   \n                23048                               0   \n                23049                               0   \n                23050                               0   \n                23051                               0   \n                23052                               0   \n\n                         participant1_attackDamage  participant1_attackSpeed  \\\nmatchId         frameId                                                        \nEUW1_6621423080 23043                           25                       100   \n                23044                           81                       113   \n                23045                           81                       130   \n                23046                           87                       179   \n                23047                           97                       123   \n                23048                          104                       138   \n                23049                          118                       165   \n                23050                          121                       135   \n                23051                          126                       161   \n                23052                          130                       145   \n\n                         ...  participant10_trueDamageTaken  \\\nmatchId         frameId  ...                                  \nEUW1_6621423080 23043    ...                              0   \n                23044    ...                              0   \n                23045    ...                              0   \n                23046    ...                              0   \n                23047    ...                             10   \n                23048    ...                             10   \n                23049    ...                             10   \n                23050    ...                             10   \n                23051    ...                             10   \n                23052    ...                             10   \n\n                         participant10_goldPerSecond  \\\nmatchId         frameId                                \nEUW1_6621423080 23043                              0   \n                23044                             20   \n                23045                             20   \n                23046                             20   \n                23047                             20   \n                23048                             20   \n                23049                             20   \n                23050                             20   \n                23051                             20   \n                23052                             20   \n\n                         participant10_jungleMinionsKilled  \\\nmatchId         frameId                                      \nEUW1_6621423080 23043                                    0   \n                23044                                    0   \n                23045                                    0   \n                23046                                    0   \n                23047                                    0   \n                23048                                    0   \n                23049                                    0   \n                23050                                    0   \n                23051                                    0   \n                23052                                    0   \n\n                         participant10_level  participant10_minionsKilled  \\\nmatchId         frameId                                                     \nEUW1_6621423080 23043                      1                            0   \n                23044                      1                            0   \n                23045                      1                            0   \n                23046                      2                            3   \n                23047                      3                            5   \n                23048                      3                            6   \n                23049                      4                            6   \n                23050                      4                            6   \n                23051                      5                            9   \n                23052                      5                           11   \n\n                         participant10_position_x  participant10_position_y  \\\nmatchId         frameId                                                       \nEUW1_6621423080 23043                       14281                     14199   \n                23044                        6404                      4477   \n                23045                       13458                      2762   \n                23046                       11974                      1620   \n                23047                        7638                      7592   \n                23048                       12932                      1832   \n                23049                        8555                      7503   \n                23050                        9957                      5156   \n                23051                       13007                      3683   \n                23052                        8341                      6345   \n\n                         participant10_timeEnemySpentControlled  \\\nmatchId         frameId                                           \nEUW1_6621423080 23043                                         0   \n                23044                                         0   \n                23045                                       933   \n                23046                                     10028   \n                23047                                     62991   \n                23048                                     62991   \n                23049                                     80750   \n                23050                                     87827   \n                23051                                    127051   \n                23052                                    147655   \n\n                         participant10_totalGold  participant10_xp  \nmatchId         frameId                                             \nEUW1_6621423080 23043                        500                 0  \n                23044                        500                 0  \n                23045                        523                75  \n                23046                        759               527  \n                23047                       1004               828  \n                23048                       1159               984  \n                23049                       1294              1153  \n                23050                       1728              1417  \n                23051                       2103              1905  \n                23052                       2265              2074  \n\n[10 rows x 472 columns]",
      "text/html": "<div>\n<style scoped>\n    .dataframe tbody tr th:only-of-type {\n        vertical-align: middle;\n    }\n\n    .dataframe tbody tr th {\n        vertical-align: top;\n    }\n\n    .dataframe thead th {\n        text-align: right;\n    }\n</style>\n<table border=\"1\" class=\"dataframe\">\n  <thead>\n    <tr style=\"text-align: right;\">\n      <th></th>\n      <th></th>\n      <th>timestamp</th>\n      <th>winning_team</th>\n      <th>participant1_participantId</th>\n      <th>participant1_abilityHaste</th>\n      <th>participant1_abilityPower</th>\n      <th>participant1_armor</th>\n      <th>participant1_armorPen</th>\n      <th>participant1_armorPenPercent</th>\n      <th>participant1_attackDamage</th>\n      <th>participant1_attackSpeed</th>\n      <th>...</th>\n      <th>participant10_trueDamageTaken</th>\n      <th>participant10_goldPerSecond</th>\n      <th>participant10_jungleMinionsKilled</th>\n      <th>participant10_level</th>\n      <th>participant10_minionsKilled</th>\n      <th>participant10_position_x</th>\n      <th>participant10_position_y</th>\n      <th>participant10_timeEnemySpentControlled</th>\n      <th>participant10_totalGold</th>\n      <th>participant10_xp</th>\n    </tr>\n    <tr>\n      <th>matchId</th>\n      <th>frameId</th>\n      <th></th>\n      <th></th>\n      <th></th>\n      <th></th>\n      <th></th>\n      <th></th>\n      <th></th>\n      <th></th>\n      <th></th>\n      <th></th>\n      <th></th>\n      <th></th>\n      <th></th>\n      <th></th>\n      <th></th>\n      <th></th>\n      <th></th>\n      <th></th>\n      <th></th>\n      <th></th>\n      <th></th>\n    </tr>\n  </thead>\n  <tbody>\n    <tr>\n      <th rowspan=\"10\" valign=\"top\">EUW1_6621423080</th>\n      <th>23043</th>\n      <td>0</td>\n      <td>0</td>\n      <td>1</td>\n      <td>0</td>\n      <td>0</td>\n      <td>36</td>\n      <td>0</td>\n      <td>0</td>\n      <td>25</td>\n      <td>100</td>\n      <td>...</td>\n      <td>0</td>\n      <td>0</td>\n      <td>0</td>\n      <td>1</td>\n      <td>0</td>\n      <td>14281</td>\n      <td>14199</td>\n      <td>0</td>\n      <td>500</td>\n      <td>0</td>\n    </tr>\n    <tr>\n      <th>23044</th>\n      <td>60006</td>\n      <td>0</td>\n      <td>1</td>\n      <td>0</td>\n      <td>0</td>\n      <td>42</td>\n      <td>0</td>\n      <td>0</td>\n      <td>81</td>\n      <td>113</td>\n      <td>...</td>\n      <td>0</td>\n      <td>20</td>\n      <td>0</td>\n      <td>1</td>\n      <td>0</td>\n      <td>6404</td>\n      <td>4477</td>\n      <td>0</td>\n      <td>500</td>\n      <td>0</td>\n    </tr>\n    <tr>\n      <th>23045</th>\n      <td>120032</td>\n      <td>0</td>\n      <td>1</td>\n      <td>0</td>\n      <td>0</td>\n      <td>42</td>\n      <td>0</td>\n      <td>0</td>\n      <td>81</td>\n      <td>130</td>\n      <td>...</td>\n      <td>0</td>\n      <td>20</td>\n      <td>0</td>\n      <td>1</td>\n      <td>0</td>\n      <td>13458</td>\n      <td>2762</td>\n      <td>933</td>\n      <td>523</td>\n      <td>75</td>\n    </tr>\n    <tr>\n      <th>23046</th>\n      <td>180088</td>\n      <td>0</td>\n      <td>1</td>\n      <td>0</td>\n      <td>0</td>\n      <td>48</td>\n      <td>0</td>\n      <td>0</td>\n      <td>87</td>\n      <td>179</td>\n      <td>...</td>\n      <td>0</td>\n      <td>20</td>\n      <td>0</td>\n      <td>2</td>\n      <td>3</td>\n      <td>11974</td>\n      <td>1620</td>\n      <td>10028</td>\n      <td>759</td>\n      <td>527</td>\n    </tr>\n    <tr>\n      <th>23047</th>\n      <td>240118</td>\n      <td>0</td>\n      <td>1</td>\n      <td>0</td>\n      <td>0</td>\n      <td>48</td>\n      <td>0</td>\n      <td>0</td>\n      <td>97</td>\n      <td>123</td>\n      <td>...</td>\n      <td>10</td>\n      <td>20</td>\n      <td>0</td>\n      <td>3</td>\n      <td>5</td>\n      <td>7638</td>\n      <td>7592</td>\n      <td>62991</td>\n      <td>1004</td>\n      <td>828</td>\n    </tr>\n    <tr>\n      <th>23048</th>\n      <td>300140</td>\n      <td>0</td>\n      <td>1</td>\n      <td>0</td>\n      <td>0</td>\n      <td>54</td>\n      <td>0</td>\n      <td>0</td>\n      <td>104</td>\n      <td>138</td>\n      <td>...</td>\n      <td>10</td>\n      <td>20</td>\n      <td>0</td>\n      <td>3</td>\n      <td>6</td>\n      <td>12932</td>\n      <td>1832</td>\n      <td>62991</td>\n      <td>1159</td>\n      <td>984</td>\n    </tr>\n    <tr>\n      <th>23049</th>\n      <td>360141</td>\n      <td>0</td>\n      <td>1</td>\n      <td>0</td>\n      <td>0</td>\n      <td>58</td>\n      <td>0</td>\n      <td>0</td>\n      <td>118</td>\n      <td>165</td>\n      <td>...</td>\n      <td>10</td>\n      <td>20</td>\n      <td>0</td>\n      <td>4</td>\n      <td>6</td>\n      <td>8555</td>\n      <td>7503</td>\n      <td>80750</td>\n      <td>1294</td>\n      <td>1153</td>\n    </tr>\n    <tr>\n      <th>23050</th>\n      <td>420169</td>\n      <td>0</td>\n      <td>1</td>\n      <td>0</td>\n      <td>0</td>\n      <td>88</td>\n      <td>0</td>\n      <td>0</td>\n      <td>121</td>\n      <td>135</td>\n      <td>...</td>\n      <td>10</td>\n      <td>20</td>\n      <td>0</td>\n      <td>4</td>\n      <td>6</td>\n      <td>9957</td>\n      <td>5156</td>\n      <td>87827</td>\n      <td>1728</td>\n      <td>1417</td>\n    </tr>\n    <tr>\n      <th>23051</th>\n      <td>480189</td>\n      <td>0</td>\n      <td>1</td>\n      <td>0</td>\n      <td>0</td>\n      <td>62</td>\n      <td>0</td>\n      <td>0</td>\n      <td>126</td>\n      <td>161</td>\n      <td>...</td>\n      <td>10</td>\n      <td>20</td>\n      <td>0</td>\n      <td>5</td>\n      <td>9</td>\n      <td>13007</td>\n      <td>3683</td>\n      <td>127051</td>\n      <td>2103</td>\n      <td>1905</td>\n    </tr>\n    <tr>\n      <th>23052</th>\n      <td>540199</td>\n      <td>0</td>\n      <td>1</td>\n      <td>0</td>\n      <td>0</td>\n      <td>66</td>\n      <td>0</td>\n      <td>0</td>\n      <td>130</td>\n      <td>145</td>\n      <td>...</td>\n      <td>10</td>\n      <td>20</td>\n      <td>0</td>\n      <td>5</td>\n      <td>11</td>\n      <td>8341</td>\n      <td>6345</td>\n      <td>147655</td>\n      <td>2265</td>\n      <td>2074</td>\n    </tr>\n  </tbody>\n</table>\n<p>10 rows × 472 columns</p>\n</div>"
     },
     "execution_count": 44,
     "metadata": {},
     "output_type": "execute_result"
    }
   ],
   "source": [
    "df.head(10)"
   ],
   "metadata": {
    "collapsed": false,
    "ExecuteTime": {
     "end_time": "2023-10-22T13:46:22.677197Z",
     "start_time": "2023-10-22T13:46:22.088028400Z"
    }
   },
   "id": "46b1360be0fe430f"
  },
  {
   "cell_type": "code",
   "execution_count": 45,
   "outputs": [
    {
     "name": "stdout",
     "output_type": "stream",
     "text": [
      "<class 'pandas.core.frame.DataFrame'>\n",
      "MultiIndex: 28301 entries, ('EUW1_6621423080', 23043) to ('EUW1_6626278513', 406767)\n",
      "Columns: 472 entries, timestamp to participant10_xp\n",
      "dtypes: int64(472)\n",
      "memory usage: 102.2+ MB\n"
     ]
    }
   ],
   "source": [
    "df.info()"
   ],
   "metadata": {
    "collapsed": false,
    "ExecuteTime": {
     "end_time": "2023-10-22T13:46:22.677197Z",
     "start_time": "2023-10-22T13:46:22.115086700Z"
    }
   },
   "id": "72470679467d6a84"
  },
  {
   "cell_type": "code",
   "execution_count": 46,
   "outputs": [
    {
     "data": {
      "text/plain": "          timestamp  winning_team  participant1_participantId  \\\ncount  2.830100e+04  28301.000000                28301.000000   \nmean   8.524574e+05      0.467545                    1.006431   \nstd    5.468297e+05      0.498954                    0.195608   \nmin    0.000000e+00      0.000000                    1.000000   \n25%    4.200830e+05      0.000000                    1.000000   \n50%    8.402170e+05      0.000000                    1.000000   \n75%    1.260375e+06      1.000000                    1.000000   \nmax    2.831299e+06      1.000000                    9.000000   \n\n       participant1_abilityHaste  participant1_abilityPower  \\\ncount                    28301.0               28301.000000   \nmean                         0.0                  27.341861   \nstd                          0.0                  74.488899   \nmin                          0.0                   0.000000   \n25%                          0.0                   0.000000   \n50%                          0.0                   0.000000   \n75%                          0.0                   0.000000   \nmax                          0.0                 785.000000   \n\n       participant1_armor  participant1_armorPen  \\\ncount        28301.000000                28301.0   \nmean            92.065969                    0.0   \nstd             54.026340                    0.0   \nmin             18.000000                    0.0   \n25%             56.000000                    0.0   \n50%             79.000000                    0.0   \n75%            112.000000                    0.0   \nmax            645.000000                    0.0   \n\n       participant1_armorPenPercent  participant1_attackDamage  \\\ncount                  28301.000000               28301.000000   \nmean                       1.561782                 144.378538   \nstd                        6.041889                  80.792501   \nmin                        0.000000                  25.000000   \n25%                        0.000000                  85.000000   \n50%                        0.000000                 116.000000   \n75%                        0.000000                 190.000000   \nmax                       44.000000                 696.000000   \n\n       participant1_attackSpeed  ...  participant10_trueDamageTaken  \\\ncount              28301.000000  ...                   28301.000000   \nmean                 145.672026  ...                     286.810749   \nstd                   43.873320  ...                     530.289360   \nmin                   64.000000  ...                       0.000000   \n25%                  117.000000  ...                       0.000000   \n50%                  132.000000  ...                     104.000000   \n75%                  158.000000  ...                     326.000000   \nmax                  461.000000  ...                   12190.000000   \n\n       participant10_goldPerSecond  participant10_jungleMinionsKilled  \\\ncount                 28301.000000                       28301.000000   \nmean                     24.901240                           0.505070   \nstd                       7.914849                           5.356006   \nmin                       0.000000                           0.000000   \n25%                      20.000000                           0.000000   \n50%                      30.000000                           0.000000   \n75%                      30.000000                           0.000000   \nmax                      30.000000                         177.000000   \n\n       participant10_level  participant10_minionsKilled  \\\ncount         28301.000000                 28301.000000   \nmean              6.966503                    16.591004   \nstd               3.733367                    19.344081   \nmin               1.000000                     0.000000   \n25%               4.000000                     4.000000   \n50%               7.000000                    13.000000   \n75%              10.000000                    25.000000   \nmax              18.000000                   311.000000   \n\n       participant10_position_x  participant10_position_y  \\\ncount              28301.000000              28301.000000   \nmean               10094.903042               7089.897742   \nstd                 3324.195941               3860.623302   \nmin                  394.000000                271.000000   \n25%                 7778.000000               3648.000000   \n50%                10835.000000               6806.000000   \n75%                12987.000000               9948.000000   \nmax                14664.000000              14707.000000   \n\n       participant10_timeEnemySpentControlled  participant10_totalGold  \\\ncount                            2.830100e+04             28301.000000   \nmean                             8.709648e+04              4083.221264   \nstd                              8.777142e+04              2767.867506   \nmin                              0.000000e+00               500.000000   \n25%                              2.121500e+04              1713.000000   \n50%                              6.537800e+04              3743.000000   \n75%                              1.281900e+05              5981.000000   \nmax                              1.855841e+06             17632.000000   \n\n       participant10_xp  \ncount      28301.000000  \nmean        4256.302498  \nstd         3440.368526  \nmin            0.000000  \n25%         1487.000000  \n50%         3584.000000  \n75%         6281.000000  \nmax        20569.000000  \n\n[8 rows x 472 columns]",
      "text/html": "<div>\n<style scoped>\n    .dataframe tbody tr th:only-of-type {\n        vertical-align: middle;\n    }\n\n    .dataframe tbody tr th {\n        vertical-align: top;\n    }\n\n    .dataframe thead th {\n        text-align: right;\n    }\n</style>\n<table border=\"1\" class=\"dataframe\">\n  <thead>\n    <tr style=\"text-align: right;\">\n      <th></th>\n      <th>timestamp</th>\n      <th>winning_team</th>\n      <th>participant1_participantId</th>\n      <th>participant1_abilityHaste</th>\n      <th>participant1_abilityPower</th>\n      <th>participant1_armor</th>\n      <th>participant1_armorPen</th>\n      <th>participant1_armorPenPercent</th>\n      <th>participant1_attackDamage</th>\n      <th>participant1_attackSpeed</th>\n      <th>...</th>\n      <th>participant10_trueDamageTaken</th>\n      <th>participant10_goldPerSecond</th>\n      <th>participant10_jungleMinionsKilled</th>\n      <th>participant10_level</th>\n      <th>participant10_minionsKilled</th>\n      <th>participant10_position_x</th>\n      <th>participant10_position_y</th>\n      <th>participant10_timeEnemySpentControlled</th>\n      <th>participant10_totalGold</th>\n      <th>participant10_xp</th>\n    </tr>\n  </thead>\n  <tbody>\n    <tr>\n      <th>count</th>\n      <td>2.830100e+04</td>\n      <td>28301.000000</td>\n      <td>28301.000000</td>\n      <td>28301.0</td>\n      <td>28301.000000</td>\n      <td>28301.000000</td>\n      <td>28301.0</td>\n      <td>28301.000000</td>\n      <td>28301.000000</td>\n      <td>28301.000000</td>\n      <td>...</td>\n      <td>28301.000000</td>\n      <td>28301.000000</td>\n      <td>28301.000000</td>\n      <td>28301.000000</td>\n      <td>28301.000000</td>\n      <td>28301.000000</td>\n      <td>28301.000000</td>\n      <td>2.830100e+04</td>\n      <td>28301.000000</td>\n      <td>28301.000000</td>\n    </tr>\n    <tr>\n      <th>mean</th>\n      <td>8.524574e+05</td>\n      <td>0.467545</td>\n      <td>1.006431</td>\n      <td>0.0</td>\n      <td>27.341861</td>\n      <td>92.065969</td>\n      <td>0.0</td>\n      <td>1.561782</td>\n      <td>144.378538</td>\n      <td>145.672026</td>\n      <td>...</td>\n      <td>286.810749</td>\n      <td>24.901240</td>\n      <td>0.505070</td>\n      <td>6.966503</td>\n      <td>16.591004</td>\n      <td>10094.903042</td>\n      <td>7089.897742</td>\n      <td>8.709648e+04</td>\n      <td>4083.221264</td>\n      <td>4256.302498</td>\n    </tr>\n    <tr>\n      <th>std</th>\n      <td>5.468297e+05</td>\n      <td>0.498954</td>\n      <td>0.195608</td>\n      <td>0.0</td>\n      <td>74.488899</td>\n      <td>54.026340</td>\n      <td>0.0</td>\n      <td>6.041889</td>\n      <td>80.792501</td>\n      <td>43.873320</td>\n      <td>...</td>\n      <td>530.289360</td>\n      <td>7.914849</td>\n      <td>5.356006</td>\n      <td>3.733367</td>\n      <td>19.344081</td>\n      <td>3324.195941</td>\n      <td>3860.623302</td>\n      <td>8.777142e+04</td>\n      <td>2767.867506</td>\n      <td>3440.368526</td>\n    </tr>\n    <tr>\n      <th>min</th>\n      <td>0.000000e+00</td>\n      <td>0.000000</td>\n      <td>1.000000</td>\n      <td>0.0</td>\n      <td>0.000000</td>\n      <td>18.000000</td>\n      <td>0.0</td>\n      <td>0.000000</td>\n      <td>25.000000</td>\n      <td>64.000000</td>\n      <td>...</td>\n      <td>0.000000</td>\n      <td>0.000000</td>\n      <td>0.000000</td>\n      <td>1.000000</td>\n      <td>0.000000</td>\n      <td>394.000000</td>\n      <td>271.000000</td>\n      <td>0.000000e+00</td>\n      <td>500.000000</td>\n      <td>0.000000</td>\n    </tr>\n    <tr>\n      <th>25%</th>\n      <td>4.200830e+05</td>\n      <td>0.000000</td>\n      <td>1.000000</td>\n      <td>0.0</td>\n      <td>0.000000</td>\n      <td>56.000000</td>\n      <td>0.0</td>\n      <td>0.000000</td>\n      <td>85.000000</td>\n      <td>117.000000</td>\n      <td>...</td>\n      <td>0.000000</td>\n      <td>20.000000</td>\n      <td>0.000000</td>\n      <td>4.000000</td>\n      <td>4.000000</td>\n      <td>7778.000000</td>\n      <td>3648.000000</td>\n      <td>2.121500e+04</td>\n      <td>1713.000000</td>\n      <td>1487.000000</td>\n    </tr>\n    <tr>\n      <th>50%</th>\n      <td>8.402170e+05</td>\n      <td>0.000000</td>\n      <td>1.000000</td>\n      <td>0.0</td>\n      <td>0.000000</td>\n      <td>79.000000</td>\n      <td>0.0</td>\n      <td>0.000000</td>\n      <td>116.000000</td>\n      <td>132.000000</td>\n      <td>...</td>\n      <td>104.000000</td>\n      <td>30.000000</td>\n      <td>0.000000</td>\n      <td>7.000000</td>\n      <td>13.000000</td>\n      <td>10835.000000</td>\n      <td>6806.000000</td>\n      <td>6.537800e+04</td>\n      <td>3743.000000</td>\n      <td>3584.000000</td>\n    </tr>\n    <tr>\n      <th>75%</th>\n      <td>1.260375e+06</td>\n      <td>1.000000</td>\n      <td>1.000000</td>\n      <td>0.0</td>\n      <td>0.000000</td>\n      <td>112.000000</td>\n      <td>0.0</td>\n      <td>0.000000</td>\n      <td>190.000000</td>\n      <td>158.000000</td>\n      <td>...</td>\n      <td>326.000000</td>\n      <td>30.000000</td>\n      <td>0.000000</td>\n      <td>10.000000</td>\n      <td>25.000000</td>\n      <td>12987.000000</td>\n      <td>9948.000000</td>\n      <td>1.281900e+05</td>\n      <td>5981.000000</td>\n      <td>6281.000000</td>\n    </tr>\n    <tr>\n      <th>max</th>\n      <td>2.831299e+06</td>\n      <td>1.000000</td>\n      <td>9.000000</td>\n      <td>0.0</td>\n      <td>785.000000</td>\n      <td>645.000000</td>\n      <td>0.0</td>\n      <td>44.000000</td>\n      <td>696.000000</td>\n      <td>461.000000</td>\n      <td>...</td>\n      <td>12190.000000</td>\n      <td>30.000000</td>\n      <td>177.000000</td>\n      <td>18.000000</td>\n      <td>311.000000</td>\n      <td>14664.000000</td>\n      <td>14707.000000</td>\n      <td>1.855841e+06</td>\n      <td>17632.000000</td>\n      <td>20569.000000</td>\n    </tr>\n  </tbody>\n</table>\n<p>8 rows × 472 columns</p>\n</div>"
     },
     "execution_count": 46,
     "metadata": {},
     "output_type": "execute_result"
    }
   ],
   "source": [
    "df.describe()"
   ],
   "metadata": {
    "collapsed": false,
    "ExecuteTime": {
     "end_time": "2023-10-22T13:46:22.952271400Z",
     "start_time": "2023-10-22T13:46:22.126019500Z"
    }
   },
   "id": "bb4666f0ef740654"
  },
  {
   "cell_type": "code",
   "execution_count": 47,
   "outputs": [
    {
     "data": {
      "text/plain": "timestamp                                 int64\nwinning_team                              int64\nparticipant1_participantId                int64\nparticipant1_abilityHaste                 int64\nparticipant1_abilityPower                 int64\n                                          ...  \nparticipant10_position_x                  int64\nparticipant10_position_y                  int64\nparticipant10_timeEnemySpentControlled    int64\nparticipant10_totalGold                   int64\nparticipant10_xp                          int64\nLength: 472, dtype: object"
     },
     "execution_count": 47,
     "metadata": {},
     "output_type": "execute_result"
    }
   ],
   "source": [
    "df.dtypes"
   ],
   "metadata": {
    "collapsed": false,
    "ExecuteTime": {
     "end_time": "2023-10-22T13:46:22.953271200Z",
     "start_time": "2023-10-22T13:46:22.831425600Z"
    }
   },
   "id": "a5657d0f0434eb80"
  },
  {
   "cell_type": "code",
   "execution_count": 48,
   "outputs": [],
   "source": [
    "df = df.sort_values(by=['matchId', 'timestamp'])"
   ],
   "metadata": {
    "collapsed": false,
    "ExecuteTime": {
     "end_time": "2023-10-22T13:46:22.955271500Z",
     "start_time": "2023-10-22T13:46:22.835895100Z"
    }
   },
   "id": "64f7c360aecbcf97"
  },
  {
   "cell_type": "code",
   "execution_count": 49,
   "outputs": [],
   "source": [
    "def drop_irrelevant_columns(df: pd.DataFrame) -> pd.DataFrame:\n",
    "    irrelevant_cols = ['participantId', 'abilityHaste', 'armorPen', 'bonusArmorPenPercent', 'bonusMagicPenPercent',\n",
    "                       'cooldownReduction', 'physicalVamp', 'spellVamp', 'goldPerSecond']\n",
    "    for i in range(1, 11):\n",
    "        for col in irrelevant_cols:\n",
    "            col = f'participant{i}_{col}'\n",
    "            df.drop(col, axis=1, inplace=True)"
   ],
   "metadata": {
    "collapsed": false,
    "ExecuteTime": {
     "end_time": "2023-10-22T13:46:22.955271500Z",
     "start_time": "2023-10-22T13:46:22.930221500Z"
    }
   },
   "id": "16203a97a8bcc60d"
  },
  {
   "cell_type": "code",
   "execution_count": 50,
   "outputs": [
    {
     "data": {
      "text/plain": "                         timestamp  winning_team  participant1_abilityPower  \\\nmatchId         frameId                                                       \nEUW1_6515836132 341861           0             1                          0   \n                341862       60016             1                          0   \n                341863      120047             1                          0   \n                341864      180081             1                          0   \n                341865      240110             1                          0   \n...                            ...           ...                        ...   \nNA1_4804591020  654624     1020357             1                          0   \n                654625     1080364             1                          0   \n                654626     1140379             1                          0   \n                654627     1200407             1                          0   \n                654628     1257790             1                          0   \n\n                         participant1_armor  participant1_armorPenPercent  \\\nmatchId         frameId                                                     \nEUW1_6515836132 341861                   35                             0   \n                341862                   41                             0   \n                341863                   41                             0   \n                341864                   48                             0   \n                341865                   48                             0   \n...                                     ...                           ...   \nNA1_4804591020  654624                  112                             0   \n                654625                  112                             0   \n                654626                  123                             0   \n                654627                  123                             0   \n                654628                  123                             0   \n\n                         participant1_attackDamage  participant1_attackSpeed  \\\nmatchId         frameId                                                        \nEUW1_6515836132 341861                          25                       100   \n                341862                          79                       100   \n                341863                          82                       100   \n                341864                          95                       104   \n                341865                         105                       104   \n...                                            ...                       ...   \nNA1_4804591020  654624                         200                       148   \n                654625                         200                       150   \n                654626                         205                       153   \n                654627                         205                       153   \n                654628                         235                       153   \n\n                         participant1_ccReduction  participant1_health  \\\nmatchId         frameId                                                  \nEUW1_6515836132 341861                          0                  660   \n                341862                          9                  740   \n                341863                         28                  151   \n                341864                         11                  884   \n                341865                         12                  903   \n...                                           ...                  ...   \nNA1_4804591020  654624                         14                 2093   \n                654625                         10                 2412   \n                654626                         27                  966   \n                654627                         19                 1671   \n                654628                         13                 2649   \n\n                         participant1_healthMax  ...  \\\nmatchId         frameId                          ...   \nEUW1_6515836132 341861                      660  ...   \n                341862                      740  ...   \n                341863                      740  ...   \n                341864                      903  ...   \n                341865                      903  ...   \n...                                         ...  ...   \nNA1_4804591020  654624                     2412  ...   \n                654625                     2412  ...   \n                654626                     2535  ...   \n                654627                     2535  ...   \n                654628                     2960  ...   \n\n                         participant10_trueDamageDoneToChampions  \\\nmatchId         frameId                                            \nEUW1_6515836132 341861                                         0   \n                341862                                         0   \n                341863                                        70   \n                341864                                        70   \n                341865                                        70   \n...                                                          ...   \nNA1_4804591020  654624                                         0   \n                654625                                         0   \n                654626                                         0   \n                654627                                         0   \n                654628                                         0   \n\n                         participant10_trueDamageTaken  \\\nmatchId         frameId                                  \nEUW1_6515836132 341861                               0   \n                341862                               0   \n                341863                             101   \n                341864                             101   \n                341865                             107   \n...                                                ...   \nNA1_4804591020  654624                              90   \n                654625                              90   \n                654626                             137   \n                654627                             137   \n                654628                             185   \n\n                         participant10_jungleMinionsKilled  \\\nmatchId         frameId                                      \nEUW1_6515836132 341861                                   0   \n                341862                                   0   \n                341863                                   0   \n                341864                                   0   \n                341865                                   0   \n...                                                    ...   \nNA1_4804591020  654624                                   0   \n                654625                                   0   \n                654626                                   0   \n                654627                                   0   \n                654628                                   0   \n\n                         participant10_level  participant10_minionsKilled  \\\nmatchId         frameId                                                     \nEUW1_6515836132 341861                     1                            0   \n                341862                     1                            0   \n                341863                     1                            0   \n                341864                     2                            3   \n                341865                     3                            4   \n...                                      ...                          ...   \nNA1_4804591020  654624                     8                           18   \n                654625                     8                           19   \n                654626                     9                           20   \n                654627                     9                           22   \n                654628                     9                           23   \n\n                         participant10_position_x  participant10_position_y  \\\nmatchId         frameId                                                       \nEUW1_6515836132 341861                      14281                     14199   \n                341862                      11865                      3655   \n                341863                      14210                     11841   \n                341864                      13554                      2918   \n                341865                      10750                      2137   \n...                                           ...                       ...   \nNA1_4804591020  654624                       8331                     10135   \n                654625                       8786                      9973   \n                654626                       9404                     11529   \n                654627                       8268                      8674   \n                654628                       8393                      6601   \n\n                         participant10_timeEnemySpentControlled  \\\nmatchId         frameId                                           \nEUW1_6515836132 341861                                        0   \n                341862                                        0   \n                341863                                     4657   \n                341864                                     4657   \n                341865                                    23709   \n...                                                         ...   \nNA1_4804591020  654624                                    64661   \n                654625                                    64661   \n                654626                                    69901   \n                654627                                    73978   \n                654628                                    78151   \n\n                         participant10_totalGold  participant10_xp  \nmatchId         frameId                                             \nEUW1_6515836132 341861                       500                 0  \n                341862                       500                 0  \n                341863                       523                 0  \n                341864                       752               419  \n                341865                      1083               860  \n...                                          ...               ...  \nNA1_4804591020  654624                      3763              4500  \n                654625                      3979              4682  \n                654626                      4250              5172  \n                654627                      4575              5606  \n                654628                      4808              5873  \n\n[28301 rows x 382 columns]",
      "text/html": "<div>\n<style scoped>\n    .dataframe tbody tr th:only-of-type {\n        vertical-align: middle;\n    }\n\n    .dataframe tbody tr th {\n        vertical-align: top;\n    }\n\n    .dataframe thead th {\n        text-align: right;\n    }\n</style>\n<table border=\"1\" class=\"dataframe\">\n  <thead>\n    <tr style=\"text-align: right;\">\n      <th></th>\n      <th></th>\n      <th>timestamp</th>\n      <th>winning_team</th>\n      <th>participant1_abilityPower</th>\n      <th>participant1_armor</th>\n      <th>participant1_armorPenPercent</th>\n      <th>participant1_attackDamage</th>\n      <th>participant1_attackSpeed</th>\n      <th>participant1_ccReduction</th>\n      <th>participant1_health</th>\n      <th>participant1_healthMax</th>\n      <th>...</th>\n      <th>participant10_trueDamageDoneToChampions</th>\n      <th>participant10_trueDamageTaken</th>\n      <th>participant10_jungleMinionsKilled</th>\n      <th>participant10_level</th>\n      <th>participant10_minionsKilled</th>\n      <th>participant10_position_x</th>\n      <th>participant10_position_y</th>\n      <th>participant10_timeEnemySpentControlled</th>\n      <th>participant10_totalGold</th>\n      <th>participant10_xp</th>\n    </tr>\n    <tr>\n      <th>matchId</th>\n      <th>frameId</th>\n      <th></th>\n      <th></th>\n      <th></th>\n      <th></th>\n      <th></th>\n      <th></th>\n      <th></th>\n      <th></th>\n      <th></th>\n      <th></th>\n      <th></th>\n      <th></th>\n      <th></th>\n      <th></th>\n      <th></th>\n      <th></th>\n      <th></th>\n      <th></th>\n      <th></th>\n      <th></th>\n      <th></th>\n    </tr>\n  </thead>\n  <tbody>\n    <tr>\n      <th rowspan=\"5\" valign=\"top\">EUW1_6515836132</th>\n      <th>341861</th>\n      <td>0</td>\n      <td>1</td>\n      <td>0</td>\n      <td>35</td>\n      <td>0</td>\n      <td>25</td>\n      <td>100</td>\n      <td>0</td>\n      <td>660</td>\n      <td>660</td>\n      <td>...</td>\n      <td>0</td>\n      <td>0</td>\n      <td>0</td>\n      <td>1</td>\n      <td>0</td>\n      <td>14281</td>\n      <td>14199</td>\n      <td>0</td>\n      <td>500</td>\n      <td>0</td>\n    </tr>\n    <tr>\n      <th>341862</th>\n      <td>60016</td>\n      <td>1</td>\n      <td>0</td>\n      <td>41</td>\n      <td>0</td>\n      <td>79</td>\n      <td>100</td>\n      <td>9</td>\n      <td>740</td>\n      <td>740</td>\n      <td>...</td>\n      <td>0</td>\n      <td>0</td>\n      <td>0</td>\n      <td>1</td>\n      <td>0</td>\n      <td>11865</td>\n      <td>3655</td>\n      <td>0</td>\n      <td>500</td>\n      <td>0</td>\n    </tr>\n    <tr>\n      <th>341863</th>\n      <td>120047</td>\n      <td>1</td>\n      <td>0</td>\n      <td>41</td>\n      <td>0</td>\n      <td>82</td>\n      <td>100</td>\n      <td>28</td>\n      <td>151</td>\n      <td>740</td>\n      <td>...</td>\n      <td>70</td>\n      <td>101</td>\n      <td>0</td>\n      <td>1</td>\n      <td>0</td>\n      <td>14210</td>\n      <td>11841</td>\n      <td>4657</td>\n      <td>523</td>\n      <td>0</td>\n    </tr>\n    <tr>\n      <th>341864</th>\n      <td>180081</td>\n      <td>1</td>\n      <td>0</td>\n      <td>48</td>\n      <td>0</td>\n      <td>95</td>\n      <td>104</td>\n      <td>11</td>\n      <td>884</td>\n      <td>903</td>\n      <td>...</td>\n      <td>70</td>\n      <td>101</td>\n      <td>0</td>\n      <td>2</td>\n      <td>3</td>\n      <td>13554</td>\n      <td>2918</td>\n      <td>4657</td>\n      <td>752</td>\n      <td>419</td>\n    </tr>\n    <tr>\n      <th>341865</th>\n      <td>240110</td>\n      <td>1</td>\n      <td>0</td>\n      <td>48</td>\n      <td>0</td>\n      <td>105</td>\n      <td>104</td>\n      <td>12</td>\n      <td>903</td>\n      <td>903</td>\n      <td>...</td>\n      <td>70</td>\n      <td>107</td>\n      <td>0</td>\n      <td>3</td>\n      <td>4</td>\n      <td>10750</td>\n      <td>2137</td>\n      <td>23709</td>\n      <td>1083</td>\n      <td>860</td>\n    </tr>\n    <tr>\n      <th>...</th>\n      <th>...</th>\n      <td>...</td>\n      <td>...</td>\n      <td>...</td>\n      <td>...</td>\n      <td>...</td>\n      <td>...</td>\n      <td>...</td>\n      <td>...</td>\n      <td>...</td>\n      <td>...</td>\n      <td>...</td>\n      <td>...</td>\n      <td>...</td>\n      <td>...</td>\n      <td>...</td>\n      <td>...</td>\n      <td>...</td>\n      <td>...</td>\n      <td>...</td>\n      <td>...</td>\n      <td>...</td>\n    </tr>\n    <tr>\n      <th rowspan=\"5\" valign=\"top\">NA1_4804591020</th>\n      <th>654624</th>\n      <td>1020357</td>\n      <td>1</td>\n      <td>0</td>\n      <td>112</td>\n      <td>0</td>\n      <td>200</td>\n      <td>148</td>\n      <td>14</td>\n      <td>2093</td>\n      <td>2412</td>\n      <td>...</td>\n      <td>0</td>\n      <td>90</td>\n      <td>0</td>\n      <td>8</td>\n      <td>18</td>\n      <td>8331</td>\n      <td>10135</td>\n      <td>64661</td>\n      <td>3763</td>\n      <td>4500</td>\n    </tr>\n    <tr>\n      <th>654625</th>\n      <td>1080364</td>\n      <td>1</td>\n      <td>0</td>\n      <td>112</td>\n      <td>0</td>\n      <td>200</td>\n      <td>150</td>\n      <td>10</td>\n      <td>2412</td>\n      <td>2412</td>\n      <td>...</td>\n      <td>0</td>\n      <td>90</td>\n      <td>0</td>\n      <td>8</td>\n      <td>19</td>\n      <td>8786</td>\n      <td>9973</td>\n      <td>64661</td>\n      <td>3979</td>\n      <td>4682</td>\n    </tr>\n    <tr>\n      <th>654626</th>\n      <td>1140379</td>\n      <td>1</td>\n      <td>0</td>\n      <td>123</td>\n      <td>0</td>\n      <td>205</td>\n      <td>153</td>\n      <td>27</td>\n      <td>966</td>\n      <td>2535</td>\n      <td>...</td>\n      <td>0</td>\n      <td>137</td>\n      <td>0</td>\n      <td>9</td>\n      <td>20</td>\n      <td>9404</td>\n      <td>11529</td>\n      <td>69901</td>\n      <td>4250</td>\n      <td>5172</td>\n    </tr>\n    <tr>\n      <th>654627</th>\n      <td>1200407</td>\n      <td>1</td>\n      <td>0</td>\n      <td>123</td>\n      <td>0</td>\n      <td>205</td>\n      <td>153</td>\n      <td>19</td>\n      <td>1671</td>\n      <td>2535</td>\n      <td>...</td>\n      <td>0</td>\n      <td>137</td>\n      <td>0</td>\n      <td>9</td>\n      <td>22</td>\n      <td>8268</td>\n      <td>8674</td>\n      <td>73978</td>\n      <td>4575</td>\n      <td>5606</td>\n    </tr>\n    <tr>\n      <th>654628</th>\n      <td>1257790</td>\n      <td>1</td>\n      <td>0</td>\n      <td>123</td>\n      <td>0</td>\n      <td>235</td>\n      <td>153</td>\n      <td>13</td>\n      <td>2649</td>\n      <td>2960</td>\n      <td>...</td>\n      <td>0</td>\n      <td>185</td>\n      <td>0</td>\n      <td>9</td>\n      <td>23</td>\n      <td>8393</td>\n      <td>6601</td>\n      <td>78151</td>\n      <td>4808</td>\n      <td>5873</td>\n    </tr>\n  </tbody>\n</table>\n<p>28301 rows × 382 columns</p>\n</div>"
     },
     "execution_count": 50,
     "metadata": {},
     "output_type": "execute_result"
    }
   ],
   "source": [
    "drop_irrelevant_columns(df)\n",
    "df"
   ],
   "metadata": {
    "collapsed": false,
    "ExecuteTime": {
     "end_time": "2023-10-22T13:46:27.034484200Z",
     "start_time": "2023-10-22T13:46:22.933272700Z"
    }
   },
   "id": "a0bf898ead377982"
  },
  {
   "cell_type": "code",
   "execution_count": 51,
   "outputs": [],
   "source": [
    "def make_label_last_col(df: pd.DataFrame) -> pd.DataFrame:\n",
    "    cols = [col for col in df.columns if col != 'winning_team'] + ['winning_team']\n",
    "    df = df[cols]\n",
    "    return df"
   ],
   "metadata": {
    "collapsed": false,
    "ExecuteTime": {
     "end_time": "2023-10-22T13:46:27.039477600Z",
     "start_time": "2023-10-22T13:46:27.035949600Z"
    }
   },
   "id": "9b01b3401185e43b"
  },
  {
   "cell_type": "code",
   "execution_count": 52,
   "outputs": [],
   "source": [
    "df = make_label_last_col(df)"
   ],
   "metadata": {
    "collapsed": false,
    "ExecuteTime": {
     "end_time": "2023-10-22T13:46:27.100559200Z",
     "start_time": "2023-10-22T13:46:27.039477600Z"
    }
   },
   "id": "7c4c44132a52a348"
  },
  {
   "cell_type": "code",
   "execution_count": 53,
   "outputs": [
    {
     "name": "stdout",
     "output_type": "stream",
     "text": [
      "1000\n"
     ]
    },
    {
     "data": {
      "text/plain": "         timestamp  participant1_abilityPower  participant1_armor  \\\nframeId                                                             \n341861           0                          0                  35   \n341862       60016                          0                  41   \n341863      120047                          0                  41   \n341864      180081                          0                  48   \n341865      240110                          0                  48   \n341866      300135                          0                  57   \n341867      360150                          0                  57   \n341868      420160                          0                  61   \n341869      480181                          0                  61   \n341870      540193                          0                  66   \n341871      600212                          0                  66   \n341872      660245                          0                  66   \n341873      720256                          0                  71   \n341874      780287                          0                  71   \n341875      840289                          0                  96   \n341876      900296                          0                  96   \n341877      960298                          0                 101   \n341878     1020324                          0                 101   \n341879     1080334                          0                 106   \n341880     1140345                          0                 112   \n341881     1200364                          0                 112   \n341882     1260387                          0                 152   \n341883     1320415                          0                 152   \n341884     1380429                          0                 157   \n341885     1440444                          0                 157   \n341886     1500458                         28                 163   \n341887     1560460                         28                 204   \n341888     1592433                         28                 204   \n\n         participant1_armorPenPercent  participant1_attackDamage  \\\nframeId                                                            \n341861                              0                         25   \n341862                              0                         79   \n341863                              0                         82   \n341864                              0                         95   \n341865                              0                        105   \n341866                              0                        112   \n341867                              0                        137   \n341868                              0                        144   \n341869                              0                        154   \n341870                              0                        154   \n341871                              0                        172   \n341872                              0                        175   \n341873                              0                        180   \n341874                              0                        158   \n341875                              0                        162   \n341876                              0                        185   \n341877                              0                        176   \n341878                              0                        191   \n341879                              0                        196   \n341880                              0                        200   \n341881                              0                        225   \n341882                              0                        225   \n341883                              0                        259   \n341884                              0                        241   \n341885                              0                        270   \n341886                              0                        263   \n341887                              0                        268   \n341888                              0                        268   \n\n         participant1_attackSpeed  participant1_ccReduction  \\\nframeId                                                       \n341861                        100                         0   \n341862                        100                         9   \n341863                        100                        28   \n341864                        104                        11   \n341865                        104                        12   \n341866                        108                        15   \n341867                        108                        32   \n341868                        110                        19   \n341869                        110                        24   \n341870                        113                        15   \n341871                        113                        36   \n341872                        113                        23   \n341873                        115                        34   \n341874                        115                        33   \n341875                        118                        29   \n341876                        118                        32   \n341877                        121                        28   \n341878                        121                        29   \n341879                        124                        28   \n341880                        127                        32   \n341881                        127                        28   \n341882                        127                        41   \n341883                        127                        43   \n341884                        130                        28   \n341885                        130                        43   \n341886                        133                        29   \n341887                        136                        43   \n341888                        136                        40   \n\n         participant1_health  participant1_healthMax  \\\nframeId                                                \n341861                   660                     660   \n341862                   740                     740   \n341863                   151                     740   \n341864                   884                     903   \n341865                   903                     903   \n341866                  1040                    1082   \n341867                     0                    1082   \n341868                   922                    1178   \n341869                   789                    1428   \n341870                  1427                    1427   \n341871                   654                    1677   \n341872                  1560                    1577   \n341873                  1202                    1931   \n341874                  1090                    1681   \n341875                  1766                    1938   \n341876                  1574                    1938   \n341877                  2099                    2099   \n341878                  1968                    2099   \n341879                  2214                    2214   \n341880                  1884                    2332   \n341881                  2607                    2607   \n341882                  1114                    2757   \n341883                   428                    3357   \n341884                  3000                    3000   \n341885                   317                    3400   \n341886                  2962                    3126   \n341887                  1031                    3382   \n341888                  1471                    3382   \n\n         participant1_healthRegen  ...  participant10_trueDamageTaken  \\\nframeId                            ...                                  \n341861                          0  ...                              0   \n341862                         24  ...                              0   \n341863                        154  ...                            101   \n341864                         26  ...                            101   \n341865                         26  ...                            107   \n341866                         28  ...                            110   \n341867                         28  ...                            110   \n341868                        123  ...                            122   \n341869                         55  ...                            122   \n341870                         31  ...                            122   \n341871                         58  ...                            272   \n341872                         32  ...                            272   \n341873                         61  ...                            272   \n341874                         32  ...                            304   \n341875                         34  ...                            402   \n341876                         47  ...                            402   \n341877                         35  ...                            402   \n341878                         35  ...                            414   \n341879                         37  ...                            414   \n341880                         47  ...                            414   \n341881                         38  ...                            414   \n341882                         38  ...                            433   \n341883                         88  ...                            433   \n341884                         32  ...                            556   \n341885                         32  ...                            665   \n341886                         34  ...                            699   \n341887                         35  ...                            882   \n341888                         35  ...                            882   \n\n         participant10_jungleMinionsKilled  participant10_level  \\\nframeId                                                           \n341861                                   0                    1   \n341862                                   0                    1   \n341863                                   0                    1   \n341864                                   0                    2   \n341865                                   0                    3   \n341866                                   0                    3   \n341867                                   0                    4   \n341868                                   0                    4   \n341869                                   0                    4   \n341870                                   0                    5   \n341871                                   0                    5   \n341872                                   0                    5   \n341873                                   0                    6   \n341874                                   0                    6   \n341875                                   0                    6   \n341876                                   0                    7   \n341877                                   0                    7   \n341878                                   0                    7   \n341879                                   0                    7   \n341880                                   0                    7   \n341881                                   0                    8   \n341882                                   0                    8   \n341883                                   0                    9   \n341884                                   0                    9   \n341885                                   0                    9   \n341886                                   0                   10   \n341887                                   0                   10   \n341888                                   0                   10   \n\n         participant10_minionsKilled  participant10_position_x  \\\nframeId                                                          \n341861                             0                     14281   \n341862                             0                     11865   \n341863                             0                     14210   \n341864                             3                     13554   \n341865                             4                     10750   \n341866                             4                      9536   \n341867                             4                      8389   \n341868                             6                     10591   \n341869                             6                      8500   \n341870                             9                     13361   \n341871                             9                      7788   \n341872                             9                     11315   \n341873                            12                      7483   \n341874                            14                      8650   \n341875                            14                     13326   \n341876                            15                      1421   \n341877                            15                      6405   \n341878                            15                      9361   \n341879                            16                     10514   \n341880                            16                      7138   \n341881                            18                      5909   \n341882                            18                     13014   \n341883                            19                      7754   \n341884                            21                      9770   \n341885                            22                      4719   \n341886                            22                      8832   \n341887                            22                      8667   \n341888                            23                     14386   \n\n         participant10_position_y  participant10_timeEnemySpentControlled  \\\nframeId                                                                     \n341861                      14199                                       0   \n341862                       3655                                       0   \n341863                      11841                                    4657   \n341864                       2918                                    4657   \n341865                       2137                                   23709   \n341866                       5638                                   30711   \n341867                       6294                                   33649   \n341868                       4625                                   33649   \n341869                       8364                                   34882   \n341870                       4096                                   40482   \n341871                       6755                                   51044   \n341872                       1731                                   52348   \n341873                       6932                                   66182   \n341874                       9977                                   78663   \n341875                       4604                                   91792   \n341876                      10068                                  102703   \n341877                       8290                                  102703   \n341878                       9790                                  112450   \n341879                       5671                                  115748   \n341880                       3128                                  123139   \n341881                       9145                                  130114   \n341882                      12339                                  134059   \n341883                       7738                                  141508   \n341884                      10243                                  151821   \n341885                      11801                                  163486   \n341886                      13518                                  166440   \n341887                      13363                                  172270   \n341888                      14436                                  183792   \n\n         participant10_totalGold  participant10_xp  winning_team  \nframeId                                                           \n341861                       500                 0             1  \n341862                       500                 0             1  \n341863                       523                 0             1  \n341864                       752               419             1  \n341865                      1083               860             1  \n341866                      1387               908             1  \n341867                      1617              1218             1  \n341868                      1793              1499             1  \n341869                      1927              1573             1  \n341870                      2176              1837             1  \n341871                      2405              1970             1  \n341872                      2540              1995             1  \n341873                      2860              2457             1  \n341874                      3038              2682             1  \n341875                      3183              2990             1  \n341876                      3483              3386             1  \n341877                      3631              3712             1  \n341878                      3821              3718             1  \n341879                      3991              4021             1  \n341880                      4181              4021             1  \n341881                      4363              4452             1  \n341882                      4507              4575             1  \n341883                      4671              5041             1  \n341884                      5055              5711             1  \n341885                      5257              5951             1  \n341886                      5397              6502             1  \n341887                      5541              6659             1  \n341888                      5630              6967             1  \n\n[28 rows x 382 columns]",
      "text/html": "<div>\n<style scoped>\n    .dataframe tbody tr th:only-of-type {\n        vertical-align: middle;\n    }\n\n    .dataframe tbody tr th {\n        vertical-align: top;\n    }\n\n    .dataframe thead th {\n        text-align: right;\n    }\n</style>\n<table border=\"1\" class=\"dataframe\">\n  <thead>\n    <tr style=\"text-align: right;\">\n      <th></th>\n      <th>timestamp</th>\n      <th>participant1_abilityPower</th>\n      <th>participant1_armor</th>\n      <th>participant1_armorPenPercent</th>\n      <th>participant1_attackDamage</th>\n      <th>participant1_attackSpeed</th>\n      <th>participant1_ccReduction</th>\n      <th>participant1_health</th>\n      <th>participant1_healthMax</th>\n      <th>participant1_healthRegen</th>\n      <th>...</th>\n      <th>participant10_trueDamageTaken</th>\n      <th>participant10_jungleMinionsKilled</th>\n      <th>participant10_level</th>\n      <th>participant10_minionsKilled</th>\n      <th>participant10_position_x</th>\n      <th>participant10_position_y</th>\n      <th>participant10_timeEnemySpentControlled</th>\n      <th>participant10_totalGold</th>\n      <th>participant10_xp</th>\n      <th>winning_team</th>\n    </tr>\n    <tr>\n      <th>frameId</th>\n      <th></th>\n      <th></th>\n      <th></th>\n      <th></th>\n      <th></th>\n      <th></th>\n      <th></th>\n      <th></th>\n      <th></th>\n      <th></th>\n      <th></th>\n      <th></th>\n      <th></th>\n      <th></th>\n      <th></th>\n      <th></th>\n      <th></th>\n      <th></th>\n      <th></th>\n      <th></th>\n      <th></th>\n    </tr>\n  </thead>\n  <tbody>\n    <tr>\n      <th>341861</th>\n      <td>0</td>\n      <td>0</td>\n      <td>35</td>\n      <td>0</td>\n      <td>25</td>\n      <td>100</td>\n      <td>0</td>\n      <td>660</td>\n      <td>660</td>\n      <td>0</td>\n      <td>...</td>\n      <td>0</td>\n      <td>0</td>\n      <td>1</td>\n      <td>0</td>\n      <td>14281</td>\n      <td>14199</td>\n      <td>0</td>\n      <td>500</td>\n      <td>0</td>\n      <td>1</td>\n    </tr>\n    <tr>\n      <th>341862</th>\n      <td>60016</td>\n      <td>0</td>\n      <td>41</td>\n      <td>0</td>\n      <td>79</td>\n      <td>100</td>\n      <td>9</td>\n      <td>740</td>\n      <td>740</td>\n      <td>24</td>\n      <td>...</td>\n      <td>0</td>\n      <td>0</td>\n      <td>1</td>\n      <td>0</td>\n      <td>11865</td>\n      <td>3655</td>\n      <td>0</td>\n      <td>500</td>\n      <td>0</td>\n      <td>1</td>\n    </tr>\n    <tr>\n      <th>341863</th>\n      <td>120047</td>\n      <td>0</td>\n      <td>41</td>\n      <td>0</td>\n      <td>82</td>\n      <td>100</td>\n      <td>28</td>\n      <td>151</td>\n      <td>740</td>\n      <td>154</td>\n      <td>...</td>\n      <td>101</td>\n      <td>0</td>\n      <td>1</td>\n      <td>0</td>\n      <td>14210</td>\n      <td>11841</td>\n      <td>4657</td>\n      <td>523</td>\n      <td>0</td>\n      <td>1</td>\n    </tr>\n    <tr>\n      <th>341864</th>\n      <td>180081</td>\n      <td>0</td>\n      <td>48</td>\n      <td>0</td>\n      <td>95</td>\n      <td>104</td>\n      <td>11</td>\n      <td>884</td>\n      <td>903</td>\n      <td>26</td>\n      <td>...</td>\n      <td>101</td>\n      <td>0</td>\n      <td>2</td>\n      <td>3</td>\n      <td>13554</td>\n      <td>2918</td>\n      <td>4657</td>\n      <td>752</td>\n      <td>419</td>\n      <td>1</td>\n    </tr>\n    <tr>\n      <th>341865</th>\n      <td>240110</td>\n      <td>0</td>\n      <td>48</td>\n      <td>0</td>\n      <td>105</td>\n      <td>104</td>\n      <td>12</td>\n      <td>903</td>\n      <td>903</td>\n      <td>26</td>\n      <td>...</td>\n      <td>107</td>\n      <td>0</td>\n      <td>3</td>\n      <td>4</td>\n      <td>10750</td>\n      <td>2137</td>\n      <td>23709</td>\n      <td>1083</td>\n      <td>860</td>\n      <td>1</td>\n    </tr>\n    <tr>\n      <th>341866</th>\n      <td>300135</td>\n      <td>0</td>\n      <td>57</td>\n      <td>0</td>\n      <td>112</td>\n      <td>108</td>\n      <td>15</td>\n      <td>1040</td>\n      <td>1082</td>\n      <td>28</td>\n      <td>...</td>\n      <td>110</td>\n      <td>0</td>\n      <td>3</td>\n      <td>4</td>\n      <td>9536</td>\n      <td>5638</td>\n      <td>30711</td>\n      <td>1387</td>\n      <td>908</td>\n      <td>1</td>\n    </tr>\n    <tr>\n      <th>341867</th>\n      <td>360150</td>\n      <td>0</td>\n      <td>57</td>\n      <td>0</td>\n      <td>137</td>\n      <td>108</td>\n      <td>32</td>\n      <td>0</td>\n      <td>1082</td>\n      <td>28</td>\n      <td>...</td>\n      <td>110</td>\n      <td>0</td>\n      <td>4</td>\n      <td>4</td>\n      <td>8389</td>\n      <td>6294</td>\n      <td>33649</td>\n      <td>1617</td>\n      <td>1218</td>\n      <td>1</td>\n    </tr>\n    <tr>\n      <th>341868</th>\n      <td>420160</td>\n      <td>0</td>\n      <td>61</td>\n      <td>0</td>\n      <td>144</td>\n      <td>110</td>\n      <td>19</td>\n      <td>922</td>\n      <td>1178</td>\n      <td>123</td>\n      <td>...</td>\n      <td>122</td>\n      <td>0</td>\n      <td>4</td>\n      <td>6</td>\n      <td>10591</td>\n      <td>4625</td>\n      <td>33649</td>\n      <td>1793</td>\n      <td>1499</td>\n      <td>1</td>\n    </tr>\n    <tr>\n      <th>341869</th>\n      <td>480181</td>\n      <td>0</td>\n      <td>61</td>\n      <td>0</td>\n      <td>154</td>\n      <td>110</td>\n      <td>24</td>\n      <td>789</td>\n      <td>1428</td>\n      <td>55</td>\n      <td>...</td>\n      <td>122</td>\n      <td>0</td>\n      <td>4</td>\n      <td>6</td>\n      <td>8500</td>\n      <td>8364</td>\n      <td>34882</td>\n      <td>1927</td>\n      <td>1573</td>\n      <td>1</td>\n    </tr>\n    <tr>\n      <th>341870</th>\n      <td>540193</td>\n      <td>0</td>\n      <td>66</td>\n      <td>0</td>\n      <td>154</td>\n      <td>113</td>\n      <td>15</td>\n      <td>1427</td>\n      <td>1427</td>\n      <td>31</td>\n      <td>...</td>\n      <td>122</td>\n      <td>0</td>\n      <td>5</td>\n      <td>9</td>\n      <td>13361</td>\n      <td>4096</td>\n      <td>40482</td>\n      <td>2176</td>\n      <td>1837</td>\n      <td>1</td>\n    </tr>\n    <tr>\n      <th>341871</th>\n      <td>600212</td>\n      <td>0</td>\n      <td>66</td>\n      <td>0</td>\n      <td>172</td>\n      <td>113</td>\n      <td>36</td>\n      <td>654</td>\n      <td>1677</td>\n      <td>58</td>\n      <td>...</td>\n      <td>272</td>\n      <td>0</td>\n      <td>5</td>\n      <td>9</td>\n      <td>7788</td>\n      <td>6755</td>\n      <td>51044</td>\n      <td>2405</td>\n      <td>1970</td>\n      <td>1</td>\n    </tr>\n    <tr>\n      <th>341872</th>\n      <td>660245</td>\n      <td>0</td>\n      <td>66</td>\n      <td>0</td>\n      <td>175</td>\n      <td>113</td>\n      <td>23</td>\n      <td>1560</td>\n      <td>1577</td>\n      <td>32</td>\n      <td>...</td>\n      <td>272</td>\n      <td>0</td>\n      <td>5</td>\n      <td>9</td>\n      <td>11315</td>\n      <td>1731</td>\n      <td>52348</td>\n      <td>2540</td>\n      <td>1995</td>\n      <td>1</td>\n    </tr>\n    <tr>\n      <th>341873</th>\n      <td>720256</td>\n      <td>0</td>\n      <td>71</td>\n      <td>0</td>\n      <td>180</td>\n      <td>115</td>\n      <td>34</td>\n      <td>1202</td>\n      <td>1931</td>\n      <td>61</td>\n      <td>...</td>\n      <td>272</td>\n      <td>0</td>\n      <td>6</td>\n      <td>12</td>\n      <td>7483</td>\n      <td>6932</td>\n      <td>66182</td>\n      <td>2860</td>\n      <td>2457</td>\n      <td>1</td>\n    </tr>\n    <tr>\n      <th>341874</th>\n      <td>780287</td>\n      <td>0</td>\n      <td>71</td>\n      <td>0</td>\n      <td>158</td>\n      <td>115</td>\n      <td>33</td>\n      <td>1090</td>\n      <td>1681</td>\n      <td>32</td>\n      <td>...</td>\n      <td>304</td>\n      <td>0</td>\n      <td>6</td>\n      <td>14</td>\n      <td>8650</td>\n      <td>9977</td>\n      <td>78663</td>\n      <td>3038</td>\n      <td>2682</td>\n      <td>1</td>\n    </tr>\n    <tr>\n      <th>341875</th>\n      <td>840289</td>\n      <td>0</td>\n      <td>96</td>\n      <td>0</td>\n      <td>162</td>\n      <td>118</td>\n      <td>29</td>\n      <td>1766</td>\n      <td>1938</td>\n      <td>34</td>\n      <td>...</td>\n      <td>402</td>\n      <td>0</td>\n      <td>6</td>\n      <td>14</td>\n      <td>13326</td>\n      <td>4604</td>\n      <td>91792</td>\n      <td>3183</td>\n      <td>2990</td>\n      <td>1</td>\n    </tr>\n    <tr>\n      <th>341876</th>\n      <td>900296</td>\n      <td>0</td>\n      <td>96</td>\n      <td>0</td>\n      <td>185</td>\n      <td>118</td>\n      <td>32</td>\n      <td>1574</td>\n      <td>1938</td>\n      <td>47</td>\n      <td>...</td>\n      <td>402</td>\n      <td>0</td>\n      <td>7</td>\n      <td>15</td>\n      <td>1421</td>\n      <td>10068</td>\n      <td>102703</td>\n      <td>3483</td>\n      <td>3386</td>\n      <td>1</td>\n    </tr>\n    <tr>\n      <th>341877</th>\n      <td>960298</td>\n      <td>0</td>\n      <td>101</td>\n      <td>0</td>\n      <td>176</td>\n      <td>121</td>\n      <td>28</td>\n      <td>2099</td>\n      <td>2099</td>\n      <td>35</td>\n      <td>...</td>\n      <td>402</td>\n      <td>0</td>\n      <td>7</td>\n      <td>15</td>\n      <td>6405</td>\n      <td>8290</td>\n      <td>102703</td>\n      <td>3631</td>\n      <td>3712</td>\n      <td>1</td>\n    </tr>\n    <tr>\n      <th>341878</th>\n      <td>1020324</td>\n      <td>0</td>\n      <td>101</td>\n      <td>0</td>\n      <td>191</td>\n      <td>121</td>\n      <td>29</td>\n      <td>1968</td>\n      <td>2099</td>\n      <td>35</td>\n      <td>...</td>\n      <td>414</td>\n      <td>0</td>\n      <td>7</td>\n      <td>15</td>\n      <td>9361</td>\n      <td>9790</td>\n      <td>112450</td>\n      <td>3821</td>\n      <td>3718</td>\n      <td>1</td>\n    </tr>\n    <tr>\n      <th>341879</th>\n      <td>1080334</td>\n      <td>0</td>\n      <td>106</td>\n      <td>0</td>\n      <td>196</td>\n      <td>124</td>\n      <td>28</td>\n      <td>2214</td>\n      <td>2214</td>\n      <td>37</td>\n      <td>...</td>\n      <td>414</td>\n      <td>0</td>\n      <td>7</td>\n      <td>16</td>\n      <td>10514</td>\n      <td>5671</td>\n      <td>115748</td>\n      <td>3991</td>\n      <td>4021</td>\n      <td>1</td>\n    </tr>\n    <tr>\n      <th>341880</th>\n      <td>1140345</td>\n      <td>0</td>\n      <td>112</td>\n      <td>0</td>\n      <td>200</td>\n      <td>127</td>\n      <td>32</td>\n      <td>1884</td>\n      <td>2332</td>\n      <td>47</td>\n      <td>...</td>\n      <td>414</td>\n      <td>0</td>\n      <td>7</td>\n      <td>16</td>\n      <td>7138</td>\n      <td>3128</td>\n      <td>123139</td>\n      <td>4181</td>\n      <td>4021</td>\n      <td>1</td>\n    </tr>\n    <tr>\n      <th>341881</th>\n      <td>1200364</td>\n      <td>0</td>\n      <td>112</td>\n      <td>0</td>\n      <td>225</td>\n      <td>127</td>\n      <td>28</td>\n      <td>2607</td>\n      <td>2607</td>\n      <td>38</td>\n      <td>...</td>\n      <td>414</td>\n      <td>0</td>\n      <td>8</td>\n      <td>18</td>\n      <td>5909</td>\n      <td>9145</td>\n      <td>130114</td>\n      <td>4363</td>\n      <td>4452</td>\n      <td>1</td>\n    </tr>\n    <tr>\n      <th>341882</th>\n      <td>1260387</td>\n      <td>0</td>\n      <td>152</td>\n      <td>0</td>\n      <td>225</td>\n      <td>127</td>\n      <td>41</td>\n      <td>1114</td>\n      <td>2757</td>\n      <td>38</td>\n      <td>...</td>\n      <td>433</td>\n      <td>0</td>\n      <td>8</td>\n      <td>18</td>\n      <td>13014</td>\n      <td>12339</td>\n      <td>134059</td>\n      <td>4507</td>\n      <td>4575</td>\n      <td>1</td>\n    </tr>\n    <tr>\n      <th>341883</th>\n      <td>1320415</td>\n      <td>0</td>\n      <td>152</td>\n      <td>0</td>\n      <td>259</td>\n      <td>127</td>\n      <td>43</td>\n      <td>428</td>\n      <td>3357</td>\n      <td>88</td>\n      <td>...</td>\n      <td>433</td>\n      <td>0</td>\n      <td>9</td>\n      <td>19</td>\n      <td>7754</td>\n      <td>7738</td>\n      <td>141508</td>\n      <td>4671</td>\n      <td>5041</td>\n      <td>1</td>\n    </tr>\n    <tr>\n      <th>341884</th>\n      <td>1380429</td>\n      <td>0</td>\n      <td>157</td>\n      <td>0</td>\n      <td>241</td>\n      <td>130</td>\n      <td>28</td>\n      <td>3000</td>\n      <td>3000</td>\n      <td>32</td>\n      <td>...</td>\n      <td>556</td>\n      <td>0</td>\n      <td>9</td>\n      <td>21</td>\n      <td>9770</td>\n      <td>10243</td>\n      <td>151821</td>\n      <td>5055</td>\n      <td>5711</td>\n      <td>1</td>\n    </tr>\n    <tr>\n      <th>341885</th>\n      <td>1440444</td>\n      <td>0</td>\n      <td>157</td>\n      <td>0</td>\n      <td>270</td>\n      <td>130</td>\n      <td>43</td>\n      <td>317</td>\n      <td>3400</td>\n      <td>32</td>\n      <td>...</td>\n      <td>665</td>\n      <td>0</td>\n      <td>9</td>\n      <td>22</td>\n      <td>4719</td>\n      <td>11801</td>\n      <td>163486</td>\n      <td>5257</td>\n      <td>5951</td>\n      <td>1</td>\n    </tr>\n    <tr>\n      <th>341886</th>\n      <td>1500458</td>\n      <td>28</td>\n      <td>163</td>\n      <td>0</td>\n      <td>263</td>\n      <td>133</td>\n      <td>29</td>\n      <td>2962</td>\n      <td>3126</td>\n      <td>34</td>\n      <td>...</td>\n      <td>699</td>\n      <td>0</td>\n      <td>10</td>\n      <td>22</td>\n      <td>8832</td>\n      <td>13518</td>\n      <td>166440</td>\n      <td>5397</td>\n      <td>6502</td>\n      <td>1</td>\n    </tr>\n    <tr>\n      <th>341887</th>\n      <td>1560460</td>\n      <td>28</td>\n      <td>204</td>\n      <td>0</td>\n      <td>268</td>\n      <td>136</td>\n      <td>43</td>\n      <td>1031</td>\n      <td>3382</td>\n      <td>35</td>\n      <td>...</td>\n      <td>882</td>\n      <td>0</td>\n      <td>10</td>\n      <td>22</td>\n      <td>8667</td>\n      <td>13363</td>\n      <td>172270</td>\n      <td>5541</td>\n      <td>6659</td>\n      <td>1</td>\n    </tr>\n    <tr>\n      <th>341888</th>\n      <td>1592433</td>\n      <td>28</td>\n      <td>204</td>\n      <td>0</td>\n      <td>268</td>\n      <td>136</td>\n      <td>40</td>\n      <td>1471</td>\n      <td>3382</td>\n      <td>35</td>\n      <td>...</td>\n      <td>882</td>\n      <td>0</td>\n      <td>10</td>\n      <td>23</td>\n      <td>14386</td>\n      <td>14436</td>\n      <td>183792</td>\n      <td>5630</td>\n      <td>6967</td>\n      <td>1</td>\n    </tr>\n  </tbody>\n</table>\n<p>28 rows × 382 columns</p>\n</div>"
     },
     "execution_count": 53,
     "metadata": {},
     "output_type": "execute_result"
    }
   ],
   "source": [
    "idx = pd.IndexSlice\n",
    "matchIds = df.index.get_level_values('matchId').unique()\n",
    "print(len(matchIds))\n",
    "df.loc[matchIds[0]]"
   ],
   "metadata": {
    "collapsed": false,
    "ExecuteTime": {
     "end_time": "2023-10-22T13:46:27.169929500Z",
     "start_time": "2023-10-22T13:46:27.081561Z"
    }
   },
   "id": "feb85be05092c6ac"
  },
  {
   "cell_type": "code",
   "execution_count": 54,
   "outputs": [
    {
     "data": {
      "text/plain": "Index(['EUW1_6515836132', 'EUW1_6562135977', 'EUW1_6576002536',\n       'EUW1_6586916475', 'EUW1_6588219080', 'EUW1_6588683866',\n       'EUW1_6590428346', 'EUW1_6591380627', 'EUW1_6592100459',\n       'EUW1_6592565295',\n       ...\n       'NA1_4803449262', 'NA1_4803611817', 'NA1_4803686727', 'NA1_4803983288',\n       'NA1_4804150028', 'NA1_4804180283', 'NA1_4804285034', 'NA1_4804503477',\n       'NA1_4804542442', 'NA1_4804591020'],\n      dtype='object', name='matchId', length=1000)"
     },
     "execution_count": 54,
     "metadata": {},
     "output_type": "execute_result"
    }
   ],
   "source": [
    "df.index.levels[0]"
   ],
   "metadata": {
    "collapsed": false,
    "ExecuteTime": {
     "end_time": "2023-10-22T13:46:27.262358200Z",
     "start_time": "2023-10-22T13:46:27.106024100Z"
    }
   },
   "id": "43cec47b5f86051d"
  },
  {
   "cell_type": "code",
   "execution_count": 55,
   "outputs": [],
   "source": [
    "def prune_timeline(df: pd.DataFrame) -> pd.DataFrame:\n",
    "    \"\"\"\n",
    "    Prunes the timeline to not include events after 16 minutes (960000 milliseconds)\n",
    "    :param df: \n",
    "    :return: \n",
    "    \"\"\"\n",
    "    len_before = len(df)\n",
    "    df_new = df.drop(df.query(\"timestamp > 960000\").index)\n",
    "    print(f'Pruned {len_before - len(df_new)} rows')\n",
    "    return df_new"
   ],
   "metadata": {
    "collapsed": false,
    "ExecuteTime": {
     "end_time": "2023-10-22T13:46:27.296358Z",
     "start_time": "2023-10-22T13:46:27.118399Z"
    }
   },
   "id": "51a1d3d3c23a148c"
  },
  {
   "cell_type": "code",
   "execution_count": 56,
   "outputs": [
    {
     "name": "stdout",
     "output_type": "stream",
     "text": [
      "Pruned 12301 rows\n"
     ]
    }
   ],
   "source": [
    "df = prune_timeline(df)"
   ],
   "metadata": {
    "collapsed": false,
    "ExecuteTime": {
     "end_time": "2023-10-22T13:46:27.500095200Z",
     "start_time": "2023-10-22T13:46:27.121929400Z"
    }
   },
   "id": "1ebf1cec14231d6a"
  },
  {
   "cell_type": "code",
   "execution_count": 57,
   "outputs": [],
   "source": [
    "def drop_short_matches(df: pd.DataFrame) -> pd.DataFrame:\n",
    "    \"\"\"\n",
    "    Gets matches that are shorter than 16 minutes\n",
    "    :param df: \n",
    "    :return: \n",
    "    \"\"\"\n",
    "    len_before = len(df)\n",
    "    matchIds = df.index.get_level_values('matchId').unique()\n",
    "    short_matches = []\n",
    "    for matchId in matchIds:\n",
    "        match_df = df.loc[matchId]\n",
    "        if match_df.iloc[-1]['timestamp'] < 900000:\n",
    "            short_matches.append(matchId)\n",
    "    df_new = df.drop(short_matches, level='matchId')\n",
    "    print(f'Dropped {len_before - len(df_new)} rows or {len(short_matches)} matches')\n",
    "    return df_new"
   ],
   "metadata": {
    "collapsed": false,
    "ExecuteTime": {
     "end_time": "2023-10-22T13:46:27.502054Z",
     "start_time": "2023-10-22T13:46:27.367645400Z"
    }
   },
   "id": "1f1173da3501202d"
  },
  {
   "cell_type": "code",
   "execution_count": 58,
   "outputs": [
    {
     "name": "stdout",
     "output_type": "stream",
     "text": [
      "Dropped 0 rows or 0 matches\n"
     ]
    }
   ],
   "source": [
    "df = drop_short_matches(df)"
   ],
   "metadata": {
    "collapsed": false,
    "ExecuteTime": {
     "end_time": "2023-10-22T13:46:27.720533800Z",
     "start_time": "2023-10-22T13:46:27.372338400Z"
    }
   },
   "id": "a316f9fa187b698e"
  },
  {
   "cell_type": "code",
   "execution_count": 59,
   "outputs": [
    {
     "data": {
      "text/plain": "                         timestamp  participant1_abilityPower  \\\nmatchId         frameId                                         \nEUW1_6515836132 341861           0                          0   \n                341862       60016                          0   \n                341863      120047                          0   \n                341864      180081                          0   \n                341865      240110                          0   \n...                            ...                        ...   \nNA1_4804591020  654618      660271                          0   \n                654619      720289                          0   \n                654620      780309                          0   \n                654621      840316                          0   \n                654622      900335                          0   \n\n                         participant1_armor  participant1_armorPenPercent  \\\nmatchId         frameId                                                     \nEUW1_6515836132 341861                   35                             0   \n                341862                   41                             0   \n                341863                   41                             0   \n                341864                   48                             0   \n                341865                   48                             0   \n...                                     ...                           ...   \nNA1_4804591020  654618                   76                             0   \n                654619                   81                             0   \n                654620                   81                             0   \n                654621                   86                             0   \n                654622                  106                             0   \n\n                         participant1_attackDamage  participant1_attackSpeed  \\\nmatchId         frameId                                                        \nEUW1_6515836132 341861                          25                       100   \n                341862                          79                       100   \n                341863                          82                       100   \n                341864                          95                       104   \n                341865                         105                       104   \n...                                            ...                       ...   \nNA1_4804591020  654618                         162                       130   \n                654619                         188                       134   \n                654620                         166                       134   \n                654621                         171                       142   \n                654622                         171                       144   \n\n                         participant1_ccReduction  participant1_health  \\\nmatchId         frameId                                                  \nEUW1_6515836132 341861                          0                  660   \n                341862                          9                  740   \n                341863                         28                  151   \n                341864                         11                  884   \n                341865                         12                  903   \n...                                           ...                  ...   \nNA1_4804591020  654618                         12                 1798   \n                654619                         10                 2279   \n                654620                         17                 1545   \n                654621                         11                 2037   \n                654622                         10                 2294   \n\n                         participant1_healthMax  participant1_healthRegen  \\\nmatchId         frameId                                                     \nEUW1_6515836132 341861                      660                         0   \n                341862                      740                        24   \n                341863                      740                       154   \n                341864                      903                        26   \n                341865                      903                        26   \n...                                         ...                       ...   \nNA1_4804591020  654618                     1918                        34   \n                654619                     2279                        35   \n                654620                     2029                        35   \n                654621                     2144                        37   \n                654622                     2294                        37   \n\n                         ...  participant10_trueDamageTaken  \\\nmatchId         frameId  ...                                  \nEUW1_6515836132 341861   ...                              0   \n                341862   ...                              0   \n                341863   ...                            101   \n                341864   ...                            101   \n                341865   ...                            107   \n...                      ...                            ...   \nNA1_4804591020  654618   ...                             90   \n                654619   ...                             90   \n                654620   ...                             90   \n                654621   ...                             90   \n                654622   ...                             90   \n\n                         participant10_jungleMinionsKilled  \\\nmatchId         frameId                                      \nEUW1_6515836132 341861                                   0   \n                341862                                   0   \n                341863                                   0   \n                341864                                   0   \n                341865                                   0   \n...                                                    ...   \nNA1_4804591020  654618                                   0   \n                654619                                   0   \n                654620                                   0   \n                654621                                   0   \n                654622                                   0   \n\n                         participant10_level  participant10_minionsKilled  \\\nmatchId         frameId                                                     \nEUW1_6515836132 341861                     1                            0   \n                341862                     1                            0   \n                341863                     1                            0   \n                341864                     2                            3   \n                341865                     3                            4   \n...                                      ...                          ...   \nNA1_4804591020  654618                     6                           11   \n                654619                     6                           11   \n                654620                     7                           15   \n                654621                     7                           15   \n                654622                     8                           15   \n\n                         participant10_position_x  participant10_position_y  \\\nmatchId         frameId                                                       \nEUW1_6515836132 341861                      14281                     14199   \n                341862                      11865                      3655   \n                341863                      14210                     11841   \n                341864                      13554                      2918   \n                341865                      10750                      2137   \n...                                           ...                       ...   \nNA1_4804591020  654618                      13788                      4768   \n                654619                       7560                      7516   \n                654620                       9158                      8398   \n                654621                      13877                     13524   \n                654622                      10365                      9756   \n\n                         participant10_timeEnemySpentControlled  \\\nmatchId         frameId                                           \nEUW1_6515836132 341861                                        0   \n                341862                                        0   \n                341863                                     4657   \n                341864                                     4657   \n                341865                                    23709   \n...                                                         ...   \nNA1_4804591020  654618                                    29334   \n                654619                                    36518   \n                654620                                    39659   \n                654621                                    57884   \n                654622                                    57884   \n\n                         participant10_totalGold  participant10_xp  \\\nmatchId         frameId                                              \nEUW1_6515836132 341861                       500                 0   \n                341862                       500                 0   \n                341863                       523                 0   \n                341864                       752               419   \n                341865                      1083               860   \n...                                          ...               ...   \nNA1_4804591020  654618                      2352              2566   \n                654619                      2645              2952   \n                654620                      2820              3262   \n                654621                      3110              3798   \n                654622                      3276              4136   \n\n                         winning_team  \nmatchId         frameId                \nEUW1_6515836132 341861              1  \n                341862              1  \n                341863              1  \n                341864              1  \n                341865              1  \n...                               ...  \nNA1_4804591020  654618              1  \n                654619              1  \n                654620              1  \n                654621              1  \n                654622              1  \n\n[16000 rows x 382 columns]",
      "text/html": "<div>\n<style scoped>\n    .dataframe tbody tr th:only-of-type {\n        vertical-align: middle;\n    }\n\n    .dataframe tbody tr th {\n        vertical-align: top;\n    }\n\n    .dataframe thead th {\n        text-align: right;\n    }\n</style>\n<table border=\"1\" class=\"dataframe\">\n  <thead>\n    <tr style=\"text-align: right;\">\n      <th></th>\n      <th></th>\n      <th>timestamp</th>\n      <th>participant1_abilityPower</th>\n      <th>participant1_armor</th>\n      <th>participant1_armorPenPercent</th>\n      <th>participant1_attackDamage</th>\n      <th>participant1_attackSpeed</th>\n      <th>participant1_ccReduction</th>\n      <th>participant1_health</th>\n      <th>participant1_healthMax</th>\n      <th>participant1_healthRegen</th>\n      <th>...</th>\n      <th>participant10_trueDamageTaken</th>\n      <th>participant10_jungleMinionsKilled</th>\n      <th>participant10_level</th>\n      <th>participant10_minionsKilled</th>\n      <th>participant10_position_x</th>\n      <th>participant10_position_y</th>\n      <th>participant10_timeEnemySpentControlled</th>\n      <th>participant10_totalGold</th>\n      <th>participant10_xp</th>\n      <th>winning_team</th>\n    </tr>\n    <tr>\n      <th>matchId</th>\n      <th>frameId</th>\n      <th></th>\n      <th></th>\n      <th></th>\n      <th></th>\n      <th></th>\n      <th></th>\n      <th></th>\n      <th></th>\n      <th></th>\n      <th></th>\n      <th></th>\n      <th></th>\n      <th></th>\n      <th></th>\n      <th></th>\n      <th></th>\n      <th></th>\n      <th></th>\n      <th></th>\n      <th></th>\n      <th></th>\n    </tr>\n  </thead>\n  <tbody>\n    <tr>\n      <th rowspan=\"5\" valign=\"top\">EUW1_6515836132</th>\n      <th>341861</th>\n      <td>0</td>\n      <td>0</td>\n      <td>35</td>\n      <td>0</td>\n      <td>25</td>\n      <td>100</td>\n      <td>0</td>\n      <td>660</td>\n      <td>660</td>\n      <td>0</td>\n      <td>...</td>\n      <td>0</td>\n      <td>0</td>\n      <td>1</td>\n      <td>0</td>\n      <td>14281</td>\n      <td>14199</td>\n      <td>0</td>\n      <td>500</td>\n      <td>0</td>\n      <td>1</td>\n    </tr>\n    <tr>\n      <th>341862</th>\n      <td>60016</td>\n      <td>0</td>\n      <td>41</td>\n      <td>0</td>\n      <td>79</td>\n      <td>100</td>\n      <td>9</td>\n      <td>740</td>\n      <td>740</td>\n      <td>24</td>\n      <td>...</td>\n      <td>0</td>\n      <td>0</td>\n      <td>1</td>\n      <td>0</td>\n      <td>11865</td>\n      <td>3655</td>\n      <td>0</td>\n      <td>500</td>\n      <td>0</td>\n      <td>1</td>\n    </tr>\n    <tr>\n      <th>341863</th>\n      <td>120047</td>\n      <td>0</td>\n      <td>41</td>\n      <td>0</td>\n      <td>82</td>\n      <td>100</td>\n      <td>28</td>\n      <td>151</td>\n      <td>740</td>\n      <td>154</td>\n      <td>...</td>\n      <td>101</td>\n      <td>0</td>\n      <td>1</td>\n      <td>0</td>\n      <td>14210</td>\n      <td>11841</td>\n      <td>4657</td>\n      <td>523</td>\n      <td>0</td>\n      <td>1</td>\n    </tr>\n    <tr>\n      <th>341864</th>\n      <td>180081</td>\n      <td>0</td>\n      <td>48</td>\n      <td>0</td>\n      <td>95</td>\n      <td>104</td>\n      <td>11</td>\n      <td>884</td>\n      <td>903</td>\n      <td>26</td>\n      <td>...</td>\n      <td>101</td>\n      <td>0</td>\n      <td>2</td>\n      <td>3</td>\n      <td>13554</td>\n      <td>2918</td>\n      <td>4657</td>\n      <td>752</td>\n      <td>419</td>\n      <td>1</td>\n    </tr>\n    <tr>\n      <th>341865</th>\n      <td>240110</td>\n      <td>0</td>\n      <td>48</td>\n      <td>0</td>\n      <td>105</td>\n      <td>104</td>\n      <td>12</td>\n      <td>903</td>\n      <td>903</td>\n      <td>26</td>\n      <td>...</td>\n      <td>107</td>\n      <td>0</td>\n      <td>3</td>\n      <td>4</td>\n      <td>10750</td>\n      <td>2137</td>\n      <td>23709</td>\n      <td>1083</td>\n      <td>860</td>\n      <td>1</td>\n    </tr>\n    <tr>\n      <th>...</th>\n      <th>...</th>\n      <td>...</td>\n      <td>...</td>\n      <td>...</td>\n      <td>...</td>\n      <td>...</td>\n      <td>...</td>\n      <td>...</td>\n      <td>...</td>\n      <td>...</td>\n      <td>...</td>\n      <td>...</td>\n      <td>...</td>\n      <td>...</td>\n      <td>...</td>\n      <td>...</td>\n      <td>...</td>\n      <td>...</td>\n      <td>...</td>\n      <td>...</td>\n      <td>...</td>\n      <td>...</td>\n    </tr>\n    <tr>\n      <th rowspan=\"5\" valign=\"top\">NA1_4804591020</th>\n      <th>654618</th>\n      <td>660271</td>\n      <td>0</td>\n      <td>76</td>\n      <td>0</td>\n      <td>162</td>\n      <td>130</td>\n      <td>12</td>\n      <td>1798</td>\n      <td>1918</td>\n      <td>34</td>\n      <td>...</td>\n      <td>90</td>\n      <td>0</td>\n      <td>6</td>\n      <td>11</td>\n      <td>13788</td>\n      <td>4768</td>\n      <td>29334</td>\n      <td>2352</td>\n      <td>2566</td>\n      <td>1</td>\n    </tr>\n    <tr>\n      <th>654619</th>\n      <td>720289</td>\n      <td>0</td>\n      <td>81</td>\n      <td>0</td>\n      <td>188</td>\n      <td>134</td>\n      <td>10</td>\n      <td>2279</td>\n      <td>2279</td>\n      <td>35</td>\n      <td>...</td>\n      <td>90</td>\n      <td>0</td>\n      <td>6</td>\n      <td>11</td>\n      <td>7560</td>\n      <td>7516</td>\n      <td>36518</td>\n      <td>2645</td>\n      <td>2952</td>\n      <td>1</td>\n    </tr>\n    <tr>\n      <th>654620</th>\n      <td>780309</td>\n      <td>0</td>\n      <td>81</td>\n      <td>0</td>\n      <td>166</td>\n      <td>134</td>\n      <td>17</td>\n      <td>1545</td>\n      <td>2029</td>\n      <td>35</td>\n      <td>...</td>\n      <td>90</td>\n      <td>0</td>\n      <td>7</td>\n      <td>15</td>\n      <td>9158</td>\n      <td>8398</td>\n      <td>39659</td>\n      <td>2820</td>\n      <td>3262</td>\n      <td>1</td>\n    </tr>\n    <tr>\n      <th>654621</th>\n      <td>840316</td>\n      <td>0</td>\n      <td>86</td>\n      <td>0</td>\n      <td>171</td>\n      <td>142</td>\n      <td>11</td>\n      <td>2037</td>\n      <td>2144</td>\n      <td>37</td>\n      <td>...</td>\n      <td>90</td>\n      <td>0</td>\n      <td>7</td>\n      <td>15</td>\n      <td>13877</td>\n      <td>13524</td>\n      <td>57884</td>\n      <td>3110</td>\n      <td>3798</td>\n      <td>1</td>\n    </tr>\n    <tr>\n      <th>654622</th>\n      <td>900335</td>\n      <td>0</td>\n      <td>106</td>\n      <td>0</td>\n      <td>171</td>\n      <td>144</td>\n      <td>10</td>\n      <td>2294</td>\n      <td>2294</td>\n      <td>37</td>\n      <td>...</td>\n      <td>90</td>\n      <td>0</td>\n      <td>8</td>\n      <td>15</td>\n      <td>10365</td>\n      <td>9756</td>\n      <td>57884</td>\n      <td>3276</td>\n      <td>4136</td>\n      <td>1</td>\n    </tr>\n  </tbody>\n</table>\n<p>16000 rows × 382 columns</p>\n</div>"
     },
     "execution_count": 59,
     "metadata": {},
     "output_type": "execute_result"
    }
   ],
   "source": [
    "df"
   ],
   "metadata": {
    "collapsed": false,
    "ExecuteTime": {
     "end_time": "2023-10-22T13:46:27.723533200Z",
     "start_time": "2023-10-22T13:46:27.601480100Z"
    }
   },
   "id": "8c4140079e94e1a4"
  },
  {
   "cell_type": "code",
   "execution_count": 60,
   "outputs": [
    {
     "data": {
      "text/plain": "       0    1    2    3    4    5    6     7     8    9    ...  372  373  374  \\\n0        0    0   39    0   25  100    0   620   620    0  ...    0    0    1   \n1    60009    0   45    0   76  113   17   401   700   18  ...    0    0    1   \n2   120021    0   45    0   76  113    5   700   700   18  ...    0    0    1   \n3   180031    0   52    0   80  116   18   448   860   20  ...    0    0    2   \n4   240036    0   56    0   83  118   13   677   946   22  ...    0    0    3   \n5   300039    0   76    0   91  119    5  1036  1036   23  ...    0    0    4   \n6   360054    0   80    0   88  124   17   636  1130  108  ...    0    0    4   \n7   420082    0  100    0   88  136    5  1130  1130   25  ...    0    0    5   \n8   480109    0  105    0   90  140    5  1228  1228   26  ...    0    0    6   \n9   540136    0  125    0   93  142    8  1190  1329   28  ...    0    0    6   \n10  600153    0  152    0  119  146   11  1103  1434   30  ...    0    0    6   \n11  660175   49  130    0   91  181    5  1434  1434   30  ...    0    0    7   \n12  720191   49  135    0   94  152    5  1536  1543   31  ...    0    0    7   \n13  780214   49  135    0   94  152   12  1125  1543  115  ...    0    0    8   \n14  840220   49  140    0   97  155   24   513  1656   33  ...    0    0    8   \n15  900220   69  140    0   97  205   17   912  1656   33  ...    0    0    9   \n\n    375    376    377     378   379   380  381  \n0     0  14281  14199       0   500     0    0  \n1     0  10633   5514       0   500     0    0  \n2     0  13004   2780    7673   563   113    0  \n3     0  12020   1815   22243   817   564    0  \n4     0  11871   1699   37024  1127   933    0  \n5     2  12308   1926   37390  1289  1148    0  \n6     3  13769   4686   49504  1870  1630    0  \n7     5  12906   3070   66402  2055  1971    0  \n8     6  11451   1748  101445  2495  2437    0  \n9     7   9991   7047  101445  2677  2606    0  \n10    9  11768   1617  110615  3307  3174    0  \n11    9  12374   1457  112784  3872  3572    0  \n12   10   9522   7280  112784  4366  4027    0  \n13   18  12498  11868  114385  4693  4546    0  \n14   22  12960   2502  116661  4957  4925    0  \n15   30  12241  11606  124880  6200  5773    0  \n\n[16 rows x 382 columns]",
      "text/html": "<div>\n<style scoped>\n    .dataframe tbody tr th:only-of-type {\n        vertical-align: middle;\n    }\n\n    .dataframe tbody tr th {\n        vertical-align: top;\n    }\n\n    .dataframe thead th {\n        text-align: right;\n    }\n</style>\n<table border=\"1\" class=\"dataframe\">\n  <thead>\n    <tr style=\"text-align: right;\">\n      <th></th>\n      <th>0</th>\n      <th>1</th>\n      <th>2</th>\n      <th>3</th>\n      <th>4</th>\n      <th>5</th>\n      <th>6</th>\n      <th>7</th>\n      <th>8</th>\n      <th>9</th>\n      <th>...</th>\n      <th>372</th>\n      <th>373</th>\n      <th>374</th>\n      <th>375</th>\n      <th>376</th>\n      <th>377</th>\n      <th>378</th>\n      <th>379</th>\n      <th>380</th>\n      <th>381</th>\n    </tr>\n  </thead>\n  <tbody>\n    <tr>\n      <th>0</th>\n      <td>0</td>\n      <td>0</td>\n      <td>39</td>\n      <td>0</td>\n      <td>25</td>\n      <td>100</td>\n      <td>0</td>\n      <td>620</td>\n      <td>620</td>\n      <td>0</td>\n      <td>...</td>\n      <td>0</td>\n      <td>0</td>\n      <td>1</td>\n      <td>0</td>\n      <td>14281</td>\n      <td>14199</td>\n      <td>0</td>\n      <td>500</td>\n      <td>0</td>\n      <td>0</td>\n    </tr>\n    <tr>\n      <th>1</th>\n      <td>60009</td>\n      <td>0</td>\n      <td>45</td>\n      <td>0</td>\n      <td>76</td>\n      <td>113</td>\n      <td>17</td>\n      <td>401</td>\n      <td>700</td>\n      <td>18</td>\n      <td>...</td>\n      <td>0</td>\n      <td>0</td>\n      <td>1</td>\n      <td>0</td>\n      <td>10633</td>\n      <td>5514</td>\n      <td>0</td>\n      <td>500</td>\n      <td>0</td>\n      <td>0</td>\n    </tr>\n    <tr>\n      <th>2</th>\n      <td>120021</td>\n      <td>0</td>\n      <td>45</td>\n      <td>0</td>\n      <td>76</td>\n      <td>113</td>\n      <td>5</td>\n      <td>700</td>\n      <td>700</td>\n      <td>18</td>\n      <td>...</td>\n      <td>0</td>\n      <td>0</td>\n      <td>1</td>\n      <td>0</td>\n      <td>13004</td>\n      <td>2780</td>\n      <td>7673</td>\n      <td>563</td>\n      <td>113</td>\n      <td>0</td>\n    </tr>\n    <tr>\n      <th>3</th>\n      <td>180031</td>\n      <td>0</td>\n      <td>52</td>\n      <td>0</td>\n      <td>80</td>\n      <td>116</td>\n      <td>18</td>\n      <td>448</td>\n      <td>860</td>\n      <td>20</td>\n      <td>...</td>\n      <td>0</td>\n      <td>0</td>\n      <td>2</td>\n      <td>0</td>\n      <td>12020</td>\n      <td>1815</td>\n      <td>22243</td>\n      <td>817</td>\n      <td>564</td>\n      <td>0</td>\n    </tr>\n    <tr>\n      <th>4</th>\n      <td>240036</td>\n      <td>0</td>\n      <td>56</td>\n      <td>0</td>\n      <td>83</td>\n      <td>118</td>\n      <td>13</td>\n      <td>677</td>\n      <td>946</td>\n      <td>22</td>\n      <td>...</td>\n      <td>0</td>\n      <td>0</td>\n      <td>3</td>\n      <td>0</td>\n      <td>11871</td>\n      <td>1699</td>\n      <td>37024</td>\n      <td>1127</td>\n      <td>933</td>\n      <td>0</td>\n    </tr>\n    <tr>\n      <th>5</th>\n      <td>300039</td>\n      <td>0</td>\n      <td>76</td>\n      <td>0</td>\n      <td>91</td>\n      <td>119</td>\n      <td>5</td>\n      <td>1036</td>\n      <td>1036</td>\n      <td>23</td>\n      <td>...</td>\n      <td>0</td>\n      <td>0</td>\n      <td>4</td>\n      <td>2</td>\n      <td>12308</td>\n      <td>1926</td>\n      <td>37390</td>\n      <td>1289</td>\n      <td>1148</td>\n      <td>0</td>\n    </tr>\n    <tr>\n      <th>6</th>\n      <td>360054</td>\n      <td>0</td>\n      <td>80</td>\n      <td>0</td>\n      <td>88</td>\n      <td>124</td>\n      <td>17</td>\n      <td>636</td>\n      <td>1130</td>\n      <td>108</td>\n      <td>...</td>\n      <td>0</td>\n      <td>0</td>\n      <td>4</td>\n      <td>3</td>\n      <td>13769</td>\n      <td>4686</td>\n      <td>49504</td>\n      <td>1870</td>\n      <td>1630</td>\n      <td>0</td>\n    </tr>\n    <tr>\n      <th>7</th>\n      <td>420082</td>\n      <td>0</td>\n      <td>100</td>\n      <td>0</td>\n      <td>88</td>\n      <td>136</td>\n      <td>5</td>\n      <td>1130</td>\n      <td>1130</td>\n      <td>25</td>\n      <td>...</td>\n      <td>0</td>\n      <td>0</td>\n      <td>5</td>\n      <td>5</td>\n      <td>12906</td>\n      <td>3070</td>\n      <td>66402</td>\n      <td>2055</td>\n      <td>1971</td>\n      <td>0</td>\n    </tr>\n    <tr>\n      <th>8</th>\n      <td>480109</td>\n      <td>0</td>\n      <td>105</td>\n      <td>0</td>\n      <td>90</td>\n      <td>140</td>\n      <td>5</td>\n      <td>1228</td>\n      <td>1228</td>\n      <td>26</td>\n      <td>...</td>\n      <td>0</td>\n      <td>0</td>\n      <td>6</td>\n      <td>6</td>\n      <td>11451</td>\n      <td>1748</td>\n      <td>101445</td>\n      <td>2495</td>\n      <td>2437</td>\n      <td>0</td>\n    </tr>\n    <tr>\n      <th>9</th>\n      <td>540136</td>\n      <td>0</td>\n      <td>125</td>\n      <td>0</td>\n      <td>93</td>\n      <td>142</td>\n      <td>8</td>\n      <td>1190</td>\n      <td>1329</td>\n      <td>28</td>\n      <td>...</td>\n      <td>0</td>\n      <td>0</td>\n      <td>6</td>\n      <td>7</td>\n      <td>9991</td>\n      <td>7047</td>\n      <td>101445</td>\n      <td>2677</td>\n      <td>2606</td>\n      <td>0</td>\n    </tr>\n    <tr>\n      <th>10</th>\n      <td>600153</td>\n      <td>0</td>\n      <td>152</td>\n      <td>0</td>\n      <td>119</td>\n      <td>146</td>\n      <td>11</td>\n      <td>1103</td>\n      <td>1434</td>\n      <td>30</td>\n      <td>...</td>\n      <td>0</td>\n      <td>0</td>\n      <td>6</td>\n      <td>9</td>\n      <td>11768</td>\n      <td>1617</td>\n      <td>110615</td>\n      <td>3307</td>\n      <td>3174</td>\n      <td>0</td>\n    </tr>\n    <tr>\n      <th>11</th>\n      <td>660175</td>\n      <td>49</td>\n      <td>130</td>\n      <td>0</td>\n      <td>91</td>\n      <td>181</td>\n      <td>5</td>\n      <td>1434</td>\n      <td>1434</td>\n      <td>30</td>\n      <td>...</td>\n      <td>0</td>\n      <td>0</td>\n      <td>7</td>\n      <td>9</td>\n      <td>12374</td>\n      <td>1457</td>\n      <td>112784</td>\n      <td>3872</td>\n      <td>3572</td>\n      <td>0</td>\n    </tr>\n    <tr>\n      <th>12</th>\n      <td>720191</td>\n      <td>49</td>\n      <td>135</td>\n      <td>0</td>\n      <td>94</td>\n      <td>152</td>\n      <td>5</td>\n      <td>1536</td>\n      <td>1543</td>\n      <td>31</td>\n      <td>...</td>\n      <td>0</td>\n      <td>0</td>\n      <td>7</td>\n      <td>10</td>\n      <td>9522</td>\n      <td>7280</td>\n      <td>112784</td>\n      <td>4366</td>\n      <td>4027</td>\n      <td>0</td>\n    </tr>\n    <tr>\n      <th>13</th>\n      <td>780214</td>\n      <td>49</td>\n      <td>135</td>\n      <td>0</td>\n      <td>94</td>\n      <td>152</td>\n      <td>12</td>\n      <td>1125</td>\n      <td>1543</td>\n      <td>115</td>\n      <td>...</td>\n      <td>0</td>\n      <td>0</td>\n      <td>8</td>\n      <td>18</td>\n      <td>12498</td>\n      <td>11868</td>\n      <td>114385</td>\n      <td>4693</td>\n      <td>4546</td>\n      <td>0</td>\n    </tr>\n    <tr>\n      <th>14</th>\n      <td>840220</td>\n      <td>49</td>\n      <td>140</td>\n      <td>0</td>\n      <td>97</td>\n      <td>155</td>\n      <td>24</td>\n      <td>513</td>\n      <td>1656</td>\n      <td>33</td>\n      <td>...</td>\n      <td>0</td>\n      <td>0</td>\n      <td>8</td>\n      <td>22</td>\n      <td>12960</td>\n      <td>2502</td>\n      <td>116661</td>\n      <td>4957</td>\n      <td>4925</td>\n      <td>0</td>\n    </tr>\n    <tr>\n      <th>15</th>\n      <td>900220</td>\n      <td>69</td>\n      <td>140</td>\n      <td>0</td>\n      <td>97</td>\n      <td>205</td>\n      <td>17</td>\n      <td>912</td>\n      <td>1656</td>\n      <td>33</td>\n      <td>...</td>\n      <td>0</td>\n      <td>0</td>\n      <td>9</td>\n      <td>30</td>\n      <td>12241</td>\n      <td>11606</td>\n      <td>124880</td>\n      <td>6200</td>\n      <td>5773</td>\n      <td>0</td>\n    </tr>\n  </tbody>\n</table>\n<p>16 rows × 382 columns</p>\n</div>"
     },
     "execution_count": 60,
     "metadata": {},
     "output_type": "execute_result"
    }
   ],
   "source": [
    "seq_length = 16\n",
    "n_features = df.shape[1]\n",
    "arr_shaped = df.to_numpy().reshape(df.shape[0] // seq_length, seq_length, n_features)\n",
    "df_x_train_shaped = pd.DataFrame(arr_shaped[1, :, :])\n",
    "df_x_train_shaped"
   ],
   "metadata": {
    "collapsed": false,
    "ExecuteTime": {
     "end_time": "2023-10-22T13:46:27.724533900Z",
     "start_time": "2023-10-22T13:46:27.618928100Z"
    }
   },
   "id": "75150adb7c065604"
  },
  {
   "cell_type": "code",
   "execution_count": 61,
   "outputs": [],
   "source": [
    "def train_test_split(df: pd.DataFrame, test_size: float) -> (pd.DataFrame, pd.DataFrame):\n",
    "    matchIds = df.index.get_level_values('matchId').unique()\n",
    "    test_length = int(len(matchIds) * test_size)\n",
    "    test_matchIds = matchIds[:test_length]\n",
    "    train_matchIds = matchIds[test_length:]\n",
    "    test_df = df.loc[test_matchIds]\n",
    "    train_df = df.loc[train_matchIds]\n",
    "    train_labels = train_df.pop('winning_team')\n",
    "    test_labels = test_df.pop('winning_team')\n",
    "    return train_df, train_labels, test_df, test_labels"
   ],
   "metadata": {
    "collapsed": false,
    "ExecuteTime": {
     "end_time": "2023-10-22T13:46:27.724533900Z",
     "start_time": "2023-10-22T13:46:27.637032300Z"
    }
   },
   "id": "e5eb86956a66e941"
  },
  {
   "cell_type": "code",
   "execution_count": 62,
   "outputs": [],
   "source": [
    "def test_match_length(df: pd.DataFrame):\n",
    "    \"\"\"\n",
    "    tests if all matchIds have exactly 16 timestamps\n",
    "    :param df: \n",
    "    :return: \n",
    "    \"\"\"\n",
    "    matchIds = df.index.get_level_values('matchId').unique()\n",
    "    found_short = False\n",
    "    print(f'Found {len(matchIds)} matches')\n",
    "    for matchId in matchIds:\n",
    "        match_df = df.loc[matchId]\n",
    "        if len(match_df) != 16:\n",
    "            print(f'Match {matchId} has {len(match_df)} timestamps')\n",
    "            found_short = True\n",
    "    if not found_short:\n",
    "        print('All matches have 16 timestamps')"
   ],
   "metadata": {
    "collapsed": false,
    "ExecuteTime": {
     "end_time": "2023-10-22T13:46:27.724533900Z",
     "start_time": "2023-10-22T13:46:27.640549900Z"
    }
   },
   "id": "dda75395476fe9fa"
  },
  {
   "cell_type": "code",
   "execution_count": 63,
   "outputs": [
    {
     "name": "stdout",
     "output_type": "stream",
     "text": [
      "Found 1000 matches\n",
      "All matches have 16 timestamps\n"
     ]
    }
   ],
   "source": [
    "test_match_length(df)"
   ],
   "metadata": {
    "collapsed": false,
    "ExecuteTime": {
     "end_time": "2023-10-22T13:46:27.894699500Z",
     "start_time": "2023-10-22T13:46:27.644999Z"
    }
   },
   "id": "bf53c3908d4f0788"
  },
  {
   "cell_type": "code",
   "execution_count": 64,
   "outputs": [],
   "source": [
    "X_train, y_train, X_test, y_test = train_test_split(df, 0.2)\n"
   ],
   "metadata": {
    "collapsed": false,
    "ExecuteTime": {
     "end_time": "2023-10-22T13:46:28.007251800Z",
     "start_time": "2023-10-22T13:46:27.810523100Z"
    }
   },
   "id": "ddcd152674311351"
  },
  {
   "cell_type": "code",
   "execution_count": 65,
   "outputs": [
    {
     "data": {
      "text/plain": "                         timestamp  participant1_abilityPower  \\\nmatchId         frameId                                         \nEUW1_6621098984 103254           0                          0   \n                103255       60025                          0   \n                103256      120047                          0   \n                103257      180053                          0   \n                103258      240070                          0   \n...                            ...                        ...   \nNA1_4804591020  654618      660271                          0   \n                654619      720289                          0   \n                654620      780309                          0   \n                654621      840316                          0   \n                654622      900335                          0   \n\n                         participant1_armor  participant1_armorPenPercent  \\\nmatchId         frameId                                                     \nEUW1_6621098984 103254                   36                             0   \n                103255                   42                             0   \n                103256                   42                             0   \n                103257                   48                             0   \n                103258                   51                             0   \n...                                     ...                           ...   \nNA1_4804591020  654618                   76                             0   \n                654619                   81                             0   \n                654620                   81                             0   \n                654621                   86                             0   \n                654622                  106                             0   \n\n                         participant1_attackDamage  participant1_attackSpeed  \\\nmatchId         frameId                                                        \nEUW1_6621098984 103254                          25                       100   \n                103255                          83                       110   \n                103256                          83                       116   \n                103257                          97                       115   \n                103258                         101                       117   \n...                                            ...                       ...   \nNA1_4804591020  654618                         162                       130   \n                654619                         188                       134   \n                654620                         166                       134   \n                654621                         171                       142   \n                654622                         171                       144   \n\n                         participant1_ccReduction  participant1_health  \\\nmatchId         frameId                                                  \nEUW1_6621098984 103254                          0                  665   \n                103255                          5                  665   \n                103256                          5                  573   \n                103257                          5                  892   \n                103258                          5                  364   \n...                                           ...                  ...   \nNA1_4804591020  654618                         12                 1798   \n                654619                         10                 2279   \n                654620                         17                 1545   \n                654621                         11                 2037   \n                654622                         10                 2294   \n\n                         participant1_healthMax  participant1_healthRegen  \\\nmatchId         frameId                                                     \nEUW1_6621098984 103254                      665                         0   \n                103255                      665                        17   \n                103256                      665                        17   \n                103257                      892                        18   \n                103258                      971                       102   \n...                                         ...                       ...   \nNA1_4804591020  654618                     1918                        34   \n                654619                     2279                        35   \n                654620                     2029                        35   \n                654621                     2144                        37   \n                654622                     2294                        37   \n\n                         ...  participant10_trueDamageDoneToChampions  \\\nmatchId         frameId  ...                                            \nEUW1_6621098984 103254   ...                                        0   \n                103255   ...                                        0   \n                103256   ...                                        0   \n                103257   ...                                       70   \n                103258   ...                                       70   \n...                      ...                                      ...   \nNA1_4804591020  654618   ...                                        0   \n                654619   ...                                        0   \n                654620   ...                                        0   \n                654621   ...                                        0   \n                654622   ...                                        0   \n\n                         participant10_trueDamageTaken  \\\nmatchId         frameId                                  \nEUW1_6621098984 103254                               0   \n                103255                               0   \n                103256                               0   \n                103257                               0   \n                103258                               0   \n...                                                ...   \nNA1_4804591020  654618                              90   \n                654619                              90   \n                654620                              90   \n                654621                              90   \n                654622                              90   \n\n                         participant10_jungleMinionsKilled  \\\nmatchId         frameId                                      \nEUW1_6621098984 103254                                   0   \n                103255                                   0   \n                103256                                   0   \n                103257                                   0   \n                103258                                   0   \n...                                                    ...   \nNA1_4804591020  654618                                   0   \n                654619                                   0   \n                654620                                   0   \n                654621                                   0   \n                654622                                   0   \n\n                         participant10_level  participant10_minionsKilled  \\\nmatchId         frameId                                                     \nEUW1_6621098984 103254                     1                            0   \n                103255                     1                            0   \n                103256                     1                            0   \n                103257                     2                            2   \n                103258                     3                            6   \n...                                      ...                          ...   \nNA1_4804591020  654618                     6                           11   \n                654619                     6                           11   \n                654620                     7                           15   \n                654621                     7                           15   \n                654622                     8                           15   \n\n                         participant10_position_x  participant10_position_y  \\\nmatchId         frameId                                                       \nEUW1_6621098984 103254                      14281                     14199   \n                103255                       3081                      9654   \n                103256                      12623                      2419   \n                103257                      13890                      3877   \n                103258                      10603                      3125   \n...                                           ...                       ...   \nNA1_4804591020  654618                      13788                      4768   \n                654619                       7560                      7516   \n                654620                       9158                      8398   \n                654621                      13877                     13524   \n                654622                      10365                      9756   \n\n                         participant10_timeEnemySpentControlled  \\\nmatchId         frameId                                           \nEUW1_6621098984 103254                                        0   \n                103255                                        0   \n                103256                                        0   \n                103257                                     1697   \n                103258                                    26096   \n...                                                         ...   \nNA1_4804591020  654618                                    29334   \n                654619                                    36518   \n                654620                                    39659   \n                654621                                    57884   \n                654622                                    57884   \n\n                         participant10_totalGold  participant10_xp  \nmatchId         frameId                                             \nEUW1_6621098984 103254                       500                 0  \n                103255                       500                 0  \n                103256                       523                 0  \n                103257                       801               394  \n                103258                      1072               902  \n...                                          ...               ...  \nNA1_4804591020  654618                      2352              2566  \n                654619                      2645              2952  \n                654620                      2820              3262  \n                654621                      3110              3798  \n                654622                      3276              4136  \n\n[12800 rows x 381 columns]",
      "text/html": "<div>\n<style scoped>\n    .dataframe tbody tr th:only-of-type {\n        vertical-align: middle;\n    }\n\n    .dataframe tbody tr th {\n        vertical-align: top;\n    }\n\n    .dataframe thead th {\n        text-align: right;\n    }\n</style>\n<table border=\"1\" class=\"dataframe\">\n  <thead>\n    <tr style=\"text-align: right;\">\n      <th></th>\n      <th></th>\n      <th>timestamp</th>\n      <th>participant1_abilityPower</th>\n      <th>participant1_armor</th>\n      <th>participant1_armorPenPercent</th>\n      <th>participant1_attackDamage</th>\n      <th>participant1_attackSpeed</th>\n      <th>participant1_ccReduction</th>\n      <th>participant1_health</th>\n      <th>participant1_healthMax</th>\n      <th>participant1_healthRegen</th>\n      <th>...</th>\n      <th>participant10_trueDamageDoneToChampions</th>\n      <th>participant10_trueDamageTaken</th>\n      <th>participant10_jungleMinionsKilled</th>\n      <th>participant10_level</th>\n      <th>participant10_minionsKilled</th>\n      <th>participant10_position_x</th>\n      <th>participant10_position_y</th>\n      <th>participant10_timeEnemySpentControlled</th>\n      <th>participant10_totalGold</th>\n      <th>participant10_xp</th>\n    </tr>\n    <tr>\n      <th>matchId</th>\n      <th>frameId</th>\n      <th></th>\n      <th></th>\n      <th></th>\n      <th></th>\n      <th></th>\n      <th></th>\n      <th></th>\n      <th></th>\n      <th></th>\n      <th></th>\n      <th></th>\n      <th></th>\n      <th></th>\n      <th></th>\n      <th></th>\n      <th></th>\n      <th></th>\n      <th></th>\n      <th></th>\n      <th></th>\n      <th></th>\n    </tr>\n  </thead>\n  <tbody>\n    <tr>\n      <th rowspan=\"5\" valign=\"top\">EUW1_6621098984</th>\n      <th>103254</th>\n      <td>0</td>\n      <td>0</td>\n      <td>36</td>\n      <td>0</td>\n      <td>25</td>\n      <td>100</td>\n      <td>0</td>\n      <td>665</td>\n      <td>665</td>\n      <td>0</td>\n      <td>...</td>\n      <td>0</td>\n      <td>0</td>\n      <td>0</td>\n      <td>1</td>\n      <td>0</td>\n      <td>14281</td>\n      <td>14199</td>\n      <td>0</td>\n      <td>500</td>\n      <td>0</td>\n    </tr>\n    <tr>\n      <th>103255</th>\n      <td>60025</td>\n      <td>0</td>\n      <td>42</td>\n      <td>0</td>\n      <td>83</td>\n      <td>110</td>\n      <td>5</td>\n      <td>665</td>\n      <td>665</td>\n      <td>17</td>\n      <td>...</td>\n      <td>0</td>\n      <td>0</td>\n      <td>0</td>\n      <td>1</td>\n      <td>0</td>\n      <td>3081</td>\n      <td>9654</td>\n      <td>0</td>\n      <td>500</td>\n      <td>0</td>\n    </tr>\n    <tr>\n      <th>103256</th>\n      <td>120047</td>\n      <td>0</td>\n      <td>42</td>\n      <td>0</td>\n      <td>83</td>\n      <td>116</td>\n      <td>5</td>\n      <td>573</td>\n      <td>665</td>\n      <td>17</td>\n      <td>...</td>\n      <td>0</td>\n      <td>0</td>\n      <td>0</td>\n      <td>1</td>\n      <td>0</td>\n      <td>12623</td>\n      <td>2419</td>\n      <td>0</td>\n      <td>523</td>\n      <td>0</td>\n    </tr>\n    <tr>\n      <th>103257</th>\n      <td>180053</td>\n      <td>0</td>\n      <td>48</td>\n      <td>0</td>\n      <td>97</td>\n      <td>115</td>\n      <td>5</td>\n      <td>892</td>\n      <td>892</td>\n      <td>18</td>\n      <td>...</td>\n      <td>70</td>\n      <td>0</td>\n      <td>0</td>\n      <td>2</td>\n      <td>2</td>\n      <td>13890</td>\n      <td>3877</td>\n      <td>1697</td>\n      <td>801</td>\n      <td>394</td>\n    </tr>\n    <tr>\n      <th>103258</th>\n      <td>240070</td>\n      <td>0</td>\n      <td>51</td>\n      <td>0</td>\n      <td>101</td>\n      <td>117</td>\n      <td>5</td>\n      <td>364</td>\n      <td>971</td>\n      <td>102</td>\n      <td>...</td>\n      <td>70</td>\n      <td>0</td>\n      <td>0</td>\n      <td>3</td>\n      <td>6</td>\n      <td>10603</td>\n      <td>3125</td>\n      <td>26096</td>\n      <td>1072</td>\n      <td>902</td>\n    </tr>\n    <tr>\n      <th>...</th>\n      <th>...</th>\n      <td>...</td>\n      <td>...</td>\n      <td>...</td>\n      <td>...</td>\n      <td>...</td>\n      <td>...</td>\n      <td>...</td>\n      <td>...</td>\n      <td>...</td>\n      <td>...</td>\n      <td>...</td>\n      <td>...</td>\n      <td>...</td>\n      <td>...</td>\n      <td>...</td>\n      <td>...</td>\n      <td>...</td>\n      <td>...</td>\n      <td>...</td>\n      <td>...</td>\n      <td>...</td>\n    </tr>\n    <tr>\n      <th rowspan=\"5\" valign=\"top\">NA1_4804591020</th>\n      <th>654618</th>\n      <td>660271</td>\n      <td>0</td>\n      <td>76</td>\n      <td>0</td>\n      <td>162</td>\n      <td>130</td>\n      <td>12</td>\n      <td>1798</td>\n      <td>1918</td>\n      <td>34</td>\n      <td>...</td>\n      <td>0</td>\n      <td>90</td>\n      <td>0</td>\n      <td>6</td>\n      <td>11</td>\n      <td>13788</td>\n      <td>4768</td>\n      <td>29334</td>\n      <td>2352</td>\n      <td>2566</td>\n    </tr>\n    <tr>\n      <th>654619</th>\n      <td>720289</td>\n      <td>0</td>\n      <td>81</td>\n      <td>0</td>\n      <td>188</td>\n      <td>134</td>\n      <td>10</td>\n      <td>2279</td>\n      <td>2279</td>\n      <td>35</td>\n      <td>...</td>\n      <td>0</td>\n      <td>90</td>\n      <td>0</td>\n      <td>6</td>\n      <td>11</td>\n      <td>7560</td>\n      <td>7516</td>\n      <td>36518</td>\n      <td>2645</td>\n      <td>2952</td>\n    </tr>\n    <tr>\n      <th>654620</th>\n      <td>780309</td>\n      <td>0</td>\n      <td>81</td>\n      <td>0</td>\n      <td>166</td>\n      <td>134</td>\n      <td>17</td>\n      <td>1545</td>\n      <td>2029</td>\n      <td>35</td>\n      <td>...</td>\n      <td>0</td>\n      <td>90</td>\n      <td>0</td>\n      <td>7</td>\n      <td>15</td>\n      <td>9158</td>\n      <td>8398</td>\n      <td>39659</td>\n      <td>2820</td>\n      <td>3262</td>\n    </tr>\n    <tr>\n      <th>654621</th>\n      <td>840316</td>\n      <td>0</td>\n      <td>86</td>\n      <td>0</td>\n      <td>171</td>\n      <td>142</td>\n      <td>11</td>\n      <td>2037</td>\n      <td>2144</td>\n      <td>37</td>\n      <td>...</td>\n      <td>0</td>\n      <td>90</td>\n      <td>0</td>\n      <td>7</td>\n      <td>15</td>\n      <td>13877</td>\n      <td>13524</td>\n      <td>57884</td>\n      <td>3110</td>\n      <td>3798</td>\n    </tr>\n    <tr>\n      <th>654622</th>\n      <td>900335</td>\n      <td>0</td>\n      <td>106</td>\n      <td>0</td>\n      <td>171</td>\n      <td>144</td>\n      <td>10</td>\n      <td>2294</td>\n      <td>2294</td>\n      <td>37</td>\n      <td>...</td>\n      <td>0</td>\n      <td>90</td>\n      <td>0</td>\n      <td>8</td>\n      <td>15</td>\n      <td>10365</td>\n      <td>9756</td>\n      <td>57884</td>\n      <td>3276</td>\n      <td>4136</td>\n    </tr>\n  </tbody>\n</table>\n<p>12800 rows × 381 columns</p>\n</div>"
     },
     "execution_count": 65,
     "metadata": {},
     "output_type": "execute_result"
    }
   ],
   "source": [
    "X_train"
   ],
   "metadata": {
    "collapsed": false,
    "ExecuteTime": {
     "end_time": "2023-10-22T13:46:28.008252400Z",
     "start_time": "2023-10-22T13:46:27.856704800Z"
    }
   },
   "id": "71cbc12504ed7640"
  },
  {
   "cell_type": "code",
   "execution_count": 66,
   "outputs": [
    {
     "name": "stdout",
     "output_type": "stream",
     "text": [
      "Found 800 matches\n",
      "All matches have 16 timestamps\n"
     ]
    }
   ],
   "source": [
    "test_match_length(X_train)"
   ],
   "metadata": {
    "collapsed": false,
    "ExecuteTime": {
     "end_time": "2023-10-22T13:46:36.795301200Z",
     "start_time": "2023-10-22T13:46:27.881704400Z"
    }
   },
   "id": "76bd8c232ace4fb9"
  },
  {
   "cell_type": "code",
   "execution_count": 67,
   "outputs": [
    {
     "name": "stderr",
     "output_type": "stream",
     "text": [
      "C:\\Users\\morit\\anaconda3\\envs\\leaguify\\Lib\\site-packages\\sklearn\\utils\\validation.py:767: FutureWarning: is_sparse is deprecated and will be removed in a future version. Check `isinstance(dtype, pd.SparseDtype)` instead.\n",
      "  if not hasattr(array, \"sparse\") and array.dtypes.apply(is_sparse).any():\n",
      "C:\\Users\\morit\\anaconda3\\envs\\leaguify\\Lib\\site-packages\\sklearn\\utils\\validation.py:605: FutureWarning: is_sparse is deprecated and will be removed in a future version. Check `isinstance(dtype, pd.SparseDtype)` instead.\n",
      "  if is_sparse(pd_dtype):\n",
      "C:\\Users\\morit\\anaconda3\\envs\\leaguify\\Lib\\site-packages\\sklearn\\utils\\validation.py:614: FutureWarning: is_sparse is deprecated and will be removed in a future version. Check `isinstance(dtype, pd.SparseDtype)` instead.\n",
      "  if is_sparse(pd_dtype) or not is_extension_array_dtype(pd_dtype):\n",
      "C:\\Users\\morit\\anaconda3\\envs\\leaguify\\Lib\\site-packages\\sklearn\\utils\\validation.py:767: FutureWarning: is_sparse is deprecated and will be removed in a future version. Check `isinstance(dtype, pd.SparseDtype)` instead.\n",
      "  if not hasattr(array, \"sparse\") and array.dtypes.apply(is_sparse).any():\n",
      "C:\\Users\\morit\\anaconda3\\envs\\leaguify\\Lib\\site-packages\\sklearn\\utils\\validation.py:605: FutureWarning: is_sparse is deprecated and will be removed in a future version. Check `isinstance(dtype, pd.SparseDtype)` instead.\n",
      "  if is_sparse(pd_dtype):\n",
      "C:\\Users\\morit\\anaconda3\\envs\\leaguify\\Lib\\site-packages\\sklearn\\utils\\validation.py:614: FutureWarning: is_sparse is deprecated and will be removed in a future version. Check `isinstance(dtype, pd.SparseDtype)` instead.\n",
      "  if is_sparse(pd_dtype) or not is_extension_array_dtype(pd_dtype):\n",
      "C:\\Users\\morit\\anaconda3\\envs\\leaguify\\Lib\\site-packages\\sklearn\\utils\\validation.py:767: FutureWarning: is_sparse is deprecated and will be removed in a future version. Check `isinstance(dtype, pd.SparseDtype)` instead.\n",
      "  if not hasattr(array, \"sparse\") and array.dtypes.apply(is_sparse).any():\n",
      "C:\\Users\\morit\\anaconda3\\envs\\leaguify\\Lib\\site-packages\\sklearn\\utils\\validation.py:605: FutureWarning: is_sparse is deprecated and will be removed in a future version. Check `isinstance(dtype, pd.SparseDtype)` instead.\n",
      "  if is_sparse(pd_dtype):\n",
      "C:\\Users\\morit\\anaconda3\\envs\\leaguify\\Lib\\site-packages\\sklearn\\utils\\validation.py:614: FutureWarning: is_sparse is deprecated and will be removed in a future version. Check `isinstance(dtype, pd.SparseDtype)` instead.\n",
      "  if is_sparse(pd_dtype) or not is_extension_array_dtype(pd_dtype):\n"
     ]
    }
   ],
   "source": [
    "scaler = StandardScaler()\n",
    "X_train = scaler.fit_transform(X_train)\n",
    "X_test = scaler.transform(X_test)"
   ],
   "metadata": {
    "collapsed": false,
    "ExecuteTime": {
     "end_time": "2023-10-22T13:46:37.045690700Z",
     "start_time": "2023-10-22T13:46:36.796305300Z"
    }
   },
   "id": "988e62846c7db0b"
  },
  {
   "cell_type": "code",
   "execution_count": 68,
   "outputs": [],
   "source": [
    "X_train = np.append(X_train, np.expand_dims(y_train, axis=1), axis=1)\n",
    "X_test = np.append(X_test, np.expand_dims(y_test, axis=1), axis=1)"
   ],
   "metadata": {
    "collapsed": false,
    "ExecuteTime": {
     "end_time": "2023-10-22T13:46:37.092098700Z",
     "start_time": "2023-10-22T13:46:37.039678900Z"
    }
   },
   "id": "870221a6126d23ba"
  },
  {
   "cell_type": "code",
   "execution_count": 69,
   "outputs": [
    {
     "data": {
      "text/plain": "(12800, 382)"
     },
     "execution_count": 69,
     "metadata": {},
     "output_type": "execute_result"
    }
   ],
   "source": [
    "X_train.shape"
   ],
   "metadata": {
    "collapsed": false,
    "ExecuteTime": {
     "end_time": "2023-10-22T13:46:37.116102400Z",
     "start_time": "2023-10-22T13:46:37.061046100Z"
    }
   },
   "id": "ce262d9c50ae7122"
  },
  {
   "cell_type": "code",
   "execution_count": 70,
   "outputs": [
    {
     "data": {
      "text/plain": "(3200, 382)"
     },
     "execution_count": 70,
     "metadata": {},
     "output_type": "execute_result"
    }
   ],
   "source": [
    "X_test.shape"
   ],
   "metadata": {
    "collapsed": false,
    "ExecuteTime": {
     "end_time": "2023-10-22T13:46:37.116102400Z",
     "start_time": "2023-10-22T13:46:37.065049200Z"
    }
   },
   "id": "886bb9bfb0b26c07"
  },
  {
   "cell_type": "code",
   "execution_count": 74,
   "outputs": [],
   "source": [
    "np.save('../data/processed/train_timeline.npy', X_train)\n",
    "np.save('../data/processed/test_timeline.npy', X_test)"
   ],
   "metadata": {
    "collapsed": false,
    "ExecuteTime": {
     "end_time": "2023-10-22T13:46:37.248754800Z",
     "start_time": "2023-10-22T13:46:37.087099500Z"
    }
   },
   "id": "4d2e84ed87b5c781"
  },
  {
   "cell_type": "code",
   "execution_count": 75,
   "outputs": [],
   "source": [
    "#for i, col in enumerate(df.columns):\n",
    "#   plt.figure(i)\n",
    "#  sns.histplot(df[col], stat='density', kde=True)"
   ],
   "metadata": {
    "collapsed": false,
    "ExecuteTime": {
     "end_time": "2023-10-22T13:46:37.252271900Z",
     "start_time": "2023-10-22T13:46:37.126159800Z"
    }
   },
   "id": "c5005f1c57908a8a"
  },
  {
   "cell_type": "code",
   "execution_count": 75,
   "outputs": [],
   "source": [],
   "metadata": {
    "collapsed": false,
    "ExecuteTime": {
     "end_time": "2023-10-22T13:46:37.253271Z",
     "start_time": "2023-10-22T13:46:37.129719500Z"
    }
   },
   "id": "31c68c1b43518f72"
  }
 ],
 "metadata": {
  "kernelspec": {
   "display_name": "Python 3",
   "language": "python",
   "name": "python3"
  },
  "language_info": {
   "codemirror_mode": {
    "name": "ipython",
    "version": 2
   },
   "file_extension": ".py",
   "mimetype": "text/x-python",
   "name": "python",
   "nbconvert_exporter": "python",
   "pygments_lexer": "ipython2",
   "version": "2.7.6"
  }
 },
 "nbformat": 4,
 "nbformat_minor": 5
}
