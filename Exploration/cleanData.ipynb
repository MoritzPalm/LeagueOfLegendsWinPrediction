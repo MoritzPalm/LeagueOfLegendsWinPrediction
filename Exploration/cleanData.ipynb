{
 "cells": [
  {
   "cell_type": "code",
   "execution_count": 1,
   "metadata": {
    "collapsed": true,
    "ExecuteTime": {
     "end_time": "2023-11-13T16:24:12.754749200Z",
     "start_time": "2023-11-13T16:24:11.322467700Z"
    }
   },
   "outputs": [],
   "source": [
    "import pickle\n",
    "import pandas as pd\n",
    "import numpy as np\n",
    "from sklearn.model_selection import train_test_split\n",
    "from sklearn.preprocessing import StandardScaler\n",
    "from ydata_profiling import ProfileReport\n",
    "import src.dataHandling.cleaningUtils as clean\n",
    "import os\n",
    "\n",
    "try:\n",
    "    with open(\"data/raw/static_dataset.pkl\", \"rb\") as f:\n",
    "        df = pickle.load(f)\n",
    "except FileNotFoundError:\n",
    "    os.chdir('../')\n",
    "    with open(\"data/raw/static_dataset.pkl\", \"rb\") as f:\n",
    "        df = pickle.load(f)\n",
    "\n"
   ]
  },
  {
   "cell_type": "code",
   "execution_count": 2,
   "outputs": [
    {
     "data": {
      "text/plain": "   gameDuration   gameCreation     gameVersion  mapId  queueId  patch  \\\n0          1982  1696715184351  13.19.534.5972     11      420     19   \n0          1525  1697696037436  13.20.536.9576     11      420     20   \n0          1977  1697835934027  13.20.536.9576     11      420     20   \n0          1446  1696175211836  13.19.533.1909     11      420     19   \n0          1859  1697133998343  13.20.536.2230     11      420     20   \n\n   seasonId platformId  participant1_level participant1_tier  ...  \\\n0        13       EUW1                 864            MASTER  ...   \n0        13         KR                 132            MASTER  ...   \n0        13         KR                 860            MASTER  ...   \n0        13       EUW1                 196            MASTER  ...   \n0        13       EUW1                 465           DIAMOND  ...   \n\n   participant10_champion_infoDefense  participant10_champion_infoMagic  \\\n0                                   2                                 7   \n0                                   6                                 6   \n0                                   4                                 8   \n0                                   4                                 5   \n0                                   5                                 7   \n\n   participant10_champion_infoDifficulty  participant10_champion_tier  \\\n0                                     10                            D   \n0                                      7                           S+   \n0                                      5                           S+   \n0                                      9                            S   \n0                                      3                           S+   \n\n   participant10_champion_win_rate  participant10_champion_pick_rate  \\\n0                            46.80                              12.7   \n0                            50.69                               6.2   \n0                            51.15                               5.7   \n0                            52.19                               0.6   \n0                            52.19                               2.8   \n\n   participant10_champion_ban_rate  participant10_champion_matches  \\\n0                             12.7                            9632   \n0                              6.2                           50599   \n0                              5.7                           38009   \n0                              0.6                           11217   \n0                              2.8                           20275   \n\n   participant10_teamId  participant10_win  \n0                   200              False  \n0                   200               True  \n0                   200              False  \n0                   200              False  \n0                   200               True  \n\n[5 rows x 368 columns]",
      "text/html": "<div>\n<style scoped>\n    .dataframe tbody tr th:only-of-type {\n        vertical-align: middle;\n    }\n\n    .dataframe tbody tr th {\n        vertical-align: top;\n    }\n\n    .dataframe thead th {\n        text-align: right;\n    }\n</style>\n<table border=\"1\" class=\"dataframe\">\n  <thead>\n    <tr style=\"text-align: right;\">\n      <th></th>\n      <th>gameDuration</th>\n      <th>gameCreation</th>\n      <th>gameVersion</th>\n      <th>mapId</th>\n      <th>queueId</th>\n      <th>patch</th>\n      <th>seasonId</th>\n      <th>platformId</th>\n      <th>participant1_level</th>\n      <th>participant1_tier</th>\n      <th>...</th>\n      <th>participant10_champion_infoDefense</th>\n      <th>participant10_champion_infoMagic</th>\n      <th>participant10_champion_infoDifficulty</th>\n      <th>participant10_champion_tier</th>\n      <th>participant10_champion_win_rate</th>\n      <th>participant10_champion_pick_rate</th>\n      <th>participant10_champion_ban_rate</th>\n      <th>participant10_champion_matches</th>\n      <th>participant10_teamId</th>\n      <th>participant10_win</th>\n    </tr>\n  </thead>\n  <tbody>\n    <tr>\n      <th>0</th>\n      <td>1982</td>\n      <td>1696715184351</td>\n      <td>13.19.534.5972</td>\n      <td>11</td>\n      <td>420</td>\n      <td>19</td>\n      <td>13</td>\n      <td>EUW1</td>\n      <td>864</td>\n      <td>MASTER</td>\n      <td>...</td>\n      <td>2</td>\n      <td>7</td>\n      <td>10</td>\n      <td>D</td>\n      <td>46.80</td>\n      <td>12.7</td>\n      <td>12.7</td>\n      <td>9632</td>\n      <td>200</td>\n      <td>False</td>\n    </tr>\n    <tr>\n      <th>0</th>\n      <td>1525</td>\n      <td>1697696037436</td>\n      <td>13.20.536.9576</td>\n      <td>11</td>\n      <td>420</td>\n      <td>20</td>\n      <td>13</td>\n      <td>KR</td>\n      <td>132</td>\n      <td>MASTER</td>\n      <td>...</td>\n      <td>6</td>\n      <td>6</td>\n      <td>7</td>\n      <td>S+</td>\n      <td>50.69</td>\n      <td>6.2</td>\n      <td>6.2</td>\n      <td>50599</td>\n      <td>200</td>\n      <td>True</td>\n    </tr>\n    <tr>\n      <th>0</th>\n      <td>1977</td>\n      <td>1697835934027</td>\n      <td>13.20.536.9576</td>\n      <td>11</td>\n      <td>420</td>\n      <td>20</td>\n      <td>13</td>\n      <td>KR</td>\n      <td>860</td>\n      <td>MASTER</td>\n      <td>...</td>\n      <td>4</td>\n      <td>8</td>\n      <td>5</td>\n      <td>S+</td>\n      <td>51.15</td>\n      <td>5.7</td>\n      <td>5.7</td>\n      <td>38009</td>\n      <td>200</td>\n      <td>False</td>\n    </tr>\n    <tr>\n      <th>0</th>\n      <td>1446</td>\n      <td>1696175211836</td>\n      <td>13.19.533.1909</td>\n      <td>11</td>\n      <td>420</td>\n      <td>19</td>\n      <td>13</td>\n      <td>EUW1</td>\n      <td>196</td>\n      <td>MASTER</td>\n      <td>...</td>\n      <td>4</td>\n      <td>5</td>\n      <td>9</td>\n      <td>S</td>\n      <td>52.19</td>\n      <td>0.6</td>\n      <td>0.6</td>\n      <td>11217</td>\n      <td>200</td>\n      <td>False</td>\n    </tr>\n    <tr>\n      <th>0</th>\n      <td>1859</td>\n      <td>1697133998343</td>\n      <td>13.20.536.2230</td>\n      <td>11</td>\n      <td>420</td>\n      <td>20</td>\n      <td>13</td>\n      <td>EUW1</td>\n      <td>465</td>\n      <td>DIAMOND</td>\n      <td>...</td>\n      <td>5</td>\n      <td>7</td>\n      <td>3</td>\n      <td>S+</td>\n      <td>52.19</td>\n      <td>2.8</td>\n      <td>2.8</td>\n      <td>20275</td>\n      <td>200</td>\n      <td>True</td>\n    </tr>\n  </tbody>\n</table>\n<p>5 rows × 368 columns</p>\n</div>"
     },
     "execution_count": 2,
     "metadata": {},
     "output_type": "execute_result"
    }
   ],
   "source": [
    "df.head()"
   ],
   "metadata": {
    "collapsed": false,
    "ExecuteTime": {
     "end_time": "2023-11-13T16:24:12.771268800Z",
     "start_time": "2023-11-13T16:24:12.753750400Z"
    }
   }
  },
  {
   "cell_type": "code",
   "execution_count": 3,
   "outputs": [
    {
     "data": {
      "text/plain": "array(['gameDuration', 'gameCreation', 'gameVersion', 'mapId', 'queueId',\n       'patch', 'seasonId', 'platformId', 'participant1_level',\n       'participant1_tier', 'participant1_rank',\n       'participant1_leaguePoints', 'participant1_wins',\n       'participant1_losses', 'participant1_veteran',\n       'participant1_inactive', 'participant1_freshBlood',\n       'participant1_hotStreak', 'participant1_champion_lastPlayTime',\n       'participant1_champion_championLevel',\n       'participant1_champion_championPoints',\n       'participant1_champion_championPointsSinceLastLevel',\n       'participant1_champion_tokensEarned', 'participant1_champion_kda',\n       'participant1_champion_kills', 'participant1_champion_deaths',\n       'participant1_champion_assists', 'participant1_champion_lp',\n       'participant1_champion_maxKills', 'participant1_champion_cs',\n       'participant1_champion_damage', 'participant1_champion_gold',\n       'participant1_champion_championNumber',\n       'participant1_champion_infoAttack',\n       'participant1_champion_infoDefense',\n       'participant1_champion_infoMagic',\n       'participant1_champion_infoDifficulty',\n       'participant1_champion_tier', 'participant1_champion_win_rate',\n       'participant1_champion_pick_rate',\n       'participant1_champion_ban_rate', 'participant1_champion_matches',\n       'participant1_teamId', 'participant1_win', 'participant2_level',\n       'participant2_tier', 'participant2_rank',\n       'participant2_leaguePoints', 'participant2_wins',\n       'participant2_losses', 'participant2_veteran',\n       'participant2_inactive', 'participant2_freshBlood',\n       'participant2_hotStreak', 'participant2_champion_lastPlayTime',\n       'participant2_champion_championLevel',\n       'participant2_champion_championPoints',\n       'participant2_champion_championPointsSinceLastLevel',\n       'participant2_champion_tokensEarned', 'participant2_champion_kda',\n       'participant2_champion_kills', 'participant2_champion_deaths',\n       'participant2_champion_assists', 'participant2_champion_lp',\n       'participant2_champion_maxKills', 'participant2_champion_cs',\n       'participant2_champion_damage', 'participant2_champion_gold',\n       'participant2_champion_championNumber',\n       'participant2_champion_infoAttack',\n       'participant2_champion_infoDefense',\n       'participant2_champion_infoMagic',\n       'participant2_champion_infoDifficulty',\n       'participant2_champion_tier', 'participant2_champion_win_rate',\n       'participant2_champion_pick_rate',\n       'participant2_champion_ban_rate', 'participant2_champion_matches',\n       'participant2_teamId', 'participant2_win', 'participant3_level',\n       'participant3_tier', 'participant3_rank',\n       'participant3_leaguePoints', 'participant3_wins',\n       'participant3_losses', 'participant3_veteran',\n       'participant3_inactive', 'participant3_freshBlood',\n       'participant3_hotStreak', 'participant3_champion_lastPlayTime',\n       'participant3_champion_championLevel',\n       'participant3_champion_championPoints',\n       'participant3_champion_championPointsSinceLastLevel',\n       'participant3_champion_tokensEarned', 'participant3_champion_kda',\n       'participant3_champion_kills', 'participant3_champion_deaths',\n       'participant3_champion_assists', 'participant3_champion_lp',\n       'participant3_champion_maxKills', 'participant3_champion_cs',\n       'participant3_champion_damage', 'participant3_champion_gold',\n       'participant3_champion_championNumber',\n       'participant3_champion_infoAttack',\n       'participant3_champion_infoDefense',\n       'participant3_champion_infoMagic',\n       'participant3_champion_infoDifficulty',\n       'participant3_champion_tier', 'participant3_champion_win_rate',\n       'participant3_champion_pick_rate',\n       'participant3_champion_ban_rate', 'participant3_champion_matches',\n       'participant3_teamId', 'participant3_win', 'participant4_level',\n       'participant4_tier', 'participant4_rank',\n       'participant4_leaguePoints', 'participant4_wins',\n       'participant4_losses', 'participant4_veteran',\n       'participant4_inactive', 'participant4_freshBlood',\n       'participant4_hotStreak', 'participant4_champion_lastPlayTime',\n       'participant4_champion_championLevel',\n       'participant4_champion_championPoints',\n       'participant4_champion_championPointsSinceLastLevel',\n       'participant4_champion_tokensEarned', 'participant4_champion_kda',\n       'participant4_champion_kills', 'participant4_champion_deaths',\n       'participant4_champion_assists', 'participant4_champion_lp',\n       'participant4_champion_maxKills', 'participant4_champion_cs',\n       'participant4_champion_damage', 'participant4_champion_gold',\n       'participant4_champion_championNumber',\n       'participant4_champion_infoAttack',\n       'participant4_champion_infoDefense',\n       'participant4_champion_infoMagic',\n       'participant4_champion_infoDifficulty',\n       'participant4_champion_tier', 'participant4_champion_win_rate',\n       'participant4_champion_pick_rate',\n       'participant4_champion_ban_rate', 'participant4_champion_matches',\n       'participant4_teamId', 'participant4_win', 'participant5_level',\n       'participant5_tier', 'participant5_rank',\n       'participant5_leaguePoints', 'participant5_wins',\n       'participant5_losses', 'participant5_veteran',\n       'participant5_inactive', 'participant5_freshBlood',\n       'participant5_hotStreak', 'participant5_champion_lastPlayTime',\n       'participant5_champion_championLevel',\n       'participant5_champion_championPoints',\n       'participant5_champion_championPointsSinceLastLevel',\n       'participant5_champion_tokensEarned', 'participant5_champion_kda',\n       'participant5_champion_kills', 'participant5_champion_deaths',\n       'participant5_champion_assists', 'participant5_champion_lp',\n       'participant5_champion_maxKills', 'participant5_champion_cs',\n       'participant5_champion_damage', 'participant5_champion_gold',\n       'participant5_champion_championNumber',\n       'participant5_champion_infoAttack',\n       'participant5_champion_infoDefense',\n       'participant5_champion_infoMagic',\n       'participant5_champion_infoDifficulty',\n       'participant5_champion_tier', 'participant5_champion_win_rate',\n       'participant5_champion_pick_rate',\n       'participant5_champion_ban_rate', 'participant5_champion_matches',\n       'participant5_teamId', 'participant5_win', 'participant6_level',\n       'participant6_tier', 'participant6_rank',\n       'participant6_leaguePoints', 'participant6_wins',\n       'participant6_losses', 'participant6_veteran',\n       'participant6_inactive', 'participant6_freshBlood',\n       'participant6_hotStreak', 'participant6_champion_lastPlayTime',\n       'participant6_champion_championLevel',\n       'participant6_champion_championPoints',\n       'participant6_champion_championPointsSinceLastLevel',\n       'participant6_champion_tokensEarned', 'participant6_champion_kda',\n       'participant6_champion_kills', 'participant6_champion_deaths',\n       'participant6_champion_assists', 'participant6_champion_lp',\n       'participant6_champion_maxKills', 'participant6_champion_cs',\n       'participant6_champion_damage', 'participant6_champion_gold',\n       'participant6_champion_championNumber',\n       'participant6_champion_infoAttack',\n       'participant6_champion_infoDefense',\n       'participant6_champion_infoMagic',\n       'participant6_champion_infoDifficulty',\n       'participant6_champion_tier', 'participant6_champion_win_rate',\n       'participant6_champion_pick_rate',\n       'participant6_champion_ban_rate', 'participant6_champion_matches',\n       'participant6_teamId', 'participant6_win', 'participant7_level',\n       'participant7_tier', 'participant7_rank',\n       'participant7_leaguePoints', 'participant7_wins',\n       'participant7_losses', 'participant7_veteran',\n       'participant7_inactive', 'participant7_freshBlood',\n       'participant7_hotStreak', 'participant7_champion_lastPlayTime',\n       'participant7_champion_championLevel',\n       'participant7_champion_championPoints',\n       'participant7_champion_championPointsSinceLastLevel',\n       'participant7_champion_tokensEarned', 'participant7_champion_kda',\n       'participant7_champion_kills', 'participant7_champion_deaths',\n       'participant7_champion_assists', 'participant7_champion_lp',\n       'participant7_champion_maxKills', 'participant7_champion_cs',\n       'participant7_champion_damage', 'participant7_champion_gold',\n       'participant7_champion_championNumber',\n       'participant7_champion_infoAttack',\n       'participant7_champion_infoDefense',\n       'participant7_champion_infoMagic',\n       'participant7_champion_infoDifficulty',\n       'participant7_champion_tier', 'participant7_champion_win_rate',\n       'participant7_champion_pick_rate',\n       'participant7_champion_ban_rate', 'participant7_champion_matches',\n       'participant7_teamId', 'participant7_win', 'participant8_level',\n       'participant8_tier', 'participant8_rank',\n       'participant8_leaguePoints', 'participant8_wins',\n       'participant8_losses', 'participant8_veteran',\n       'participant8_inactive', 'participant8_freshBlood',\n       'participant8_hotStreak', 'participant8_champion_lastPlayTime',\n       'participant8_champion_championLevel',\n       'participant8_champion_championPoints',\n       'participant8_champion_championPointsSinceLastLevel',\n       'participant8_champion_tokensEarned', 'participant8_champion_kda',\n       'participant8_champion_kills', 'participant8_champion_deaths',\n       'participant8_champion_assists', 'participant8_champion_lp',\n       'participant8_champion_maxKills', 'participant8_champion_cs',\n       'participant8_champion_damage', 'participant8_champion_gold',\n       'participant8_champion_championNumber',\n       'participant8_champion_infoAttack',\n       'participant8_champion_infoDefense',\n       'participant8_champion_infoMagic',\n       'participant8_champion_infoDifficulty',\n       'participant8_champion_tier', 'participant8_champion_win_rate',\n       'participant8_champion_pick_rate',\n       'participant8_champion_ban_rate', 'participant8_champion_matches',\n       'participant8_teamId', 'participant8_win', 'participant9_level',\n       'participant9_tier', 'participant9_rank',\n       'participant9_leaguePoints', 'participant9_wins',\n       'participant9_losses', 'participant9_veteran',\n       'participant9_inactive', 'participant9_freshBlood',\n       'participant9_hotStreak', 'participant9_champion_lastPlayTime',\n       'participant9_champion_championLevel',\n       'participant9_champion_championPoints',\n       'participant9_champion_championPointsSinceLastLevel',\n       'participant9_champion_tokensEarned', 'participant9_champion_kda',\n       'participant9_champion_kills', 'participant9_champion_deaths',\n       'participant9_champion_assists', 'participant9_champion_lp',\n       'participant9_champion_maxKills', 'participant9_champion_cs',\n       'participant9_champion_damage', 'participant9_champion_gold',\n       'participant9_champion_championNumber',\n       'participant9_champion_infoAttack',\n       'participant9_champion_infoDefense',\n       'participant9_champion_infoMagic',\n       'participant9_champion_infoDifficulty',\n       'participant9_champion_tier', 'participant9_champion_win_rate',\n       'participant9_champion_pick_rate',\n       'participant9_champion_ban_rate', 'participant9_champion_matches',\n       'participant9_teamId', 'participant9_win', 'participant10_level',\n       'participant10_tier', 'participant10_rank',\n       'participant10_leaguePoints', 'participant10_wins',\n       'participant10_losses', 'participant10_veteran',\n       'participant10_inactive', 'participant10_freshBlood',\n       'participant10_hotStreak', 'participant10_champion_lastPlayTime',\n       'participant10_champion_championLevel',\n       'participant10_champion_championPoints',\n       'participant10_champion_championPointsSinceLastLevel',\n       'participant10_champion_tokensEarned',\n       'participant10_champion_kda', 'participant10_champion_kills',\n       'participant10_champion_deaths', 'participant10_champion_assists',\n       'participant10_champion_lp', 'participant10_champion_maxKills',\n       'participant10_champion_cs', 'participant10_champion_damage',\n       'participant10_champion_gold',\n       'participant10_champion_championNumber',\n       'participant10_champion_infoAttack',\n       'participant10_champion_infoDefense',\n       'participant10_champion_infoMagic',\n       'participant10_champion_infoDifficulty',\n       'participant10_champion_tier', 'participant10_champion_win_rate',\n       'participant10_champion_pick_rate',\n       'participant10_champion_ban_rate',\n       'participant10_champion_matches', 'participant10_teamId',\n       'participant10_win'], dtype=object)"
     },
     "execution_count": 3,
     "metadata": {},
     "output_type": "execute_result"
    }
   ],
   "source": [
    "df.columns.values"
   ],
   "metadata": {
    "collapsed": false,
    "ExecuteTime": {
     "end_time": "2023-11-13T16:24:12.787520200Z",
     "start_time": "2023-11-13T16:24:12.772269Z"
    }
   }
  },
  {
   "cell_type": "code",
   "execution_count": 4,
   "outputs": [
    {
     "data": {
      "text/plain": "EUW1    16682\nKR      15488\nEUN1     3578\nNA1      2413\nName: platformId, dtype: int64"
     },
     "execution_count": 4,
     "metadata": {},
     "output_type": "execute_result"
    }
   ],
   "source": [
    "df['platformId'].value_counts()"
   ],
   "metadata": {
    "collapsed": false,
    "ExecuteTime": {
     "end_time": "2023-11-13T16:24:12.807520300Z",
     "start_time": "2023-11-13T16:24:12.778445800Z"
    }
   }
  },
  {
   "cell_type": "code",
   "execution_count": 5,
   "outputs": [
    {
     "data": {
      "text/plain": "38161"
     },
     "execution_count": 5,
     "metadata": {},
     "output_type": "execute_result"
    }
   ],
   "source": [
    "len(df)"
   ],
   "metadata": {
    "collapsed": false,
    "ExecuteTime": {
     "end_time": "2023-11-13T16:24:12.809520900Z",
     "start_time": "2023-11-13T16:24:12.786519200Z"
    }
   }
  },
  {
   "cell_type": "code",
   "execution_count": 6,
   "outputs": [
    {
     "name": "stdout",
     "output_type": "stream",
     "text": [
      "dropped 17648 rows\n"
     ]
    },
    {
     "data": {
      "text/plain": "   gameDuration   gameCreation     gameVersion  mapId  queueId  patch  \\\n0          1982  1696715184351  13.19.534.5972     11      420     19   \n0          1446  1696175211836  13.19.533.1909     11      420     19   \n0          1859  1697133998343  13.20.536.2230     11      420     20   \n0          1418  1697914083101  13.20.536.9576     11      420     20   \n0          1800  1697564797120  13.20.536.2230     11      420     20   \n\n   seasonId platformId  participant1_level participant1_tier  ...  \\\n0        13       EUW1                 864            MASTER  ...   \n0        13       EUW1                 196            MASTER  ...   \n0        13       EUW1                 465           DIAMOND  ...   \n0        13       EUW1                 725            MASTER  ...   \n0        13         KR                 110            MASTER  ...   \n\n   participant10_champion_infoDefense  participant10_champion_infoMagic  \\\n0                                   2                                 7   \n0                                   4                                 5   \n0                                   5                                 7   \n0                                   5                                 3   \n0                                   0                                 0   \n\n   participant10_champion_infoDifficulty  participant10_champion_tier  \\\n0                                     10                            D   \n0                                      9                            S   \n0                                      3                           S+   \n0                                      6                            D   \n0                                      0                            S   \n\n   participant10_champion_win_rate  participant10_champion_pick_rate  \\\n0                            46.80                              12.7   \n0                            52.19                               0.6   \n0                            52.19                               2.8   \n0                            48.23                              16.1   \n0                            50.18                               5.7   \n\n   participant10_champion_ban_rate  participant10_champion_matches  \\\n0                             12.7                            9632   \n0                              0.6                           11217   \n0                              2.8                           20275   \n0                             16.1                           92723   \n0                              5.7                           14487   \n\n   participant10_teamId  participant10_win  \n0                   200              False  \n0                   200              False  \n0                   200               True  \n0                   200              False  \n0                   200              False  \n\n[5 rows x 368 columns]",
      "text/html": "<div>\n<style scoped>\n    .dataframe tbody tr th:only-of-type {\n        vertical-align: middle;\n    }\n\n    .dataframe tbody tr th {\n        vertical-align: top;\n    }\n\n    .dataframe thead th {\n        text-align: right;\n    }\n</style>\n<table border=\"1\" class=\"dataframe\">\n  <thead>\n    <tr style=\"text-align: right;\">\n      <th></th>\n      <th>gameDuration</th>\n      <th>gameCreation</th>\n      <th>gameVersion</th>\n      <th>mapId</th>\n      <th>queueId</th>\n      <th>patch</th>\n      <th>seasonId</th>\n      <th>platformId</th>\n      <th>participant1_level</th>\n      <th>participant1_tier</th>\n      <th>...</th>\n      <th>participant10_champion_infoDefense</th>\n      <th>participant10_champion_infoMagic</th>\n      <th>participant10_champion_infoDifficulty</th>\n      <th>participant10_champion_tier</th>\n      <th>participant10_champion_win_rate</th>\n      <th>participant10_champion_pick_rate</th>\n      <th>participant10_champion_ban_rate</th>\n      <th>participant10_champion_matches</th>\n      <th>participant10_teamId</th>\n      <th>participant10_win</th>\n    </tr>\n  </thead>\n  <tbody>\n    <tr>\n      <th>0</th>\n      <td>1982</td>\n      <td>1696715184351</td>\n      <td>13.19.534.5972</td>\n      <td>11</td>\n      <td>420</td>\n      <td>19</td>\n      <td>13</td>\n      <td>EUW1</td>\n      <td>864</td>\n      <td>MASTER</td>\n      <td>...</td>\n      <td>2</td>\n      <td>7</td>\n      <td>10</td>\n      <td>D</td>\n      <td>46.80</td>\n      <td>12.7</td>\n      <td>12.7</td>\n      <td>9632</td>\n      <td>200</td>\n      <td>False</td>\n    </tr>\n    <tr>\n      <th>0</th>\n      <td>1446</td>\n      <td>1696175211836</td>\n      <td>13.19.533.1909</td>\n      <td>11</td>\n      <td>420</td>\n      <td>19</td>\n      <td>13</td>\n      <td>EUW1</td>\n      <td>196</td>\n      <td>MASTER</td>\n      <td>...</td>\n      <td>4</td>\n      <td>5</td>\n      <td>9</td>\n      <td>S</td>\n      <td>52.19</td>\n      <td>0.6</td>\n      <td>0.6</td>\n      <td>11217</td>\n      <td>200</td>\n      <td>False</td>\n    </tr>\n    <tr>\n      <th>0</th>\n      <td>1859</td>\n      <td>1697133998343</td>\n      <td>13.20.536.2230</td>\n      <td>11</td>\n      <td>420</td>\n      <td>20</td>\n      <td>13</td>\n      <td>EUW1</td>\n      <td>465</td>\n      <td>DIAMOND</td>\n      <td>...</td>\n      <td>5</td>\n      <td>7</td>\n      <td>3</td>\n      <td>S+</td>\n      <td>52.19</td>\n      <td>2.8</td>\n      <td>2.8</td>\n      <td>20275</td>\n      <td>200</td>\n      <td>True</td>\n    </tr>\n    <tr>\n      <th>0</th>\n      <td>1418</td>\n      <td>1697914083101</td>\n      <td>13.20.536.9576</td>\n      <td>11</td>\n      <td>420</td>\n      <td>20</td>\n      <td>13</td>\n      <td>EUW1</td>\n      <td>725</td>\n      <td>MASTER</td>\n      <td>...</td>\n      <td>5</td>\n      <td>3</td>\n      <td>6</td>\n      <td>D</td>\n      <td>48.23</td>\n      <td>16.1</td>\n      <td>16.1</td>\n      <td>92723</td>\n      <td>200</td>\n      <td>False</td>\n    </tr>\n    <tr>\n      <th>0</th>\n      <td>1800</td>\n      <td>1697564797120</td>\n      <td>13.20.536.2230</td>\n      <td>11</td>\n      <td>420</td>\n      <td>20</td>\n      <td>13</td>\n      <td>KR</td>\n      <td>110</td>\n      <td>MASTER</td>\n      <td>...</td>\n      <td>0</td>\n      <td>0</td>\n      <td>0</td>\n      <td>S</td>\n      <td>50.18</td>\n      <td>5.7</td>\n      <td>5.7</td>\n      <td>14487</td>\n      <td>200</td>\n      <td>False</td>\n    </tr>\n  </tbody>\n</table>\n<p>5 rows × 368 columns</p>\n</div>"
     },
     "execution_count": 6,
     "metadata": {},
     "output_type": "execute_result"
    }
   ],
   "source": [
    "df = clean.drop_missing(df)\n",
    "df.head()"
   ],
   "metadata": {
    "collapsed": false,
    "ExecuteTime": {
     "end_time": "2023-11-13T16:24:13.331723Z",
     "start_time": "2023-11-13T16:24:12.791518400Z"
    }
   }
  },
  {
   "cell_type": "code",
   "execution_count": 7,
   "outputs": [
    {
     "name": "stdout",
     "output_type": "stream",
     "text": [
      "found 20513 rows\n",
      "dropped wrong mapId\n",
      "dropped wrong queueId\n",
      "dropped wrong gameDuration\n",
      "dropped wrong seasonId\n",
      "dropped wrong gameVersion\n",
      "dropped wrong patch\n",
      "dropped 0 wrong rows\n"
     ]
    },
    {
     "data": {
      "text/plain": "   gameDuration   gameCreation     gameVersion  mapId  queueId  patch  \\\n0          1982  1696715184351  13.19.534.5972     11      420     19   \n0          1446  1696175211836  13.19.533.1909     11      420     19   \n0          1859  1697133998343  13.20.536.2230     11      420     20   \n0          1418  1697914083101  13.20.536.9576     11      420     20   \n0          1800  1697564797120  13.20.536.2230     11      420     20   \n\n   seasonId platformId  participant1_level participant1_tier  ...  \\\n0        13       EUW1                 864            MASTER  ...   \n0        13       EUW1                 196            MASTER  ...   \n0        13       EUW1                 465           DIAMOND  ...   \n0        13       EUW1                 725            MASTER  ...   \n0        13         KR                 110            MASTER  ...   \n\n   participant10_champion_infoDefense  participant10_champion_infoMagic  \\\n0                                   2                                 7   \n0                                   4                                 5   \n0                                   5                                 7   \n0                                   5                                 3   \n0                                   0                                 0   \n\n   participant10_champion_infoDifficulty  participant10_champion_tier  \\\n0                                     10                            D   \n0                                      9                            S   \n0                                      3                           S+   \n0                                      6                            D   \n0                                      0                            S   \n\n   participant10_champion_win_rate  participant10_champion_pick_rate  \\\n0                            46.80                              12.7   \n0                            52.19                               0.6   \n0                            52.19                               2.8   \n0                            48.23                              16.1   \n0                            50.18                               5.7   \n\n   participant10_champion_ban_rate  participant10_champion_matches  \\\n0                             12.7                            9632   \n0                              0.6                           11217   \n0                              2.8                           20275   \n0                             16.1                           92723   \n0                              5.7                           14487   \n\n   participant10_teamId  participant10_win  \n0                   200              False  \n0                   200              False  \n0                   200               True  \n0                   200              False  \n0                   200              False  \n\n[5 rows x 368 columns]",
      "text/html": "<div>\n<style scoped>\n    .dataframe tbody tr th:only-of-type {\n        vertical-align: middle;\n    }\n\n    .dataframe tbody tr th {\n        vertical-align: top;\n    }\n\n    .dataframe thead th {\n        text-align: right;\n    }\n</style>\n<table border=\"1\" class=\"dataframe\">\n  <thead>\n    <tr style=\"text-align: right;\">\n      <th></th>\n      <th>gameDuration</th>\n      <th>gameCreation</th>\n      <th>gameVersion</th>\n      <th>mapId</th>\n      <th>queueId</th>\n      <th>patch</th>\n      <th>seasonId</th>\n      <th>platformId</th>\n      <th>participant1_level</th>\n      <th>participant1_tier</th>\n      <th>...</th>\n      <th>participant10_champion_infoDefense</th>\n      <th>participant10_champion_infoMagic</th>\n      <th>participant10_champion_infoDifficulty</th>\n      <th>participant10_champion_tier</th>\n      <th>participant10_champion_win_rate</th>\n      <th>participant10_champion_pick_rate</th>\n      <th>participant10_champion_ban_rate</th>\n      <th>participant10_champion_matches</th>\n      <th>participant10_teamId</th>\n      <th>participant10_win</th>\n    </tr>\n  </thead>\n  <tbody>\n    <tr>\n      <th>0</th>\n      <td>1982</td>\n      <td>1696715184351</td>\n      <td>13.19.534.5972</td>\n      <td>11</td>\n      <td>420</td>\n      <td>19</td>\n      <td>13</td>\n      <td>EUW1</td>\n      <td>864</td>\n      <td>MASTER</td>\n      <td>...</td>\n      <td>2</td>\n      <td>7</td>\n      <td>10</td>\n      <td>D</td>\n      <td>46.80</td>\n      <td>12.7</td>\n      <td>12.7</td>\n      <td>9632</td>\n      <td>200</td>\n      <td>False</td>\n    </tr>\n    <tr>\n      <th>0</th>\n      <td>1446</td>\n      <td>1696175211836</td>\n      <td>13.19.533.1909</td>\n      <td>11</td>\n      <td>420</td>\n      <td>19</td>\n      <td>13</td>\n      <td>EUW1</td>\n      <td>196</td>\n      <td>MASTER</td>\n      <td>...</td>\n      <td>4</td>\n      <td>5</td>\n      <td>9</td>\n      <td>S</td>\n      <td>52.19</td>\n      <td>0.6</td>\n      <td>0.6</td>\n      <td>11217</td>\n      <td>200</td>\n      <td>False</td>\n    </tr>\n    <tr>\n      <th>0</th>\n      <td>1859</td>\n      <td>1697133998343</td>\n      <td>13.20.536.2230</td>\n      <td>11</td>\n      <td>420</td>\n      <td>20</td>\n      <td>13</td>\n      <td>EUW1</td>\n      <td>465</td>\n      <td>DIAMOND</td>\n      <td>...</td>\n      <td>5</td>\n      <td>7</td>\n      <td>3</td>\n      <td>S+</td>\n      <td>52.19</td>\n      <td>2.8</td>\n      <td>2.8</td>\n      <td>20275</td>\n      <td>200</td>\n      <td>True</td>\n    </tr>\n    <tr>\n      <th>0</th>\n      <td>1418</td>\n      <td>1697914083101</td>\n      <td>13.20.536.9576</td>\n      <td>11</td>\n      <td>420</td>\n      <td>20</td>\n      <td>13</td>\n      <td>EUW1</td>\n      <td>725</td>\n      <td>MASTER</td>\n      <td>...</td>\n      <td>5</td>\n      <td>3</td>\n      <td>6</td>\n      <td>D</td>\n      <td>48.23</td>\n      <td>16.1</td>\n      <td>16.1</td>\n      <td>92723</td>\n      <td>200</td>\n      <td>False</td>\n    </tr>\n    <tr>\n      <th>0</th>\n      <td>1800</td>\n      <td>1697564797120</td>\n      <td>13.20.536.2230</td>\n      <td>11</td>\n      <td>420</td>\n      <td>20</td>\n      <td>13</td>\n      <td>KR</td>\n      <td>110</td>\n      <td>MASTER</td>\n      <td>...</td>\n      <td>0</td>\n      <td>0</td>\n      <td>0</td>\n      <td>S</td>\n      <td>50.18</td>\n      <td>5.7</td>\n      <td>5.7</td>\n      <td>14487</td>\n      <td>200</td>\n      <td>False</td>\n    </tr>\n  </tbody>\n</table>\n<p>5 rows × 368 columns</p>\n</div>"
     },
     "execution_count": 7,
     "metadata": {},
     "output_type": "execute_result"
    }
   ],
   "source": [
    "df = clean.drop_wrong_data(df)\n",
    "df.head()"
   ],
   "metadata": {
    "collapsed": false,
    "ExecuteTime": {
     "end_time": "2023-11-13T16:24:13.659896900Z",
     "start_time": "2023-11-13T16:24:13.316722400Z"
    }
   }
  },
  {
   "cell_type": "code",
   "execution_count": 8,
   "outputs": [
    {
     "data": {
      "text/plain": "   gameDuration   gameCreation     gameVersion  mapId  queueId  patch  \\\n0          1982  1696715184351  13.19.534.5972     11      420     19   \n1          1446  1696175211836  13.19.533.1909     11      420     19   \n2          1859  1697133998343  13.20.536.2230     11      420     20   \n3          1418  1697914083101  13.20.536.9576     11      420     20   \n4          1800  1697564797120  13.20.536.2230     11      420     20   \n\n   seasonId platformId  participant1_level participant1_tier  ...  \\\n0        13       EUW1                 864            MASTER  ...   \n1        13       EUW1                 196            MASTER  ...   \n2        13       EUW1                 465           DIAMOND  ...   \n3        13       EUW1                 725            MASTER  ...   \n4        13         KR                 110            MASTER  ...   \n\n   participant10_champion_infoDefense  participant10_champion_infoMagic  \\\n0                                   2                                 7   \n1                                   4                                 5   \n2                                   5                                 7   \n3                                   5                                 3   \n4                                   0                                 0   \n\n   participant10_champion_infoDifficulty  participant10_champion_tier  \\\n0                                     10                            D   \n1                                      9                            S   \n2                                      3                           S+   \n3                                      6                            D   \n4                                      0                            S   \n\n   participant10_champion_win_rate  participant10_champion_pick_rate  \\\n0                            46.80                              12.7   \n1                            52.19                               0.6   \n2                            52.19                               2.8   \n3                            48.23                              16.1   \n4                            50.18                               5.7   \n\n   participant10_champion_ban_rate  participant10_champion_matches  \\\n0                             12.7                            9632   \n1                              0.6                           11217   \n2                              2.8                           20275   \n3                             16.1                           92723   \n4                              5.7                           14487   \n\n   participant10_teamId  participant10_win  \n0                   200              False  \n1                   200              False  \n2                   200               True  \n3                   200              False  \n4                   200              False  \n\n[5 rows x 368 columns]",
      "text/html": "<div>\n<style scoped>\n    .dataframe tbody tr th:only-of-type {\n        vertical-align: middle;\n    }\n\n    .dataframe tbody tr th {\n        vertical-align: top;\n    }\n\n    .dataframe thead th {\n        text-align: right;\n    }\n</style>\n<table border=\"1\" class=\"dataframe\">\n  <thead>\n    <tr style=\"text-align: right;\">\n      <th></th>\n      <th>gameDuration</th>\n      <th>gameCreation</th>\n      <th>gameVersion</th>\n      <th>mapId</th>\n      <th>queueId</th>\n      <th>patch</th>\n      <th>seasonId</th>\n      <th>platformId</th>\n      <th>participant1_level</th>\n      <th>participant1_tier</th>\n      <th>...</th>\n      <th>participant10_champion_infoDefense</th>\n      <th>participant10_champion_infoMagic</th>\n      <th>participant10_champion_infoDifficulty</th>\n      <th>participant10_champion_tier</th>\n      <th>participant10_champion_win_rate</th>\n      <th>participant10_champion_pick_rate</th>\n      <th>participant10_champion_ban_rate</th>\n      <th>participant10_champion_matches</th>\n      <th>participant10_teamId</th>\n      <th>participant10_win</th>\n    </tr>\n  </thead>\n  <tbody>\n    <tr>\n      <th>0</th>\n      <td>1982</td>\n      <td>1696715184351</td>\n      <td>13.19.534.5972</td>\n      <td>11</td>\n      <td>420</td>\n      <td>19</td>\n      <td>13</td>\n      <td>EUW1</td>\n      <td>864</td>\n      <td>MASTER</td>\n      <td>...</td>\n      <td>2</td>\n      <td>7</td>\n      <td>10</td>\n      <td>D</td>\n      <td>46.80</td>\n      <td>12.7</td>\n      <td>12.7</td>\n      <td>9632</td>\n      <td>200</td>\n      <td>False</td>\n    </tr>\n    <tr>\n      <th>1</th>\n      <td>1446</td>\n      <td>1696175211836</td>\n      <td>13.19.533.1909</td>\n      <td>11</td>\n      <td>420</td>\n      <td>19</td>\n      <td>13</td>\n      <td>EUW1</td>\n      <td>196</td>\n      <td>MASTER</td>\n      <td>...</td>\n      <td>4</td>\n      <td>5</td>\n      <td>9</td>\n      <td>S</td>\n      <td>52.19</td>\n      <td>0.6</td>\n      <td>0.6</td>\n      <td>11217</td>\n      <td>200</td>\n      <td>False</td>\n    </tr>\n    <tr>\n      <th>2</th>\n      <td>1859</td>\n      <td>1697133998343</td>\n      <td>13.20.536.2230</td>\n      <td>11</td>\n      <td>420</td>\n      <td>20</td>\n      <td>13</td>\n      <td>EUW1</td>\n      <td>465</td>\n      <td>DIAMOND</td>\n      <td>...</td>\n      <td>5</td>\n      <td>7</td>\n      <td>3</td>\n      <td>S+</td>\n      <td>52.19</td>\n      <td>2.8</td>\n      <td>2.8</td>\n      <td>20275</td>\n      <td>200</td>\n      <td>True</td>\n    </tr>\n    <tr>\n      <th>3</th>\n      <td>1418</td>\n      <td>1697914083101</td>\n      <td>13.20.536.9576</td>\n      <td>11</td>\n      <td>420</td>\n      <td>20</td>\n      <td>13</td>\n      <td>EUW1</td>\n      <td>725</td>\n      <td>MASTER</td>\n      <td>...</td>\n      <td>5</td>\n      <td>3</td>\n      <td>6</td>\n      <td>D</td>\n      <td>48.23</td>\n      <td>16.1</td>\n      <td>16.1</td>\n      <td>92723</td>\n      <td>200</td>\n      <td>False</td>\n    </tr>\n    <tr>\n      <th>4</th>\n      <td>1800</td>\n      <td>1697564797120</td>\n      <td>13.20.536.2230</td>\n      <td>11</td>\n      <td>420</td>\n      <td>20</td>\n      <td>13</td>\n      <td>KR</td>\n      <td>110</td>\n      <td>MASTER</td>\n      <td>...</td>\n      <td>0</td>\n      <td>0</td>\n      <td>0</td>\n      <td>S</td>\n      <td>50.18</td>\n      <td>5.7</td>\n      <td>5.7</td>\n      <td>14487</td>\n      <td>200</td>\n      <td>False</td>\n    </tr>\n  </tbody>\n</table>\n<p>5 rows × 368 columns</p>\n</div>"
     },
     "execution_count": 8,
     "metadata": {},
     "output_type": "execute_result"
    }
   ],
   "source": [
    "df.reset_index(drop=True, inplace=True)\n",
    "df.head()"
   ],
   "metadata": {
    "collapsed": false,
    "ExecuteTime": {
     "end_time": "2023-11-13T16:24:13.673418600Z",
     "start_time": "2023-11-13T16:24:13.658897Z"
    }
   }
  },
  {
   "cell_type": "code",
   "execution_count": 9,
   "outputs": [
    {
     "data": {
      "text/plain": "   gameDuration   gameCreation     gameVersion  mapId  queueId  patch  \\\n0          1982  1696715184351  13.19.534.5972     11      420     19   \n1          1446  1696175211836  13.19.533.1909     11      420     19   \n2          1859  1697133998343  13.20.536.2230     11      420     20   \n3          1418  1697914083101  13.20.536.9576     11      420     20   \n4          1800  1697564797120  13.20.536.2230     11      420     20   \n\n   seasonId platformId  participant1_level  participant1_tier  ...  \\\n0        13       EUW1                 864                7.1  ...   \n1        13       EUW1                 196                7.1  ...   \n2        13       EUW1                 465                6.2  ...   \n3        13       EUW1                 725                7.1  ...   \n4        13         KR                 110                7.1  ...   \n\n   participant10_champion_infoDefense  participant10_champion_infoMagic  \\\n0                                   2                                 7   \n1                                   4                                 5   \n2                                   5                                 7   \n3                                   5                                 3   \n4                                   0                                 0   \n\n   participant10_champion_infoDifficulty  participant10_champion_tier  \\\n0                                     10                            D   \n1                                      9                            S   \n2                                      3                           S+   \n3                                      6                            D   \n4                                      0                            S   \n\n   participant10_champion_win_rate  participant10_champion_pick_rate  \\\n0                            46.80                              12.7   \n1                            52.19                               0.6   \n2                            52.19                               2.8   \n3                            48.23                              16.1   \n4                            50.18                               5.7   \n\n   participant10_champion_ban_rate  participant10_champion_matches  \\\n0                             12.7                            9632   \n1                              0.6                           11217   \n2                              2.8                           20275   \n3                             16.1                           92723   \n4                              5.7                           14487   \n\n   participant10_teamId  participant10_win  \n0                   200              False  \n1                   200              False  \n2                   200               True  \n3                   200              False  \n4                   200              False  \n\n[5 rows x 358 columns]",
      "text/html": "<div>\n<style scoped>\n    .dataframe tbody tr th:only-of-type {\n        vertical-align: middle;\n    }\n\n    .dataframe tbody tr th {\n        vertical-align: top;\n    }\n\n    .dataframe thead th {\n        text-align: right;\n    }\n</style>\n<table border=\"1\" class=\"dataframe\">\n  <thead>\n    <tr style=\"text-align: right;\">\n      <th></th>\n      <th>gameDuration</th>\n      <th>gameCreation</th>\n      <th>gameVersion</th>\n      <th>mapId</th>\n      <th>queueId</th>\n      <th>patch</th>\n      <th>seasonId</th>\n      <th>platformId</th>\n      <th>participant1_level</th>\n      <th>participant1_tier</th>\n      <th>...</th>\n      <th>participant10_champion_infoDefense</th>\n      <th>participant10_champion_infoMagic</th>\n      <th>participant10_champion_infoDifficulty</th>\n      <th>participant10_champion_tier</th>\n      <th>participant10_champion_win_rate</th>\n      <th>participant10_champion_pick_rate</th>\n      <th>participant10_champion_ban_rate</th>\n      <th>participant10_champion_matches</th>\n      <th>participant10_teamId</th>\n      <th>participant10_win</th>\n    </tr>\n  </thead>\n  <tbody>\n    <tr>\n      <th>0</th>\n      <td>1982</td>\n      <td>1696715184351</td>\n      <td>13.19.534.5972</td>\n      <td>11</td>\n      <td>420</td>\n      <td>19</td>\n      <td>13</td>\n      <td>EUW1</td>\n      <td>864</td>\n      <td>7.1</td>\n      <td>...</td>\n      <td>2</td>\n      <td>7</td>\n      <td>10</td>\n      <td>D</td>\n      <td>46.80</td>\n      <td>12.7</td>\n      <td>12.7</td>\n      <td>9632</td>\n      <td>200</td>\n      <td>False</td>\n    </tr>\n    <tr>\n      <th>1</th>\n      <td>1446</td>\n      <td>1696175211836</td>\n      <td>13.19.533.1909</td>\n      <td>11</td>\n      <td>420</td>\n      <td>19</td>\n      <td>13</td>\n      <td>EUW1</td>\n      <td>196</td>\n      <td>7.1</td>\n      <td>...</td>\n      <td>4</td>\n      <td>5</td>\n      <td>9</td>\n      <td>S</td>\n      <td>52.19</td>\n      <td>0.6</td>\n      <td>0.6</td>\n      <td>11217</td>\n      <td>200</td>\n      <td>False</td>\n    </tr>\n    <tr>\n      <th>2</th>\n      <td>1859</td>\n      <td>1697133998343</td>\n      <td>13.20.536.2230</td>\n      <td>11</td>\n      <td>420</td>\n      <td>20</td>\n      <td>13</td>\n      <td>EUW1</td>\n      <td>465</td>\n      <td>6.2</td>\n      <td>...</td>\n      <td>5</td>\n      <td>7</td>\n      <td>3</td>\n      <td>S+</td>\n      <td>52.19</td>\n      <td>2.8</td>\n      <td>2.8</td>\n      <td>20275</td>\n      <td>200</td>\n      <td>True</td>\n    </tr>\n    <tr>\n      <th>3</th>\n      <td>1418</td>\n      <td>1697914083101</td>\n      <td>13.20.536.9576</td>\n      <td>11</td>\n      <td>420</td>\n      <td>20</td>\n      <td>13</td>\n      <td>EUW1</td>\n      <td>725</td>\n      <td>7.1</td>\n      <td>...</td>\n      <td>5</td>\n      <td>3</td>\n      <td>6</td>\n      <td>D</td>\n      <td>48.23</td>\n      <td>16.1</td>\n      <td>16.1</td>\n      <td>92723</td>\n      <td>200</td>\n      <td>False</td>\n    </tr>\n    <tr>\n      <th>4</th>\n      <td>1800</td>\n      <td>1697564797120</td>\n      <td>13.20.536.2230</td>\n      <td>11</td>\n      <td>420</td>\n      <td>20</td>\n      <td>13</td>\n      <td>KR</td>\n      <td>110</td>\n      <td>7.1</td>\n      <td>...</td>\n      <td>0</td>\n      <td>0</td>\n      <td>0</td>\n      <td>S</td>\n      <td>50.18</td>\n      <td>5.7</td>\n      <td>5.7</td>\n      <td>14487</td>\n      <td>200</td>\n      <td>False</td>\n    </tr>\n  </tbody>\n</table>\n<p>5 rows × 358 columns</p>\n</div>"
     },
     "execution_count": 9,
     "metadata": {},
     "output_type": "execute_result"
    }
   ],
   "source": [
    "df = clean.fix_rank(df)\n",
    "df.head()"
   ],
   "metadata": {
    "collapsed": false,
    "ExecuteTime": {
     "end_time": "2023-11-13T16:24:18.054684300Z",
     "start_time": "2023-11-13T16:24:13.675419100Z"
    }
   }
  },
  {
   "cell_type": "code",
   "execution_count": 10,
   "outputs": [
    {
     "data": {
      "text/plain": "   gameDuration   gameCreation     gameVersion  mapId  queueId  patch  \\\n0          1982  1696715184351  13.19.534.5972     11      420     19   \n1          1446  1696175211836  13.19.533.1909     11      420     19   \n2          1859  1697133998343  13.20.536.2230     11      420     20   \n3          1418  1697914083101  13.20.536.9576     11      420     20   \n4          1800  1697564797120  13.20.536.2230     11      420     20   \n\n   seasonId platformId  participant1_level  participant1_tier  ...  \\\n0        13       EUW1                 864                7.1  ...   \n1        13       EUW1                 196                7.1  ...   \n2        13       EUW1                 465                6.2  ...   \n3        13       EUW1                 725                7.1  ...   \n4        13         KR                 110                7.1  ...   \n\n   participant1_winrate  participant2_winrate  participant3_winrate  \\\n0              0.520833              0.530488              0.532895   \n1              0.513308              0.556911              0.567442   \n2              0.488525              0.483871              0.496241   \n3              0.520581              0.554545              0.564024   \n4              0.518868              0.527304              0.833333   \n\n   participant4_winrate  participant5_winrate  participant6_winrate  \\\n0              0.510417              0.517986              0.525597   \n1              0.522831              0.564220              0.538217   \n2              0.571429              0.500000              0.496479   \n3              0.551515              0.583333              0.509004   \n4              0.536810              0.523529              0.513869   \n\n   participant7_winrate  participant8_winrate  participant9_winrate  \\\n0              0.491667              0.549020              0.497268   \n1              0.536458              0.541063              0.542683   \n2              0.440000              0.628571              0.493506   \n3              0.522388              0.523967              0.598214   \n4              0.512535              0.565891              0.544304   \n\n   participant10_winrate  \n0               0.470588  \n1               0.548736  \n2               0.564935  \n3               0.547368  \n4               0.510453  \n\n[5 rows x 348 columns]",
      "text/html": "<div>\n<style scoped>\n    .dataframe tbody tr th:only-of-type {\n        vertical-align: middle;\n    }\n\n    .dataframe tbody tr th {\n        vertical-align: top;\n    }\n\n    .dataframe thead th {\n        text-align: right;\n    }\n</style>\n<table border=\"1\" class=\"dataframe\">\n  <thead>\n    <tr style=\"text-align: right;\">\n      <th></th>\n      <th>gameDuration</th>\n      <th>gameCreation</th>\n      <th>gameVersion</th>\n      <th>mapId</th>\n      <th>queueId</th>\n      <th>patch</th>\n      <th>seasonId</th>\n      <th>platformId</th>\n      <th>participant1_level</th>\n      <th>participant1_tier</th>\n      <th>...</th>\n      <th>participant1_winrate</th>\n      <th>participant2_winrate</th>\n      <th>participant3_winrate</th>\n      <th>participant4_winrate</th>\n      <th>participant5_winrate</th>\n      <th>participant6_winrate</th>\n      <th>participant7_winrate</th>\n      <th>participant8_winrate</th>\n      <th>participant9_winrate</th>\n      <th>participant10_winrate</th>\n    </tr>\n  </thead>\n  <tbody>\n    <tr>\n      <th>0</th>\n      <td>1982</td>\n      <td>1696715184351</td>\n      <td>13.19.534.5972</td>\n      <td>11</td>\n      <td>420</td>\n      <td>19</td>\n      <td>13</td>\n      <td>EUW1</td>\n      <td>864</td>\n      <td>7.1</td>\n      <td>...</td>\n      <td>0.520833</td>\n      <td>0.530488</td>\n      <td>0.532895</td>\n      <td>0.510417</td>\n      <td>0.517986</td>\n      <td>0.525597</td>\n      <td>0.491667</td>\n      <td>0.549020</td>\n      <td>0.497268</td>\n      <td>0.470588</td>\n    </tr>\n    <tr>\n      <th>1</th>\n      <td>1446</td>\n      <td>1696175211836</td>\n      <td>13.19.533.1909</td>\n      <td>11</td>\n      <td>420</td>\n      <td>19</td>\n      <td>13</td>\n      <td>EUW1</td>\n      <td>196</td>\n      <td>7.1</td>\n      <td>...</td>\n      <td>0.513308</td>\n      <td>0.556911</td>\n      <td>0.567442</td>\n      <td>0.522831</td>\n      <td>0.564220</td>\n      <td>0.538217</td>\n      <td>0.536458</td>\n      <td>0.541063</td>\n      <td>0.542683</td>\n      <td>0.548736</td>\n    </tr>\n    <tr>\n      <th>2</th>\n      <td>1859</td>\n      <td>1697133998343</td>\n      <td>13.20.536.2230</td>\n      <td>11</td>\n      <td>420</td>\n      <td>20</td>\n      <td>13</td>\n      <td>EUW1</td>\n      <td>465</td>\n      <td>6.2</td>\n      <td>...</td>\n      <td>0.488525</td>\n      <td>0.483871</td>\n      <td>0.496241</td>\n      <td>0.571429</td>\n      <td>0.500000</td>\n      <td>0.496479</td>\n      <td>0.440000</td>\n      <td>0.628571</td>\n      <td>0.493506</td>\n      <td>0.564935</td>\n    </tr>\n    <tr>\n      <th>3</th>\n      <td>1418</td>\n      <td>1697914083101</td>\n      <td>13.20.536.9576</td>\n      <td>11</td>\n      <td>420</td>\n      <td>20</td>\n      <td>13</td>\n      <td>EUW1</td>\n      <td>725</td>\n      <td>7.1</td>\n      <td>...</td>\n      <td>0.520581</td>\n      <td>0.554545</td>\n      <td>0.564024</td>\n      <td>0.551515</td>\n      <td>0.583333</td>\n      <td>0.509004</td>\n      <td>0.522388</td>\n      <td>0.523967</td>\n      <td>0.598214</td>\n      <td>0.547368</td>\n    </tr>\n    <tr>\n      <th>4</th>\n      <td>1800</td>\n      <td>1697564797120</td>\n      <td>13.20.536.2230</td>\n      <td>11</td>\n      <td>420</td>\n      <td>20</td>\n      <td>13</td>\n      <td>KR</td>\n      <td>110</td>\n      <td>7.1</td>\n      <td>...</td>\n      <td>0.518868</td>\n      <td>0.527304</td>\n      <td>0.833333</td>\n      <td>0.536810</td>\n      <td>0.523529</td>\n      <td>0.513869</td>\n      <td>0.512535</td>\n      <td>0.565891</td>\n      <td>0.544304</td>\n      <td>0.510453</td>\n    </tr>\n  </tbody>\n</table>\n<p>5 rows × 348 columns</p>\n</div>"
     },
     "execution_count": 10,
     "metadata": {},
     "output_type": "execute_result"
    }
   ],
   "source": [
    "df = clean.calc_winrate(df)\n",
    "df.head()"
   ],
   "metadata": {
    "collapsed": false,
    "ExecuteTime": {
     "end_time": "2023-11-13T16:24:18.591298800Z",
     "start_time": "2023-11-13T16:24:18.044683600Z"
    }
   }
  },
  {
   "cell_type": "code",
   "execution_count": 11,
   "outputs": [
    {
     "data": {
      "text/plain": "   gameDuration   gameCreation     gameVersion  mapId  queueId  patch  \\\n0          1982  1696715184351  13.19.534.5972     11      420     19   \n1          1446  1696175211836  13.19.533.1909     11      420     19   \n2          1859  1697133998343  13.20.536.2230     11      420     20   \n3          1418  1697914083101  13.20.536.9576     11      420     20   \n4          1800  1697564797120  13.20.536.2230     11      420     20   \n\n   seasonId platformId  participant1_level  participant1_tier  ...  \\\n0        13       EUW1                 864                7.1  ...   \n1        13       EUW1                 196                7.1  ...   \n2        13       EUW1                 465                6.2  ...   \n3        13       EUW1                 725                7.1  ...   \n4        13         KR                 110                7.1  ...   \n\n   participant1_winrate  participant2_winrate  participant3_winrate  \\\n0              0.520833              0.530488              0.532895   \n1              0.513308              0.556911              0.567442   \n2              0.488525              0.483871              0.496241   \n3              0.520581              0.554545              0.564024   \n4              0.518868              0.527304              0.833333   \n\n   participant4_winrate  participant5_winrate  participant6_winrate  \\\n0              0.510417              0.517986              0.525597   \n1              0.522831              0.564220              0.538217   \n2              0.571429              0.500000              0.496479   \n3              0.551515              0.583333              0.509004   \n4              0.536810              0.523529              0.513869   \n\n   participant7_winrate  participant8_winrate  participant9_winrate  \\\n0              0.491667              0.549020              0.497268   \n1              0.536458              0.541063              0.542683   \n2              0.440000              0.628571              0.493506   \n3              0.522388              0.523967              0.598214   \n4              0.512535              0.565891              0.544304   \n\n   participant10_winrate  \n0               0.470588  \n1               0.548736  \n2               0.564935  \n3               0.547368  \n4               0.510453  \n\n[5 rows x 348 columns]",
      "text/html": "<div>\n<style scoped>\n    .dataframe tbody tr th:only-of-type {\n        vertical-align: middle;\n    }\n\n    .dataframe tbody tr th {\n        vertical-align: top;\n    }\n\n    .dataframe thead th {\n        text-align: right;\n    }\n</style>\n<table border=\"1\" class=\"dataframe\">\n  <thead>\n    <tr style=\"text-align: right;\">\n      <th></th>\n      <th>gameDuration</th>\n      <th>gameCreation</th>\n      <th>gameVersion</th>\n      <th>mapId</th>\n      <th>queueId</th>\n      <th>patch</th>\n      <th>seasonId</th>\n      <th>platformId</th>\n      <th>participant1_level</th>\n      <th>participant1_tier</th>\n      <th>...</th>\n      <th>participant1_winrate</th>\n      <th>participant2_winrate</th>\n      <th>participant3_winrate</th>\n      <th>participant4_winrate</th>\n      <th>participant5_winrate</th>\n      <th>participant6_winrate</th>\n      <th>participant7_winrate</th>\n      <th>participant8_winrate</th>\n      <th>participant9_winrate</th>\n      <th>participant10_winrate</th>\n    </tr>\n  </thead>\n  <tbody>\n    <tr>\n      <th>0</th>\n      <td>1982</td>\n      <td>1696715184351</td>\n      <td>13.19.534.5972</td>\n      <td>11</td>\n      <td>420</td>\n      <td>19</td>\n      <td>13</td>\n      <td>EUW1</td>\n      <td>864</td>\n      <td>7.1</td>\n      <td>...</td>\n      <td>0.520833</td>\n      <td>0.530488</td>\n      <td>0.532895</td>\n      <td>0.510417</td>\n      <td>0.517986</td>\n      <td>0.525597</td>\n      <td>0.491667</td>\n      <td>0.549020</td>\n      <td>0.497268</td>\n      <td>0.470588</td>\n    </tr>\n    <tr>\n      <th>1</th>\n      <td>1446</td>\n      <td>1696175211836</td>\n      <td>13.19.533.1909</td>\n      <td>11</td>\n      <td>420</td>\n      <td>19</td>\n      <td>13</td>\n      <td>EUW1</td>\n      <td>196</td>\n      <td>7.1</td>\n      <td>...</td>\n      <td>0.513308</td>\n      <td>0.556911</td>\n      <td>0.567442</td>\n      <td>0.522831</td>\n      <td>0.564220</td>\n      <td>0.538217</td>\n      <td>0.536458</td>\n      <td>0.541063</td>\n      <td>0.542683</td>\n      <td>0.548736</td>\n    </tr>\n    <tr>\n      <th>2</th>\n      <td>1859</td>\n      <td>1697133998343</td>\n      <td>13.20.536.2230</td>\n      <td>11</td>\n      <td>420</td>\n      <td>20</td>\n      <td>13</td>\n      <td>EUW1</td>\n      <td>465</td>\n      <td>6.2</td>\n      <td>...</td>\n      <td>0.488525</td>\n      <td>0.483871</td>\n      <td>0.496241</td>\n      <td>0.571429</td>\n      <td>0.500000</td>\n      <td>0.496479</td>\n      <td>0.440000</td>\n      <td>0.628571</td>\n      <td>0.493506</td>\n      <td>0.564935</td>\n    </tr>\n    <tr>\n      <th>3</th>\n      <td>1418</td>\n      <td>1697914083101</td>\n      <td>13.20.536.9576</td>\n      <td>11</td>\n      <td>420</td>\n      <td>20</td>\n      <td>13</td>\n      <td>EUW1</td>\n      <td>725</td>\n      <td>7.1</td>\n      <td>...</td>\n      <td>0.520581</td>\n      <td>0.554545</td>\n      <td>0.564024</td>\n      <td>0.551515</td>\n      <td>0.583333</td>\n      <td>0.509004</td>\n      <td>0.522388</td>\n      <td>0.523967</td>\n      <td>0.598214</td>\n      <td>0.547368</td>\n    </tr>\n    <tr>\n      <th>4</th>\n      <td>1800</td>\n      <td>1697564797120</td>\n      <td>13.20.536.2230</td>\n      <td>11</td>\n      <td>420</td>\n      <td>20</td>\n      <td>13</td>\n      <td>KR</td>\n      <td>110</td>\n      <td>7.1</td>\n      <td>...</td>\n      <td>0.518868</td>\n      <td>0.527304</td>\n      <td>0.833333</td>\n      <td>0.536810</td>\n      <td>0.523529</td>\n      <td>0.513869</td>\n      <td>0.512535</td>\n      <td>0.565891</td>\n      <td>0.544304</td>\n      <td>0.510453</td>\n    </tr>\n  </tbody>\n</table>\n<p>5 rows × 348 columns</p>\n</div>"
     },
     "execution_count": 11,
     "metadata": {},
     "output_type": "execute_result"
    }
   ],
   "source": [
    "df = clean.fix_teamId(df)\n",
    "df.head()"
   ],
   "metadata": {
    "collapsed": false,
    "ExecuteTime": {
     "end_time": "2023-11-13T16:24:18.724175600Z",
     "start_time": "2023-11-13T16:24:18.577217500Z"
    }
   }
  },
  {
   "cell_type": "code",
   "execution_count": 12,
   "outputs": [
    {
     "data": {
      "text/plain": "   gameDuration   gameCreation     gameVersion  mapId  queueId  patch  \\\n0          1982  1696715184351  13.19.534.5972     11      420     19   \n1          1446  1696175211836  13.19.533.1909     11      420     19   \n2          1859  1697133998343  13.20.536.2230     11      420     20   \n3          1418  1697914083101  13.20.536.9576     11      420     20   \n4          1800  1697564797120  13.20.536.2230     11      420     20   \n\n   seasonId platformId  participant1_level  participant1_tier  ...  \\\n0        13       EUW1                 864                7.1  ...   \n1        13       EUW1                 196                7.1  ...   \n2        13       EUW1                 465                6.2  ...   \n3        13       EUW1                 725                7.1  ...   \n4        13         KR                 110                7.1  ...   \n\n   participant1_winrate  participant2_winrate  participant3_winrate  \\\n0              0.520833              0.530488              0.532895   \n1              0.513308              0.556911              0.567442   \n2              0.488525              0.483871              0.496241   \n3              0.520581              0.554545              0.564024   \n4              0.518868              0.527304              0.833333   \n\n   participant4_winrate  participant5_winrate  participant6_winrate  \\\n0              0.510417              0.517986              0.525597   \n1              0.522831              0.564220              0.538217   \n2              0.571429              0.500000              0.496479   \n3              0.551515              0.583333              0.509004   \n4              0.536810              0.523529              0.513869   \n\n   participant7_winrate  participant8_winrate  participant9_winrate  \\\n0              0.491667              0.549020              0.497268   \n1              0.536458              0.541063              0.542683   \n2              0.440000              0.628571              0.493506   \n3              0.522388              0.523967              0.598214   \n4              0.512535              0.565891              0.544304   \n\n   participant10_winrate  \n0               0.470588  \n1               0.548736  \n2               0.564935  \n3               0.547368  \n4               0.510453  \n\n[5 rows x 348 columns]",
      "text/html": "<div>\n<style scoped>\n    .dataframe tbody tr th:only-of-type {\n        vertical-align: middle;\n    }\n\n    .dataframe tbody tr th {\n        vertical-align: top;\n    }\n\n    .dataframe thead th {\n        text-align: right;\n    }\n</style>\n<table border=\"1\" class=\"dataframe\">\n  <thead>\n    <tr style=\"text-align: right;\">\n      <th></th>\n      <th>gameDuration</th>\n      <th>gameCreation</th>\n      <th>gameVersion</th>\n      <th>mapId</th>\n      <th>queueId</th>\n      <th>patch</th>\n      <th>seasonId</th>\n      <th>platformId</th>\n      <th>participant1_level</th>\n      <th>participant1_tier</th>\n      <th>...</th>\n      <th>participant1_winrate</th>\n      <th>participant2_winrate</th>\n      <th>participant3_winrate</th>\n      <th>participant4_winrate</th>\n      <th>participant5_winrate</th>\n      <th>participant6_winrate</th>\n      <th>participant7_winrate</th>\n      <th>participant8_winrate</th>\n      <th>participant9_winrate</th>\n      <th>participant10_winrate</th>\n    </tr>\n  </thead>\n  <tbody>\n    <tr>\n      <th>0</th>\n      <td>1982</td>\n      <td>1696715184351</td>\n      <td>13.19.534.5972</td>\n      <td>11</td>\n      <td>420</td>\n      <td>19</td>\n      <td>13</td>\n      <td>EUW1</td>\n      <td>864</td>\n      <td>7.1</td>\n      <td>...</td>\n      <td>0.520833</td>\n      <td>0.530488</td>\n      <td>0.532895</td>\n      <td>0.510417</td>\n      <td>0.517986</td>\n      <td>0.525597</td>\n      <td>0.491667</td>\n      <td>0.549020</td>\n      <td>0.497268</td>\n      <td>0.470588</td>\n    </tr>\n    <tr>\n      <th>1</th>\n      <td>1446</td>\n      <td>1696175211836</td>\n      <td>13.19.533.1909</td>\n      <td>11</td>\n      <td>420</td>\n      <td>19</td>\n      <td>13</td>\n      <td>EUW1</td>\n      <td>196</td>\n      <td>7.1</td>\n      <td>...</td>\n      <td>0.513308</td>\n      <td>0.556911</td>\n      <td>0.567442</td>\n      <td>0.522831</td>\n      <td>0.564220</td>\n      <td>0.538217</td>\n      <td>0.536458</td>\n      <td>0.541063</td>\n      <td>0.542683</td>\n      <td>0.548736</td>\n    </tr>\n    <tr>\n      <th>2</th>\n      <td>1859</td>\n      <td>1697133998343</td>\n      <td>13.20.536.2230</td>\n      <td>11</td>\n      <td>420</td>\n      <td>20</td>\n      <td>13</td>\n      <td>EUW1</td>\n      <td>465</td>\n      <td>6.2</td>\n      <td>...</td>\n      <td>0.488525</td>\n      <td>0.483871</td>\n      <td>0.496241</td>\n      <td>0.571429</td>\n      <td>0.500000</td>\n      <td>0.496479</td>\n      <td>0.440000</td>\n      <td>0.628571</td>\n      <td>0.493506</td>\n      <td>0.564935</td>\n    </tr>\n    <tr>\n      <th>3</th>\n      <td>1418</td>\n      <td>1697914083101</td>\n      <td>13.20.536.9576</td>\n      <td>11</td>\n      <td>420</td>\n      <td>20</td>\n      <td>13</td>\n      <td>EUW1</td>\n      <td>725</td>\n      <td>7.1</td>\n      <td>...</td>\n      <td>0.520581</td>\n      <td>0.554545</td>\n      <td>0.564024</td>\n      <td>0.551515</td>\n      <td>0.583333</td>\n      <td>0.509004</td>\n      <td>0.522388</td>\n      <td>0.523967</td>\n      <td>0.598214</td>\n      <td>0.547368</td>\n    </tr>\n    <tr>\n      <th>4</th>\n      <td>1800</td>\n      <td>1697564797120</td>\n      <td>13.20.536.2230</td>\n      <td>11</td>\n      <td>420</td>\n      <td>20</td>\n      <td>13</td>\n      <td>KR</td>\n      <td>110</td>\n      <td>7.1</td>\n      <td>...</td>\n      <td>0.518868</td>\n      <td>0.527304</td>\n      <td>0.833333</td>\n      <td>0.536810</td>\n      <td>0.523529</td>\n      <td>0.513869</td>\n      <td>0.512535</td>\n      <td>0.565891</td>\n      <td>0.544304</td>\n      <td>0.510453</td>\n    </tr>\n  </tbody>\n</table>\n<p>5 rows × 348 columns</p>\n</div>"
     },
     "execution_count": 12,
     "metadata": {},
     "output_type": "execute_result"
    }
   ],
   "source": [
    "df = clean.convert_booleans(df)\n",
    "df.head()"
   ],
   "metadata": {
    "collapsed": false,
    "ExecuteTime": {
     "end_time": "2023-11-13T16:24:19.741267600Z",
     "start_time": "2023-11-13T16:24:18.691073100Z"
    }
   }
  },
  {
   "cell_type": "code",
   "execution_count": 13,
   "outputs": [
    {
     "data": {
      "text/plain": "   gameDuration   gameCreation     gameVersion  mapId  queueId  patch  \\\n0          1982  1696715184351  13.19.534.5972     11      420     19   \n1          1446  1696175211836  13.19.533.1909     11      420     19   \n2          1859  1697133998343  13.20.536.2230     11      420     20   \n3          1418  1697914083101  13.20.536.9576     11      420     20   \n4          1800  1697564797120  13.20.536.2230     11      420     20   \n\n   seasonId platformId  participant1_level  participant1_tier  ...  \\\n0        13       EUW1                 864                7.1  ...   \n1        13       EUW1                 196                7.1  ...   \n2        13       EUW1                 465                6.2  ...   \n3        13       EUW1                 725                7.1  ...   \n4        13         KR                 110                7.1  ...   \n\n   participant1_winrate  participant2_winrate  participant3_winrate  \\\n0              0.520833              0.530488              0.532895   \n1              0.513308              0.556911              0.567442   \n2              0.488525              0.483871              0.496241   \n3              0.520581              0.554545              0.564024   \n4              0.518868              0.527304              0.833333   \n\n   participant4_winrate  participant5_winrate  participant6_winrate  \\\n0              0.510417              0.517986              0.525597   \n1              0.522831              0.564220              0.538217   \n2              0.571429              0.500000              0.496479   \n3              0.551515              0.583333              0.509004   \n4              0.536810              0.523529              0.513869   \n\n   participant7_winrate  participant8_winrate  participant9_winrate  \\\n0              0.491667              0.549020              0.497268   \n1              0.536458              0.541063              0.542683   \n2              0.440000              0.628571              0.493506   \n3              0.522388              0.523967              0.598214   \n4              0.512535              0.565891              0.544304   \n\n   participant10_winrate  \n0               0.470588  \n1               0.548736  \n2               0.564935  \n3               0.547368  \n4               0.510453  \n\n[5 rows x 348 columns]",
      "text/html": "<div>\n<style scoped>\n    .dataframe tbody tr th:only-of-type {\n        vertical-align: middle;\n    }\n\n    .dataframe tbody tr th {\n        vertical-align: top;\n    }\n\n    .dataframe thead th {\n        text-align: right;\n    }\n</style>\n<table border=\"1\" class=\"dataframe\">\n  <thead>\n    <tr style=\"text-align: right;\">\n      <th></th>\n      <th>gameDuration</th>\n      <th>gameCreation</th>\n      <th>gameVersion</th>\n      <th>mapId</th>\n      <th>queueId</th>\n      <th>patch</th>\n      <th>seasonId</th>\n      <th>platformId</th>\n      <th>participant1_level</th>\n      <th>participant1_tier</th>\n      <th>...</th>\n      <th>participant1_winrate</th>\n      <th>participant2_winrate</th>\n      <th>participant3_winrate</th>\n      <th>participant4_winrate</th>\n      <th>participant5_winrate</th>\n      <th>participant6_winrate</th>\n      <th>participant7_winrate</th>\n      <th>participant8_winrate</th>\n      <th>participant9_winrate</th>\n      <th>participant10_winrate</th>\n    </tr>\n  </thead>\n  <tbody>\n    <tr>\n      <th>0</th>\n      <td>1982</td>\n      <td>1696715184351</td>\n      <td>13.19.534.5972</td>\n      <td>11</td>\n      <td>420</td>\n      <td>19</td>\n      <td>13</td>\n      <td>EUW1</td>\n      <td>864</td>\n      <td>7.1</td>\n      <td>...</td>\n      <td>0.520833</td>\n      <td>0.530488</td>\n      <td>0.532895</td>\n      <td>0.510417</td>\n      <td>0.517986</td>\n      <td>0.525597</td>\n      <td>0.491667</td>\n      <td>0.549020</td>\n      <td>0.497268</td>\n      <td>0.470588</td>\n    </tr>\n    <tr>\n      <th>1</th>\n      <td>1446</td>\n      <td>1696175211836</td>\n      <td>13.19.533.1909</td>\n      <td>11</td>\n      <td>420</td>\n      <td>19</td>\n      <td>13</td>\n      <td>EUW1</td>\n      <td>196</td>\n      <td>7.1</td>\n      <td>...</td>\n      <td>0.513308</td>\n      <td>0.556911</td>\n      <td>0.567442</td>\n      <td>0.522831</td>\n      <td>0.564220</td>\n      <td>0.538217</td>\n      <td>0.536458</td>\n      <td>0.541063</td>\n      <td>0.542683</td>\n      <td>0.548736</td>\n    </tr>\n    <tr>\n      <th>2</th>\n      <td>1859</td>\n      <td>1697133998343</td>\n      <td>13.20.536.2230</td>\n      <td>11</td>\n      <td>420</td>\n      <td>20</td>\n      <td>13</td>\n      <td>EUW1</td>\n      <td>465</td>\n      <td>6.2</td>\n      <td>...</td>\n      <td>0.488525</td>\n      <td>0.483871</td>\n      <td>0.496241</td>\n      <td>0.571429</td>\n      <td>0.500000</td>\n      <td>0.496479</td>\n      <td>0.440000</td>\n      <td>0.628571</td>\n      <td>0.493506</td>\n      <td>0.564935</td>\n    </tr>\n    <tr>\n      <th>3</th>\n      <td>1418</td>\n      <td>1697914083101</td>\n      <td>13.20.536.9576</td>\n      <td>11</td>\n      <td>420</td>\n      <td>20</td>\n      <td>13</td>\n      <td>EUW1</td>\n      <td>725</td>\n      <td>7.1</td>\n      <td>...</td>\n      <td>0.520581</td>\n      <td>0.554545</td>\n      <td>0.564024</td>\n      <td>0.551515</td>\n      <td>0.583333</td>\n      <td>0.509004</td>\n      <td>0.522388</td>\n      <td>0.523967</td>\n      <td>0.598214</td>\n      <td>0.547368</td>\n    </tr>\n    <tr>\n      <th>4</th>\n      <td>1800</td>\n      <td>1697564797120</td>\n      <td>13.20.536.2230</td>\n      <td>11</td>\n      <td>420</td>\n      <td>20</td>\n      <td>13</td>\n      <td>KR</td>\n      <td>110</td>\n      <td>7.1</td>\n      <td>...</td>\n      <td>0.518868</td>\n      <td>0.527304</td>\n      <td>0.833333</td>\n      <td>0.536810</td>\n      <td>0.523529</td>\n      <td>0.513869</td>\n      <td>0.512535</td>\n      <td>0.565891</td>\n      <td>0.544304</td>\n      <td>0.510453</td>\n    </tr>\n  </tbody>\n</table>\n<p>5 rows × 348 columns</p>\n</div>"
     },
     "execution_count": 13,
     "metadata": {},
     "output_type": "execute_result"
    }
   ],
   "source": [
    "df = clean.convert_lastPlayTime(df)\n",
    "df.head()"
   ],
   "metadata": {
    "collapsed": false,
    "ExecuteTime": {
     "end_time": "2023-11-13T16:24:20.159022600Z",
     "start_time": "2023-11-13T16:24:19.728268500Z"
    }
   }
  },
  {
   "cell_type": "code",
   "execution_count": 14,
   "outputs": [
    {
     "data": {
      "text/plain": "   gameDuration   gameCreation     gameVersion  mapId  queueId  patch  \\\n0          1982  1696715184351  13.19.534.5972     11      420     19   \n1          1446  1696175211836  13.19.533.1909     11      420     19   \n2          1859  1697133998343  13.20.536.2230     11      420     20   \n3          1418  1697914083101  13.20.536.9576     11      420     20   \n4          1800  1697564797120  13.20.536.2230     11      420     20   \n\n   seasonId platformId  participant1_level  participant1_tier  ...  \\\n0        13       EUW1                 864                7.1  ...   \n1        13       EUW1                 196                7.1  ...   \n2        13       EUW1                 465                6.2  ...   \n3        13       EUW1                 725                7.1  ...   \n4        13         KR                 110                7.1  ...   \n\n   participant1_winrate  participant2_winrate  participant3_winrate  \\\n0              0.520833              0.530488              0.532895   \n1              0.513308              0.556911              0.567442   \n2              0.488525              0.483871              0.496241   \n3              0.520581              0.554545              0.564024   \n4              0.518868              0.527304              0.833333   \n\n   participant4_winrate  participant5_winrate  participant6_winrate  \\\n0              0.510417              0.517986              0.525597   \n1              0.522831              0.564220              0.538217   \n2              0.571429              0.500000              0.496479   \n3              0.551515              0.583333              0.509004   \n4              0.536810              0.523529              0.513869   \n\n   participant7_winrate  participant8_winrate  participant9_winrate  \\\n0              0.491667              0.549020              0.497268   \n1              0.536458              0.541063              0.542683   \n2              0.440000              0.628571              0.493506   \n3              0.522388              0.523967              0.598214   \n4              0.512535              0.565891              0.544304   \n\n   participant10_winrate  \n0               0.470588  \n1               0.548736  \n2               0.564935  \n3               0.547368  \n4               0.510453  \n\n[5 rows x 348 columns]",
      "text/html": "<div>\n<style scoped>\n    .dataframe tbody tr th:only-of-type {\n        vertical-align: middle;\n    }\n\n    .dataframe tbody tr th {\n        vertical-align: top;\n    }\n\n    .dataframe thead th {\n        text-align: right;\n    }\n</style>\n<table border=\"1\" class=\"dataframe\">\n  <thead>\n    <tr style=\"text-align: right;\">\n      <th></th>\n      <th>gameDuration</th>\n      <th>gameCreation</th>\n      <th>gameVersion</th>\n      <th>mapId</th>\n      <th>queueId</th>\n      <th>patch</th>\n      <th>seasonId</th>\n      <th>platformId</th>\n      <th>participant1_level</th>\n      <th>participant1_tier</th>\n      <th>...</th>\n      <th>participant1_winrate</th>\n      <th>participant2_winrate</th>\n      <th>participant3_winrate</th>\n      <th>participant4_winrate</th>\n      <th>participant5_winrate</th>\n      <th>participant6_winrate</th>\n      <th>participant7_winrate</th>\n      <th>participant8_winrate</th>\n      <th>participant9_winrate</th>\n      <th>participant10_winrate</th>\n    </tr>\n  </thead>\n  <tbody>\n    <tr>\n      <th>0</th>\n      <td>1982</td>\n      <td>1696715184351</td>\n      <td>13.19.534.5972</td>\n      <td>11</td>\n      <td>420</td>\n      <td>19</td>\n      <td>13</td>\n      <td>EUW1</td>\n      <td>864</td>\n      <td>7.1</td>\n      <td>...</td>\n      <td>0.520833</td>\n      <td>0.530488</td>\n      <td>0.532895</td>\n      <td>0.510417</td>\n      <td>0.517986</td>\n      <td>0.525597</td>\n      <td>0.491667</td>\n      <td>0.549020</td>\n      <td>0.497268</td>\n      <td>0.470588</td>\n    </tr>\n    <tr>\n      <th>1</th>\n      <td>1446</td>\n      <td>1696175211836</td>\n      <td>13.19.533.1909</td>\n      <td>11</td>\n      <td>420</td>\n      <td>19</td>\n      <td>13</td>\n      <td>EUW1</td>\n      <td>196</td>\n      <td>7.1</td>\n      <td>...</td>\n      <td>0.513308</td>\n      <td>0.556911</td>\n      <td>0.567442</td>\n      <td>0.522831</td>\n      <td>0.564220</td>\n      <td>0.538217</td>\n      <td>0.536458</td>\n      <td>0.541063</td>\n      <td>0.542683</td>\n      <td>0.548736</td>\n    </tr>\n    <tr>\n      <th>2</th>\n      <td>1859</td>\n      <td>1697133998343</td>\n      <td>13.20.536.2230</td>\n      <td>11</td>\n      <td>420</td>\n      <td>20</td>\n      <td>13</td>\n      <td>EUW1</td>\n      <td>465</td>\n      <td>6.2</td>\n      <td>...</td>\n      <td>0.488525</td>\n      <td>0.483871</td>\n      <td>0.496241</td>\n      <td>0.571429</td>\n      <td>0.500000</td>\n      <td>0.496479</td>\n      <td>0.440000</td>\n      <td>0.628571</td>\n      <td>0.493506</td>\n      <td>0.564935</td>\n    </tr>\n    <tr>\n      <th>3</th>\n      <td>1418</td>\n      <td>1697914083101</td>\n      <td>13.20.536.9576</td>\n      <td>11</td>\n      <td>420</td>\n      <td>20</td>\n      <td>13</td>\n      <td>EUW1</td>\n      <td>725</td>\n      <td>7.1</td>\n      <td>...</td>\n      <td>0.520581</td>\n      <td>0.554545</td>\n      <td>0.564024</td>\n      <td>0.551515</td>\n      <td>0.583333</td>\n      <td>0.509004</td>\n      <td>0.522388</td>\n      <td>0.523967</td>\n      <td>0.598214</td>\n      <td>0.547368</td>\n    </tr>\n    <tr>\n      <th>4</th>\n      <td>1800</td>\n      <td>1697564797120</td>\n      <td>13.20.536.2230</td>\n      <td>11</td>\n      <td>420</td>\n      <td>20</td>\n      <td>13</td>\n      <td>KR</td>\n      <td>110</td>\n      <td>7.1</td>\n      <td>...</td>\n      <td>0.518868</td>\n      <td>0.527304</td>\n      <td>0.833333</td>\n      <td>0.536810</td>\n      <td>0.523529</td>\n      <td>0.513869</td>\n      <td>0.512535</td>\n      <td>0.565891</td>\n      <td>0.544304</td>\n      <td>0.510453</td>\n    </tr>\n  </tbody>\n</table>\n<p>5 rows × 348 columns</p>\n</div>"
     },
     "execution_count": 14,
     "metadata": {},
     "output_type": "execute_result"
    }
   ],
   "source": [
    "df = clean.convert_championTier(df)\n",
    "df.head()"
   ],
   "metadata": {
    "collapsed": false,
    "ExecuteTime": {
     "end_time": "2023-11-13T16:24:20.302100100Z",
     "start_time": "2023-11-13T16:24:20.160022100Z"
    }
   }
  },
  {
   "cell_type": "code",
   "execution_count": 15,
   "outputs": [
    {
     "data": {
      "text/plain": "   gameDuration   gameCreation     gameVersion  mapId  queueId  patch  \\\n0          1982  1696715184351  13.19.534.5972     11      420     19   \n1          1446  1696175211836  13.19.533.1909     11      420     19   \n2          1859  1697133998343  13.20.536.2230     11      420     20   \n3          1418  1697914083101  13.20.536.9576     11      420     20   \n4          1800  1697564797120  13.20.536.2230     11      420     20   \n\n   seasonId platformId  participant1_level  participant1_tier  ...  \\\n0        13       EUW1                 864                7.1  ...   \n1        13       EUW1                 196                7.1  ...   \n2        13       EUW1                 465                6.2  ...   \n3        13       EUW1                 725                7.1  ...   \n4        13         KR                 110                7.1  ...   \n\n   participant2_winrate  participant3_winrate  participant4_winrate  \\\n0              0.530488              0.532895              0.510417   \n1              0.556911              0.567442              0.522831   \n2              0.483871              0.496241              0.571429   \n3              0.554545              0.564024              0.551515   \n4              0.527304              0.833333              0.536810   \n\n   participant5_winrate  participant6_winrate  participant7_winrate  \\\n0              0.517986              0.525597              0.491667   \n1              0.564220              0.538217              0.536458   \n2              0.500000              0.496479              0.440000   \n3              0.583333              0.509004              0.522388   \n4              0.523529              0.513869              0.512535   \n\n   participant8_winrate  participant9_winrate  participant10_winrate  label  \n0              0.549020              0.497268               0.470588      0  \n1              0.541063              0.542683               0.548736      0  \n2              0.628571              0.493506               0.564935      1  \n3              0.523967              0.598214               0.547368      0  \n4              0.565891              0.544304               0.510453      0  \n\n[5 rows x 349 columns]",
      "text/html": "<div>\n<style scoped>\n    .dataframe tbody tr th:only-of-type {\n        vertical-align: middle;\n    }\n\n    .dataframe tbody tr th {\n        vertical-align: top;\n    }\n\n    .dataframe thead th {\n        text-align: right;\n    }\n</style>\n<table border=\"1\" class=\"dataframe\">\n  <thead>\n    <tr style=\"text-align: right;\">\n      <th></th>\n      <th>gameDuration</th>\n      <th>gameCreation</th>\n      <th>gameVersion</th>\n      <th>mapId</th>\n      <th>queueId</th>\n      <th>patch</th>\n      <th>seasonId</th>\n      <th>platformId</th>\n      <th>participant1_level</th>\n      <th>participant1_tier</th>\n      <th>...</th>\n      <th>participant2_winrate</th>\n      <th>participant3_winrate</th>\n      <th>participant4_winrate</th>\n      <th>participant5_winrate</th>\n      <th>participant6_winrate</th>\n      <th>participant7_winrate</th>\n      <th>participant8_winrate</th>\n      <th>participant9_winrate</th>\n      <th>participant10_winrate</th>\n      <th>label</th>\n    </tr>\n  </thead>\n  <tbody>\n    <tr>\n      <th>0</th>\n      <td>1982</td>\n      <td>1696715184351</td>\n      <td>13.19.534.5972</td>\n      <td>11</td>\n      <td>420</td>\n      <td>19</td>\n      <td>13</td>\n      <td>EUW1</td>\n      <td>864</td>\n      <td>7.1</td>\n      <td>...</td>\n      <td>0.530488</td>\n      <td>0.532895</td>\n      <td>0.510417</td>\n      <td>0.517986</td>\n      <td>0.525597</td>\n      <td>0.491667</td>\n      <td>0.549020</td>\n      <td>0.497268</td>\n      <td>0.470588</td>\n      <td>0</td>\n    </tr>\n    <tr>\n      <th>1</th>\n      <td>1446</td>\n      <td>1696175211836</td>\n      <td>13.19.533.1909</td>\n      <td>11</td>\n      <td>420</td>\n      <td>19</td>\n      <td>13</td>\n      <td>EUW1</td>\n      <td>196</td>\n      <td>7.1</td>\n      <td>...</td>\n      <td>0.556911</td>\n      <td>0.567442</td>\n      <td>0.522831</td>\n      <td>0.564220</td>\n      <td>0.538217</td>\n      <td>0.536458</td>\n      <td>0.541063</td>\n      <td>0.542683</td>\n      <td>0.548736</td>\n      <td>0</td>\n    </tr>\n    <tr>\n      <th>2</th>\n      <td>1859</td>\n      <td>1697133998343</td>\n      <td>13.20.536.2230</td>\n      <td>11</td>\n      <td>420</td>\n      <td>20</td>\n      <td>13</td>\n      <td>EUW1</td>\n      <td>465</td>\n      <td>6.2</td>\n      <td>...</td>\n      <td>0.483871</td>\n      <td>0.496241</td>\n      <td>0.571429</td>\n      <td>0.500000</td>\n      <td>0.496479</td>\n      <td>0.440000</td>\n      <td>0.628571</td>\n      <td>0.493506</td>\n      <td>0.564935</td>\n      <td>1</td>\n    </tr>\n    <tr>\n      <th>3</th>\n      <td>1418</td>\n      <td>1697914083101</td>\n      <td>13.20.536.9576</td>\n      <td>11</td>\n      <td>420</td>\n      <td>20</td>\n      <td>13</td>\n      <td>EUW1</td>\n      <td>725</td>\n      <td>7.1</td>\n      <td>...</td>\n      <td>0.554545</td>\n      <td>0.564024</td>\n      <td>0.551515</td>\n      <td>0.583333</td>\n      <td>0.509004</td>\n      <td>0.522388</td>\n      <td>0.523967</td>\n      <td>0.598214</td>\n      <td>0.547368</td>\n      <td>0</td>\n    </tr>\n    <tr>\n      <th>4</th>\n      <td>1800</td>\n      <td>1697564797120</td>\n      <td>13.20.536.2230</td>\n      <td>11</td>\n      <td>420</td>\n      <td>20</td>\n      <td>13</td>\n      <td>KR</td>\n      <td>110</td>\n      <td>7.1</td>\n      <td>...</td>\n      <td>0.527304</td>\n      <td>0.833333</td>\n      <td>0.536810</td>\n      <td>0.523529</td>\n      <td>0.513869</td>\n      <td>0.512535</td>\n      <td>0.565891</td>\n      <td>0.544304</td>\n      <td>0.510453</td>\n      <td>0</td>\n    </tr>\n  </tbody>\n</table>\n<p>5 rows × 349 columns</p>\n</div>"
     },
     "execution_count": 15,
     "metadata": {},
     "output_type": "execute_result"
    }
   ],
   "source": [
    "df = clean.get_winning_team(df)\n",
    "df.head()"
   ],
   "metadata": {
    "collapsed": false,
    "ExecuteTime": {
     "end_time": "2023-11-13T16:24:20.309178800Z",
     "start_time": "2023-11-13T16:24:20.294583500Z"
    }
   }
  },
  {
   "cell_type": "code",
   "execution_count": 16,
   "outputs": [],
   "source": [
    "#df = clean.drop_wrong_teamIds(df)"
   ],
   "metadata": {
    "collapsed": false,
    "ExecuteTime": {
     "end_time": "2023-11-13T16:24:20.339359900Z",
     "start_time": "2023-11-13T16:24:20.306179600Z"
    }
   }
  },
  {
   "cell_type": "code",
   "execution_count": 17,
   "outputs": [
    {
     "data": {
      "text/plain": "       gameDuration   gameCreation     gameVersion  mapId  queueId  patch  \\\n137            1625  1697745028414  13.20.536.9576     11      420     20   \n196            1697  1696424943547  13.19.534.5972     11      420     19   \n270            1816  1696883771013  13.19.534.5972     11      420     19   \n300            1172  1695764320830  13.18.530.4653     11      420     18   \n783            1571  1696234051098  13.19.533.1909     11      420     19   \n...             ...            ...             ...    ...      ...    ...   \n20218          1350  1697816581639  13.20.536.9576     11      420     20   \n20277          2429  1697150494924  13.20.536.2230     11      420     20   \n20329          1478  1697749093856  13.20.536.9576     11      420     20   \n20357          1657  1697828058179  13.20.536.9576     11      420     20   \n20421          1795  1696759396470  13.19.534.5972     11      420     19   \n\n       seasonId platformId  participant1_level  participant1_tier  ...  \\\n137          13       EUN1                  60                7.1  ...   \n196          13       EUW1                 632                8.1  ...   \n270          13       EUW1                 454                6.1  ...   \n300          13       EUN1                 664                9.1  ...   \n783          13       EUW1                 148                8.1  ...   \n...         ...        ...                 ...                ...  ...   \n20218        13       EUN1                 121                8.1  ...   \n20277        13        NA1                 340                7.1  ...   \n20329        13        NA1                 653                9.1  ...   \n20357        13       EUW1                 307                8.1  ...   \n20421        13       EUW1                 843                8.1  ...   \n\n       participant2_winrate  participant3_winrate  participant4_winrate  \\\n137                0.584337              0.531250              0.571429   \n196                0.587342              0.567335              0.519337   \n270                0.539548              0.619048              0.573427   \n300                0.666667              0.539130              0.515885   \n783                0.542945              0.512630              0.539749   \n...                     ...                   ...                   ...   \n20218              0.607143              0.567100              0.621849   \n20277              0.548077              0.594595              0.538462   \n20329              0.594595              0.666667              0.625000   \n20357              0.506241              0.523227              0.687943   \n20421              0.529540              0.551440              0.647059   \n\n       participant5_winrate  participant6_winrate  participant7_winrate  \\\n137                0.523438              0.800000              0.454545   \n196                0.700000              0.536723              0.592697   \n270                0.520161              0.560831              0.642857   \n300                0.539773              0.557312              0.536993   \n783                0.487685              0.518367              0.533898   \n...                     ...                   ...                   ...   \n20218              0.504545              0.638298              0.511682   \n20277              0.690909              0.500000              0.629630   \n20329              0.557292              0.532374              0.532468   \n20357              0.909091              0.589595              0.896552   \n20421              0.531680              0.529652              0.555556   \n\n       participant8_winrate  participant9_winrate  participant10_winrate  \\\n137                0.577465              0.544355               0.660377   \n196                0.537600              0.558036               0.537500   \n270                0.529293              0.652695               0.614213   \n300                0.571429              0.507062               0.576419   \n783                0.559748              0.500000               0.660000   \n...                     ...                   ...                    ...   \n20218              0.551148              0.527066               0.722892   \n20277              0.557692              0.629630               0.560000   \n20329              0.517621              0.601399               0.571429   \n20357              0.538462              0.586345               0.542453   \n20421              0.605096              0.541063               0.519318   \n\n       label  \n137        0  \n196        0  \n270        0  \n300        0  \n783        1  \n...      ...  \n20218      0  \n20277      0  \n20329      0  \n20357      0  \n20421      0  \n\n[189 rows x 349 columns]",
      "text/html": "<div>\n<style scoped>\n    .dataframe tbody tr th:only-of-type {\n        vertical-align: middle;\n    }\n\n    .dataframe tbody tr th {\n        vertical-align: top;\n    }\n\n    .dataframe thead th {\n        text-align: right;\n    }\n</style>\n<table border=\"1\" class=\"dataframe\">\n  <thead>\n    <tr style=\"text-align: right;\">\n      <th></th>\n      <th>gameDuration</th>\n      <th>gameCreation</th>\n      <th>gameVersion</th>\n      <th>mapId</th>\n      <th>queueId</th>\n      <th>patch</th>\n      <th>seasonId</th>\n      <th>platformId</th>\n      <th>participant1_level</th>\n      <th>participant1_tier</th>\n      <th>...</th>\n      <th>participant2_winrate</th>\n      <th>participant3_winrate</th>\n      <th>participant4_winrate</th>\n      <th>participant5_winrate</th>\n      <th>participant6_winrate</th>\n      <th>participant7_winrate</th>\n      <th>participant8_winrate</th>\n      <th>participant9_winrate</th>\n      <th>participant10_winrate</th>\n      <th>label</th>\n    </tr>\n  </thead>\n  <tbody>\n    <tr>\n      <th>137</th>\n      <td>1625</td>\n      <td>1697745028414</td>\n      <td>13.20.536.9576</td>\n      <td>11</td>\n      <td>420</td>\n      <td>20</td>\n      <td>13</td>\n      <td>EUN1</td>\n      <td>60</td>\n      <td>7.1</td>\n      <td>...</td>\n      <td>0.584337</td>\n      <td>0.531250</td>\n      <td>0.571429</td>\n      <td>0.523438</td>\n      <td>0.800000</td>\n      <td>0.454545</td>\n      <td>0.577465</td>\n      <td>0.544355</td>\n      <td>0.660377</td>\n      <td>0</td>\n    </tr>\n    <tr>\n      <th>196</th>\n      <td>1697</td>\n      <td>1696424943547</td>\n      <td>13.19.534.5972</td>\n      <td>11</td>\n      <td>420</td>\n      <td>19</td>\n      <td>13</td>\n      <td>EUW1</td>\n      <td>632</td>\n      <td>8.1</td>\n      <td>...</td>\n      <td>0.587342</td>\n      <td>0.567335</td>\n      <td>0.519337</td>\n      <td>0.700000</td>\n      <td>0.536723</td>\n      <td>0.592697</td>\n      <td>0.537600</td>\n      <td>0.558036</td>\n      <td>0.537500</td>\n      <td>0</td>\n    </tr>\n    <tr>\n      <th>270</th>\n      <td>1816</td>\n      <td>1696883771013</td>\n      <td>13.19.534.5972</td>\n      <td>11</td>\n      <td>420</td>\n      <td>19</td>\n      <td>13</td>\n      <td>EUW1</td>\n      <td>454</td>\n      <td>6.1</td>\n      <td>...</td>\n      <td>0.539548</td>\n      <td>0.619048</td>\n      <td>0.573427</td>\n      <td>0.520161</td>\n      <td>0.560831</td>\n      <td>0.642857</td>\n      <td>0.529293</td>\n      <td>0.652695</td>\n      <td>0.614213</td>\n      <td>0</td>\n    </tr>\n    <tr>\n      <th>300</th>\n      <td>1172</td>\n      <td>1695764320830</td>\n      <td>13.18.530.4653</td>\n      <td>11</td>\n      <td>420</td>\n      <td>18</td>\n      <td>13</td>\n      <td>EUN1</td>\n      <td>664</td>\n      <td>9.1</td>\n      <td>...</td>\n      <td>0.666667</td>\n      <td>0.539130</td>\n      <td>0.515885</td>\n      <td>0.539773</td>\n      <td>0.557312</td>\n      <td>0.536993</td>\n      <td>0.571429</td>\n      <td>0.507062</td>\n      <td>0.576419</td>\n      <td>0</td>\n    </tr>\n    <tr>\n      <th>783</th>\n      <td>1571</td>\n      <td>1696234051098</td>\n      <td>13.19.533.1909</td>\n      <td>11</td>\n      <td>420</td>\n      <td>19</td>\n      <td>13</td>\n      <td>EUW1</td>\n      <td>148</td>\n      <td>8.1</td>\n      <td>...</td>\n      <td>0.542945</td>\n      <td>0.512630</td>\n      <td>0.539749</td>\n      <td>0.487685</td>\n      <td>0.518367</td>\n      <td>0.533898</td>\n      <td>0.559748</td>\n      <td>0.500000</td>\n      <td>0.660000</td>\n      <td>1</td>\n    </tr>\n    <tr>\n      <th>...</th>\n      <td>...</td>\n      <td>...</td>\n      <td>...</td>\n      <td>...</td>\n      <td>...</td>\n      <td>...</td>\n      <td>...</td>\n      <td>...</td>\n      <td>...</td>\n      <td>...</td>\n      <td>...</td>\n      <td>...</td>\n      <td>...</td>\n      <td>...</td>\n      <td>...</td>\n      <td>...</td>\n      <td>...</td>\n      <td>...</td>\n      <td>...</td>\n      <td>...</td>\n      <td>...</td>\n    </tr>\n    <tr>\n      <th>20218</th>\n      <td>1350</td>\n      <td>1697816581639</td>\n      <td>13.20.536.9576</td>\n      <td>11</td>\n      <td>420</td>\n      <td>20</td>\n      <td>13</td>\n      <td>EUN1</td>\n      <td>121</td>\n      <td>8.1</td>\n      <td>...</td>\n      <td>0.607143</td>\n      <td>0.567100</td>\n      <td>0.621849</td>\n      <td>0.504545</td>\n      <td>0.638298</td>\n      <td>0.511682</td>\n      <td>0.551148</td>\n      <td>0.527066</td>\n      <td>0.722892</td>\n      <td>0</td>\n    </tr>\n    <tr>\n      <th>20277</th>\n      <td>2429</td>\n      <td>1697150494924</td>\n      <td>13.20.536.2230</td>\n      <td>11</td>\n      <td>420</td>\n      <td>20</td>\n      <td>13</td>\n      <td>NA1</td>\n      <td>340</td>\n      <td>7.1</td>\n      <td>...</td>\n      <td>0.548077</td>\n      <td>0.594595</td>\n      <td>0.538462</td>\n      <td>0.690909</td>\n      <td>0.500000</td>\n      <td>0.629630</td>\n      <td>0.557692</td>\n      <td>0.629630</td>\n      <td>0.560000</td>\n      <td>0</td>\n    </tr>\n    <tr>\n      <th>20329</th>\n      <td>1478</td>\n      <td>1697749093856</td>\n      <td>13.20.536.9576</td>\n      <td>11</td>\n      <td>420</td>\n      <td>20</td>\n      <td>13</td>\n      <td>NA1</td>\n      <td>653</td>\n      <td>9.1</td>\n      <td>...</td>\n      <td>0.594595</td>\n      <td>0.666667</td>\n      <td>0.625000</td>\n      <td>0.557292</td>\n      <td>0.532374</td>\n      <td>0.532468</td>\n      <td>0.517621</td>\n      <td>0.601399</td>\n      <td>0.571429</td>\n      <td>0</td>\n    </tr>\n    <tr>\n      <th>20357</th>\n      <td>1657</td>\n      <td>1697828058179</td>\n      <td>13.20.536.9576</td>\n      <td>11</td>\n      <td>420</td>\n      <td>20</td>\n      <td>13</td>\n      <td>EUW1</td>\n      <td>307</td>\n      <td>8.1</td>\n      <td>...</td>\n      <td>0.506241</td>\n      <td>0.523227</td>\n      <td>0.687943</td>\n      <td>0.909091</td>\n      <td>0.589595</td>\n      <td>0.896552</td>\n      <td>0.538462</td>\n      <td>0.586345</td>\n      <td>0.542453</td>\n      <td>0</td>\n    </tr>\n    <tr>\n      <th>20421</th>\n      <td>1795</td>\n      <td>1696759396470</td>\n      <td>13.19.534.5972</td>\n      <td>11</td>\n      <td>420</td>\n      <td>19</td>\n      <td>13</td>\n      <td>EUW1</td>\n      <td>843</td>\n      <td>8.1</td>\n      <td>...</td>\n      <td>0.529540</td>\n      <td>0.551440</td>\n      <td>0.647059</td>\n      <td>0.531680</td>\n      <td>0.529652</td>\n      <td>0.555556</td>\n      <td>0.605096</td>\n      <td>0.541063</td>\n      <td>0.519318</td>\n      <td>0</td>\n    </tr>\n  </tbody>\n</table>\n<p>189 rows × 349 columns</p>\n</div>"
     },
     "execution_count": 17,
     "metadata": {},
     "output_type": "execute_result"
    }
   ],
   "source": [
    "df[df['participant1_teamId'] != 0]"
   ],
   "metadata": {
    "collapsed": false,
    "ExecuteTime": {
     "end_time": "2023-11-13T16:24:20.454392200Z",
     "start_time": "2023-11-13T16:24:20.317360600Z"
    }
   }
  },
  {
   "cell_type": "code",
   "execution_count": 18,
   "outputs": [
    {
     "ename": "AssertionError",
     "evalue": "",
     "output_type": "error",
     "traceback": [
      "\u001B[1;31m---------------------------------------------------------------------------\u001B[0m",
      "\u001B[1;31mAssertionError\u001B[0m                            Traceback (most recent call last)",
      "Cell \u001B[1;32mIn[18], line 1\u001B[0m\n\u001B[1;32m----> 1\u001B[0m \u001B[38;5;28;01massert\u001B[39;00m np\u001B[38;5;241m.\u001B[39mall(df[\u001B[38;5;124m'\u001B[39m\u001B[38;5;124mparticipant1_win\u001B[39m\u001B[38;5;124m'\u001B[39m] \u001B[38;5;241m==\u001B[39m df[\u001B[38;5;124m'\u001B[39m\u001B[38;5;124mparticipant2_win\u001B[39m\u001B[38;5;124m'\u001B[39m])\n",
      "\u001B[1;31mAssertionError\u001B[0m: "
     ]
    }
   ],
   "source": [
    "assert np.all(df['participant1_win'] == df['participant2_win'])"
   ],
   "metadata": {
    "collapsed": false,
    "ExecuteTime": {
     "end_time": "2023-11-13T16:24:21.056778800Z",
     "start_time": "2023-11-13T16:24:20.369358600Z"
    }
   }
  },
  {
   "cell_type": "code",
   "execution_count": 19,
   "outputs": [
    {
     "data": {
      "text/plain": "   participant1_level  participant1_tier  participant1_champion_lastPlayTime  \\\n0                 864                7.1                             2654830   \n1                 196                7.1                             2734057   \n2                 465                6.2                             2514884   \n3                 725                7.1                             2694772   \n4                 110                7.1                             2322436   \n\n   participant1_champion_championPoints  participant1_champion_kda  \\\n0                                  9801                       1.02   \n1                               1051316                       1.29   \n2                                 57996                       1.24   \n3                               2892093                       2.39   \n4                                 61840                       2.87   \n\n   participant1_champion_lp  participant1_champion_win_rate  \\\n0                       100                           49.40   \n1                      1718                           49.17   \n2                        57                           52.44   \n3                      1190                           50.15   \n4                         2                           48.20   \n\n   participant2_level  participant2_tier  participant2_champion_lastPlayTime  \\\n0                 533                7.1                             2700780   \n1                 386                8.1                             3282806   \n2                 107                6.2                             2404603   \n3                 117                7.1                             2576903   \n4                  69                7.1                             2580681   \n\n   ...  participant2_winrate  participant3_winrate  participant4_winrate  \\\n0  ...              0.530488              0.532895              0.510417   \n1  ...              0.556911              0.567442              0.522831   \n2  ...              0.483871              0.496241              0.571429   \n3  ...              0.554545              0.564024              0.551515   \n4  ...              0.527304              0.833333              0.536810   \n\n   participant5_winrate  participant6_winrate  participant7_winrate  \\\n0              0.517986              0.525597              0.491667   \n1              0.564220              0.538217              0.536458   \n2              0.500000              0.496479              0.440000   \n3              0.583333              0.509004              0.522388   \n4              0.523529              0.513869              0.512535   \n\n   participant8_winrate  participant9_winrate  participant10_winrate  label  \n0              0.549020              0.497268               0.470588      0  \n1              0.541063              0.542683               0.548736      0  \n2              0.628571              0.493506               0.564935      1  \n3              0.523967              0.598214               0.547368      0  \n4              0.565891              0.544304               0.510453      0  \n\n[5 rows x 81 columns]",
      "text/html": "<div>\n<style scoped>\n    .dataframe tbody tr th:only-of-type {\n        vertical-align: middle;\n    }\n\n    .dataframe tbody tr th {\n        vertical-align: top;\n    }\n\n    .dataframe thead th {\n        text-align: right;\n    }\n</style>\n<table border=\"1\" class=\"dataframe\">\n  <thead>\n    <tr style=\"text-align: right;\">\n      <th></th>\n      <th>participant1_level</th>\n      <th>participant1_tier</th>\n      <th>participant1_champion_lastPlayTime</th>\n      <th>participant1_champion_championPoints</th>\n      <th>participant1_champion_kda</th>\n      <th>participant1_champion_lp</th>\n      <th>participant1_champion_win_rate</th>\n      <th>participant2_level</th>\n      <th>participant2_tier</th>\n      <th>participant2_champion_lastPlayTime</th>\n      <th>...</th>\n      <th>participant2_winrate</th>\n      <th>participant3_winrate</th>\n      <th>participant4_winrate</th>\n      <th>participant5_winrate</th>\n      <th>participant6_winrate</th>\n      <th>participant7_winrate</th>\n      <th>participant8_winrate</th>\n      <th>participant9_winrate</th>\n      <th>participant10_winrate</th>\n      <th>label</th>\n    </tr>\n  </thead>\n  <tbody>\n    <tr>\n      <th>0</th>\n      <td>864</td>\n      <td>7.1</td>\n      <td>2654830</td>\n      <td>9801</td>\n      <td>1.02</td>\n      <td>100</td>\n      <td>49.40</td>\n      <td>533</td>\n      <td>7.1</td>\n      <td>2700780</td>\n      <td>...</td>\n      <td>0.530488</td>\n      <td>0.532895</td>\n      <td>0.510417</td>\n      <td>0.517986</td>\n      <td>0.525597</td>\n      <td>0.491667</td>\n      <td>0.549020</td>\n      <td>0.497268</td>\n      <td>0.470588</td>\n      <td>0</td>\n    </tr>\n    <tr>\n      <th>1</th>\n      <td>196</td>\n      <td>7.1</td>\n      <td>2734057</td>\n      <td>1051316</td>\n      <td>1.29</td>\n      <td>1718</td>\n      <td>49.17</td>\n      <td>386</td>\n      <td>8.1</td>\n      <td>3282806</td>\n      <td>...</td>\n      <td>0.556911</td>\n      <td>0.567442</td>\n      <td>0.522831</td>\n      <td>0.564220</td>\n      <td>0.538217</td>\n      <td>0.536458</td>\n      <td>0.541063</td>\n      <td>0.542683</td>\n      <td>0.548736</td>\n      <td>0</td>\n    </tr>\n    <tr>\n      <th>2</th>\n      <td>465</td>\n      <td>6.2</td>\n      <td>2514884</td>\n      <td>57996</td>\n      <td>1.24</td>\n      <td>57</td>\n      <td>52.44</td>\n      <td>107</td>\n      <td>6.2</td>\n      <td>2404603</td>\n      <td>...</td>\n      <td>0.483871</td>\n      <td>0.496241</td>\n      <td>0.571429</td>\n      <td>0.500000</td>\n      <td>0.496479</td>\n      <td>0.440000</td>\n      <td>0.628571</td>\n      <td>0.493506</td>\n      <td>0.564935</td>\n      <td>1</td>\n    </tr>\n    <tr>\n      <th>3</th>\n      <td>725</td>\n      <td>7.1</td>\n      <td>2694772</td>\n      <td>2892093</td>\n      <td>2.39</td>\n      <td>1190</td>\n      <td>50.15</td>\n      <td>117</td>\n      <td>7.1</td>\n      <td>2576903</td>\n      <td>...</td>\n      <td>0.554545</td>\n      <td>0.564024</td>\n      <td>0.551515</td>\n      <td>0.583333</td>\n      <td>0.509004</td>\n      <td>0.522388</td>\n      <td>0.523967</td>\n      <td>0.598214</td>\n      <td>0.547368</td>\n      <td>0</td>\n    </tr>\n    <tr>\n      <th>4</th>\n      <td>110</td>\n      <td>7.1</td>\n      <td>2322436</td>\n      <td>61840</td>\n      <td>2.87</td>\n      <td>2</td>\n      <td>48.20</td>\n      <td>69</td>\n      <td>7.1</td>\n      <td>2580681</td>\n      <td>...</td>\n      <td>0.527304</td>\n      <td>0.833333</td>\n      <td>0.536810</td>\n      <td>0.523529</td>\n      <td>0.513869</td>\n      <td>0.512535</td>\n      <td>0.565891</td>\n      <td>0.544304</td>\n      <td>0.510453</td>\n      <td>0</td>\n    </tr>\n  </tbody>\n</table>\n<p>5 rows × 81 columns</p>\n</div>"
     },
     "execution_count": 19,
     "metadata": {},
     "output_type": "execute_result"
    }
   ],
   "source": [
    "df = clean.drop_irrelevant(df)\n",
    "df.head()"
   ],
   "metadata": {
    "collapsed": false,
    "ExecuteTime": {
     "end_time": "2023-11-13T16:29:16.945338800Z",
     "start_time": "2023-11-13T16:29:16.919258300Z"
    }
   }
  },
  {
   "cell_type": "code",
   "execution_count": 20,
   "outputs": [],
   "source": [
    "assert df.columns[-1] == 'label'"
   ],
   "metadata": {
    "collapsed": false,
    "ExecuteTime": {
     "end_time": "2023-11-13T16:29:17.204328300Z",
     "start_time": "2023-11-13T16:29:17.201809400Z"
    }
   }
  },
  {
   "cell_type": "code",
   "execution_count": 21,
   "outputs": [],
   "source": [
    "profile = ProfileReport(df, title=\"Profiling Report\")"
   ],
   "metadata": {
    "collapsed": false,
    "ExecuteTime": {
     "end_time": "2023-11-13T16:29:17.619154900Z",
     "start_time": "2023-11-13T16:29:17.599130900Z"
    }
   }
  },
  {
   "cell_type": "code",
   "execution_count": 22,
   "outputs": [],
   "source": [
    "#profile.to_widgets()"
   ],
   "metadata": {
    "collapsed": false,
    "ExecuteTime": {
     "end_time": "2023-11-13T16:29:18.376290200Z",
     "start_time": "2023-11-13T16:29:18.368288500Z"
    }
   }
  },
  {
   "cell_type": "code",
   "execution_count": 23,
   "outputs": [
    {
     "data": {
      "text/plain": "1    10730\n0     9783\nName: label, dtype: int64"
     },
     "execution_count": 23,
     "metadata": {},
     "output_type": "execute_result"
    }
   ],
   "source": [
    "df['label'].value_counts()"
   ],
   "metadata": {
    "collapsed": false,
    "ExecuteTime": {
     "end_time": "2023-11-13T16:29:18.891579600Z",
     "start_time": "2023-11-13T16:29:18.876215800Z"
    }
   }
  },
  {
   "cell_type": "code",
   "execution_count": 24,
   "outputs": [
    {
     "data": {
      "text/plain": "array(['participant1_level', 'participant1_tier',\n       'participant1_champion_lastPlayTime',\n       'participant1_champion_championPoints',\n       'participant1_champion_kda', 'participant1_champion_lp',\n       'participant1_champion_win_rate', 'participant2_level',\n       'participant2_tier', 'participant2_champion_lastPlayTime',\n       'participant2_champion_championPoints',\n       'participant2_champion_kda', 'participant2_champion_lp',\n       'participant2_champion_win_rate', 'participant3_level',\n       'participant3_tier', 'participant3_champion_lastPlayTime',\n       'participant3_champion_championPoints',\n       'participant3_champion_kda', 'participant3_champion_lp',\n       'participant3_champion_win_rate', 'participant4_level',\n       'participant4_tier', 'participant4_champion_lastPlayTime',\n       'participant4_champion_championPoints',\n       'participant4_champion_kda', 'participant4_champion_lp',\n       'participant4_champion_win_rate', 'participant5_level',\n       'participant5_tier', 'participant5_champion_lastPlayTime',\n       'participant5_champion_championPoints',\n       'participant5_champion_kda', 'participant5_champion_lp',\n       'participant5_champion_win_rate', 'participant6_level',\n       'participant6_tier', 'participant6_champion_lastPlayTime',\n       'participant6_champion_championPoints',\n       'participant6_champion_kda', 'participant6_champion_lp',\n       'participant6_champion_win_rate', 'participant7_level',\n       'participant7_tier', 'participant7_champion_lastPlayTime',\n       'participant7_champion_championPoints',\n       'participant7_champion_kda', 'participant7_champion_lp',\n       'participant7_champion_win_rate', 'participant8_level',\n       'participant8_tier', 'participant8_champion_lastPlayTime',\n       'participant8_champion_championPoints',\n       'participant8_champion_kda', 'participant8_champion_lp',\n       'participant8_champion_win_rate', 'participant9_level',\n       'participant9_tier', 'participant9_champion_lastPlayTime',\n       'participant9_champion_championPoints',\n       'participant9_champion_kda', 'participant9_champion_lp',\n       'participant9_champion_win_rate', 'participant10_level',\n       'participant10_tier', 'participant10_champion_lastPlayTime',\n       'participant10_champion_championPoints',\n       'participant10_champion_kda', 'participant10_champion_lp',\n       'participant10_champion_win_rate', 'participant1_winrate',\n       'participant2_winrate', 'participant3_winrate',\n       'participant4_winrate', 'participant5_winrate',\n       'participant6_winrate', 'participant7_winrate',\n       'participant8_winrate', 'participant9_winrate',\n       'participant10_winrate', 'label'], dtype=object)"
     },
     "execution_count": 24,
     "metadata": {},
     "output_type": "execute_result"
    }
   ],
   "source": [
    "df.columns.values\n"
   ],
   "metadata": {
    "collapsed": false,
    "ExecuteTime": {
     "end_time": "2023-11-13T16:29:21.713595300Z",
     "start_time": "2023-11-13T16:29:21.710619400Z"
    }
   }
  },
  {
   "cell_type": "code",
   "execution_count": null,
   "outputs": [],
   "source": [
    "\n",
    "X_train, X_test, y_train, y_test = train_test_split(df.iloc[:, :-1], df.iloc[:, -1], test_size=0.2,\n",
    "                                                    random_state=42)\n",
    "y_train = y_train.astype(int)\n",
    "y_test = y_test.astype(int)\n",
    "X_train"
   ],
   "metadata": {
    "collapsed": false,
    "ExecuteTime": {
     "start_time": "2023-11-13T16:24:21.035778700Z"
    }
   }
  },
  {
   "cell_type": "code",
   "execution_count": null,
   "outputs": [],
   "source": [
    "import seaborn as sns\n",
    "import matplotlib.pyplot as plt\n",
    "\n",
    "for i, col in enumerate(df.columns):\n",
    "    plt.figure(i)\n",
    "    sns.histplot(df[col], stat='density', kde=True)"
   ],
   "metadata": {
    "collapsed": false,
    "ExecuteTime": {
     "start_time": "2023-11-13T16:24:21.037782700Z"
    }
   }
  },
  {
   "cell_type": "code",
   "execution_count": null,
   "outputs": [],
   "source": [
    "scaler = StandardScaler()\n",
    "X_train = scaler.fit_transform(X_train)\n",
    "X_test = scaler.transform(X_test)\n",
    "\n",
    "X_train = np.append(X_train, np.expand_dims(y_train, axis=1), axis=1)\n",
    "X_test = np.append(X_test, np.expand_dims(y_test, axis=1), axis=1)"
   ],
   "metadata": {
    "collapsed": false,
    "ExecuteTime": {
     "start_time": "2023-11-13T16:24:21.038781100Z"
    }
   }
  },
  {
   "cell_type": "code",
   "execution_count": null,
   "outputs": [],
   "source": [
    "X_train"
   ],
   "metadata": {
    "collapsed": false,
    "ExecuteTime": {
     "start_time": "2023-11-13T16:24:21.039781300Z"
    }
   }
  },
  {
   "cell_type": "code",
   "execution_count": null,
   "outputs": [],
   "source": [],
   "metadata": {
    "collapsed": false,
    "ExecuteTime": {
     "start_time": "2023-11-13T16:24:21.040779400Z"
    }
   }
  }
 ],
 "metadata": {
  "kernelspec": {
   "display_name": "Python 3",
   "language": "python",
   "name": "python3"
  },
  "language_info": {
   "codemirror_mode": {
    "name": "ipython",
    "version": 2
   },
   "file_extension": ".py",
   "mimetype": "text/x-python",
   "name": "python",
   "nbconvert_exporter": "python",
   "pygments_lexer": "ipython2",
   "version": "2.7.6"
  }
 },
 "nbformat": 4,
 "nbformat_minor": 0
}
