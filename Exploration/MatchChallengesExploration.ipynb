{
 "cells": [
  {
   "cell_type": "code",
   "execution_count": 15,
   "id": "initial_id",
   "metadata": {
    "collapsed": true,
    "ExecuteTime": {
     "end_time": "2023-09-10T16:01:11.175907200Z",
     "start_time": "2023-09-10T16:01:11.138912600Z"
    }
   },
   "outputs": [],
   "source": [
    "from src.sqlstore.db import connect_to_db\n",
    "\n",
    "import pandas as pd\n",
    "import matplotlib.pyplot as plt\n",
    "import seaborn as sns\n",
    "\n",
    "# Webscraping\n",
    "from selenium import webdriver\n",
    "from selenium.webdriver.chrome.service import Service\n",
    "from selenium.webdriver.common.by import By\n",
    "from selenium.webdriver.common.keys import Keys\n",
    "from selenium.webdriver.chrome.options import Options\n",
    "from selenium.webdriver.support.ui import WebDriverWait\n",
    "from selenium.webdriver.support import expected_conditions as EC\n",
    "import csv\n",
    "\n",
    "import time"
   ]
  },
  {
   "cell_type": "code",
   "execution_count": 16,
   "outputs": [],
   "source": [
    "engine = connect_to_db(\"../src/database.ini\")"
   ],
   "metadata": {
    "collapsed": false,
    "ExecuteTime": {
     "end_time": "2023-09-10T16:01:11.176907600Z",
     "start_time": "2023-09-10T16:01:11.157903300Z"
    }
   },
   "id": "c50f395ddeaccc54"
  },
  {
   "cell_type": "code",
   "execution_count": 18,
   "outputs": [],
   "source": [
    "match = \"SELECT * FROM match\"\n",
    "\n",
    "stats = \"SELECT * FROM match_participant_stats\"\n",
    "\n",
    "challenges = \"SELECT * FROM match_participant_challenges\""
   ],
   "metadata": {
    "collapsed": false,
    "ExecuteTime": {
     "end_time": "2023-09-10T16:01:11.211Z",
     "start_time": "2023-09-10T16:01:11.188907600Z"
    }
   },
   "id": "9b07a0e363f3cfbd"
  },
  {
   "cell_type": "code",
   "execution_count": 19,
   "outputs": [],
   "source": [
    "df_match = pd.read_sql_query(match, engine)\n",
    "\n",
    "df_stats = pd.read_sql_query(stats, engine)\n",
    "\n",
    "df_challenges = pd.read_sql_query(challenges, engine)"
   ],
   "metadata": {
    "collapsed": false,
    "ExecuteTime": {
     "end_time": "2023-09-10T16:08:36.177661200Z",
     "start_time": "2023-09-10T16:01:11.205001700Z"
    }
   },
   "id": "563b8bc5a89d7fab"
  },
  {
   "cell_type": "code",
   "execution_count": 20,
   "outputs": [],
   "source": [
    "df_combined = pd.merge(df_match, df_stats, on='gameId', how='inner')"
   ],
   "metadata": {
    "collapsed": false,
    "ExecuteTime": {
     "end_time": "2023-09-10T16:08:36.428454100Z",
     "start_time": "2023-09-10T16:08:36.231686700Z"
    }
   },
   "id": "32e03614473297e6"
  },
  {
   "cell_type": "code",
   "execution_count": 21,
   "outputs": [],
   "source": [
    "df = final_combined = df_combined.merge(df_challenges, on=['puuid', 'gameId'], how='inner')"
   ],
   "metadata": {
    "collapsed": false,
    "ExecuteTime": {
     "end_time": "2023-09-10T16:08:36.667352Z",
     "start_time": "2023-09-10T16:08:36.428454100Z"
    }
   },
   "id": "531912cb62aef16"
  },
  {
   "cell_type": "code",
   "execution_count": 22,
   "outputs": [],
   "source": [
    "# Drop unnecessary columns\n",
    "df = df.drop(columns=['matchId', 'platformId_x', 'gameId', 'seasonId', 'patch', 'queueId', 'gameVersion', 'mapId', 'mapId', 'gameCreation', 'gameCreation', 'timeCreated_x', 'lastUpdate_x', 'puuid', 'timeCreated', 'lastUpdate', 'platformId_y'])"
   ],
   "metadata": {
    "collapsed": false,
    "ExecuteTime": {
     "end_time": "2023-09-10T16:08:36.745938Z",
     "start_time": "2023-09-10T16:08:36.667352Z"
    }
   },
   "id": "f034e846d07f230b"
  },
  {
   "cell_type": "code",
   "execution_count": 23,
   "outputs": [
    {
     "data": {
      "text/plain": "   gameDuration  allInPings  assistMePings  assists  baitPings  baronKills  \\\n0          1686           0              1        9          0           0   \n1          1686           2              6        8          3           2   \n2          1686           1              3        4          0           0   \n3          1686           0              0       11          1           0   \n4          1686           1              8       18          1           0   \n\n   bountyLevel  champExperience  champLevel  championId  ...  \\\n0            1            17221          17         897  ...   \n1            3            15768          16          76  ...   \n2            0            13470          15         246  ...   \n3            3            16162          16         119  ...   \n4            0            10930          13          12  ...   \n\n  turretTakedowns_y  turretsTakenWithRiftHerald  twentyMinionsIn3SecondsCount  \\\n0                 3                           5                             9   \n1                 4                           5                             1   \n2                 1                           5                             7   \n3                 7                           5                            11   \n4                 5                           5                             0   \n\n   twoWardsOneSweeperCount  unseenRecalls  visionScoreAdvantageLaneOpponent  \\\n0                        0              0                          0.466623   \n1                        0              0                          0.466252   \n2                        0              0                         -0.049789   \n3                        0              0                          1.008010   \n4                        1              0                         -0.118339   \n\n   visionScorePerMinute  wardTakedowns  wardTakedownsBefore20M  wardsGuarded  \n0              0.820007              2                       2             0  \n1              1.342831              9                       6             0  \n2              0.502217              2                       0             0  \n3              1.125961              5                       3             0  \n4              2.314497              9                       8             0  \n\n[5 rows x 246 columns]",
      "text/html": "<div>\n<style scoped>\n    .dataframe tbody tr th:only-of-type {\n        vertical-align: middle;\n    }\n\n    .dataframe tbody tr th {\n        vertical-align: top;\n    }\n\n    .dataframe thead th {\n        text-align: right;\n    }\n</style>\n<table border=\"1\" class=\"dataframe\">\n  <thead>\n    <tr style=\"text-align: right;\">\n      <th></th>\n      <th>gameDuration</th>\n      <th>allInPings</th>\n      <th>assistMePings</th>\n      <th>assists</th>\n      <th>baitPings</th>\n      <th>baronKills</th>\n      <th>bountyLevel</th>\n      <th>champExperience</th>\n      <th>champLevel</th>\n      <th>championId</th>\n      <th>...</th>\n      <th>turretTakedowns_y</th>\n      <th>turretsTakenWithRiftHerald</th>\n      <th>twentyMinionsIn3SecondsCount</th>\n      <th>twoWardsOneSweeperCount</th>\n      <th>unseenRecalls</th>\n      <th>visionScoreAdvantageLaneOpponent</th>\n      <th>visionScorePerMinute</th>\n      <th>wardTakedowns</th>\n      <th>wardTakedownsBefore20M</th>\n      <th>wardsGuarded</th>\n    </tr>\n  </thead>\n  <tbody>\n    <tr>\n      <th>0</th>\n      <td>1686</td>\n      <td>0</td>\n      <td>1</td>\n      <td>9</td>\n      <td>0</td>\n      <td>0</td>\n      <td>1</td>\n      <td>17221</td>\n      <td>17</td>\n      <td>897</td>\n      <td>...</td>\n      <td>3</td>\n      <td>5</td>\n      <td>9</td>\n      <td>0</td>\n      <td>0</td>\n      <td>0.466623</td>\n      <td>0.820007</td>\n      <td>2</td>\n      <td>2</td>\n      <td>0</td>\n    </tr>\n    <tr>\n      <th>1</th>\n      <td>1686</td>\n      <td>2</td>\n      <td>6</td>\n      <td>8</td>\n      <td>3</td>\n      <td>2</td>\n      <td>3</td>\n      <td>15768</td>\n      <td>16</td>\n      <td>76</td>\n      <td>...</td>\n      <td>4</td>\n      <td>5</td>\n      <td>1</td>\n      <td>0</td>\n      <td>0</td>\n      <td>0.466252</td>\n      <td>1.342831</td>\n      <td>9</td>\n      <td>6</td>\n      <td>0</td>\n    </tr>\n    <tr>\n      <th>2</th>\n      <td>1686</td>\n      <td>1</td>\n      <td>3</td>\n      <td>4</td>\n      <td>0</td>\n      <td>0</td>\n      <td>0</td>\n      <td>13470</td>\n      <td>15</td>\n      <td>246</td>\n      <td>...</td>\n      <td>1</td>\n      <td>5</td>\n      <td>7</td>\n      <td>0</td>\n      <td>0</td>\n      <td>-0.049789</td>\n      <td>0.502217</td>\n      <td>2</td>\n      <td>0</td>\n      <td>0</td>\n    </tr>\n    <tr>\n      <th>3</th>\n      <td>1686</td>\n      <td>0</td>\n      <td>0</td>\n      <td>11</td>\n      <td>1</td>\n      <td>0</td>\n      <td>3</td>\n      <td>16162</td>\n      <td>16</td>\n      <td>119</td>\n      <td>...</td>\n      <td>7</td>\n      <td>5</td>\n      <td>11</td>\n      <td>0</td>\n      <td>0</td>\n      <td>1.008010</td>\n      <td>1.125961</td>\n      <td>5</td>\n      <td>3</td>\n      <td>0</td>\n    </tr>\n    <tr>\n      <th>4</th>\n      <td>1686</td>\n      <td>1</td>\n      <td>8</td>\n      <td>18</td>\n      <td>1</td>\n      <td>0</td>\n      <td>0</td>\n      <td>10930</td>\n      <td>13</td>\n      <td>12</td>\n      <td>...</td>\n      <td>5</td>\n      <td>5</td>\n      <td>0</td>\n      <td>1</td>\n      <td>0</td>\n      <td>-0.118339</td>\n      <td>2.314497</td>\n      <td>9</td>\n      <td>8</td>\n      <td>0</td>\n    </tr>\n  </tbody>\n</table>\n<p>5 rows × 246 columns</p>\n</div>"
     },
     "execution_count": 23,
     "metadata": {},
     "output_type": "execute_result"
    }
   ],
   "source": [
    "df.head()"
   ],
   "metadata": {
    "collapsed": false,
    "ExecuteTime": {
     "end_time": "2023-09-10T16:08:36.760695400Z",
     "start_time": "2023-09-10T16:08:36.745938Z"
    }
   },
   "id": "65b1018c2cf2eee3"
  },
  {
   "cell_type": "code",
   "execution_count": 24,
   "outputs": [],
   "source": [
    "from selenium import webdriver\n",
    "from selenium.webdriver.chrome.service import Service\n",
    "from selenium.webdriver.common.by import By\n",
    "from selenium.webdriver.chrome.options import Options\n",
    "from selenium.webdriver.support.ui import WebDriverWait\n",
    "from selenium.webdriver.support import expected_conditions as EC\n",
    "import csv\n",
    "import time\n",
    "\n",
    "url = \"https://u.gg/lol/tier-list\"\n",
    "\n",
    "options = Options()\n",
    "options.add_argument(\"--headless\")\n",
    "options.binary_location = \"C:\\\\Users\\\\nicol\\\\Downloads\\\\chrome-win64\\\\chrome-win64\\\\chrome.exe\"  # Path to your Chrome executable\n",
    "\n",
    "service = Service(\"C:\\\\Users\\\\nicol\\\\Downloads\\\\chromedriver-win64\\\\chromedriver-win64\\\\chromedriver.exe\")\n",
    "driver = webdriver.Chrome(service=service, options=options)\n",
    "\n",
    "driver.get(url)\n",
    "\n",
    "wait = WebDriverWait(driver, 10)\n",
    "wait.until(EC.presence_of_all_elements_located((By.CSS_SELECTOR, \"div.rt-tr-group\")))\n",
    "\n",
    "data = []  # List to store each row of data\n",
    "\n",
    "while True:\n",
    "    # Scroll to the bottom of the page\n",
    "    driver.execute_script(\"window.scrollTo(0, document.body.scrollHeight);\")\n",
    "    time.sleep(1)\n",
    "    \n",
    "    # Scroll back to the top of the page\n",
    "    driver.execute_script(\"window.scrollTo(0, 0);\")\n",
    "    time.sleep(1)\n",
    "    \n",
    "    # Check if all rows have been loaded\n",
    "    rows = driver.find_elements(By.CSS_SELECTOR, \"div.rt-tr-group\")\n",
    "    if not rows or len(data) == len(rows):  # Adjusted condition to check data length instead of champions length\n",
    "        break\n",
    "    \n",
    "    # Otherwise, continue to extract the data\n",
    "    for i in range(len(data), len(rows)):\n",
    "        row = rows[i]\n",
    "        try:\n",
    "            rank = row.find_element(By.CSS_SELECTOR, \"div.rt-td:nth-of-type(1)\").text.strip()\n",
    "            champion = row.find_element(By.CSS_SELECTOR, \"div.rt-td:nth-of-type(3)\").get_attribute(\"textContent\")\n",
    "            tier = row.find_element(By.CSS_SELECTOR, \"div.rt-td:nth-of-type(4)\").text.strip()\n",
    "            win_rate = row.find_element(By.CSS_SELECTOR, \"div.rt-td:nth-of-type(5)\").text.strip()\n",
    "            pick_rate = row.find_element(By.CSS_SELECTOR, \"div.rt-td:nth-of-type(7)\").text.strip()\n",
    "            ban_rate = row.find_element(By.CSS_SELECTOR, \"div.rt-td:nth-of-type(6)\").text.strip()\n",
    "            matches = row.find_element(By.CSS_SELECTOR, \"div.rt-td:nth-of-type(8)\").text.strip()\n",
    "    \n",
    "            # Append the extracted data to the data list\n",
    "            data.append([rank, champion, tier, win_rate, pick_rate,ban_rate, matches])\n",
    "        \n",
    "        except Exception as e:\n",
    "            print(f\"Error in row {i}: {e}\")\n",
    "\n",
    "\n",
    "# Convert the data list into a pandas DataFrame\n",
    "columns = ['Rank', 'Champion Name', 'Tier', 'Win rate', 'Pick Rate', 'Ban Rate', 'Matches']\n",
    "df_scraped = pd.DataFrame(data, columns=columns)\n",
    "\n",
    "driver.quit()"
   ],
   "metadata": {
    "collapsed": false,
    "ExecuteTime": {
     "end_time": "2023-09-10T16:09:14.569933600Z",
     "start_time": "2023-09-10T16:08:36.760695400Z"
    }
   },
   "id": "ca17c1ff54399316"
  },
  {
   "cell_type": "code",
   "execution_count": 25,
   "outputs": [
    {
     "data": {
      "text/plain": "  Rank Champion Name Tier Win rate Pick Rate Ban Rate Matches\n0    1         Swain    S   53.87%               1.7%  19,216\n1    2         Quinn    S   53.57%               1.8%  36,299\n2    3       Karthus    S   53.56%               5.5%  21,460\n3    4    Tryndamere    S   53.29%              13.1%  19,945\n4    5       Rek'Sai   S+   53.23%              13.6%  71,269",
      "text/html": "<div>\n<style scoped>\n    .dataframe tbody tr th:only-of-type {\n        vertical-align: middle;\n    }\n\n    .dataframe tbody tr th {\n        vertical-align: top;\n    }\n\n    .dataframe thead th {\n        text-align: right;\n    }\n</style>\n<table border=\"1\" class=\"dataframe\">\n  <thead>\n    <tr style=\"text-align: right;\">\n      <th></th>\n      <th>Rank</th>\n      <th>Champion Name</th>\n      <th>Tier</th>\n      <th>Win rate</th>\n      <th>Pick Rate</th>\n      <th>Ban Rate</th>\n      <th>Matches</th>\n    </tr>\n  </thead>\n  <tbody>\n    <tr>\n      <th>0</th>\n      <td>1</td>\n      <td>Swain</td>\n      <td>S</td>\n      <td>53.87%</td>\n      <td></td>\n      <td>1.7%</td>\n      <td>19,216</td>\n    </tr>\n    <tr>\n      <th>1</th>\n      <td>2</td>\n      <td>Quinn</td>\n      <td>S</td>\n      <td>53.57%</td>\n      <td></td>\n      <td>1.8%</td>\n      <td>36,299</td>\n    </tr>\n    <tr>\n      <th>2</th>\n      <td>3</td>\n      <td>Karthus</td>\n      <td>S</td>\n      <td>53.56%</td>\n      <td></td>\n      <td>5.5%</td>\n      <td>21,460</td>\n    </tr>\n    <tr>\n      <th>3</th>\n      <td>4</td>\n      <td>Tryndamere</td>\n      <td>S</td>\n      <td>53.29%</td>\n      <td></td>\n      <td>13.1%</td>\n      <td>19,945</td>\n    </tr>\n    <tr>\n      <th>4</th>\n      <td>5</td>\n      <td>Rek'Sai</td>\n      <td>S+</td>\n      <td>53.23%</td>\n      <td></td>\n      <td>13.6%</td>\n      <td>71,269</td>\n    </tr>\n  </tbody>\n</table>\n</div>"
     },
     "execution_count": 25,
     "metadata": {},
     "output_type": "execute_result"
    }
   ],
   "source": [
    "df_scraped.head()"
   ],
   "metadata": {
    "collapsed": false,
    "ExecuteTime": {
     "end_time": "2023-09-10T16:09:14.609922400Z",
     "start_time": "2023-09-10T16:09:14.571927600Z"
    }
   },
   "id": "5fc484ebdb0cd2fd"
  },
  {
   "cell_type": "code",
   "execution_count": 26,
   "outputs": [],
   "source": [
    "df_scraped.to_csv(r\"D:\\Datensätze\\Leaguify\\test_scraped.csv\")"
   ],
   "metadata": {
    "collapsed": false,
    "ExecuteTime": {
     "end_time": "2023-09-10T16:09:14.641389400Z",
     "start_time": "2023-09-10T16:09:14.598925700Z"
    }
   },
   "id": "54f17cf7bef3e74e"
  },
  {
   "cell_type": "code",
   "execution_count": 27,
   "outputs": [
    {
     "data": {
      "text/plain": "  Rank Champion Name Tier  Win rate  Pick Rate  Ban Rate  Matches\n0    1         Swain    S     53.87       12.0       1.7    19216\n1    2         Quinn    S     53.57       23.0       1.8    36299\n2    3       Karthus    S     53.56       13.0       5.5    21460\n3    4    Tryndamere    S     53.29       12.0      13.1    19945\n4    5       Rek'Sai   S+     53.23       44.0      13.6    71269",
      "text/html": "<div>\n<style scoped>\n    .dataframe tbody tr th:only-of-type {\n        vertical-align: middle;\n    }\n\n    .dataframe tbody tr th {\n        vertical-align: top;\n    }\n\n    .dataframe thead th {\n        text-align: right;\n    }\n</style>\n<table border=\"1\" class=\"dataframe\">\n  <thead>\n    <tr style=\"text-align: right;\">\n      <th></th>\n      <th>Rank</th>\n      <th>Champion Name</th>\n      <th>Tier</th>\n      <th>Win rate</th>\n      <th>Pick Rate</th>\n      <th>Ban Rate</th>\n      <th>Matches</th>\n    </tr>\n  </thead>\n  <tbody>\n    <tr>\n      <th>0</th>\n      <td>1</td>\n      <td>Swain</td>\n      <td>S</td>\n      <td>53.87</td>\n      <td>12.0</td>\n      <td>1.7</td>\n      <td>19216</td>\n    </tr>\n    <tr>\n      <th>1</th>\n      <td>2</td>\n      <td>Quinn</td>\n      <td>S</td>\n      <td>53.57</td>\n      <td>23.0</td>\n      <td>1.8</td>\n      <td>36299</td>\n    </tr>\n    <tr>\n      <th>2</th>\n      <td>3</td>\n      <td>Karthus</td>\n      <td>S</td>\n      <td>53.56</td>\n      <td>13.0</td>\n      <td>5.5</td>\n      <td>21460</td>\n    </tr>\n    <tr>\n      <th>3</th>\n      <td>4</td>\n      <td>Tryndamere</td>\n      <td>S</td>\n      <td>53.29</td>\n      <td>12.0</td>\n      <td>13.1</td>\n      <td>19945</td>\n    </tr>\n    <tr>\n      <th>4</th>\n      <td>5</td>\n      <td>Rek'Sai</td>\n      <td>S+</td>\n      <td>53.23</td>\n      <td>44.0</td>\n      <td>13.6</td>\n      <td>71269</td>\n    </tr>\n  </tbody>\n</table>\n</div>"
     },
     "execution_count": 27,
     "metadata": {},
     "output_type": "execute_result"
    }
   ],
   "source": [
    "# Convert 'Matches' column to integers for calculation, as it's currently in string format with commas\n",
    "df_scraped['Matches'] = df_scraped['Matches'].str.replace(',', '').astype(int)\n",
    "\n",
    "# Calculate the total number of matches\n",
    "\n",
    "total_matches = df_scraped['Matches'].sum()\n",
    "\n",
    "# Calculate the playrate (Pick Rate) for each champion\n",
    "df_scraped['Pick Rate'] = (df_scraped['Matches'] / total_matches) * 100\n",
    "\n",
    "# Convert the calculated playrate to percentage format for better readability\n",
    "df_scraped['Pick Rate'] = df_scraped['Pick Rate'].apply(lambda x: f\"{x:.2f}%\")\n",
    "\n",
    "# Remove the '%' symbol from 'Win rate' and 'Ban Rate' columns and convert them to float\n",
    "df_scraped['Win rate'] = df_scraped['Win rate'].str.rstrip('%').astype('float')\n",
    "df_scraped['Ban Rate'] = df_scraped['Ban Rate'].str.rstrip('%').astype('float')\n",
    "\n",
    "# Remove the '%' symbol from the newly calculated 'Pick Rate' and convert it to float\n",
    "df_scraped['Pick Rate'] = df_scraped['Pick Rate'].str.rstrip('%').astype('float')\n",
    "\n",
    "# Convert the 'Pick Rate' from fraction to the format like 'Win rate' (e.g., 0.55 to 55.00)\n",
    "df_scraped['Pick Rate'] = df_scraped['Pick Rate'] * 100\n",
    "\n",
    "# Show the updated DataFrame\n",
    "df_scraped.head()"
   ],
   "metadata": {
    "collapsed": false,
    "ExecuteTime": {
     "end_time": "2023-09-10T16:09:14.656006Z",
     "start_time": "2023-09-10T16:09:14.612923Z"
    }
   },
   "id": "6f90d4f6ce84dd84"
  },
  {
   "cell_type": "code",
   "execution_count": 30,
   "outputs": [
    {
     "data": {
      "text/plain": "  Rank Champion Name Tier  Win rate  Pick Rate  Ban Rate  Matches  \\\n0    1         Swain    S     53.87       12.0       1.7    19216   \n1    1         Swain    S     53.87       12.0       1.7    19216   \n2    1         Swain    S     53.87       12.0       1.7    19216   \n3    1         Swain    S     53.87       12.0       1.7    19216   \n4    1         Swain    S     53.87       12.0       1.7    19216   \n\n   gameDuration  allInPings  assistMePings  ...  turretTakedowns_y  \\\n0          1711           0              9  ...                  7   \n1          1987           0              7  ...                  1   \n2          1495           0              2  ...                  1   \n3          1528           1              3  ...                  1   \n4          1155           0              0  ...                  0   \n\n   turretsTakenWithRiftHerald  twentyMinionsIn3SecondsCount  \\\n0                           0                             4   \n1                           0                             9   \n2                           0                             8   \n3                           5                             6   \n4                           0                             1   \n\n   twoWardsOneSweeperCount  unseenRecalls  visionScoreAdvantageLaneOpponent  \\\n0                        0              0                          0.731238   \n1                        0              0                         -0.407494   \n2                        0              0                         -0.782050   \n3                        0              0                         -0.055465   \n4                        0              0                         -0.218048   \n\n   visionScorePerMinute wardTakedowns  wardTakedownsBefore20M  wardsGuarded  \n0              1.166228             4                       2             1  \n1              0.594141             1                       1             0  \n2              0.388326             1                       0             0  \n3              0.637202             4                       3             0  \n4              1.941728             1                       1             0  \n\n[5 rows x 253 columns]",
      "text/html": "<div>\n<style scoped>\n    .dataframe tbody tr th:only-of-type {\n        vertical-align: middle;\n    }\n\n    .dataframe tbody tr th {\n        vertical-align: top;\n    }\n\n    .dataframe thead th {\n        text-align: right;\n    }\n</style>\n<table border=\"1\" class=\"dataframe\">\n  <thead>\n    <tr style=\"text-align: right;\">\n      <th></th>\n      <th>Rank</th>\n      <th>Champion Name</th>\n      <th>Tier</th>\n      <th>Win rate</th>\n      <th>Pick Rate</th>\n      <th>Ban Rate</th>\n      <th>Matches</th>\n      <th>gameDuration</th>\n      <th>allInPings</th>\n      <th>assistMePings</th>\n      <th>...</th>\n      <th>turretTakedowns_y</th>\n      <th>turretsTakenWithRiftHerald</th>\n      <th>twentyMinionsIn3SecondsCount</th>\n      <th>twoWardsOneSweeperCount</th>\n      <th>unseenRecalls</th>\n      <th>visionScoreAdvantageLaneOpponent</th>\n      <th>visionScorePerMinute</th>\n      <th>wardTakedowns</th>\n      <th>wardTakedownsBefore20M</th>\n      <th>wardsGuarded</th>\n    </tr>\n  </thead>\n  <tbody>\n    <tr>\n      <th>0</th>\n      <td>1</td>\n      <td>Swain</td>\n      <td>S</td>\n      <td>53.87</td>\n      <td>12.0</td>\n      <td>1.7</td>\n      <td>19216</td>\n      <td>1711</td>\n      <td>0</td>\n      <td>9</td>\n      <td>...</td>\n      <td>7</td>\n      <td>0</td>\n      <td>4</td>\n      <td>0</td>\n      <td>0</td>\n      <td>0.731238</td>\n      <td>1.166228</td>\n      <td>4</td>\n      <td>2</td>\n      <td>1</td>\n    </tr>\n    <tr>\n      <th>1</th>\n      <td>1</td>\n      <td>Swain</td>\n      <td>S</td>\n      <td>53.87</td>\n      <td>12.0</td>\n      <td>1.7</td>\n      <td>19216</td>\n      <td>1987</td>\n      <td>0</td>\n      <td>7</td>\n      <td>...</td>\n      <td>1</td>\n      <td>0</td>\n      <td>9</td>\n      <td>0</td>\n      <td>0</td>\n      <td>-0.407494</td>\n      <td>0.594141</td>\n      <td>1</td>\n      <td>1</td>\n      <td>0</td>\n    </tr>\n    <tr>\n      <th>2</th>\n      <td>1</td>\n      <td>Swain</td>\n      <td>S</td>\n      <td>53.87</td>\n      <td>12.0</td>\n      <td>1.7</td>\n      <td>19216</td>\n      <td>1495</td>\n      <td>0</td>\n      <td>2</td>\n      <td>...</td>\n      <td>1</td>\n      <td>0</td>\n      <td>8</td>\n      <td>0</td>\n      <td>0</td>\n      <td>-0.782050</td>\n      <td>0.388326</td>\n      <td>1</td>\n      <td>0</td>\n      <td>0</td>\n    </tr>\n    <tr>\n      <th>3</th>\n      <td>1</td>\n      <td>Swain</td>\n      <td>S</td>\n      <td>53.87</td>\n      <td>12.0</td>\n      <td>1.7</td>\n      <td>19216</td>\n      <td>1528</td>\n      <td>1</td>\n      <td>3</td>\n      <td>...</td>\n      <td>1</td>\n      <td>5</td>\n      <td>6</td>\n      <td>0</td>\n      <td>0</td>\n      <td>-0.055465</td>\n      <td>0.637202</td>\n      <td>4</td>\n      <td>3</td>\n      <td>0</td>\n    </tr>\n    <tr>\n      <th>4</th>\n      <td>1</td>\n      <td>Swain</td>\n      <td>S</td>\n      <td>53.87</td>\n      <td>12.0</td>\n      <td>1.7</td>\n      <td>19216</td>\n      <td>1155</td>\n      <td>0</td>\n      <td>0</td>\n      <td>...</td>\n      <td>0</td>\n      <td>0</td>\n      <td>1</td>\n      <td>0</td>\n      <td>0</td>\n      <td>-0.218048</td>\n      <td>1.941728</td>\n      <td>1</td>\n      <td>1</td>\n      <td>0</td>\n    </tr>\n  </tbody>\n</table>\n<p>5 rows × 253 columns</p>\n</div>"
     },
     "execution_count": 30,
     "metadata": {},
     "output_type": "execute_result"
    }
   ],
   "source": [
    "# Combine the two DataFrames based on the \"Champion Name\" column\n",
    "df_combined = pd.merge(df_scraped, df, left_on='Champion Name', right_on='championName', how='inner')\n",
    "\n",
    "# Show the first few rows of the combined DataFrame\n",
    "df_combined.head()"
   ],
   "metadata": {
    "collapsed": false,
    "ExecuteTime": {
     "end_time": "2023-09-10T16:38:04.428692100Z",
     "start_time": "2023-09-10T16:38:03.990308900Z"
    }
   },
   "id": "787713ba25f13e39"
  },
  {
   "cell_type": "code",
   "execution_count": 32,
   "outputs": [],
   "source": [
    "df_combined.to_csv(r\"D:\\Datensätze\\Leaguify\\combined.csv\")"
   ],
   "metadata": {
    "collapsed": false,
    "ExecuteTime": {
     "end_time": "2023-09-10T16:45:31.055903100Z",
     "start_time": "2023-09-10T16:45:21.907363400Z"
    }
   },
   "id": "1ac40f2adc118fe9"
  },
  {
   "cell_type": "code",
   "execution_count": null,
   "outputs": [],
   "source": [],
   "metadata": {
    "collapsed": false,
    "ExecuteTime": {
     "end_time": "2023-09-11T07:37:26.448318400Z",
     "start_time": "2023-09-11T07:37:26.432265800Z"
    }
   },
   "id": "330e79c1c836877e"
  },
  {
   "cell_type": "code",
   "execution_count": null,
   "outputs": [],
   "source": [],
   "metadata": {
    "collapsed": false,
    "ExecuteTime": {
     "end_time": "2023-09-11T07:37:26.464382900Z",
     "start_time": "2023-09-11T07:37:26.447318300Z"
    }
   },
   "id": "3887a536a83d4aea"
  },
  {
   "cell_type": "code",
   "execution_count": null,
   "outputs": [],
   "source": [],
   "metadata": {
    "collapsed": false
   },
   "id": "6c46385b63221462"
  }
 ],
 "metadata": {
  "kernelspec": {
   "display_name": "Python 3",
   "language": "python",
   "name": "python3"
  },
  "language_info": {
   "codemirror_mode": {
    "name": "ipython",
    "version": 2
   },
   "file_extension": ".py",
   "mimetype": "text/x-python",
   "name": "python",
   "nbconvert_exporter": "python",
   "pygments_lexer": "ipython2",
   "version": "2.7.6"
  }
 },
 "nbformat": 4,
 "nbformat_minor": 5
}
