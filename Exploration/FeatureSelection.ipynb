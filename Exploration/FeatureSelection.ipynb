{
 "cells": [
  {
   "cell_type": "code",
   "execution_count": 2,
   "id": "initial_id",
   "metadata": {
    "collapsed": true,
    "ExecuteTime": {
     "end_time": "2024-01-13T08:00:09.557842Z",
     "start_time": "2024-01-13T07:59:51.003679Z"
    }
   },
   "outputs": [
    {
     "name": "stderr",
     "output_type": "stream",
     "text": [
      "IProgress not found. Please update jupyter and ipywidgets. See https://ipywidgets.readthedocs.io/en/stable/user_install.html\n"
     ]
    }
   ],
   "source": [
    "import pickle\n",
    "import pandas as pd\n",
    "import numpy as np\n",
    "from sklearn.model_selection import train_test_split\n",
    "from sklearn.preprocessing import StandardScaler\n",
    "#from ydata_profiling import ProfileReport\n",
    "import src.dataHandling.cleaningUtils as clean\n",
    "import os\n",
    "import xgboost as xgb\n",
    "import shap\n",
    "import matplotlib.pyplot as plt\n",
    "from sklearn.inspection import permutation_importance\n",
    "import seaborn as sns\n",
    "import matplotlib\n",
    "\n",
    "matplotlib.use(\"pgf\")\n",
    "matplotlib.rcParams.update({\n",
    "    \"pgf.texsystem\": \"pdflatex\",\n",
    "    'font.family': 'serif',\n",
    "    'text.usetex': True,\n",
    "    'pgf.rcfonts': False,\n",
    "})"
   ]
  },
  {
   "cell_type": "code",
   "execution_count": 3,
   "outputs": [],
   "source": [
    "def drop_irrelevant(df: pd.DataFrame) -> pd.DataFrame:\n",
    "    \"\"\"\n",
    "    drops columns which are irrelevant for the model (mostly ids)\n",
    "    :param df: pd.DataFrame\n",
    "    :return: None\n",
    "    \"\"\"\n",
    "    irrelevant_cols = []\n",
    "    general_irrelevant = ['gameDuration', 'gameCreation', 'gameVersion', 'mapId', 'queueId', 'patch', 'seasonId',\n",
    "                          'platformId']\n",
    "    irrelevant_cols.extend(general_irrelevant)\n",
    "    participant_irrelevant = ['win', 'lp', 'inactive', 'teamId']\n",
    "    for i in range(1, 11):\n",
    "        for col in participant_irrelevant:\n",
    "            irrelevant_cols.append(f'participant{i}_{col}')\n",
    "    df_new = df.drop(columns=irrelevant_cols)\n",
    "    return df_new"
   ],
   "metadata": {
    "collapsed": false,
    "ExecuteTime": {
     "end_time": "2024-01-13T08:00:09.579799Z",
     "start_time": "2024-01-13T08:00:09.562754Z"
    }
   },
   "id": "37aa079e4aebef2a"
  },
  {
   "cell_type": "code",
   "execution_count": 4,
   "outputs": [
    {
     "name": "stdout",
     "output_type": "stream",
     "text": [
      "found 51361 rows\n",
      "dropped wrong mapId\n",
      "dropped wrong queueId\n",
      "dropped wrong gameDuration\n",
      "dropped wrong seasonId\n",
      "dropped wrong gameVersion\n",
      "dropped wrong patch\n",
      "dropped 0 wrong rows\n",
      "dropped 78 rows because of wrong teamIds\n",
      "dropped 12710 rows\n"
     ]
    }
   ],
   "source": [
    "try:\n",
    "    with open(\"data/static_16_12_23/raw/static_full.pkl\", \"rb\") as f:\n",
    "        df = pickle.load(f)\n",
    "except FileNotFoundError:\n",
    "    os.chdir('../')\n",
    "    with open(\"data/static_16_12_23/raw/static_full.pkl\", \"rb\") as f:\n",
    "        df = pickle.load(f)\n",
    "df = clean.drop_wrong_data(df)\n",
    "df.reset_index(drop=True, inplace=True)\n",
    "df = clean.fix_rank(df)\n",
    "df = clean.calc_winrate(df)\n",
    "df = clean.fix_teamId(df)\n",
    "df = clean.convert_booleans(df)\n",
    "df = clean.convert_lastPlayTime(df)\n",
    "df = clean.convert_championTier(df)\n",
    "df = clean.get_winning_team(df)  # this has to be the last step where a column is inserted\n",
    "df = clean.drop_wrong_teamIds(df)\n",
    "df = drop_irrelevant(df)\n",
    "df = clean.drop_missing(df)\n",
    "assert df.columns[-1] == 'label'\n",
    "X_train, X_test, y_train, y_test = train_test_split(df.iloc[:, :-1],\n",
    "                                                    df.iloc[:, -1],\n",
    "                                                    test_size=0.1,\n",
    "                                                    random_state=42,\n",
    "                                                    shuffle=True)\n",
    "X_train, X_val, y_train, y_val = train_test_split(X_train,\n",
    "                                                  y_train,\n",
    "                                                  test_size=0.1,\n",
    "                                                  random_state=42,\n",
    "                                                  shuffle=True)\n",
    "df = df.copy()"
   ],
   "metadata": {
    "collapsed": false,
    "ExecuteTime": {
     "end_time": "2024-01-13T08:00:34.171966Z",
     "start_time": "2024-01-13T08:00:09.577403Z"
    }
   },
   "id": "261ad8c4b7e1a066"
  },
  {
   "cell_type": "code",
   "execution_count": 5,
   "outputs": [
    {
     "data": {
      "text/plain": "38573"
     },
     "execution_count": 5,
     "metadata": {},
     "output_type": "execute_result"
    }
   ],
   "source": [
    "len(df)"
   ],
   "metadata": {
    "collapsed": false,
    "ExecuteTime": {
     "end_time": "2024-01-13T08:00:34.186271Z",
     "start_time": "2024-01-13T08:00:34.177821Z"
    }
   },
   "id": "a3a8febd6d62b752"
  },
  {
   "cell_type": "code",
   "execution_count": 6,
   "outputs": [
    {
     "data": {
      "text/plain": "   participant1_level  participant1_champion_championNumber  \\\n0                 988                                    83   \n1                 121                                   150   \n2                 739                                   164   \n3                 841                                    54   \n4                 766                                    24   \n\n   participant1_champion_infoAttack  participant1_champion_infoDefense  \\\n0                                 6                                  6   \n1                                 6                                  5   \n2                                 8                                  6   \n3                                 5                                  9   \n4                                 7                                  5   \n\n   participant1_champion_infoMagic  participant1_champion_infoDifficulty  \\\n0                                4                                     6   \n1                                5                                     8   \n2                                3                                     4   \n3                                7                                     2   \n4                                7                                     5   \n\n   participant1_champion_tier  participant1_champion_win_rate  \\\n0                           2                           49.86   \n1                           2                           49.75   \n2                           5                           53.02   \n3                           5                           51.50   \n4                           0                           48.49   \n\n   participant1_champion_pick_rate  participant1_champion_ban_rate  ...  \\\n0                              2.2                             2.2  ...   \n1                              0.4                             0.4  ...   \n2                              3.0                             3.0  ...   \n3                             15.2                            15.2  ...   \n4                             16.8                            16.8  ...   \n\n   participant2_winrate  participant3_winrate  participant4_winrate  \\\n0              0.800000              0.544262              0.666667   \n1              0.833333              0.539648              0.530172   \n2              0.000000              0.513369              0.588235   \n3              0.541528              0.524000              0.653846   \n4              0.517751              0.536443              0.504360   \n\n   participant5_winrate  participant6_winrate  participant7_winrate  \\\n0              0.512315              0.630631              0.524548   \n1              0.576923              0.534060              0.537559   \n2              0.510145              0.600000              0.537559   \n3              0.511971              0.506912              0.553476   \n4              0.562264              0.368421              0.666667   \n\n   participant8_winrate  participant9_winrate  participant10_winrate  label  \n0              0.511364              0.522696               0.550562      1  \n1              0.527559              0.588235               0.511971      1  \n2              0.539648              0.527950               0.500000      1  \n3              0.525275              0.468750               0.508163      1  \n4              0.428571              0.583333               0.622449      0  \n\n[5 rows x 301 columns]",
      "text/html": "<div>\n<style scoped>\n    .dataframe tbody tr th:only-of-type {\n        vertical-align: middle;\n    }\n\n    .dataframe tbody tr th {\n        vertical-align: top;\n    }\n\n    .dataframe thead th {\n        text-align: right;\n    }\n</style>\n<table border=\"1\" class=\"dataframe\">\n  <thead>\n    <tr style=\"text-align: right;\">\n      <th></th>\n      <th>participant1_level</th>\n      <th>participant1_champion_championNumber</th>\n      <th>participant1_champion_infoAttack</th>\n      <th>participant1_champion_infoDefense</th>\n      <th>participant1_champion_infoMagic</th>\n      <th>participant1_champion_infoDifficulty</th>\n      <th>participant1_champion_tier</th>\n      <th>participant1_champion_win_rate</th>\n      <th>participant1_champion_pick_rate</th>\n      <th>participant1_champion_ban_rate</th>\n      <th>...</th>\n      <th>participant2_winrate</th>\n      <th>participant3_winrate</th>\n      <th>participant4_winrate</th>\n      <th>participant5_winrate</th>\n      <th>participant6_winrate</th>\n      <th>participant7_winrate</th>\n      <th>participant8_winrate</th>\n      <th>participant9_winrate</th>\n      <th>participant10_winrate</th>\n      <th>label</th>\n    </tr>\n  </thead>\n  <tbody>\n    <tr>\n      <th>0</th>\n      <td>988</td>\n      <td>83</td>\n      <td>6</td>\n      <td>6</td>\n      <td>4</td>\n      <td>6</td>\n      <td>2</td>\n      <td>49.86</td>\n      <td>2.2</td>\n      <td>2.2</td>\n      <td>...</td>\n      <td>0.800000</td>\n      <td>0.544262</td>\n      <td>0.666667</td>\n      <td>0.512315</td>\n      <td>0.630631</td>\n      <td>0.524548</td>\n      <td>0.511364</td>\n      <td>0.522696</td>\n      <td>0.550562</td>\n      <td>1</td>\n    </tr>\n    <tr>\n      <th>1</th>\n      <td>121</td>\n      <td>150</td>\n      <td>6</td>\n      <td>5</td>\n      <td>5</td>\n      <td>8</td>\n      <td>2</td>\n      <td>49.75</td>\n      <td>0.4</td>\n      <td>0.4</td>\n      <td>...</td>\n      <td>0.833333</td>\n      <td>0.539648</td>\n      <td>0.530172</td>\n      <td>0.576923</td>\n      <td>0.534060</td>\n      <td>0.537559</td>\n      <td>0.527559</td>\n      <td>0.588235</td>\n      <td>0.511971</td>\n      <td>1</td>\n    </tr>\n    <tr>\n      <th>2</th>\n      <td>739</td>\n      <td>164</td>\n      <td>8</td>\n      <td>6</td>\n      <td>3</td>\n      <td>4</td>\n      <td>5</td>\n      <td>53.02</td>\n      <td>3.0</td>\n      <td>3.0</td>\n      <td>...</td>\n      <td>0.000000</td>\n      <td>0.513369</td>\n      <td>0.588235</td>\n      <td>0.510145</td>\n      <td>0.600000</td>\n      <td>0.537559</td>\n      <td>0.539648</td>\n      <td>0.527950</td>\n      <td>0.500000</td>\n      <td>1</td>\n    </tr>\n    <tr>\n      <th>3</th>\n      <td>841</td>\n      <td>54</td>\n      <td>5</td>\n      <td>9</td>\n      <td>7</td>\n      <td>2</td>\n      <td>5</td>\n      <td>51.50</td>\n      <td>15.2</td>\n      <td>15.2</td>\n      <td>...</td>\n      <td>0.541528</td>\n      <td>0.524000</td>\n      <td>0.653846</td>\n      <td>0.511971</td>\n      <td>0.506912</td>\n      <td>0.553476</td>\n      <td>0.525275</td>\n      <td>0.468750</td>\n      <td>0.508163</td>\n      <td>1</td>\n    </tr>\n    <tr>\n      <th>4</th>\n      <td>766</td>\n      <td>24</td>\n      <td>7</td>\n      <td>5</td>\n      <td>7</td>\n      <td>5</td>\n      <td>0</td>\n      <td>48.49</td>\n      <td>16.8</td>\n      <td>16.8</td>\n      <td>...</td>\n      <td>0.517751</td>\n      <td>0.536443</td>\n      <td>0.504360</td>\n      <td>0.562264</td>\n      <td>0.368421</td>\n      <td>0.666667</td>\n      <td>0.428571</td>\n      <td>0.583333</td>\n      <td>0.622449</td>\n      <td>0</td>\n    </tr>\n  </tbody>\n</table>\n<p>5 rows × 301 columns</p>\n</div>"
     },
     "execution_count": 6,
     "metadata": {},
     "output_type": "execute_result"
    }
   ],
   "source": [
    "df.head()"
   ],
   "metadata": {
    "collapsed": false,
    "ExecuteTime": {
     "end_time": "2024-01-13T08:00:34.211647Z",
     "start_time": "2024-01-13T08:00:34.186710Z"
    }
   },
   "id": "28d878a986cc12df"
  },
  {
   "cell_type": "code",
   "execution_count": 7,
   "outputs": [],
   "source": [
    "kda_columns = ['participant1_champion_kda', 'participant2_champion_kda', 'participant3_champion_kda',\n",
    "               'participant4_champion_kda', 'participant5_champion_kda', 'participant6_champion_kda',\n",
    "               'participant7_champion_kda', 'participant8_champion_kda', 'participant9_champion_kda',\n",
    "               'participant10_champion_kda']\n"
   ],
   "metadata": {
    "collapsed": false,
    "ExecuteTime": {
     "end_time": "2024-01-13T08:00:34.217258Z",
     "start_time": "2024-01-13T08:00:34.211888Z"
    }
   },
   "id": "f7ce7dee4ac834a2"
  },
  {
   "cell_type": "code",
   "execution_count": 8,
   "outputs": [
    {
     "data": {
      "text/plain": "label                                1.000000\nparticipant4_kda                     0.150714\nparticipant7_kda                     0.144979\nparticipant9_kda                     0.144269\nparticipant5_kda                     0.142817\n                                       ...   \nparticipant5_champion_infoAttack     0.000370\nparticipant7_level                   0.000297\nparticipant3_champion_infoDefense    0.000260\nparticipant9_level                   0.000204\nparticipant5_level                   0.000113\nName: label, Length: 301, dtype: float64"
     },
     "execution_count": 8,
     "metadata": {},
     "output_type": "execute_result"
    }
   ],
   "source": [
    "corr_pearson = df.corr()\n",
    "corr_pearson_target = abs(corr_pearson[\"label\"])\n",
    "relevant_features = corr_pearson_target[corr_pearson_target > 0.05]\n",
    "corr_pearson_target.sort_values(ascending=False)\n"
   ],
   "metadata": {
    "collapsed": false,
    "ExecuteTime": {
     "end_time": "2024-01-13T08:00:43.523033Z",
     "start_time": "2024-01-13T08:00:34.218839Z"
    }
   },
   "id": "519b709a4fdb00f6"
  },
  {
   "cell_type": "code",
   "execution_count": 9,
   "outputs": [
    {
     "data": {
      "text/plain": "Index([], dtype='object')"
     },
     "execution_count": 9,
     "metadata": {},
     "output_type": "execute_result"
    }
   ],
   "source": [
    "nunique = df.nunique()\n",
    "cols_to_drop = nunique[nunique == 1].index\n",
    "cols_to_drop"
   ],
   "metadata": {
    "collapsed": false,
    "ExecuteTime": {
     "end_time": "2024-01-13T08:00:43.770462Z",
     "start_time": "2024-01-13T08:00:43.525318Z"
    }
   },
   "id": "d987b375a6b3a51b"
  },
  {
   "cell_type": "code",
   "execution_count": 10,
   "outputs": [],
   "source": [
    "from scipy.stats import pearsonr\n",
    "\n",
    "results = []\n",
    "for column in df.columns:\n",
    "    if column != 'label':\n",
    "        corr, pval = pearsonr(df[column], df['label'])\n",
    "        results.append({'Feature': column, 'Correlation': corr, 'P-Value': pval})\n",
    "\n",
    "results_df = pd.DataFrame(results)\n",
    "results_df = results_df.sort_values(by='Correlation', ascending=False, key=abs)"
   ],
   "metadata": {
    "collapsed": false,
    "ExecuteTime": {
     "end_time": "2024-01-13T08:00:44.427650Z",
     "start_time": "2024-01-13T08:00:43.775391Z"
    }
   },
   "id": "9cf997a46e4352de"
  },
  {
   "cell_type": "code",
   "execution_count": 11,
   "outputs": [
    {
     "data": {
      "text/plain": "                               Feature  Correlation        P-Value\n108                   participant4_kda    -0.150714  9.719834e-195\n195                   participant7_kda     0.144979  3.349315e-180\n253                   participant9_kda     0.144269  1.918576e-178\n137                   participant5_kda    -0.142817  7.112282e-175\n50                    participant2_kda    -0.141945  9.490762e-173\n..                                 ...          ...            ...\n118   participant5_champion_infoAttack    -0.000370   9.421306e-01\n174                 participant7_level    -0.000297   9.534331e-01\n61   participant3_champion_infoDefense     0.000260   9.592288e-01\n232                 participant9_level     0.000204   9.680916e-01\n116                 participant5_level     0.000113   9.823211e-01\n\n[300 rows x 3 columns]",
      "text/html": "<div>\n<style scoped>\n    .dataframe tbody tr th:only-of-type {\n        vertical-align: middle;\n    }\n\n    .dataframe tbody tr th {\n        vertical-align: top;\n    }\n\n    .dataframe thead th {\n        text-align: right;\n    }\n</style>\n<table border=\"1\" class=\"dataframe\">\n  <thead>\n    <tr style=\"text-align: right;\">\n      <th></th>\n      <th>Feature</th>\n      <th>Correlation</th>\n      <th>P-Value</th>\n    </tr>\n  </thead>\n  <tbody>\n    <tr>\n      <th>108</th>\n      <td>participant4_kda</td>\n      <td>-0.150714</td>\n      <td>9.719834e-195</td>\n    </tr>\n    <tr>\n      <th>195</th>\n      <td>participant7_kda</td>\n      <td>0.144979</td>\n      <td>3.349315e-180</td>\n    </tr>\n    <tr>\n      <th>253</th>\n      <td>participant9_kda</td>\n      <td>0.144269</td>\n      <td>1.918576e-178</td>\n    </tr>\n    <tr>\n      <th>137</th>\n      <td>participant5_kda</td>\n      <td>-0.142817</td>\n      <td>7.112282e-175</td>\n    </tr>\n    <tr>\n      <th>50</th>\n      <td>participant2_kda</td>\n      <td>-0.141945</td>\n      <td>9.490762e-173</td>\n    </tr>\n    <tr>\n      <th>...</th>\n      <td>...</td>\n      <td>...</td>\n      <td>...</td>\n    </tr>\n    <tr>\n      <th>118</th>\n      <td>participant5_champion_infoAttack</td>\n      <td>-0.000370</td>\n      <td>9.421306e-01</td>\n    </tr>\n    <tr>\n      <th>174</th>\n      <td>participant7_level</td>\n      <td>-0.000297</td>\n      <td>9.534331e-01</td>\n    </tr>\n    <tr>\n      <th>61</th>\n      <td>participant3_champion_infoDefense</td>\n      <td>0.000260</td>\n      <td>9.592288e-01</td>\n    </tr>\n    <tr>\n      <th>232</th>\n      <td>participant9_level</td>\n      <td>0.000204</td>\n      <td>9.680916e-01</td>\n    </tr>\n    <tr>\n      <th>116</th>\n      <td>participant5_level</td>\n      <td>0.000113</td>\n      <td>9.823211e-01</td>\n    </tr>\n  </tbody>\n</table>\n<p>300 rows × 3 columns</p>\n</div>"
     },
     "execution_count": 11,
     "metadata": {},
     "output_type": "execute_result"
    }
   ],
   "source": [
    "results_df"
   ],
   "metadata": {
    "collapsed": false,
    "ExecuteTime": {
     "end_time": "2024-01-13T08:00:44.462063Z",
     "start_time": "2024-01-13T08:00:44.442724Z"
    }
   },
   "id": "eb5f588425177099"
  },
  {
   "cell_type": "code",
   "execution_count": 12,
   "outputs": [],
   "source": [
    "results_df['Correlation'] = results_df['Correlation'].abs().sort_values(ascending=False)"
   ],
   "metadata": {
    "collapsed": false,
    "ExecuteTime": {
     "end_time": "2024-01-13T08:00:44.481762Z",
     "start_time": "2024-01-13T08:00:44.452874Z"
    }
   },
   "id": "ad1dfcb809d8eb2f"
  },
  {
   "cell_type": "code",
   "execution_count": 13,
   "outputs": [
    {
     "data": {
      "text/plain": "              Feature  Correlation        P-Value category\n108  participant4_kda     0.150714  9.719834e-195      kda\n195  participant7_kda     0.144979  3.349315e-180      kda\n253  participant9_kda     0.144269  1.918576e-178      kda\n137  participant5_kda     0.142817  7.112282e-175      kda\n50   participant2_kda     0.141945  9.490762e-173      kda",
      "text/html": "<div>\n<style scoped>\n    .dataframe tbody tr th:only-of-type {\n        vertical-align: middle;\n    }\n\n    .dataframe tbody tr th {\n        vertical-align: top;\n    }\n\n    .dataframe thead th {\n        text-align: right;\n    }\n</style>\n<table border=\"1\" class=\"dataframe\">\n  <thead>\n    <tr style=\"text-align: right;\">\n      <th></th>\n      <th>Feature</th>\n      <th>Correlation</th>\n      <th>P-Value</th>\n      <th>category</th>\n    </tr>\n  </thead>\n  <tbody>\n    <tr>\n      <th>108</th>\n      <td>participant4_kda</td>\n      <td>0.150714</td>\n      <td>9.719834e-195</td>\n      <td>kda</td>\n    </tr>\n    <tr>\n      <th>195</th>\n      <td>participant7_kda</td>\n      <td>0.144979</td>\n      <td>3.349315e-180</td>\n      <td>kda</td>\n    </tr>\n    <tr>\n      <th>253</th>\n      <td>participant9_kda</td>\n      <td>0.144269</td>\n      <td>1.918576e-178</td>\n      <td>kda</td>\n    </tr>\n    <tr>\n      <th>137</th>\n      <td>participant5_kda</td>\n      <td>0.142817</td>\n      <td>7.112282e-175</td>\n      <td>kda</td>\n    </tr>\n    <tr>\n      <th>50</th>\n      <td>participant2_kda</td>\n      <td>0.141945</td>\n      <td>9.490762e-173</td>\n      <td>kda</td>\n    </tr>\n  </tbody>\n</table>\n</div>"
     },
     "execution_count": 13,
     "metadata": {},
     "output_type": "execute_result"
    }
   ],
   "source": [
    "results_df['category'] = results_df['Feature'].str.extract(r'(participant\\d+)_(\\w+)', expand=False)[1]\n",
    "#pd.set_option('display.max_rows', results_df.shape[0]+1)\n",
    "pd.set_option('display.max_rows', 10)\n",
    "results_df.head()"
   ],
   "metadata": {
    "collapsed": false,
    "ExecuteTime": {
     "end_time": "2024-01-13T08:00:44.548454Z",
     "start_time": "2024-01-13T08:00:44.474400Z"
    }
   },
   "id": "326ddd83251f5579"
  },
  {
   "cell_type": "code",
   "execution_count": 46,
   "outputs": [],
   "source": [
    "average_per_category = results_df.groupby('category')['Correlation'].mean().sort_values(ascending=False)\n",
    "df_avg = average_per_category.reset_index()\n",
    "df_avg.columns = ['Category', 'Correlation']\n",
    "df_avg['Category'] = df_avg['Category'].str.replace('_', '')"
   ],
   "metadata": {
    "collapsed": false,
    "ExecuteTime": {
     "end_time": "2024-01-12T18:06:28.410521Z",
     "start_time": "2024-01-12T18:06:28.384746Z"
    }
   },
   "id": "1623a9aff3797064"
  },
  {
   "cell_type": "code",
   "execution_count": 49,
   "outputs": [],
   "source": [
    "blue_palette = sns.color_palette(\"blend:cornflowerblue,navy\", 5)  # Adjust the number if needed\n",
    "red_palette = sns.color_palette(\"blend:lightcoral,firebrick\", 5)  # Adjust the number if needed\n",
    "\n",
    "# Combine the palettes\n",
    "combined_palette = sns.color_palette(\"coolwarm_r\", len(df_avg))\n",
    "\n",
    "plt.figure(figsize=(12, 8))\n",
    "ax = sns.barplot(y='Category', x='Correlation', data=df_avg, palette=combined_palette)\n",
    "ax.set_ylabel('')\n",
    "plt.xticks(rotation=45)\n",
    "plt.title(\"Pearson's Correlation\")\n",
    "plt.tight_layout()\n",
    "plt.savefig('thesis/images/pearson_correlation.pgf', bbox_inches='tight')"
   ],
   "metadata": {
    "collapsed": false,
    "ExecuteTime": {
     "end_time": "2024-01-12T18:16:42.618679Z",
     "start_time": "2024-01-12T18:16:41.176314Z"
    }
   },
   "id": "a041c6b29614861d"
  },
  {
   "cell_type": "code",
   "execution_count": 41,
   "outputs": [],
   "source": [
    "bst = xgb.XGBClassifier(n_estimators=100, max_depth=30, learning_rate=0.1, objective='binary:logistic')"
   ],
   "metadata": {
    "collapsed": false,
    "ExecuteTime": {
     "end_time": "2024-01-12T17:54:10.894809Z",
     "start_time": "2024-01-12T17:54:10.885151Z"
    }
   },
   "id": "ac9855d36755ccf3"
  },
  {
   "cell_type": "code",
   "execution_count": 42,
   "outputs": [
    {
     "name": "stdout",
     "output_type": "stream",
     "text": [
      "[18:54:11] WARNING: /var/folders/sy/f16zz6x50xz3113nwtb9bvq00000gp/T/abs_b2k4a2hea3/croot/xgboost-split_1675457783214/work/src/learner.cc:767: \n",
      "Parameters: { \"device\" } are not used.\n"
     ]
    },
    {
     "ename": "KeyboardInterrupt",
     "evalue": "",
     "output_type": "error",
     "traceback": [
      "\u001B[0;31m---------------------------------------------------------------------------\u001B[0m",
      "\u001B[0;31mKeyboardInterrupt\u001B[0m                         Traceback (most recent call last)",
      "Cell \u001B[0;32mIn[42], line 1\u001B[0m\n\u001B[0;32m----> 1\u001B[0m \u001B[43mbst\u001B[49m\u001B[38;5;241;43m.\u001B[39;49m\u001B[43mfit\u001B[49m\u001B[43m(\u001B[49m\u001B[43mX_train\u001B[49m\u001B[43m,\u001B[49m\u001B[43m \u001B[49m\u001B[43my_train\u001B[49m\u001B[43m)\u001B[49m\n",
      "File \u001B[0;32m~/opt/miniconda3/envs/Leaguify/lib/python3.10/site-packages/xgboost/core.py:620\u001B[0m, in \u001B[0;36mrequire_keyword_args.<locals>.throw_if.<locals>.inner_f\u001B[0;34m(*args, **kwargs)\u001B[0m\n\u001B[1;32m    618\u001B[0m \u001B[38;5;28;01mfor\u001B[39;00m k, arg \u001B[38;5;129;01min\u001B[39;00m \u001B[38;5;28mzip\u001B[39m(sig\u001B[38;5;241m.\u001B[39mparameters, args):\n\u001B[1;32m    619\u001B[0m     kwargs[k] \u001B[38;5;241m=\u001B[39m arg\n\u001B[0;32m--> 620\u001B[0m \u001B[38;5;28;01mreturn\u001B[39;00m \u001B[43mfunc\u001B[49m\u001B[43m(\u001B[49m\u001B[38;5;241;43m*\u001B[39;49m\u001B[38;5;241;43m*\u001B[39;49m\u001B[43mkwargs\u001B[49m\u001B[43m)\u001B[49m\n",
      "File \u001B[0;32m~/opt/miniconda3/envs/Leaguify/lib/python3.10/site-packages/xgboost/sklearn.py:1490\u001B[0m, in \u001B[0;36mXGBClassifier.fit\u001B[0;34m(self, X, y, sample_weight, base_margin, eval_set, eval_metric, early_stopping_rounds, verbose, xgb_model, sample_weight_eval_set, base_margin_eval_set, feature_weights, callbacks)\u001B[0m\n\u001B[1;32m   1462\u001B[0m (\n\u001B[1;32m   1463\u001B[0m     model,\n\u001B[1;32m   1464\u001B[0m     metric,\n\u001B[0;32m   (...)\u001B[0m\n\u001B[1;32m   1469\u001B[0m     xgb_model, eval_metric, params, early_stopping_rounds, callbacks\n\u001B[1;32m   1470\u001B[0m )\n\u001B[1;32m   1471\u001B[0m train_dmatrix, evals \u001B[38;5;241m=\u001B[39m _wrap_evaluation_matrices(\n\u001B[1;32m   1472\u001B[0m     missing\u001B[38;5;241m=\u001B[39m\u001B[38;5;28mself\u001B[39m\u001B[38;5;241m.\u001B[39mmissing,\n\u001B[1;32m   1473\u001B[0m     X\u001B[38;5;241m=\u001B[39mX,\n\u001B[0;32m   (...)\u001B[0m\n\u001B[1;32m   1487\u001B[0m     feature_types\u001B[38;5;241m=\u001B[39m\u001B[38;5;28mself\u001B[39m\u001B[38;5;241m.\u001B[39mfeature_types,\n\u001B[1;32m   1488\u001B[0m )\n\u001B[0;32m-> 1490\u001B[0m \u001B[38;5;28mself\u001B[39m\u001B[38;5;241m.\u001B[39m_Booster \u001B[38;5;241m=\u001B[39m \u001B[43mtrain\u001B[49m\u001B[43m(\u001B[49m\n\u001B[1;32m   1491\u001B[0m \u001B[43m    \u001B[49m\u001B[43mparams\u001B[49m\u001B[43m,\u001B[49m\n\u001B[1;32m   1492\u001B[0m \u001B[43m    \u001B[49m\u001B[43mtrain_dmatrix\u001B[49m\u001B[43m,\u001B[49m\n\u001B[1;32m   1493\u001B[0m \u001B[43m    \u001B[49m\u001B[38;5;28;43mself\u001B[39;49m\u001B[38;5;241;43m.\u001B[39;49m\u001B[43mget_num_boosting_rounds\u001B[49m\u001B[43m(\u001B[49m\u001B[43m)\u001B[49m\u001B[43m,\u001B[49m\n\u001B[1;32m   1494\u001B[0m \u001B[43m    \u001B[49m\u001B[43mevals\u001B[49m\u001B[38;5;241;43m=\u001B[39;49m\u001B[43mevals\u001B[49m\u001B[43m,\u001B[49m\n\u001B[1;32m   1495\u001B[0m \u001B[43m    \u001B[49m\u001B[43mearly_stopping_rounds\u001B[49m\u001B[38;5;241;43m=\u001B[39;49m\u001B[43mearly_stopping_rounds\u001B[49m\u001B[43m,\u001B[49m\n\u001B[1;32m   1496\u001B[0m \u001B[43m    \u001B[49m\u001B[43mevals_result\u001B[49m\u001B[38;5;241;43m=\u001B[39;49m\u001B[43mevals_result\u001B[49m\u001B[43m,\u001B[49m\n\u001B[1;32m   1497\u001B[0m \u001B[43m    \u001B[49m\u001B[43mobj\u001B[49m\u001B[38;5;241;43m=\u001B[39;49m\u001B[43mobj\u001B[49m\u001B[43m,\u001B[49m\n\u001B[1;32m   1498\u001B[0m \u001B[43m    \u001B[49m\u001B[43mcustom_metric\u001B[49m\u001B[38;5;241;43m=\u001B[39;49m\u001B[43mmetric\u001B[49m\u001B[43m,\u001B[49m\n\u001B[1;32m   1499\u001B[0m \u001B[43m    \u001B[49m\u001B[43mverbose_eval\u001B[49m\u001B[38;5;241;43m=\u001B[39;49m\u001B[43mverbose\u001B[49m\u001B[43m,\u001B[49m\n\u001B[1;32m   1500\u001B[0m \u001B[43m    \u001B[49m\u001B[43mxgb_model\u001B[49m\u001B[38;5;241;43m=\u001B[39;49m\u001B[43mmodel\u001B[49m\u001B[43m,\u001B[49m\n\u001B[1;32m   1501\u001B[0m \u001B[43m    \u001B[49m\u001B[43mcallbacks\u001B[49m\u001B[38;5;241;43m=\u001B[39;49m\u001B[43mcallbacks\u001B[49m\u001B[43m,\u001B[49m\n\u001B[1;32m   1502\u001B[0m \u001B[43m\u001B[49m\u001B[43m)\u001B[49m\n\u001B[1;32m   1504\u001B[0m \u001B[38;5;28;01mif\u001B[39;00m \u001B[38;5;129;01mnot\u001B[39;00m \u001B[38;5;28mcallable\u001B[39m(\u001B[38;5;28mself\u001B[39m\u001B[38;5;241m.\u001B[39mobjective):\n\u001B[1;32m   1505\u001B[0m     \u001B[38;5;28mself\u001B[39m\u001B[38;5;241m.\u001B[39mobjective \u001B[38;5;241m=\u001B[39m params[\u001B[38;5;124m\"\u001B[39m\u001B[38;5;124mobjective\u001B[39m\u001B[38;5;124m\"\u001B[39m]\n",
      "File \u001B[0;32m~/opt/miniconda3/envs/Leaguify/lib/python3.10/site-packages/xgboost/core.py:620\u001B[0m, in \u001B[0;36mrequire_keyword_args.<locals>.throw_if.<locals>.inner_f\u001B[0;34m(*args, **kwargs)\u001B[0m\n\u001B[1;32m    618\u001B[0m \u001B[38;5;28;01mfor\u001B[39;00m k, arg \u001B[38;5;129;01min\u001B[39;00m \u001B[38;5;28mzip\u001B[39m(sig\u001B[38;5;241m.\u001B[39mparameters, args):\n\u001B[1;32m    619\u001B[0m     kwargs[k] \u001B[38;5;241m=\u001B[39m arg\n\u001B[0;32m--> 620\u001B[0m \u001B[38;5;28;01mreturn\u001B[39;00m \u001B[43mfunc\u001B[49m\u001B[43m(\u001B[49m\u001B[38;5;241;43m*\u001B[39;49m\u001B[38;5;241;43m*\u001B[39;49m\u001B[43mkwargs\u001B[49m\u001B[43m)\u001B[49m\n",
      "File \u001B[0;32m~/opt/miniconda3/envs/Leaguify/lib/python3.10/site-packages/xgboost/training.py:185\u001B[0m, in \u001B[0;36mtrain\u001B[0;34m(params, dtrain, num_boost_round, evals, obj, feval, maximize, early_stopping_rounds, evals_result, verbose_eval, xgb_model, callbacks, custom_metric)\u001B[0m\n\u001B[1;32m    183\u001B[0m \u001B[38;5;28;01mif\u001B[39;00m cb_container\u001B[38;5;241m.\u001B[39mbefore_iteration(bst, i, dtrain, evals):\n\u001B[1;32m    184\u001B[0m     \u001B[38;5;28;01mbreak\u001B[39;00m\n\u001B[0;32m--> 185\u001B[0m \u001B[43mbst\u001B[49m\u001B[38;5;241;43m.\u001B[39;49m\u001B[43mupdate\u001B[49m\u001B[43m(\u001B[49m\u001B[43mdtrain\u001B[49m\u001B[43m,\u001B[49m\u001B[43m \u001B[49m\u001B[43mi\u001B[49m\u001B[43m,\u001B[49m\u001B[43m \u001B[49m\u001B[43mobj\u001B[49m\u001B[43m)\u001B[49m\n\u001B[1;32m    186\u001B[0m \u001B[38;5;28;01mif\u001B[39;00m cb_container\u001B[38;5;241m.\u001B[39mafter_iteration(bst, i, dtrain, evals):\n\u001B[1;32m    187\u001B[0m     \u001B[38;5;28;01mbreak\u001B[39;00m\n",
      "File \u001B[0;32m~/opt/miniconda3/envs/Leaguify/lib/python3.10/site-packages/xgboost/core.py:1918\u001B[0m, in \u001B[0;36mBooster.update\u001B[0;34m(self, dtrain, iteration, fobj)\u001B[0m\n\u001B[1;32m   1915\u001B[0m \u001B[38;5;28mself\u001B[39m\u001B[38;5;241m.\u001B[39m_validate_dmatrix_features(dtrain)\n\u001B[1;32m   1917\u001B[0m \u001B[38;5;28;01mif\u001B[39;00m fobj \u001B[38;5;129;01mis\u001B[39;00m \u001B[38;5;28;01mNone\u001B[39;00m:\n\u001B[0;32m-> 1918\u001B[0m     _check_call(\u001B[43m_LIB\u001B[49m\u001B[38;5;241;43m.\u001B[39;49m\u001B[43mXGBoosterUpdateOneIter\u001B[49m\u001B[43m(\u001B[49m\u001B[38;5;28;43mself\u001B[39;49m\u001B[38;5;241;43m.\u001B[39;49m\u001B[43mhandle\u001B[49m\u001B[43m,\u001B[49m\n\u001B[1;32m   1919\u001B[0m \u001B[43m                                            \u001B[49m\u001B[43mctypes\u001B[49m\u001B[38;5;241;43m.\u001B[39;49m\u001B[43mc_int\u001B[49m\u001B[43m(\u001B[49m\u001B[43miteration\u001B[49m\u001B[43m)\u001B[49m\u001B[43m,\u001B[49m\n\u001B[1;32m   1920\u001B[0m \u001B[43m                                            \u001B[49m\u001B[43mdtrain\u001B[49m\u001B[38;5;241;43m.\u001B[39;49m\u001B[43mhandle\u001B[49m\u001B[43m)\u001B[49m)\n\u001B[1;32m   1921\u001B[0m \u001B[38;5;28;01melse\u001B[39;00m:\n\u001B[1;32m   1922\u001B[0m     pred \u001B[38;5;241m=\u001B[39m \u001B[38;5;28mself\u001B[39m\u001B[38;5;241m.\u001B[39mpredict(dtrain, output_margin\u001B[38;5;241m=\u001B[39m\u001B[38;5;28;01mTrue\u001B[39;00m, training\u001B[38;5;241m=\u001B[39m\u001B[38;5;28;01mTrue\u001B[39;00m)\n",
      "\u001B[0;31mKeyboardInterrupt\u001B[0m: "
     ]
    }
   ],
   "source": [
    "bst.fit(X_train, y_train)"
   ],
   "metadata": {
    "collapsed": false,
    "ExecuteTime": {
     "end_time": "2024-01-12T17:55:50.060066Z",
     "start_time": "2024-01-12T17:54:10.892781Z"
    }
   },
   "id": "402e8b1caeee3fab"
  },
  {
   "cell_type": "code",
   "execution_count": null,
   "outputs": [],
   "source": [
    "bst.score(X_test, y_test)"
   ],
   "metadata": {
    "collapsed": false,
    "ExecuteTime": {
     "end_time": "2024-01-12T17:55:50.065735Z",
     "start_time": "2024-01-12T17:55:50.060811Z"
    }
   },
   "id": "11f461bc5855ec31"
  },
  {
   "cell_type": "code",
   "execution_count": null,
   "outputs": [],
   "source": [
    "feature_important = bst.get_booster().get_score(importance_type='weight')\n",
    "keys = list(feature_important.keys())\n",
    "values = list(feature_important.values())\n",
    "\n",
    "data = pd.DataFrame(data=values, index=keys, columns=[\"score\"]).sort_values(by=\"score\", ascending=False)\n",
    "data"
   ],
   "metadata": {
    "collapsed": false,
    "ExecuteTime": {
     "start_time": "2024-01-12T17:55:50.065512Z"
    }
   },
   "id": "b04fc9644da40b24"
  },
  {
   "cell_type": "code",
   "execution_count": null,
   "outputs": [],
   "source": [
    "data_reset = data.reset_index()\n",
    "data_reset['category'] = data_reset['index'].str.extract(r'(participant\\d+)_(\\w+)', expand=False)[1]\n",
    "average_per_category = data_reset.groupby('category').mean()\n",
    "average_per_category.sort_values(by='score', ascending=False)"
   ],
   "metadata": {
    "collapsed": false,
    "ExecuteTime": {
     "end_time": "2024-01-12T17:55:50.080842Z",
     "start_time": "2024-01-12T17:55:50.070293Z"
    }
   },
   "id": "415f0e50bc41e790"
  },
  {
   "cell_type": "code",
   "execution_count": null,
   "outputs": [],
   "source": [
    "X_train.columns.values"
   ],
   "metadata": {
    "collapsed": false,
    "ExecuteTime": {
     "start_time": "2024-01-12T17:55:50.076993Z"
    }
   },
   "id": "3926b1084e31b5b3"
  },
  {
   "cell_type": "code",
   "execution_count": null,
   "outputs": [],
   "source": [
    "sortedidx = bst.feature_importances_.argsort()\n",
    "X_train.columns.values[sortedidx]"
   ],
   "metadata": {
    "collapsed": false,
    "ExecuteTime": {
     "start_time": "2024-01-12T17:55:50.082990Z"
    }
   },
   "id": "2de4f3020c4ab42e"
  },
  {
   "cell_type": "code",
   "execution_count": null,
   "outputs": [],
   "source": [
    "bst.feature_importances_[sortedidx]"
   ],
   "metadata": {
    "collapsed": false,
    "ExecuteTime": {
     "end_time": "2024-01-12T17:55:50.144559Z",
     "start_time": "2024-01-12T17:55:50.087614Z"
    }
   },
   "id": "9d0b7f1cfaf870aa"
  },
  {
   "cell_type": "code",
   "execution_count": null,
   "outputs": [],
   "source": [
    "sorted_idx = bst.feature_importances_.argsort()[::-1]\n",
    "fig, ax = plt.subplots(figsize=(25, 120))\n",
    "ax.set_yticklabels(X_train.columns.values[sorted_idx], fontsize=15)\n",
    "ax.margins(y=0)\n",
    "plt.barh(X_train.columns.values[sorted_idx], bst.feature_importances_[sorted_idx])\n",
    "plt.xlabel(\"Xgboost Feature Importance\")\n",
    "plt.show()"
   ],
   "metadata": {
    "collapsed": false,
    "ExecuteTime": {
     "start_time": "2024-01-12T17:55:50.091744Z"
    }
   },
   "id": "860b5e6a0f2808f3"
  },
  {
   "cell_type": "code",
   "execution_count": null,
   "outputs": [],
   "source": [
    "X_train.columns.values[sorted_idx].tolist()[0:20]"
   ],
   "metadata": {
    "collapsed": false,
    "ExecuteTime": {
     "start_time": "2024-01-12T17:55:50.097160Z"
    }
   },
   "id": "4095ed676fb550a8"
  },
  {
   "cell_type": "code",
   "execution_count": null,
   "outputs": [],
   "source": [
    "bst2 = xgb.XGBClassifier(n_estimators=100, max_depth=80, learning_rate=0.1, objective='binary:logistic', device='cpu')\n",
    "bst2.fit(X_train[X_train.columns.values[sorted_idx].tolist()], y_train)\n",
    "bst2.score(X_test[X_train.columns.values[sorted_idx].tolist()], y_test)"
   ],
   "metadata": {
    "collapsed": false,
    "ExecuteTime": {
     "start_time": "2024-01-12T17:55:50.103122Z"
    }
   },
   "id": "31c6dd7450495126"
  },
  {
   "cell_type": "code",
   "execution_count": null,
   "outputs": [],
   "source": [
    "num_round = 100\n",
    "param = {\n",
    "    \"eta\": 0.05,\n",
    "    \"max_depth\": 10,\n",
    "    \"tree_method\": \"hist\",\n",
    "    \"device\": \"cuda\",\n",
    "}"
   ],
   "metadata": {
    "collapsed": false,
    "ExecuteTime": {
     "start_time": "2024-01-12T17:55:50.107410Z"
    }
   },
   "id": "bdb6a445f77cd04b"
  },
  {
   "cell_type": "code",
   "execution_count": null,
   "outputs": [],
   "source": [
    "dtrain = xgb.DMatrix(X_train, label=y_train, feature_names=X_train.columns.values.tolist())\n",
    "model = xgb.train(param, dtrain, num_round)"
   ],
   "metadata": {
    "collapsed": false,
    "ExecuteTime": {
     "start_time": "2024-01-12T17:55:50.111694Z"
    }
   },
   "id": "17bbb07bb9479518"
  },
  {
   "cell_type": "code",
   "execution_count": null,
   "outputs": [],
   "source": [
    "model.set_param({\"device\": \"cuda\"})\n",
    "shap_values = model.predict(dtrain, pred_contribs=True)"
   ],
   "metadata": {
    "collapsed": false,
    "ExecuteTime": {
     "start_time": "2024-01-12T17:55:50.115831Z"
    }
   },
   "id": "d7038d45acdc46a0"
  },
  {
   "cell_type": "code",
   "execution_count": null,
   "outputs": [],
   "source": [
    "shap_interaction_values = model.predict(dtrain, pred_interactions=True)"
   ],
   "metadata": {
    "collapsed": false,
    "ExecuteTime": {
     "start_time": "2024-01-12T17:55:50.118428Z"
    }
   },
   "id": "705498d86dc6f87a"
  },
  {
   "cell_type": "code",
   "execution_count": null,
   "outputs": [],
   "source": [
    "explainer = shap.TreeExplainer(model)\n",
    "shap_values = explainer.shap_values(X_train)"
   ],
   "metadata": {
    "collapsed": false,
    "ExecuteTime": {
     "start_time": "2024-01-12T17:55:50.121083Z"
    }
   },
   "id": "d62b20750391ee30"
  },
  {
   "cell_type": "code",
   "execution_count": null,
   "outputs": [],
   "source": [
    "shap.summary_plot(shap_values, X_train, plot_type=\"bar\")"
   ],
   "metadata": {
    "collapsed": false,
    "ExecuteTime": {
     "start_time": "2024-01-12T17:55:50.124756Z"
    }
   },
   "id": "954e9edc0bb6f63c"
  },
  {
   "cell_type": "code",
   "execution_count": null,
   "outputs": [],
   "source": [
    "shap.force_plot(\n",
    "    explainer.expected_value,\n",
    "    shap_values[0, :],\n",
    "    X_train.to_numpy()[0, :],\n",
    "    feature_names=X_train.columns.values.tolist(),\n",
    "    matplotlib=True,\n",
    ")"
   ],
   "metadata": {
    "collapsed": false,
    "ExecuteTime": {
     "start_time": "2024-01-12T17:55:50.128144Z"
    }
   },
   "id": "f2f73ddc35d4f3a4"
  },
  {
   "cell_type": "code",
   "execution_count": null,
   "outputs": [],
   "source": [
    "perm_importance = permutation_importance(bst, X_test, y_test, n_repeats=10, random_state=42)\n",
    "sorted_idx = perm_importance.importances_mean.argsort()\n",
    "fig, ax = plt.subplots(figsize=(15, 105))\n",
    "ax.set_yticklabels(X_train.columns.values[sorted_idx], fontsize=10)\n",
    "ax.margins(y=0)\n",
    "plt.barh(X_train.columns.values[sorted_idx], bst.feature_importances_[sorted_idx])\n",
    "plt.xlabel(\"Xgboost Feature Importance\")\n",
    "plt.show()"
   ],
   "metadata": {
    "collapsed": false,
    "ExecuteTime": {
     "start_time": "2024-01-12T17:55:50.131936Z"
    }
   },
   "id": "aca3332bfa836740"
  },
  {
   "cell_type": "code",
   "execution_count": null,
   "outputs": [],
   "source": [
    "X_train[X_train.columns.values[sorted_idx][-1]]"
   ],
   "metadata": {
    "collapsed": false,
    "ExecuteTime": {
     "start_time": "2024-01-12T17:55:50.134929Z"
    }
   },
   "id": "4c8f91c997a5146f"
  },
  {
   "cell_type": "code",
   "execution_count": null,
   "outputs": [],
   "source": [],
   "metadata": {
    "collapsed": false,
    "ExecuteTime": {
     "start_time": "2024-01-12T17:55:50.137453Z"
    }
   },
   "id": "9977b42102a15ffc"
  }
 ],
 "metadata": {
  "kernelspec": {
   "display_name": "Python 3",
   "language": "python",
   "name": "python3"
  },
  "language_info": {
   "codemirror_mode": {
    "name": "ipython",
    "version": 2
   },
   "file_extension": ".py",
   "mimetype": "text/x-python",
   "name": "python",
   "nbconvert_exporter": "python",
   "pygments_lexer": "ipython2",
   "version": "2.7.6"
  }
 },
 "nbformat": 4,
 "nbformat_minor": 5
}
