{
 "cells": [
  {
   "cell_type": "markdown",
   "source": [
    "This notebook contains all relevant code to visualize both datasets."
   ],
   "metadata": {
    "collapsed": false
   },
   "id": "372ff432224ee33c"
  },
  {
   "cell_type": "code",
   "execution_count": 2,
   "outputs": [],
   "source": [
    "import pandas as pd\n",
    "import numpy as np\n",
    "import matplotlib.pyplot as plt\n",
    "import seaborn as sns\n",
    "import pickle\n",
    "import os"
   ],
   "metadata": {
    "collapsed": false,
    "ExecuteTime": {
     "end_time": "2023-11-27T12:52:28.165158900Z",
     "start_time": "2023-11-27T12:52:28.148617200Z"
    }
   },
   "id": "2c74f6ddd8215d0a"
  },
  {
   "cell_type": "code",
   "execution_count": 5,
   "outputs": [],
   "source": [
    "# Load data\n",
    "try:\n",
    "    with open(\"data/raw/static_dataset.pkl\", \"rb\") as f:\n",
    "        df_static = pickle.load(f)\n",
    "except FileNotFoundError:\n",
    "    os.chdir('../')\n",
    "    with open(\"data/raw/static_dataset.pkl\", \"rb\") as f:\n",
    "        df_static = pickle.load(f)"
   ],
   "metadata": {
    "collapsed": false,
    "ExecuteTime": {
     "end_time": "2023-11-27T12:52:54.528990300Z",
     "start_time": "2023-11-27T12:52:54.206309300Z"
    }
   },
   "id": "17ac350d41a84a01"
  },
  {
   "cell_type": "code",
   "execution_count": 8,
   "outputs": [
    {
     "name": "stdout",
     "output_type": "stream",
     "text": [
      "Index(['gameDuration', 'gameCreation', 'gameVersion', 'mapId', 'queueId',\n",
      "       'patch', 'seasonId', 'platformId', 'participant1_level',\n",
      "       'participant1_tier',\n",
      "       ...\n",
      "       'participant10_champion_infoDefense',\n",
      "       'participant10_champion_infoMagic',\n",
      "       'participant10_champion_infoDifficulty', 'participant10_champion_tier',\n",
      "       'participant10_champion_win_rate', 'participant10_champion_pick_rate',\n",
      "       'participant10_champion_ban_rate', 'participant10_champion_matches',\n",
      "       'participant10_teamId', 'participant10_win'],\n",
      "      dtype='object', length=368)\n"
     ]
    }
   ],
   "source": [
    "print(df_static.columns)"
   ],
   "metadata": {
    "collapsed": false,
    "ExecuteTime": {
     "end_time": "2023-11-27T12:53:05.752608400Z",
     "start_time": "2023-11-27T12:53:05.734621100Z"
    }
   },
   "id": "823f71f362f4346e"
  },
  {
   "cell_type": "code",
   "execution_count": 9,
   "outputs": [
    {
     "data": {
      "text/plain": "   gameDuration   gameCreation     gameVersion  mapId  queueId  patch  \\\n0          1982  1696715184351  13.19.534.5972     11      420     19   \n0          1525  1697696037436  13.20.536.9576     11      420     20   \n0          1977  1697835934027  13.20.536.9576     11      420     20   \n0          1446  1696175211836  13.19.533.1909     11      420     19   \n0          1859  1697133998343  13.20.536.2230     11      420     20   \n\n   seasonId platformId  participant1_level participant1_tier  ...  \\\n0        13       EUW1                 864            MASTER  ...   \n0        13         KR                 132            MASTER  ...   \n0        13         KR                 860            MASTER  ...   \n0        13       EUW1                 196            MASTER  ...   \n0        13       EUW1                 465           DIAMOND  ...   \n\n   participant10_champion_infoDefense  participant10_champion_infoMagic  \\\n0                                   2                                 7   \n0                                   6                                 6   \n0                                   4                                 8   \n0                                   4                                 5   \n0                                   5                                 7   \n\n   participant10_champion_infoDifficulty  participant10_champion_tier  \\\n0                                     10                            D   \n0                                      7                           S+   \n0                                      5                           S+   \n0                                      9                            S   \n0                                      3                           S+   \n\n   participant10_champion_win_rate  participant10_champion_pick_rate  \\\n0                            46.80                              12.7   \n0                            50.69                               6.2   \n0                            51.15                               5.7   \n0                            52.19                               0.6   \n0                            52.19                               2.8   \n\n   participant10_champion_ban_rate  participant10_champion_matches  \\\n0                             12.7                            9632   \n0                              6.2                           50599   \n0                              5.7                           38009   \n0                              0.6                           11217   \n0                              2.8                           20275   \n\n   participant10_teamId  participant10_win  \n0                   200              False  \n0                   200               True  \n0                   200              False  \n0                   200              False  \n0                   200               True  \n\n[5 rows x 368 columns]",
      "text/html": "<div>\n<style scoped>\n    .dataframe tbody tr th:only-of-type {\n        vertical-align: middle;\n    }\n\n    .dataframe tbody tr th {\n        vertical-align: top;\n    }\n\n    .dataframe thead th {\n        text-align: right;\n    }\n</style>\n<table border=\"1\" class=\"dataframe\">\n  <thead>\n    <tr style=\"text-align: right;\">\n      <th></th>\n      <th>gameDuration</th>\n      <th>gameCreation</th>\n      <th>gameVersion</th>\n      <th>mapId</th>\n      <th>queueId</th>\n      <th>patch</th>\n      <th>seasonId</th>\n      <th>platformId</th>\n      <th>participant1_level</th>\n      <th>participant1_tier</th>\n      <th>...</th>\n      <th>participant10_champion_infoDefense</th>\n      <th>participant10_champion_infoMagic</th>\n      <th>participant10_champion_infoDifficulty</th>\n      <th>participant10_champion_tier</th>\n      <th>participant10_champion_win_rate</th>\n      <th>participant10_champion_pick_rate</th>\n      <th>participant10_champion_ban_rate</th>\n      <th>participant10_champion_matches</th>\n      <th>participant10_teamId</th>\n      <th>participant10_win</th>\n    </tr>\n  </thead>\n  <tbody>\n    <tr>\n      <th>0</th>\n      <td>1982</td>\n      <td>1696715184351</td>\n      <td>13.19.534.5972</td>\n      <td>11</td>\n      <td>420</td>\n      <td>19</td>\n      <td>13</td>\n      <td>EUW1</td>\n      <td>864</td>\n      <td>MASTER</td>\n      <td>...</td>\n      <td>2</td>\n      <td>7</td>\n      <td>10</td>\n      <td>D</td>\n      <td>46.80</td>\n      <td>12.7</td>\n      <td>12.7</td>\n      <td>9632</td>\n      <td>200</td>\n      <td>False</td>\n    </tr>\n    <tr>\n      <th>0</th>\n      <td>1525</td>\n      <td>1697696037436</td>\n      <td>13.20.536.9576</td>\n      <td>11</td>\n      <td>420</td>\n      <td>20</td>\n      <td>13</td>\n      <td>KR</td>\n      <td>132</td>\n      <td>MASTER</td>\n      <td>...</td>\n      <td>6</td>\n      <td>6</td>\n      <td>7</td>\n      <td>S+</td>\n      <td>50.69</td>\n      <td>6.2</td>\n      <td>6.2</td>\n      <td>50599</td>\n      <td>200</td>\n      <td>True</td>\n    </tr>\n    <tr>\n      <th>0</th>\n      <td>1977</td>\n      <td>1697835934027</td>\n      <td>13.20.536.9576</td>\n      <td>11</td>\n      <td>420</td>\n      <td>20</td>\n      <td>13</td>\n      <td>KR</td>\n      <td>860</td>\n      <td>MASTER</td>\n      <td>...</td>\n      <td>4</td>\n      <td>8</td>\n      <td>5</td>\n      <td>S+</td>\n      <td>51.15</td>\n      <td>5.7</td>\n      <td>5.7</td>\n      <td>38009</td>\n      <td>200</td>\n      <td>False</td>\n    </tr>\n    <tr>\n      <th>0</th>\n      <td>1446</td>\n      <td>1696175211836</td>\n      <td>13.19.533.1909</td>\n      <td>11</td>\n      <td>420</td>\n      <td>19</td>\n      <td>13</td>\n      <td>EUW1</td>\n      <td>196</td>\n      <td>MASTER</td>\n      <td>...</td>\n      <td>4</td>\n      <td>5</td>\n      <td>9</td>\n      <td>S</td>\n      <td>52.19</td>\n      <td>0.6</td>\n      <td>0.6</td>\n      <td>11217</td>\n      <td>200</td>\n      <td>False</td>\n    </tr>\n    <tr>\n      <th>0</th>\n      <td>1859</td>\n      <td>1697133998343</td>\n      <td>13.20.536.2230</td>\n      <td>11</td>\n      <td>420</td>\n      <td>20</td>\n      <td>13</td>\n      <td>EUW1</td>\n      <td>465</td>\n      <td>DIAMOND</td>\n      <td>...</td>\n      <td>5</td>\n      <td>7</td>\n      <td>3</td>\n      <td>S+</td>\n      <td>52.19</td>\n      <td>2.8</td>\n      <td>2.8</td>\n      <td>20275</td>\n      <td>200</td>\n      <td>True</td>\n    </tr>\n  </tbody>\n</table>\n<p>5 rows × 368 columns</p>\n</div>"
     },
     "execution_count": 9,
     "metadata": {},
     "output_type": "execute_result"
    }
   ],
   "source": [
    "df_static.head()"
   ],
   "metadata": {
    "collapsed": false,
    "ExecuteTime": {
     "end_time": "2023-11-27T12:53:58.844995100Z",
     "start_time": "2023-11-27T12:53:58.827702600Z"
    }
   },
   "id": "fe25e4bf319d4aba"
  },
  {
   "cell_type": "code",
   "execution_count": 10,
   "outputs": [
    {
     "data": {
      "text/plain": "<Axes: xlabel='platformId', ylabel='count'>"
     },
     "execution_count": 10,
     "metadata": {},
     "output_type": "execute_result"
    },
    {
     "data": {
      "text/plain": "<Figure size 640x480 with 1 Axes>",
      "image/png": "[encoded data removed]"
     },
     "metadata": {},
     "output_type": "display_data"
    }
   ],
   "source": [
    "# plot platforId distribution\n",
    "sns.countplot(x='platformId', data=df_static)"
   ],
   "metadata": {
    "collapsed": false,
    "ExecuteTime": {
     "end_time": "2023-11-27T12:54:32.031042100Z",
     "start_time": "2023-11-27T12:54:31.851875600Z"
    }
   },
   "id": "bcfe4f7ef34f5f6f"
  },
  {
   "cell_type": "code",
   "execution_count": null,
   "outputs": [],
   "source": [],
   "metadata": {
    "collapsed": false
   },
   "id": "f7ced734304aaa34"
  }
 ],
 "metadata": {
  "kernelspec": {
   "display_name": "Python 3",
   "language": "python",
   "name": "python3"
  },
  "language_info": {
   "codemirror_mode": {
    "name": "ipython",
    "version": 2
   },
   "file_extension": ".py",
   "mimetype": "text/x-python",
   "name": "python",
   "nbconvert_exporter": "python",
   "pygments_lexer": "ipython2",
   "version": "2.7.6"
  }
 },
 "nbformat": 4,
 "nbformat_minor": 5
}
